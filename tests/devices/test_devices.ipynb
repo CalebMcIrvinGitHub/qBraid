{
 "cells": [
  {
   "cell_type": "code",
   "execution_count": 1,
   "id": "bab7581f",
   "metadata": {},
   "outputs": [],
   "source": [
    "from qbraid.devices.utils import get_devices"
   ]
  },
  {
   "cell_type": "code",
   "execution_count": 2,
   "id": "ab7f8870",
   "metadata": {},
   "outputs": [
    {
     "name": "stdout",
     "output_type": "stream",
     "text": [
      "Software Vendor    Device Provider    Device Name\n",
      "-----------------  -----------------  -----------------\n",
      "AWS                AWS                SV1\n",
      "AWS                AWS                DM1\n",
      "AWS                AWS                TN1\n",
      "AWS                AWS                braket_sv\n",
      "AWS                AWS                braket_dm\n",
      "AWS                AWS                default\n",
      "AWS                D-Wave             DW_2000Q_6\n",
      "AWS                D-Wave             Advantage_system1\n",
      "AWS                IonQ               ionQdevice\n",
      "AWS                Rigetti            Aspen-9\n",
      "Google             Google             Sycamore\n",
      "Google             Google             Sycamore23\n",
      "IBM                IBM                AerSimulator\n",
      "IBM                IBM                PulseSimulator\n"
     ]
    }
   ],
   "source": [
    "get_devices()"
   ]
  }
 ],
 "metadata": {
  "kernelspec": {
   "display_name": "Python 3",
   "language": "python",
   "name": "python3"
  },
  "language_info": {
   "codemirror_mode": {
    "name": "ipython",
    "version": 3
   },
   "file_extension": ".py",
   "mimetype": "text/x-python",
   "name": "python",
   "nbconvert_exporter": "python",
   "pygments_lexer": "ipython3",
   "version": "3.9.5"
  }
 },
 "nbformat": 4,
 "nbformat_minor": 5
}
