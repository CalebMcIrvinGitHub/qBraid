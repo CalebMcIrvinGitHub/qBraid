{
 "cells": [
  {
   "cell_type": "code",
   "execution_count": 1,
   "id": "bab7581f",
   "metadata": {},
   "outputs": [],
   "source": [
    "from qbraid.devices.utils import get_devices\n",
    "from qbraid.devices.utils import device_wrapper\n",
    "from braket.devices import LocalSimulator as BraketSimulator\n",
    "from cirq.devices.device import Device as CirqDevice\n",
    "from qbraid.devices.utils import SUPPORTED_VENDORS\n",
    "import qiskit"
   ]
  },
  {
   "cell_type": "code",
   "execution_count": 2,
   "id": "ab7f8870",
   "metadata": {},
   "outputs": [
    {
     "name": "stdout",
     "output_type": "stream",
     "text": [
      "Software Vendor    Device Provider    Device Name\n",
      "-----------------  -----------------  -----------------\n",
      "AWS                AWS                SV1\n",
      "AWS                AWS                DM1\n",
      "AWS                AWS                TN1\n",
      "AWS                AWS                braket_sv\n",
      "AWS                AWS                braket_dm\n",
      "AWS                AWS                default\n",
      "AWS                D-Wave             DW_2000Q_6\n",
      "AWS                D-Wave             Advantage_system1\n",
      "AWS                IonQ               ionQdevice\n",
      "AWS                Rigetti            Aspen-9\n",
      "Google             Google             Sycamore\n",
      "Google             Google             Sycamore23\n",
      "IBM                IBM                AerSimulator\n",
      "IBM                IBM                PulseSimulator\n"
     ]
    }
   ],
   "source": [
    "get_devices()"
   ]
  },
  {
   "cell_type": "code",
   "execution_count": 3,
   "id": "95786d1a",
   "metadata": {},
   "outputs": [],
   "source": [
    "def device_wrapper_input(vendor):\n",
    "    input_list = []\n",
    "    for provider in SUPPORTED_VENDORS[vendor]:\n",
    "        for device in SUPPORTED_VENDORS[vendor][provider]:\n",
    "            data = (device, provider, vendor)\n",
    "            input_list.append(data)\n",
    "    return input_list"
   ]
  },
  {
   "cell_type": "code",
   "execution_count": 4,
   "id": "8b91ac7c",
   "metadata": {},
   "outputs": [],
   "source": [
    "example_input = device_wrapper_input('IBM')\n",
    "qbraid_device = device_wrapper(*example_input[0])"
   ]
  },
  {
   "cell_type": "code",
   "execution_count": 5,
   "id": "071ad0d8",
   "metadata": {},
   "outputs": [
    {
     "data": {
      "text/html": [
       "<pre style=\"word-wrap: normal;white-space: pre;background: #fff0;line-height: 1.1;font-family: &quot;Courier New&quot;,Courier,monospace\">     ┌───┐          \n",
       "q_0: ┤ H ├──■────■──\n",
       "     └───┘┌─┴─┐  │  \n",
       "q_1: ─────┤ X ├──┼──\n",
       "          └───┘┌─┴─┐\n",
       "q_2: ──────────┤ X ├\n",
       "               └───┘</pre>"
      ],
      "text/plain": [
       "     ┌───┐          \n",
       "q_0: ┤ H ├──■────■──\n",
       "     └───┘┌─┴─┐  │  \n",
       "q_1: ─────┤ X ├──┼──\n",
       "          └───┘┌─┴─┐\n",
       "q_2: ──────────┤ X ├\n",
       "               └───┘"
      ]
     },
     "execution_count": 5,
     "metadata": {},
     "output_type": "execute_result"
    }
   ],
   "source": [
    "qiskit_circuit = qiskit.QuantumCircuit(3)\n",
    "qiskit_circuit.h(0)\n",
    "qiskit_circuit.cx(0, 1)\n",
    "qiskit_circuit.cx(0, 2)\n",
    "qiskit_circuit.draw()"
   ]
  },
  {
   "cell_type": "code",
   "execution_count": 6,
   "id": "42758e34",
   "metadata": {},
   "outputs": [
    {
     "data": {
      "text/plain": [
       "<QiskitJobWrapper(id:'<bound method JobV1.job_id of <qiskit.providers.aer.aerjob.AerJob object at 0x1731c8220>>')>"
      ]
     },
     "execution_count": 6,
     "metadata": {},
     "output_type": "execute_result"
    }
   ],
   "source": [
    "qbraid_device.run(qiskit_circuit)"
   ]
  },
  {
   "cell_type": "code",
   "execution_count": 7,
   "id": "6e2031fb",
   "metadata": {},
   "outputs": [],
   "source": [
    "import braket"
   ]
  },
  {
   "cell_type": "code",
   "execution_count": 8,
   "id": "5c42b6de",
   "metadata": {},
   "outputs": [],
   "source": [
    "from braket.aws import AwsDevice"
   ]
  },
  {
   "cell_type": "code",
   "execution_count": 9,
   "id": "1d9ee493",
   "metadata": {},
   "outputs": [],
   "source": [
    "from braket.devices import LocalSimulator\n",
    "from braket.circuits import Circuit"
   ]
  },
  {
   "cell_type": "code",
   "execution_count": 10,
   "id": "e93512a4",
   "metadata": {},
   "outputs": [],
   "source": [
    "bell = Circuit().h(0).cnot(0, 1)"
   ]
  },
  {
   "cell_type": "code",
   "execution_count": 11,
   "id": "0d20c3fd",
   "metadata": {},
   "outputs": [],
   "source": [
    "local_sim = LocalSimulator()"
   ]
  },
  {
   "cell_type": "code",
   "execution_count": 12,
   "id": "2a4fdee0",
   "metadata": {},
   "outputs": [],
   "source": [
    "task0 = local_sim.run(bell, shots=100)"
   ]
  },
  {
   "cell_type": "code",
   "execution_count": 13,
   "id": "285fea22",
   "metadata": {},
   "outputs": [
    {
     "data": {
      "text/plain": [
       "[('SV1', 'AWS', 'AWS'),\n",
       " ('DM1', 'AWS', 'AWS'),\n",
       " ('TN1', 'AWS', 'AWS'),\n",
       " ('braket_sv', 'AWS', 'AWS'),\n",
       " ('braket_dm', 'AWS', 'AWS'),\n",
       " ('default', 'AWS', 'AWS'),\n",
       " ('DW_2000Q_6', 'D-Wave', 'AWS'),\n",
       " ('Advantage_system1', 'D-Wave', 'AWS'),\n",
       " ('ionQdevice', 'IonQ', 'AWS'),\n",
       " ('Aspen-9', 'Rigetti', 'AWS')]"
      ]
     },
     "execution_count": 13,
     "metadata": {},
     "output_type": "execute_result"
    }
   ],
   "source": [
    "device_wrapper_input(\"AWS\")"
   ]
  },
  {
   "cell_type": "code",
   "execution_count": 14,
   "id": "e97ffda3",
   "metadata": {},
   "outputs": [],
   "source": [
    "qbraid_device = device_wrapper('default', 'AWS', 'AWS')"
   ]
  },
  {
   "cell_type": "code",
   "execution_count": 15,
   "id": "03bfc8f8",
   "metadata": {},
   "outputs": [],
   "source": [
    "task1 = qbraid_device.run(bell, shots=100)"
   ]
  },
  {
   "cell_type": "code",
   "execution_count": 16,
   "id": "9d8ab2bd",
   "metadata": {},
   "outputs": [
    {
     "data": {
      "text/plain": [
       "\"<BraketQuantumTaskWrapper(id:'f2968fa5-2b06-4459-80b6-607c1ce47051')>\""
      ]
     },
     "execution_count": 16,
     "metadata": {},
     "output_type": "execute_result"
    }
   ],
   "source": [
    "repr(task1)"
   ]
  },
  {
   "cell_type": "code",
   "execution_count": 18,
   "id": "229ada10",
   "metadata": {},
   "outputs": [],
   "source": [
    "import cirq_google as cg"
   ]
  },
  {
   "cell_type": "code",
   "execution_count": 19,
   "id": "fc15b96c",
   "metadata": {},
   "outputs": [
    {
     "ename": "OSError",
     "evalue": "Environment variable GOOGLE_CLOUD_PROJECT is not set.",
     "output_type": "error",
     "traceback": [
      "\u001b[0;31m---------------------------------------------------------------------------\u001b[0m",
      "\u001b[0;31mOSError\u001b[0m                                   Traceback (most recent call last)",
      "\u001b[0;32m<ipython-input-19-faa870018ace>\u001b[0m in \u001b[0;36m<module>\u001b[0;34m\u001b[0m\n\u001b[0;32m----> 1\u001b[0;31m \u001b[0mengine\u001b[0m \u001b[0;34m=\u001b[0m \u001b[0mcg\u001b[0m\u001b[0;34m.\u001b[0m\u001b[0mget_engine\u001b[0m\u001b[0;34m(\u001b[0m\u001b[0;34m)\u001b[0m\u001b[0;34m\u001b[0m\u001b[0;34m\u001b[0m\u001b[0m\n\u001b[0m",
      "\u001b[0;32m~/opt/anaconda3/envs/qBraid/lib/python3.9/site-packages/cirq_google/engine/engine.py\u001b[0m in \u001b[0;36mget_engine\u001b[0;34m(project_id)\u001b[0m\n\u001b[1;32m    791\u001b[0m         \u001b[0mproject_id\u001b[0m \u001b[0;34m=\u001b[0m \u001b[0mos\u001b[0m\u001b[0;34m.\u001b[0m\u001b[0menviron\u001b[0m\u001b[0;34m.\u001b[0m\u001b[0mget\u001b[0m\u001b[0;34m(\u001b[0m\u001b[0menv_project_id\u001b[0m\u001b[0;34m)\u001b[0m\u001b[0;34m\u001b[0m\u001b[0;34m\u001b[0m\u001b[0m\n\u001b[1;32m    792\u001b[0m     \u001b[0;32mif\u001b[0m \u001b[0;32mnot\u001b[0m \u001b[0mproject_id\u001b[0m\u001b[0;34m:\u001b[0m\u001b[0;34m\u001b[0m\u001b[0;34m\u001b[0m\u001b[0m\n\u001b[0;32m--> 793\u001b[0;31m         \u001b[0;32mraise\u001b[0m \u001b[0mEnvironmentError\u001b[0m\u001b[0;34m(\u001b[0m\u001b[0;34mf'Environment variable {env_project_id} is not set.'\u001b[0m\u001b[0;34m)\u001b[0m\u001b[0;34m\u001b[0m\u001b[0;34m\u001b[0m\u001b[0m\n\u001b[0m\u001b[1;32m    794\u001b[0m \u001b[0;34m\u001b[0m\u001b[0m\n\u001b[1;32m    795\u001b[0m     \u001b[0;32mreturn\u001b[0m \u001b[0mEngine\u001b[0m\u001b[0;34m(\u001b[0m\u001b[0mproject_id\u001b[0m\u001b[0;34m=\u001b[0m\u001b[0mproject_id\u001b[0m\u001b[0;34m)\u001b[0m\u001b[0;34m\u001b[0m\u001b[0;34m\u001b[0m\u001b[0m\n",
      "\u001b[0;31mOSError\u001b[0m: Environment variable GOOGLE_CLOUD_PROJECT is not set."
     ]
    }
   ],
   "source": [
    "engine = cg.get_engine()"
   ]
  },
  {
   "cell_type": "code",
   "execution_count": 20,
   "id": "108fc11d",
   "metadata": {},
   "outputs": [],
   "source": [
    "from cirq_google.engine.engine_job import EngineJob"
   ]
  },
  {
   "cell_type": "code",
   "execution_count": null,
   "id": "ce004c7d",
   "metadata": {},
   "outputs": [],
   "source": []
  }
 ],
 "metadata": {
  "kernelspec": {
   "display_name": "Python 3",
   "language": "python",
   "name": "python3"
  },
  "language_info": {
   "codemirror_mode": {
    "name": "ipython",
    "version": 3
   },
   "file_extension": ".py",
   "mimetype": "text/x-python",
   "name": "python",
   "nbconvert_exporter": "python",
   "pygments_lexer": "ipython3",
   "version": "3.9.5"
  }
 },
 "nbformat": 4,
 "nbformat_minor": 5
}
