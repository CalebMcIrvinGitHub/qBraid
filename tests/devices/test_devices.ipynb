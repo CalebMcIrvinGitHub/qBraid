{
 "cells": [
  {
   "cell_type": "code",
   "execution_count": 1,
   "id": "bab7581f",
   "metadata": {},
   "outputs": [],
   "source": [
    "from qbraid import device_wrapper, get_devices\n",
    "from qbraid.devices._utils import SUPPORTED_VENDORS"
   ]
  },
  {
   "cell_type": "code",
   "execution_count": 3,
   "id": "1cd2bfd4",
   "metadata": {},
   "outputs": [
    {
     "name": "stdout",
     "output_type": "stream",
     "text": [
      "Provider      Device Name                     Num Qubits    qBraid ID\n",
      "------------  ------------------------------  ------------  ---------------------------\n",
      "AWS           State Vector Simulator          --            aws_native_sv_sim\n",
      "AWS           Density Matrix simulator        --            aws_native_dm_sim\n",
      "AWS           Tensor Network simulator        --            aws_native_tn_sim\n",
      "AWS           Braket Default Simulator        --            aws_braket_default_sim\n",
      "D-Wave        2000Q-6 QPU                     2041          aws_dwave_2000Q_6\n",
      "D-Wave        Advantage1.1 QPU                5436          aws_dwave_advantage_system1\n",
      "IonQ          IonQ QPU                        11            aws_ionQ\n",
      "Rigetti       Aspen-9 QPU                     32            aws_rigetti_aspen9\n",
      "Google        Cirq Sparse Simulator           --            google_cirq_sparse_sim\n",
      "Google        Cirq Density Matrix Simulator   --            google_cirq_dm_sim\n",
      "IBM Quantum   Armonk QPU                      1             ibm_q_armonk\n",
      "IBM Quantum   Belem QPU                       5             ibm_q_belem\n",
      "IBM Quantum   Bogota QPU                      5             ibm_q_bogota\n",
      "IBM Quantum   Lima QPU                        5             ibm_q_lima\n",
      "IBM Quantum   Manila QPU                      5             ibm_q_manila\n",
      "IBM Quantum   Quito QPU                       5             ibm_q_quito\n",
      "IBM Quantum   Santiago QPU                    5             ibm_q_santiago\n",
      "IBM Quantum   Stabilizer Simulator            --            ibm_q_stabilizer_sim\n",
      "IBM Quantum   Extended Stabilizer Simulator   --            ibm_q_stabilizer_ext_sim\n",
      "IBM Quantum   Matrix Product State Simulator  --            ibm_q_mps_sim\n",
      "IBM Quantum   QASM Simulator                  --            ibm_q_qasm_sim\n",
      "IBM Quantum   State Vector Simulator          --            ibm_q_sv_sim\n",
      "IBM Quantum   least-busy QPU                  TBD           ibm_q_least_busy_qpu\n",
      "IBM Aer       Default Simulator               --            ibm_aer_default_sim\n",
      "IBM Aer       Pulse Simulator                 --            ibm_aer_pulse_sim\n",
      "IBM Aer       QASM Simulator                  --            ibm_aer_qasm_sim\n",
      "IBM Aer       State Vector Simulator          --            ibm_aer_sv_sim\n",
      "IBM Aer       Unitary Simulator               --            ibm_aer_unitary_sim\n",
      "IBM BasicAer  QASM Simulator                  --            ibm_basicaer_qasm_sim\n",
      "IBM BasicAer  State Vector Simulator          --            ibm_basicaer_sv_sim\n",
      "IBM BasicAer  Unitary Simulator               --            ibm_basicaer_unitary_sim\n"
     ]
    }
   ],
   "source": [
    "get_devices()"
   ]
  },
  {
   "cell_type": "code",
   "execution_count": 4,
   "id": "64d626b9",
   "metadata": {},
   "outputs": [
    {
     "data": {
      "text/plain": [
       "{'aws': {'aws': {'aws_native_sv_sim': 'arn:aws:braket:::device/quantum-simulator/amazon/sv1',\n",
       "   'aws_native_dm_sim': 'arn:aws:braket:::device/quantum-simulator/amazon/dm1',\n",
       "   'aws_native_tn_sim': 'arn:aws:braket:::device/quantum-simulator/amazon/tn1'},\n",
       "  'braket': {'aws_braket_default_sim': <braket.devices.local_simulator.LocalSimulator at 0x1080595e0>},\n",
       "  'dwave': {'aws_dwave_2000Q_6': 'arn:aws:braket:::device/qpu/d-wave/DW_2000Q_6',\n",
       "   'aws_dwave_advantage_system1': 'arn:aws:braket:::device/qpu/d-wave/Advantage_system1'},\n",
       "  'ionQ': {'aws_ionQ': 'arn:aws:braket:::device/qpu/ionq/ionQdevice'},\n",
       "  'rigetti': {'aws_rigetti_aspen9': 'arn:aws:braket:::device/qpu/rigetti/Aspen-9'}},\n",
       " 'google': {'aqt': {},\n",
       "  'google': {},\n",
       "  'cirq': {'google_cirq_sparse_sim': <cirq.sim.sparse_simulator.Simulator at 0x154d072b0>,\n",
       "   'google_cirq_dm_sim': <cirq.sim.density_matrix_simulator.DensityMatrixSimulator at 0x154d07c40>},\n",
       "  'ionQ': {},\n",
       "  'pasqal': {}},\n",
       " 'ibm': {'q': {'ibm_q_armonk': 'ibmq_armonk',\n",
       "   'ibm_q_belem': 'ibmq_belem',\n",
       "   'ibm_q_bogota': 'ibmq_bogota',\n",
       "   'ibm_q_lima': 'ibmq_lima',\n",
       "   'ibm_q_manila': 'ibmq_manila',\n",
       "   'ibm_q_quito': 'ibmq_quito',\n",
       "   'ibm_q_santiago': 'ibmq_santiago',\n",
       "   'ibm_q_stabilizer_sim': 'simulator_stabilizer',\n",
       "   'ibm_q_stabilizer_ext_sim': 'simulator_extended_stabilizer',\n",
       "   'ibm_q_mps_sim': 'simulator_mps',\n",
       "   'ibm_q_qasm_sim': 'ibmq_qasm_simulator',\n",
       "   'ibm_q_sv_sim': 'simulator_statevector',\n",
       "   'ibm_q_least_busy_qpu': 'least_busy'},\n",
       "  'aer': {'ibm_aer_default_sim': AerSimulator('aer_simulator'),\n",
       "   'ibm_aer_pulse_sim': PulseSimulator('pulse_simulator'),\n",
       "   'ibm_aer_qasm_sim': QasmSimulator('qasm_simulator'),\n",
       "   'ibm_aer_sv_sim': StatevectorSimulator('statevector_simulator'),\n",
       "   'ibm_aer_unitary_sim': UnitarySimulator('unitary_simulator')},\n",
       "  'basicaer': {'ibm_basicaer_qasm_sim': <QasmSimulatorPy('qasm_simulator')>,\n",
       "   'ibm_basicaer_sv_sim': <StatevectorSimulatorPy('statevector_simulator')>,\n",
       "   'ibm_basicaer_unitary_sim': <UnitarySimulatorPy('unitary_simulator')>}}}"
      ]
     },
     "execution_count": 4,
     "metadata": {},
     "output_type": "execute_result"
    }
   ],
   "source": [
    "SUPPORTED_VENDORS"
   ]
  },
  {
   "cell_type": "code",
   "execution_count": null,
   "id": "38c001d9",
   "metadata": {},
   "outputs": [],
   "source": []
  },
  {
   "cell_type": "code",
   "execution_count": null,
   "id": "d3f38854",
   "metadata": {},
   "outputs": [],
   "source": []
  },
  {
   "cell_type": "code",
   "execution_count": null,
   "id": "e7d49967",
   "metadata": {},
   "outputs": [],
   "source": []
  },
  {
   "cell_type": "code",
   "execution_count": null,
   "id": "cbe3ad7e",
   "metadata": {},
   "outputs": [],
   "source": []
  },
  {
   "cell_type": "code",
   "execution_count": null,
   "id": "63666604",
   "metadata": {},
   "outputs": [],
   "source": []
  },
  {
   "cell_type": "code",
   "execution_count": null,
   "id": "ebd0e8ab",
   "metadata": {},
   "outputs": [],
   "source": []
  },
  {
   "cell_type": "code",
   "execution_count": null,
   "id": "b20b5937",
   "metadata": {},
   "outputs": [],
   "source": []
  },
  {
   "cell_type": "code",
   "execution_count": null,
   "id": "4926929b",
   "metadata": {},
   "outputs": [],
   "source": []
  },
  {
   "cell_type": "code",
   "execution_count": null,
   "id": "b221b534",
   "metadata": {},
   "outputs": [],
   "source": []
  },
  {
   "cell_type": "code",
   "execution_count": null,
   "id": "da816fd1",
   "metadata": {},
   "outputs": [],
   "source": []
  },
  {
   "cell_type": "code",
   "execution_count": 2,
   "id": "325d760d",
   "metadata": {},
   "outputs": [],
   "source": [
    "import cirq\n",
    "import numpy as np\n",
    "from braket.circuits import Circuit as BraketCircuit\n",
    "from qiskit import QuantumCircuit as QiskitCircuit\n",
    "import networkx as nx\n",
    "import dwave_networkx as dnx"
   ]
  },
  {
   "cell_type": "code",
   "execution_count": 5,
   "id": "da227765",
   "metadata": {},
   "outputs": [],
   "source": [
    "n = 5\n",
    "m = 10\n",
    "graph = nx.gnm_random_graph(n, m, seed=42)"
   ]
  },
  {
   "cell_type": "code",
   "execution_count": 6,
   "id": "93cd9a76",
   "metadata": {},
   "outputs": [
    {
     "name": "stdout",
     "output_type": "stream",
     "text": [
      "Result to MVC problem: [0, 1, 2, 4]\n",
      "Size of the vertex cover: 4\n"
     ]
    }
   ],
   "source": [
    "# result = dnx.min_vertex_cover(graph, dwave_sampler, answer_mode=\"histogram\")\n",
    "# print('Result to MVC problem:', result)\n",
    "# print('Size of the vertex cover:', len(result))"
   ]
  },
  {
   "cell_type": "code",
   "execution_count": 34,
   "id": "95786d1a",
   "metadata": {},
   "outputs": [],
   "source": [
    "def device_wrapper_inputs(vendor: str, dwave=False):\n",
    "    \"\"\"Returns list of tuples containing all device_wrapper inputs for given vendor.\"\"\"\n",
    "    input_list = []\n",
    "    for provider in SUPPORTED_VENDORS[vendor]:\n",
    "        if dwave == (provider == \"dwave\"):\n",
    "            for device in SUPPORTED_VENDORS[vendor][provider]:\n",
    "                input_list.append(device)\n",
    "    return input_list"
   ]
  },
  {
   "cell_type": "code",
   "execution_count": 8,
   "id": "bfb48f60",
   "metadata": {},
   "outputs": [],
   "source": [
    "def braket_circuit():\n",
    "    circuit = BraketCircuit()\n",
    "    circuit.h(0)\n",
    "    circuit.ry(0, np.pi / 2)\n",
    "    return circuit"
   ]
  },
  {
   "cell_type": "code",
   "execution_count": 9,
   "id": "29934794",
   "metadata": {},
   "outputs": [],
   "source": [
    "def cirq_circuit(meas=True):\n",
    "    q0 = cirq.GridQubit(0, 0)\n",
    "    def test_circuit():\n",
    "        yield cirq.H(q0)\n",
    "        yield cirq.Ry(rads=np.pi / 2)(q0)\n",
    "        if meas:\n",
    "            yield cirq.measure(q0, key='q0')\n",
    "    circuit = cirq.Circuit()\n",
    "    circuit.append(test_circuit())\n",
    "    return circuit"
   ]
  },
  {
   "cell_type": "code",
   "execution_count": 10,
   "id": "3606a8d9",
   "metadata": {},
   "outputs": [],
   "source": [
    "def qiskit_circuit(meas=True):\n",
    "    circuit = QiskitCircuit(1, 1) if meas else QiskitCircuit(1)\n",
    "    circuit.h(0)\n",
    "    circuit.ry(np.pi / 2, 0)\n",
    "    if meas:\n",
    "        circuit.measure(0, 0)\n",
    "    return circuit"
   ]
  }
 ],
 "metadata": {
  "kernelspec": {
   "display_name": "Python 3",
   "language": "python",
   "name": "python3"
  },
  "language_info": {
   "codemirror_mode": {
    "name": "ipython",
    "version": 3
   },
   "file_extension": ".py",
   "mimetype": "text/x-python",
   "name": "python",
   "nbconvert_exporter": "python",
   "pygments_lexer": "ipython3",
   "version": "3.9.6"
  }
 },
 "nbformat": 4,
 "nbformat_minor": 5
}
