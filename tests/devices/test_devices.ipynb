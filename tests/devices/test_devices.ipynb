{
 "cells": [
  {
   "cell_type": "code",
   "execution_count": 1,
   "id": "bab7581f",
   "metadata": {},
   "outputs": [],
   "source": [
    "from qbraid.devices.utils import get_devices\n",
    "from qbraid.devices.utils import device_wrapper\n",
    "from braket.devices import LocalSimulator as BraketSimulator\n",
    "from cirq.devices.device import Device as CirqDevice\n",
    "from qbraid.devices.utils import SUPPORTED_VENDORS\n",
    "import qiskit"
   ]
  },
  {
   "cell_type": "code",
   "execution_count": 2,
   "id": "ab7f8870",
   "metadata": {},
   "outputs": [
    {
     "name": "stdout",
     "output_type": "stream",
     "text": [
      "Software Vendor    Device Provider    Device Name\n",
      "-----------------  -----------------  -----------------------------\n",
      "AWS                AWS                SV1\n",
      "AWS                AWS                DM1\n",
      "AWS                AWS                TN1\n",
      "AWS                AWS                braket_sv\n",
      "AWS                AWS                braket_dm\n",
      "AWS                AWS                default\n",
      "AWS                D-Wave             DW_2000Q_6\n",
      "AWS                D-Wave             Advantage_system1\n",
      "AWS                IonQ               ionQdevice\n",
      "AWS                Rigetti            Aspen-9\n",
      "Google             AQT                AQT\n",
      "Google             Google             Sycamore\n",
      "Google             Google             Sycamore23\n",
      "Google             Google             Bristlecone\n",
      "Google             Google             Foxtail\n",
      "Google             IonQ               ionQdevice\n",
      "Google             Pasqal             PasqalVirtualDevice\n",
      "IBM                IBM                AerSimulator\n",
      "IBM                IBM                PulseSimulator\n",
      "IBM                IBM                QasmSimulator\n",
      "IBM                IBM                StatevectorSimulator\n",
      "IBM                IBM                UnitarySimulator\n",
      "IBM                IBM                BasicAer StatevectorSimulator\n",
      "IBM                IBM                BasicAer UnitarySimulator\n",
      "IBM                IBM                BasicAer QasmSimulator\n",
      "IBM                IBM                IBMQ Montreal\n",
      "IBM                IBM                IBMQ Kolkata\n",
      "IBM                IBM                IBMQ Mumbai\n",
      "IBM                IBM                IBMQ Dublin\n",
      "IBM                IBM                IBMQ Manhattan\n",
      "IBM                IBM                IBMQ Brooklyn\n",
      "IBM                IBM                IBMQ Toronto\n",
      "IBM                IBM                IBMQ Sydney\n",
      "IBM                IBM                IBMQ Guadalupe\n",
      "IBM                IBM                IBMQ Casablanca\n",
      "IBM                IBM                IBMQ Nairobi\n",
      "IBM                IBM                IBMQ Santiago\n",
      "IBM                IBM                IBMQ Manila\n",
      "IBM                IBM                IBMQ Bogota\n",
      "IBM                IBM                IBMQ Jakarta\n",
      "IBM                IBM                IBMQ Quito\n",
      "IBM                IBM                IBMQ Belem\n",
      "IBM                IBM                IBMQ Yorktown\n",
      "IBM                IBM                IBMQ Lima\n",
      "IBM                IBM                IBMQ Armonk\n"
     ]
    }
   ],
   "source": [
    "get_devices()"
   ]
  },
  {
   "cell_type": "code",
   "execution_count": 3,
   "id": "95786d1a",
   "metadata": {},
   "outputs": [],
   "source": [
    "def device_wrapper_input(vendor):\n",
    "    input_list = []\n",
    "    for provider in SUPPORTED_VENDORS[vendor]:\n",
    "        for device in SUPPORTED_VENDORS[vendor][provider]:\n",
    "            data = (device, provider, vendor)\n",
    "            input_list.append(data)\n",
    "    return input_list"
   ]
  },
  {
   "cell_type": "code",
   "execution_count": 4,
   "id": "8b91ac7c",
   "metadata": {},
   "outputs": [],
   "source": [
    "example_input = device_wrapper_input('IBM')\n",
    "qbraid_device = device_wrapper(*example_input[0])"
   ]
  },
  {
   "cell_type": "code",
   "execution_count": 5,
   "id": "071ad0d8",
   "metadata": {},
   "outputs": [
    {
     "data": {
      "text/html": [
       "<pre style=\"word-wrap: normal;white-space: pre;background: #fff0;line-height: 1.1;font-family: &quot;Courier New&quot;,Courier,monospace\">     ┌───┐          \n",
       "q_0: ┤ H ├──■────■──\n",
       "     └───┘┌─┴─┐  │  \n",
       "q_1: ─────┤ X ├──┼──\n",
       "          └───┘┌─┴─┐\n",
       "q_2: ──────────┤ X ├\n",
       "               └───┘</pre>"
      ],
      "text/plain": [
       "     ┌───┐          \n",
       "q_0: ┤ H ├──■────■──\n",
       "     └───┘┌─┴─┐  │  \n",
       "q_1: ─────┤ X ├──┼──\n",
       "          └───┘┌─┴─┐\n",
       "q_2: ──────────┤ X ├\n",
       "               └───┘"
      ]
     },
     "execution_count": 5,
     "metadata": {},
     "output_type": "execute_result"
    }
   ],
   "source": [
    "qiskit_circuit = qiskit.QuantumCircuit(3)\n",
    "qiskit_circuit.h(0)\n",
    "qiskit_circuit.cx(0, 1)\n",
    "qiskit_circuit.cx(0, 2)\n",
    "qiskit_circuit.draw()"
   ]
  }
 ],
 "metadata": {
  "kernelspec": {
   "display_name": "Python 3",
   "language": "python",
   "name": "python3"
  },
  "language_info": {
   "codemirror_mode": {
    "name": "ipython",
    "version": 3
   },
   "file_extension": ".py",
   "mimetype": "text/x-python",
   "name": "python",
   "nbconvert_exporter": "python",
   "pygments_lexer": "ipython3",
   "version": "3.9.5"
  }
 },
 "nbformat": 4,
 "nbformat_minor": 5
}
