{
 "cells": [
  {
   "cell_type": "code",
   "execution_count": 1,
   "id": "bab7581f",
   "metadata": {},
   "outputs": [],
   "source": [
    "from qbraid import device_wrapper, get_devices\n",
    "from qbraid.devices._utils import SUPPORTED_VENDORS\n",
    "from qbraid.devices.aws import BraketDeviceWrapper, BraketQuantumTaskWrapper\n",
    "from qbraid.devices.google import CirqSimulatorWrapper, CirqResultWrapper\n",
    "from qbraid.devices.ibm import QiskitBackendWrapper, QiskitJobWrapper"
   ]
  },
  {
   "cell_type": "code",
   "execution_count": 2,
   "id": "325d760d",
   "metadata": {},
   "outputs": [],
   "source": [
    "import cirq\n",
    "import numpy as np\n",
    "from braket.circuits import Circuit as BraketCircuit\n",
    "from qiskit import QuantumCircuit as QiskitCircuit"
   ]
  },
  {
   "cell_type": "code",
   "execution_count": 15,
   "id": "2cd92493",
   "metadata": {},
   "outputs": [],
   "source": [
    "import boto3\n",
    "from braket.ocean_plugin import BraketSampler, BraketDWaveSampler\n",
    "import networkx as nx\n",
    "import dwave_networkx as dnx\n",
    "from dwave.system.composites import EmbeddingComposite"
   ]
  },
  {
   "cell_type": "code",
   "execution_count": 8,
   "id": "bb52375a",
   "metadata": {},
   "outputs": [],
   "source": [
    "my_bucket = \"amazon-braket-592242689881\"\n",
    "my_prefix = \"simulator-output\"\n",
    "s3_folder = (my_bucket, my_prefix)"
   ]
  },
  {
   "cell_type": "code",
   "execution_count": 27,
   "id": "32e62301",
   "metadata": {},
   "outputs": [],
   "source": [
    "sampler = BraketSampler(s3_folder, 'arn:aws:braket:::device/qpu/d-wave/Advantage_system1')\n",
    "# sampler = BraketDWaveSampler(s3_folder, 'arn:aws:braket:::device/qpu/d-wave/DW_2000Q_6')"
   ]
  },
  {
   "cell_type": "code",
   "execution_count": 19,
   "id": "092cf203",
   "metadata": {},
   "outputs": [],
   "source": [
    "embedded_sampler = EmbeddingComposite(sampler)"
   ]
  },
  {
   "cell_type": "code",
   "execution_count": 20,
   "id": "8dcfe537",
   "metadata": {},
   "outputs": [],
   "source": [
    "n = 5\n",
    "m = 10\n",
    "graph = nx.gnm_random_graph(n, m, seed=42)"
   ]
  },
  {
   "cell_type": "code",
   "execution_count": 21,
   "id": "1ba47a95",
   "metadata": {},
   "outputs": [
    {
     "name": "stdout",
     "output_type": "stream",
     "text": [
      "Result to MVC problem: [0, 2, 3, 4]\n",
      "Size of the vertex cover: 4\n"
     ]
    }
   ],
   "source": [
    "# run the problem on D-Wave using BraketSampler\n",
    "result = dnx.min_vertex_cover(graph, embedded_sampler, resultFormat=\"HISTOGRAM\")\n",
    "# or alternatively using BraketDWaveSampler\n",
    "# result = dnx.min_vertex_cover(graph, embedded_sampler, answer_mode=\"histogram\")\n",
    "print('Result to MVC problem:', result)\n",
    "print('Size of the vertex cover:', len(result))"
   ]
  },
  {
   "cell_type": "code",
   "execution_count": 24,
   "id": "c8ae5a60",
   "metadata": {},
   "outputs": [],
   "source": [
    "from networkx.classes.graph import Graph as nxGraph"
   ]
  },
  {
   "cell_type": "code",
   "execution_count": 26,
   "id": "9d046263",
   "metadata": {},
   "outputs": [
    {
     "data": {
      "text/plain": [
       "True"
      ]
     },
     "execution_count": 26,
     "metadata": {},
     "output_type": "execute_result"
    }
   ],
   "source": [
    "isinstance(graph, nx.classes.graph.Graph)"
   ]
  },
  {
   "cell_type": "code",
   "execution_count": null,
   "id": "95786d1a",
   "metadata": {},
   "outputs": [],
   "source": [
    "def device_wrapper_input(vendor):\n",
    "    input_list = []\n",
    "    for provider in SUPPORTED_VENDORS[vendor]:\n",
    "        for device in SUPPORTED_VENDORS[vendor][provider]:\n",
    "            if provider != \"D-Wave\":\n",
    "                data = (device, provider, vendor)\n",
    "                input_list.append(data)\n",
    "    return input_list"
   ]
  },
  {
   "cell_type": "code",
   "execution_count": null,
   "id": "bfb48f60",
   "metadata": {},
   "outputs": [],
   "source": [
    "def braket_circuit():\n",
    "    circuit = BraketCircuit()\n",
    "    circuit.h(0)\n",
    "    circuit.ry(0, np.pi / 2)\n",
    "    return circuit"
   ]
  },
  {
   "cell_type": "code",
   "execution_count": null,
   "id": "29934794",
   "metadata": {},
   "outputs": [],
   "source": [
    "def cirq_circuit(meas=True):\n",
    "    q0 = cirq.GridQubit(0, 0)\n",
    "    def test_circuit():\n",
    "        yield cirq.H(q0)\n",
    "        yield cirq.Ry(rads=np.pi / 2)(q0)\n",
    "        if meas:\n",
    "            yield cirq.measure(q0, key='q0')\n",
    "    circuit = cirq.Circuit()\n",
    "    circuit.append(test_circuit())\n",
    "    return circuit"
   ]
  },
  {
   "cell_type": "code",
   "execution_count": null,
   "id": "3606a8d9",
   "metadata": {},
   "outputs": [],
   "source": [
    "def qiskit_circuit(meas=True):\n",
    "    circuit = QiskitCircuit(1, 1) if meas else QiskitCircuit(1)\n",
    "    circuit.h(0)\n",
    "    circuit.ry(np.pi / 2, 0)\n",
    "    if meas:\n",
    "        circuit.measure(0, 0)\n",
    "    return circuit"
   ]
  },
  {
   "cell_type": "code",
   "execution_count": null,
   "id": "0e9bf486",
   "metadata": {},
   "outputs": [],
   "source": [
    "qiskit_circuit(meas=False).draw()"
   ]
  },
  {
   "cell_type": "code",
   "execution_count": null,
   "id": "cd79fdff",
   "metadata": {},
   "outputs": [],
   "source": [
    "braket_circuit = braket_circuit()\n",
    "cirq_circuit = cirq_circuit()\n",
    "qiskit_circuit = qiskit_circuit()"
   ]
  },
  {
   "cell_type": "code",
   "execution_count": null,
   "id": "d8f60fe5",
   "metadata": {
    "scrolled": true
   },
   "outputs": [],
   "source": [
    "get_devices(vendor=\"AWS\")"
   ]
  },
  {
   "cell_type": "code",
   "execution_count": null,
   "id": "75e33da1",
   "metadata": {},
   "outputs": [],
   "source": [
    "qbraid_device = device_wrapper(\"local_simulator_default\", \"Google\", vendor=\"Google\")"
   ]
  },
  {
   "cell_type": "code",
   "execution_count": null,
   "id": "1d047f7f",
   "metadata": {},
   "outputs": [],
   "source": [
    "qbraid_result = qbraid_device.run(cirq_circuit, repetitions=10)"
   ]
  }
 ],
 "metadata": {
  "kernelspec": {
   "display_name": "Python 3",
   "language": "python",
   "name": "python3"
  },
  "language_info": {
   "codemirror_mode": {
    "name": "ipython",
    "version": 3
   },
   "file_extension": ".py",
   "mimetype": "text/x-python",
   "name": "python",
   "nbconvert_exporter": "python",
   "pygments_lexer": "ipython3",
   "version": "3.9.5"
  }
 },
 "nbformat": 4,
 "nbformat_minor": 5
}
