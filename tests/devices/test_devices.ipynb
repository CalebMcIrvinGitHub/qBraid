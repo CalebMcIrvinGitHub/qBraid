{
 "cells": [
  {
   "cell_type": "code",
   "execution_count": 1,
   "id": "bab7581f",
   "metadata": {},
   "outputs": [],
   "source": [
    "import qbraid\n",
    "from qbraid.devices._utils import SUPPORTED_VENDORS\n",
    "from braket.devices import LocalSimulator\n",
    "from braket.aws import AwsDevice\n",
    "from braket.circuits import Circuit"
   ]
  },
  {
   "cell_type": "code",
   "execution_count": 2,
   "id": "95786d1a",
   "metadata": {},
   "outputs": [],
   "source": [
    "def device_wrapper_input(vendor):\n",
    "    input_list = []\n",
    "    for provider in SUPPORTED_VENDORS[vendor]:\n",
    "        for device in SUPPORTED_VENDORS[vendor][provider]:\n",
    "            if provider != \"D-Wave\":\n",
    "                data = (device, provider, vendor)\n",
    "                input_list.append(data)\n",
    "    return input_list"
   ]
  },
  {
   "cell_type": "code",
   "execution_count": 3,
   "id": "3d8ac073",
   "metadata": {},
   "outputs": [
    {
     "name": "stdout",
     "output_type": "stream",
     "text": [
      "Software Vendor    Device Provider    Device Name\n",
      "-----------------  -----------------  -----------------------------\n",
      "AWS                AWS                simulator_statevector\n",
      "AWS                AWS                simulator_densitymatrix\n",
      "AWS                AWS                simulator_tensornetwork\n",
      "AWS                AWS                local_simulator_default\n",
      "AWS                D-Wave             DW_2000Q_6\n",
      "AWS                D-Wave             Advantage_system1\n",
      "AWS                IonQ               ionQdevice\n",
      "AWS                Rigetti            Aspen-9\n",
      "Google             AQT                AQT\n",
      "Google             Google             local_simulator_default\n",
      "Google             Google             local_simulator_densitymatrix\n",
      "IBM                IBMQ               armonk\n",
      "IBM                IBMQ               belem\n",
      "IBM                IBMQ               bogota\n",
      "IBM                IBMQ               lima\n",
      "IBM                IBMQ               manila\n",
      "IBM                IBMQ               quito\n",
      "IBM                IBMQ               santiago\n",
      "IBM                IBMQ               simulator_stabilizer\n",
      "IBM                IBMQ               simulator_stabilizer_ext\n",
      "IBM                IBMQ               simulator_mps\n",
      "IBM                IBMQ               simulator_qasm\n",
      "IBM                IBMQ               simulator_statevector\n",
      "IBM                Aer                simulator_aer\n",
      "IBM                Aer                simulator_pulse\n",
      "IBM                Aer                simulator_qasm\n",
      "IBM                Aer                simulator_statevector\n",
      "IBM                Aer                simulator_unitary\n",
      "IBM                Aer                local_simulator_qasm\n",
      "IBM                Aer                local_simulator_statevector\n",
      "IBM                Aer                local_simulator_unitary\n"
     ]
    }
   ],
   "source": [
    "qbraid.get_devices()"
   ]
  },
  {
   "cell_type": "code",
   "execution_count": 4,
   "id": "5075f57b",
   "metadata": {},
   "outputs": [],
   "source": [
    "ibm_wrapper = qbraid.device_wrapper(\"simulator_statevector\", \"IBMQ\", vendor=\"IBM\")"
   ]
  },
  {
   "cell_type": "code",
   "execution_count": 5,
   "id": "3f6ac302",
   "metadata": {},
   "outputs": [],
   "source": [
    "aws_wrapper = qbraid.device_wrapper(\"simulator_statevector\", \"AWS\", vendor=\"AWS\")"
   ]
  },
  {
   "cell_type": "code",
   "execution_count": 8,
   "id": "17076d0f",
   "metadata": {},
   "outputs": [],
   "source": [
    "from qbraid.devices._utils import get_config"
   ]
  },
  {
   "cell_type": "code",
   "execution_count": 9,
   "id": "3f957948",
   "metadata": {},
   "outputs": [
    {
     "data": {
      "text/plain": [
       "'True'"
      ]
     },
     "execution_count": 9,
     "metadata": {},
     "output_type": "execute_result"
    }
   ],
   "source": [
    "get_config(\"verify\", \"IBM\")"
   ]
  },
  {
   "cell_type": "code",
   "execution_count": 10,
   "id": "bf39e59d",
   "metadata": {},
   "outputs": [],
   "source": [
    "from qiskit import IBMQ"
   ]
  },
  {
   "cell_type": "code",
   "execution_count": 11,
   "id": "ef09633f",
   "metadata": {},
   "outputs": [
    {
     "data": {
      "text/plain": [
       "{'token': '7d6890d6f76e71f5c15ec68deedc2f030b192307c4baee6db8371a1634f9391789225f9881bec49c0be374473f29ee58c48168894b700476525689f020fda390',\n",
       " 'url': 'https://auth.quantum-computing.ibm.com/api'}"
      ]
     },
     "execution_count": 11,
     "metadata": {},
     "output_type": "execute_result"
    }
   ],
   "source": [
    "IBMQ.active_account()"
   ]
  },
  {
   "cell_type": "code",
   "execution_count": 12,
   "id": "4caf2a28",
   "metadata": {},
   "outputs": [],
   "source": [
    "IBMQ.disable_account()"
   ]
  },
  {
   "cell_type": "code",
   "execution_count": 14,
   "id": "c6125ab5",
   "metadata": {},
   "outputs": [
    {
     "data": {
      "text/plain": [
       "True"
      ]
     },
     "execution_count": 14,
     "metadata": {},
     "output_type": "execute_result"
    }
   ],
   "source": [
    "IBMQ.active_account() is None"
   ]
  },
  {
   "cell_type": "code",
   "execution_count": 15,
   "id": "8bbbb74f",
   "metadata": {},
   "outputs": [
    {
     "data": {
      "text/plain": [
       "<AccountProvider for IBMQ(hub='ibm-q', group='open', project='main')>"
      ]
     },
     "execution_count": 15,
     "metadata": {},
     "output_type": "execute_result"
    }
   ],
   "source": [
    "IBMQ.load_account()"
   ]
  },
  {
   "cell_type": "code",
   "execution_count": 16,
   "id": "48c13ef5",
   "metadata": {},
   "outputs": [
    {
     "data": {
      "text/plain": [
       "{'token': '7d6890d6f76e71f5c15ec68deedc2f030b192307c4baee6db8371a1634f9391789225f9881bec49c0be374473f29ee58c48168894b700476525689f020fda390',\n",
       " 'url': 'https://auth.quantum-computing.ibm.com/api'}"
      ]
     },
     "execution_count": 16,
     "metadata": {},
     "output_type": "execute_result"
    }
   ],
   "source": [
    "IBMQ.active_account()"
   ]
  },
  {
   "cell_type": "code",
   "execution_count": 17,
   "id": "caaaa04d",
   "metadata": {},
   "outputs": [
    {
     "name": "stderr",
     "output_type": "stream",
     "text": [
      "ibmqfactory.load_account:WARNING:2021-08-10 15:24:02,549: Credentials are already in use. The existing account in the session will be replaced.\n"
     ]
    },
    {
     "data": {
      "text/plain": [
       "<AccountProvider for IBMQ(hub='ibm-q', group='open', project='main')>"
      ]
     },
     "execution_count": 17,
     "metadata": {},
     "output_type": "execute_result"
    }
   ],
   "source": [
    "IBMQ.load_account()"
   ]
  },
  {
   "cell_type": "code",
   "execution_count": null,
   "id": "5650a790",
   "metadata": {},
   "outputs": [],
   "source": []
  }
 ],
 "metadata": {
  "kernelspec": {
   "display_name": "Python 3",
   "language": "python",
   "name": "python3"
  },
  "language_info": {
   "codemirror_mode": {
    "name": "ipython",
    "version": 3
   },
   "file_extension": ".py",
   "mimetype": "text/x-python",
   "name": "python",
   "nbconvert_exporter": "python",
   "pygments_lexer": "ipython3",
   "version": "3.9.5"
  }
 },
 "nbformat": 4,
 "nbformat_minor": 5
}
