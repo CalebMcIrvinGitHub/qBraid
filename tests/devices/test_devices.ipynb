{
 "cells": [
  {
   "cell_type": "code",
   "execution_count": 1,
   "id": "bab7581f",
   "metadata": {},
   "outputs": [],
   "source": [
    "import qbraid\n",
    "from qbraid.devices._utils import SUPPORTED_VENDORS"
   ]
  },
  {
   "cell_type": "code",
   "execution_count": 2,
   "id": "95786d1a",
   "metadata": {},
   "outputs": [],
   "source": [
    "def device_wrapper_input(vendor):\n",
    "    input_list = []\n",
    "    for provider in SUPPORTED_VENDORS[vendor]:\n",
    "        for device in SUPPORTED_VENDORS[vendor][provider]:\n",
    "            if provider != \"D-Wave\":\n",
    "                data = (device, provider, vendor)\n",
    "                input_list.append(data)\n",
    "    return input_list"
   ]
  },
  {
   "cell_type": "code",
   "execution_count": 3,
   "id": "d8f60fe5",
   "metadata": {},
   "outputs": [
    {
     "name": "stdout",
     "output_type": "stream",
     "text": [
      "Software Vendor    Device Provider    Device Name\n",
      "-----------------  -----------------  -----------------------------\n",
      "AWS                AWS                simulator_statevector\n",
      "AWS                AWS                simulator_densitymatrix\n",
      "AWS                AWS                simulator_tensornetwork\n",
      "AWS                AWS                local_simulator_default\n",
      "AWS                D-Wave             DW_2000Q_6\n",
      "AWS                D-Wave             Advantage_system1\n",
      "AWS                IonQ               ionQdevice\n",
      "AWS                Rigetti            Aspen-9\n",
      "Google             Google             local_simulator_default\n",
      "Google             Google             local_simulator_densitymatrix\n",
      "IBM                IBMQ               armonk\n",
      "IBM                IBMQ               belem\n",
      "IBM                IBMQ               bogota\n",
      "IBM                IBMQ               lima\n",
      "IBM                IBMQ               manila\n",
      "IBM                IBMQ               quito\n",
      "IBM                IBMQ               santiago\n",
      "IBM                IBMQ               simulator_stabilizer\n",
      "IBM                IBMQ               simulator_stabilizer_ext\n",
      "IBM                IBMQ               simulator_mps\n",
      "IBM                IBMQ               simulator_qasm\n",
      "IBM                IBMQ               simulator_statevector\n",
      "IBM                IBMQ               least_busy_qpu\n",
      "IBM                Aer                simulator_aer\n",
      "IBM                Aer                simulator_pulse\n",
      "IBM                Aer                simulator_qasm\n",
      "IBM                Aer                simulator_statevector\n",
      "IBM                Aer                simulator_unitary\n",
      "IBM                BasicAer           simulator_qasm\n",
      "IBM                BasicAer           simulator_statevector\n",
      "IBM                BasicAer           simulator_unitary\n"
     ]
    }
   ],
   "source": [
    "qbraid.get_devices()"
   ]
  },
  {
   "cell_type": "code",
   "execution_count": 28,
   "id": "75e33da1",
   "metadata": {},
   "outputs": [],
   "source": [
    "ibm_wrapper = qbraid.device_wrapper(\"simulator_aer\", \"Aer\", vendor=\"IBM\")"
   ]
  },
  {
   "cell_type": "code",
   "execution_count": 29,
   "id": "4c91d930",
   "metadata": {},
   "outputs": [],
   "source": [
    "from qiskit import QuantumCircuit"
   ]
  },
  {
   "cell_type": "code",
   "execution_count": 30,
   "id": "1dc1968c",
   "metadata": {},
   "outputs": [],
   "source": [
    "circuit = QuantumCircuit(1)  # Create a qiskit circuit\n",
    "circuit.h(0)\n",
    "circuit.y(0)\n",
    "circuit.measure_all()"
   ]
  },
  {
   "cell_type": "code",
   "execution_count": 31,
   "id": "7d48d202",
   "metadata": {},
   "outputs": [],
   "source": [
    "qbraid_job = ibm_wrapper.run(circuit, shots=100)"
   ]
  },
  {
   "cell_type": "code",
   "execution_count": 32,
   "id": "ca47d5c2",
   "metadata": {},
   "outputs": [
    {
     "data": {
      "text/plain": [
       "True"
      ]
     },
     "execution_count": 32,
     "metadata": {},
     "output_type": "execute_result"
    }
   ],
   "source": [
    "qbraid_job.done()"
   ]
  },
  {
   "cell_type": "code",
   "execution_count": 33,
   "id": "118a9d9e",
   "metadata": {},
   "outputs": [
    {
     "data": {
      "text/plain": [
       "{'counts': {'0x0': 53, '0x1': 47}}"
      ]
     },
     "execution_count": 33,
     "metadata": {},
     "output_type": "execute_result"
    }
   ],
   "source": [
    "qbraid_job.result().data()"
   ]
  },
  {
   "cell_type": "code",
   "execution_count": 34,
   "id": "f78f9635",
   "metadata": {},
   "outputs": [
    {
     "data": {
      "text/plain": [
       "<qiskit.providers.aer.aerjob.AerJob at 0x17a83af10>"
      ]
     },
     "execution_count": 34,
     "metadata": {},
     "output_type": "execute_result"
    }
   ],
   "source": [
    "qbraid_job.vendor_jlo"
   ]
  },
  {
   "cell_type": "code",
   "execution_count": 35,
   "id": "a643eca7",
   "metadata": {},
   "outputs": [],
   "source": [
    "from qiskit.providers.job import Job"
   ]
  },
  {
   "cell_type": "code",
   "execution_count": 36,
   "id": "14a71cf6",
   "metadata": {},
   "outputs": [
    {
     "data": {
      "text/plain": [
       "True"
      ]
     },
     "execution_count": 36,
     "metadata": {},
     "output_type": "execute_result"
    }
   ],
   "source": [
    "isinstance(qbraid_job.vendor_jlo, Job)"
   ]
  }
 ],
 "metadata": {
  "kernelspec": {
   "display_name": "Python 3",
   "language": "python",
   "name": "python3"
  },
  "language_info": {
   "codemirror_mode": {
    "name": "ipython",
    "version": 3
   },
   "file_extension": ".py",
   "mimetype": "text/x-python",
   "name": "python",
   "nbconvert_exporter": "python",
   "pygments_lexer": "ipython3",
   "version": "3.9.5"
  }
 },
 "nbformat": 4,
 "nbformat_minor": 5
}
