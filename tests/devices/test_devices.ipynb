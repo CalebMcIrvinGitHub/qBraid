{
 "cells": [
  {
   "cell_type": "code",
   "execution_count": 21,
   "id": "bab7581f",
   "metadata": {},
   "outputs": [],
   "source": [
    "from qbraid.devices.utils import get_devices\n",
    "from qbraid.devices.utils import device_wrapper\n",
    "from braket.devices import LocalSimulator as BraketSimulator\n",
    "from cirq.devices.device import Device as CirqDevice\n",
    "from qbraid.devices.utils import SUPPORTED_VENDORS"
   ]
  },
  {
   "cell_type": "code",
   "execution_count": 17,
   "id": "ab7f8870",
   "metadata": {},
   "outputs": [
    {
     "name": "stdout",
     "output_type": "stream",
     "text": [
      "Software Vendor    Device Provider    Device Name\n",
      "-----------------  -----------------  -----------------\n",
      "AWS                AWS                SV1\n",
      "AWS                AWS                DM1\n",
      "AWS                AWS                TN1\n",
      "AWS                AWS                braket_sv\n",
      "AWS                AWS                braket_dm\n",
      "AWS                AWS                default\n",
      "AWS                D-Wave             DW_2000Q_6\n",
      "AWS                D-Wave             Advantage_system1\n",
      "AWS                IonQ               ionQdevice\n",
      "AWS                Rigetti            Aspen-9\n",
      "Google             Google             Sycamore\n",
      "Google             Google             Sycamore23\n",
      "IBM                IBM                AerSimulator\n",
      "IBM                IBM                PulseSimulator\n"
     ]
    }
   ],
   "source": [
    "get_devices()"
   ]
  },
  {
   "cell_type": "code",
   "execution_count": 18,
   "id": "65c84017",
   "metadata": {},
   "outputs": [],
   "source": [
    "def device_wrapper_input(vendor):\n",
    "    input_list = []\n",
    "    for provider in SUPPORTED_VENDORS[vendor]:\n",
    "        for device in SUPPORTED_VENDORS[vendor][provider]:\n",
    "            data = (device, provider, vendor)\n",
    "            input_list.append(data)\n",
    "    return input_list"
   ]
  },
  {
   "cell_type": "code",
   "execution_count": 33,
   "id": "6d454202",
   "metadata": {},
   "outputs": [],
   "source": [
    "input1, input2 = device_wrapper_input('IBM')"
   ]
  },
  {
   "cell_type": "code",
   "execution_count": 37,
   "id": "169f027e",
   "metadata": {},
   "outputs": [],
   "source": [
    "qbraid_device = device_wrapper(*input1)"
   ]
  },
  {
   "cell_type": "code",
   "execution_count": 38,
   "id": "cd7916ed",
   "metadata": {},
   "outputs": [
    {
     "data": {
      "text/plain": [
       "qbraid.devices.ibm.device.IBMDeviceWrapper"
      ]
     },
     "execution_count": 38,
     "metadata": {},
     "output_type": "execute_result"
    }
   ],
   "source": [
    "type(qbraid_device)"
   ]
  },
  {
   "cell_type": "code",
   "execution_count": 40,
   "id": "cb1860e8",
   "metadata": {},
   "outputs": [],
   "source": [
    "qiskit_device = qbraid_device.vendor_device_obj"
   ]
  },
  {
   "cell_type": "code",
   "execution_count": 41,
   "id": "d523577d",
   "metadata": {},
   "outputs": [
    {
     "data": {
      "text/plain": [
       "abc.ABCMeta"
      ]
     },
     "execution_count": 41,
     "metadata": {},
     "output_type": "execute_result"
    }
   ],
   "source": [
    "type(qiskit_device)"
   ]
  },
  {
   "cell_type": "code",
   "execution_count": null,
   "id": "bd4a2e78",
   "metadata": {},
   "outputs": [],
   "source": []
  }
 ],
 "metadata": {
  "kernelspec": {
   "display_name": "Python 3",
   "language": "python",
   "name": "python3"
  },
  "language_info": {
   "codemirror_mode": {
    "name": "ipython",
    "version": 3
   },
   "file_extension": ".py",
   "mimetype": "text/x-python",
   "name": "python",
   "nbconvert_exporter": "python",
   "pygments_lexer": "ipython3",
   "version": "3.9.5"
  }
 },
 "nbformat": 4,
 "nbformat_minor": 5
}
