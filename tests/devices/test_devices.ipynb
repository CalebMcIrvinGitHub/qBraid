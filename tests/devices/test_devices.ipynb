{
 "cells": [
  {
   "cell_type": "code",
   "execution_count": 1,
   "id": "bab7581f",
   "metadata": {},
   "outputs": [],
   "source": [
    "from qbraid import device_wrapper, get_devices\n",
    "from qbraid.devices._utils import SUPPORTED_VENDORS"
   ]
  },
  {
   "cell_type": "code",
   "execution_count": 2,
   "id": "325d760d",
   "metadata": {},
   "outputs": [],
   "source": [
    "import cirq\n",
    "import numpy as np\n",
    "from braket.circuits import Circuit as BraketCircuit\n",
    "from qiskit import QuantumCircuit as QiskitCircuit\n",
    "import networkx as nx\n",
    "import dwave_networkx as dnx"
   ]
  },
  {
   "cell_type": "code",
   "execution_count": 4,
   "id": "983e2806",
   "metadata": {},
   "outputs": [],
   "source": [
    "dwave_wrapper = device_wrapper(\"DW_2000Q_6\", \"D-Wave\", vendor=\"AWS\")\n",
    "dwave_sampler = dwave_wrapper.get_sampler()"
   ]
  },
  {
   "cell_type": "code",
   "execution_count": 5,
   "id": "d86b8a9e",
   "metadata": {},
   "outputs": [],
   "source": [
    "n = 5\n",
    "m = 10\n",
    "graph = nx.gnm_random_graph(n, m, seed=42)"
   ]
  },
  {
   "cell_type": "code",
   "execution_count": 6,
   "id": "57495426",
   "metadata": {},
   "outputs": [
    {
     "name": "stdout",
     "output_type": "stream",
     "text": [
      "Result to MVC problem: [0, 1, 2, 4]\n",
      "Size of the vertex cover: 4\n"
     ]
    }
   ],
   "source": [
    "result = dnx.min_vertex_cover(graph, dwave_sampler, answer_mode=\"histogram\")\n",
    "print('Result to MVC problem:', result)\n",
    "print('Size of the vertex cover:', len(result))"
   ]
  },
  {
   "cell_type": "code",
   "execution_count": 7,
   "id": "95786d1a",
   "metadata": {},
   "outputs": [],
   "source": [
    "def device_wrapper_input(vendor):\n",
    "    input_list = []\n",
    "    for provider in SUPPORTED_VENDORS[vendor]:\n",
    "        for device in SUPPORTED_VENDORS[vendor][provider]:\n",
    "            if provider != \"D-Wave\":\n",
    "                data = (device, provider, vendor)\n",
    "                input_list.append(data)\n",
    "    return input_list"
   ]
  },
  {
   "cell_type": "code",
   "execution_count": 8,
   "id": "bfb48f60",
   "metadata": {},
   "outputs": [],
   "source": [
    "def braket_circuit():\n",
    "    circuit = BraketCircuit()\n",
    "    circuit.h(0)\n",
    "    circuit.ry(0, np.pi / 2)\n",
    "    return circuit"
   ]
  },
  {
   "cell_type": "code",
   "execution_count": 9,
   "id": "29934794",
   "metadata": {},
   "outputs": [],
   "source": [
    "def cirq_circuit(meas=True):\n",
    "    q0 = cirq.GridQubit(0, 0)\n",
    "    def test_circuit():\n",
    "        yield cirq.H(q0)\n",
    "        yield cirq.Ry(rads=np.pi / 2)(q0)\n",
    "        if meas:\n",
    "            yield cirq.measure(q0, key='q0')\n",
    "    circuit = cirq.Circuit()\n",
    "    circuit.append(test_circuit())\n",
    "    return circuit"
   ]
  },
  {
   "cell_type": "code",
   "execution_count": 10,
   "id": "3606a8d9",
   "metadata": {},
   "outputs": [],
   "source": [
    "def qiskit_circuit(meas=True):\n",
    "    circuit = QiskitCircuit(1, 1) if meas else QiskitCircuit(1)\n",
    "    circuit.h(0)\n",
    "    circuit.ry(np.pi / 2, 0)\n",
    "    if meas:\n",
    "        circuit.measure(0, 0)\n",
    "    return circuit"
   ]
  },
  {
   "cell_type": "code",
   "execution_count": null,
   "id": "8a75cb87",
   "metadata": {},
   "outputs": [],
   "source": []
  },
  {
   "cell_type": "code",
   "execution_count": null,
   "id": "ef75aa13",
   "metadata": {},
   "outputs": [],
   "source": []
  },
  {
   "cell_type": "code",
   "execution_count": null,
   "id": "f41aa6bd",
   "metadata": {},
   "outputs": [],
   "source": []
  }
 ],
 "metadata": {
  "kernelspec": {
   "display_name": "Python 3",
   "language": "python",
   "name": "python3"
  },
  "language_info": {
   "codemirror_mode": {
    "name": "ipython",
    "version": 3
   },
   "file_extension": ".py",
   "mimetype": "text/x-python",
   "name": "python",
   "nbconvert_exporter": "python",
   "pygments_lexer": "ipython3",
   "version": "3.9.5"
  }
 },
 "nbformat": 4,
 "nbformat_minor": 5
}
