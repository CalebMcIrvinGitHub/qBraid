{
 "cells": [
  {
   "cell_type": "code",
   "execution_count": 1,
   "id": "06c083a4",
   "metadata": {},
   "outputs": [],
   "source": [
    "import qbraid"
   ]
  },
  {
   "cell_type": "code",
   "execution_count": 5,
   "id": "3b053502",
   "metadata": {},
   "outputs": [
    {
     "name": "stdout",
     "output_type": "stream",
     "text": [
      "Software Vendor    Device Provider    Device Name\n",
      "-----------------  -----------------  ------------------------\n",
      "IBM                IBMQ               armonk\n",
      "IBM                IBMQ               belem\n",
      "IBM                IBMQ               bogota\n",
      "IBM                IBMQ               lima\n",
      "IBM                IBMQ               manila\n",
      "IBM                IBMQ               quito\n",
      "IBM                IBMQ               santiago\n",
      "IBM                IBMQ               yorktown\n",
      "IBM                IBMQ               simulator_stabilizer\n",
      "IBM                IBMQ               simulator_stabilizer_ext\n",
      "IBM                IBMQ               simulator_mps\n",
      "IBM                IBMQ               simulator_qasm\n",
      "IBM                IBMQ               simulator_statevector\n"
     ]
    }
   ],
   "source": [
    "qbraid.get_devices(vendor=\"IBM\", creds=True)"
   ]
  },
  {
   "cell_type": "code",
   "execution_count": 3,
   "id": "65bf6543",
   "metadata": {},
   "outputs": [],
   "source": [
    "qbraid_device = qbraid.device_wrapper(\"local_simulator_statevector\", \"Aer\", vendor=\"IBM\")"
   ]
  },
  {
   "cell_type": "code",
   "execution_count": 6,
   "id": "a06e3d40",
   "metadata": {},
   "outputs": [
    {
     "name": "stdout",
     "output_type": "stream",
     "text": [
      "IBMQ API Token [None]: ········\n"
     ]
    }
   ],
   "source": [
    "qbraid_device2 = qbraid.device_wrapper(\"armonk\", \"IBMQ\", \"IBM\")"
   ]
  },
  {
   "cell_type": "code",
   "execution_count": 7,
   "id": "db165522",
   "metadata": {},
   "outputs": [
    {
     "data": {
      "text/plain": [
       "<IBMQBackend('ibmq_armonk') from IBMQ(hub='ibm-q', group='open', project='main')>"
      ]
     },
     "execution_count": 7,
     "metadata": {},
     "output_type": "execute_result"
    }
   ],
   "source": [
    "qbraid_device2.vendor_dlo"
   ]
  },
  {
   "cell_type": "code",
   "execution_count": 8,
   "id": "a6345bdc",
   "metadata": {},
   "outputs": [
    {
     "data": {
      "text/plain": [
       "\"<QiskitBackendWrapper(IBMQ:'armonk')>\""
      ]
     },
     "execution_count": 8,
     "metadata": {},
     "output_type": "execute_result"
    }
   ],
   "source": [
    "repr(qbraid_device2)"
   ]
  }
 ],
 "metadata": {
  "kernelspec": {
   "display_name": "Python 3",
   "language": "python",
   "name": "python3"
  },
  "language_info": {
   "codemirror_mode": {
    "name": "ipython",
    "version": 3
   },
   "file_extension": ".py",
   "mimetype": "text/x-python",
   "name": "python",
   "nbconvert_exporter": "python",
   "pygments_lexer": "ipython3",
   "version": "3.9.5"
  }
 },
 "nbformat": 4,
 "nbformat_minor": 5
}
