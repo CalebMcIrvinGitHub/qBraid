{
 "cells": [
  {
   "cell_type": "code",
   "execution_count": 1,
   "id": "06c083a4",
   "metadata": {},
   "outputs": [],
   "source": [
    "import qbraid"
   ]
  },
  {
   "cell_type": "code",
   "execution_count": 2,
   "id": "21c5f42f",
   "metadata": {},
   "outputs": [],
   "source": [
    "qbraid_device = qbraid.device_wrapper(\"Armonk\", \"IBMQ\", vendor=\"IBM\")"
   ]
  },
  {
   "cell_type": "code",
   "execution_count": 3,
   "id": "20763096",
   "metadata": {},
   "outputs": [],
   "source": [
    "ibm_device = qbraid_device.vendor_dlo"
   ]
  },
  {
   "cell_type": "code",
   "execution_count": 4,
   "id": "4b53f129",
   "metadata": {},
   "outputs": [
    {
     "data": {
      "text/plain": [
       "qiskit.providers.ibmq.ibmqbackend.IBMQBackend"
      ]
     },
     "execution_count": 4,
     "metadata": {},
     "output_type": "execute_result"
    }
   ],
   "source": [
    "type(ibm_device)"
   ]
  },
  {
   "cell_type": "code",
   "execution_count": null,
   "id": "46bd251a",
   "metadata": {},
   "outputs": [],
   "source": []
  }
 ],
 "metadata": {
  "kernelspec": {
   "display_name": "Python 3",
   "language": "python",
   "name": "python3"
  },
  "language_info": {
   "codemirror_mode": {
    "name": "ipython",
    "version": 3
   },
   "file_extension": ".py",
   "mimetype": "text/x-python",
   "name": "python",
   "nbconvert_exporter": "python",
   "pygments_lexer": "ipython3",
   "version": "3.9.5"
  }
 },
 "nbformat": 4,
 "nbformat_minor": 5
}
