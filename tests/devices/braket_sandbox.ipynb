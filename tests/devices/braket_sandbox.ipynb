{
 "cells": [
  {
   "cell_type": "code",
   "execution_count": 1,
   "id": "ac0f9325",
   "metadata": {},
   "outputs": [],
   "source": [
    "import boto3\n",
    "import qbraid\n",
    "from braket.circuits import Circuit"
   ]
  },
  {
   "cell_type": "code",
   "execution_count": 2,
   "id": "e4b12bb5",
   "metadata": {},
   "outputs": [
    {
     "name": "stdout",
     "output_type": "stream",
     "text": [
      "T  : |0|1|\n",
      "          \n",
      "q0 : -H-C-\n",
      "        | \n",
      "q1 : ---X-\n",
      "\n",
      "T  : |0|1|\n"
     ]
    }
   ],
   "source": [
    "bell = Circuit().h(0).cnot(0, 1)\n",
    "print(bell)"
   ]
  },
  {
   "cell_type": "code",
   "execution_count": 3,
   "id": "a8b7bd51",
   "metadata": {},
   "outputs": [
    {
     "name": "stdout",
     "output_type": "stream",
     "text": [
      "Software Vendor    Device Provider    Device Name\n",
      "-----------------  -----------------  -----------------------------\n",
      "AWS                AWS                simulator_statevector\n",
      "AWS                AWS                simulator_densitymatrix\n",
      "AWS                AWS                simulator_tensornetwork\n",
      "AWS                AWS                local_simulator_default\n",
      "AWS                AWS                local_simulator_densitymatrix\n",
      "AWS                AWS                local_simulator_statevector\n"
     ]
    }
   ],
   "source": [
    "qbraid.get_devices(\"AWS\")"
   ]
  },
  {
   "cell_type": "code",
   "execution_count": 4,
   "id": "53c436df",
   "metadata": {},
   "outputs": [
    {
     "name": "stdout",
     "output_type": "stream",
     "text": [
      "S3 Bucket [None]: amazon-braket-592242689881\n",
      "S3 Bucket Folder [None]: simulator-output\n"
     ]
    }
   ],
   "source": [
    "qbraid_device = qbraid.device_wrapper(\"simulator_densitymatrix\", \"AWS\")"
   ]
  },
  {
   "cell_type": "code",
   "execution_count": 5,
   "id": "37623058",
   "metadata": {},
   "outputs": [],
   "source": [
    "aws_account_id = boto3.client(\"sts\").get_caller_identity()[\"Account\"]\n",
    "s3_location = (f\"amazon-braket-{aws_account_id}\", \"simulator-output\")"
   ]
  },
  {
   "cell_type": "code",
   "execution_count": 6,
   "id": "60fc7bc6",
   "metadata": {},
   "outputs": [
    {
     "data": {
      "text/plain": [
       "('amazon-braket-592242689881', 'simulator-output')"
      ]
     },
     "execution_count": 6,
     "metadata": {},
     "output_type": "execute_result"
    }
   ],
   "source": [
    "s3_location"
   ]
  },
  {
   "cell_type": "code",
   "execution_count": 7,
   "id": "3ea9d1c4",
   "metadata": {},
   "outputs": [
    {
     "data": {
      "text/plain": [
       "('amazon-braket-592242689881', 'simulator-output')"
      ]
     },
     "execution_count": 7,
     "metadata": {},
     "output_type": "execute_result"
    }
   ],
   "source": [
    "qbraid_device.s3_location"
   ]
  },
  {
   "cell_type": "code",
   "execution_count": 8,
   "id": "dc64b498",
   "metadata": {},
   "outputs": [
    {
     "data": {
      "text/plain": [
       "True"
      ]
     },
     "execution_count": 8,
     "metadata": {},
     "output_type": "execute_result"
    }
   ],
   "source": [
    "qbraid_device.requires_creds"
   ]
  },
  {
   "cell_type": "code",
   "execution_count": 9,
   "id": "10ef07f2",
   "metadata": {},
   "outputs": [
    {
     "data": {
      "text/plain": [
       "<BraketQuantumTaskWrapper(id:'arn:aws:braket:us-east-1:592242689881:quantum-task/760368f0-7b83-4016-a646-ca00d3f223c1')>"
      ]
     },
     "execution_count": 9,
     "metadata": {},
     "output_type": "execute_result"
    }
   ],
   "source": [
    "qbraid_device.run(bell, shots=1)"
   ]
  },
  {
   "cell_type": "code",
   "execution_count": null,
   "id": "cfc1a06c",
   "metadata": {},
   "outputs": [],
   "source": []
  }
 ],
 "metadata": {
  "kernelspec": {
   "display_name": "Python 3",
   "language": "python",
   "name": "python3"
  },
  "language_info": {
   "codemirror_mode": {
    "name": "ipython",
    "version": 3
   },
   "file_extension": ".py",
   "mimetype": "text/x-python",
   "name": "python",
   "nbconvert_exporter": "python",
   "pygments_lexer": "ipython3",
   "version": "3.9.5"
  }
 },
 "nbformat": 4,
 "nbformat_minor": 5
}
