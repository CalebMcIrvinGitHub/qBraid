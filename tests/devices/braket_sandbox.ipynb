{
 "cells": [
  {
   "cell_type": "code",
   "execution_count": 1,
   "id": "ac0f9325",
   "metadata": {},
   "outputs": [],
   "source": [
    "import boto3\n",
    "import qbraid\n",
    "from braket.circuits import Circuit"
   ]
  },
  {
   "cell_type": "code",
   "execution_count": 2,
   "id": "e4b12bb5",
   "metadata": {},
   "outputs": [
    {
     "name": "stdout",
     "output_type": "stream",
     "text": [
      "T  : |0|1|\n",
      "          \n",
      "q0 : -H-C-\n",
      "        | \n",
      "q1 : ---X-\n",
      "\n",
      "T  : |0|1|\n"
     ]
    }
   ],
   "source": [
    "bell = Circuit().h(0).cnot(0, 1)\n",
    "print(bell)"
   ]
  },
  {
   "cell_type": "code",
   "execution_count": 4,
   "id": "53c436df",
   "metadata": {},
   "outputs": [
    {
     "name": "stdout",
     "output_type": "stream",
     "text": [
      "AWS Access Key ID [None]: ········\n",
      "AWS Secret Access Key [None]: ········\n",
      "Default region name [None]: us-east-1\n",
      "Default output format [None]: \n"
     ]
    }
   ],
   "source": [
    "qbraid_device = qbraid.device_wrapper(\"SV1\", \"AWS\")"
   ]
  },
  {
   "cell_type": "code",
   "execution_count": 5,
   "id": "10ef07f2",
   "metadata": {},
   "outputs": [],
   "source": [
    "aws_account_id = boto3.client(\"sts\").get_caller_identity()[\"Account\"]\n",
    "s3_location = (f\"amazon-braket-{aws_account_id}\", \"simulator-output\")"
   ]
  },
  {
   "cell_type": "code",
   "execution_count": 6,
   "id": "a60377e7",
   "metadata": {},
   "outputs": [],
   "source": [
    "qbraid_job = qbraid_device.run(bell, s3_location, shots=50)"
   ]
  },
  {
   "cell_type": "code",
   "execution_count": 8,
   "id": "ea48ace0",
   "metadata": {},
   "outputs": [],
   "source": [
    "# print(qbraid_job.result().measurements)"
   ]
  }
 ],
 "metadata": {
  "kernelspec": {
   "display_name": "Python 3",
   "language": "python",
   "name": "python3"
  },
  "language_info": {
   "codemirror_mode": {
    "name": "ipython",
    "version": 3
   },
   "file_extension": ".py",
   "mimetype": "text/x-python",
   "name": "python",
   "nbconvert_exporter": "python",
   "pygments_lexer": "ipython3",
   "version": "3.9.5"
  }
 },
 "nbformat": 4,
 "nbformat_minor": 5
}
