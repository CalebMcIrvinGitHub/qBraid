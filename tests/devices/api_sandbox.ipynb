{
 "cells": [
  {
   "cell_type": "code",
   "execution_count": 1,
   "id": "06c083a4",
   "metadata": {},
   "outputs": [],
   "source": [
    "import qbraid"
   ]
  },
  {
   "cell_type": "code",
   "execution_count": 2,
   "id": "a6f92ae2",
   "metadata": {},
   "outputs": [
    {
     "name": "stdout",
     "output_type": "stream",
     "text": [
      "Provider      Device Name                     Num Qubits    qBraid ID\n",
      "------------  ------------------------------  ------------  ---------------------------\n",
      "AWS           State Vector Simulator          --            aws_native_sv_sim\n",
      "AWS           Density Matrix simulator        --            aws_native_dm_sim\n",
      "AWS           Tensor Network simulator        --            aws_native_tn_sim\n",
      "AWS           Braket Default Simulator        --            aws_braket_default_sim\n",
      "D-Wave        2000Q-6 QPU                     2041          aws_dwave_2000Q_6\n",
      "D-Wave        Advantage1.1 QPU                5436          aws_dwave_advantage_system1\n",
      "IonQ          IonQ QPU                        11            aws_ionQ\n",
      "Rigetti       Aspen-9 QPU                     32            aws_rigetti_aspen9\n",
      "Google        Cirq Sparse Simulator           --            google_cirq_sparse_sim\n",
      "Google        Cirq Density Matrix Simulator   --            google_cirq_dm_sim\n",
      "IBM Quantum   Armonk QPU                      1             ibm_q_armonk\n",
      "IBM Quantum   Belem QPU                       5             ibm_q_belem\n",
      "IBM Quantum   Bogota QPU                      5             ibm_q_bogota\n",
      "IBM Quantum   Lima QPU                        5             ibm_q_lima\n",
      "IBM Quantum   Manila QPU                      5             ibm_q_manila\n",
      "IBM Quantum   Quito QPU                       5             ibm_q_quito\n",
      "IBM Quantum   Santiago QPU                    5             ibm_q_santiago\n",
      "IBM Quantum   Stabilizer Simulator            --            ibm_q_stabilizer_sim\n",
      "IBM Quantum   Extended Stabilizer Simulator   --            ibm_q_stabilizer_ext_sim\n",
      "IBM Quantum   Matrix Product State Simulator  --            ibm_q_mps_sim\n",
      "IBM Quantum   QASM Simulator                  --            ibm_q_qasm_sim\n",
      "IBM Quantum   State-Vector Simulator          --            ibm_q_sv_sim\n",
      "IBM Quantum   least-busy QPU                  TBD           ibm_q_least_busy_qpu\n",
      "IBM Aer       Default Simulator               --            ibm_aer_default_sim\n",
      "IBM Aer       Pulse Simulator                 --            ibm_aer_pulse_sim\n",
      "IBM Aer       QASM Simulator                  --            ibm_aer_qasm_sim\n",
      "IBM Aer       State Vector Simulator          --            ibm_aer_sv_sim\n",
      "IBM Aer       Unitary Simulator               --            ibm_aer_unitary_sim\n",
      "IBM BasicAer  QASM Simulator                  --            ibm_basicaer_qasm_sim\n",
      "IBM BasicAer  State Vector Simulator          --            ibm_basicaer_sv_sim\n",
      "IBM BasicAer  Unitary Simulator               --            ibm_basicaer_unitary_sim\n"
     ]
    }
   ],
   "source": [
    "qbraid.get_devices()"
   ]
  },
  {
   "cell_type": "code",
   "execution_count": null,
   "id": "56fb581a",
   "metadata": {},
   "outputs": [],
   "source": [
    "import cirq\n",
    "import numpy as np\n",
    "from braket.circuits import Circuit as BraketCircuit\n",
    "from qiskit import QuantumCircuit as QiskitCircuit\n",
    "import networkx as nx\n",
    "import dwave_networkx as dnx"
   ]
  },
  {
   "cell_type": "code",
   "execution_count": null,
   "id": "3b053502",
   "metadata": {},
   "outputs": [],
   "source": [
    "def braket_circuit():\n",
    "    circuit = BraketCircuit()\n",
    "    circuit.h(0)\n",
    "    circuit.ry(0, np.pi / 2)\n",
    "    return circuit"
   ]
  },
  {
   "cell_type": "code",
   "execution_count": null,
   "id": "518fb02f",
   "metadata": {},
   "outputs": [],
   "source": [
    "def cirq_circuit(meas=True):\n",
    "    q0 = cirq.GridQubit(0, 0)\n",
    "    def test_circuit():\n",
    "        yield cirq.H(q0)\n",
    "        yield cirq.Ry(rads=np.pi / 2)(q0)\n",
    "        if meas:\n",
    "            yield cirq.measure(q0, key='q0')\n",
    "    circuit = cirq.Circuit()\n",
    "    circuit.append(test_circuit())\n",
    "    return circuit"
   ]
  },
  {
   "cell_type": "code",
   "execution_count": null,
   "id": "91b62649",
   "metadata": {},
   "outputs": [],
   "source": [
    "def qiskit_circuit(meas=True):\n",
    "    circuit = QiskitCircuit(1, 1) if meas else QiskitCircuit(1)\n",
    "    circuit.h(0)\n",
    "    circuit.ry(np.pi / 2, 0)\n",
    "    if meas:\n",
    "        circuit.measure(0, 0)\n",
    "    return circuit"
   ]
  },
  {
   "cell_type": "code",
   "execution_count": null,
   "id": "e39ede25",
   "metadata": {},
   "outputs": [],
   "source": [
    "n = 5\n",
    "m = 10\n",
    "graph = nx.gnm_random_graph(n, m, seed=42)"
   ]
  },
  {
   "cell_type": "code",
   "execution_count": null,
   "id": "7852bcea",
   "metadata": {},
   "outputs": [],
   "source": [
    "# result = dnx.min_vertex_cover(graph, dwave_sampler, answer_mode=\"histogram\")\n",
    "# print('Result to MVC problem:', result)\n",
    "# print('Size of the vertex cover:', len(result))"
   ]
  },
  {
   "cell_type": "code",
   "execution_count": null,
   "id": "65c435f3",
   "metadata": {
    "scrolled": true
   },
   "outputs": [],
   "source": [
    "qbraid.get_devices()"
   ]
  },
  {
   "cell_type": "code",
   "execution_count": null,
   "id": "f0806c98",
   "metadata": {},
   "outputs": [],
   "source": [
    "qbraid_device = qbraid.device_wrapper(\"Aspen-9\", \"Rigetti\", vendor=\"AWS\")"
   ]
  },
  {
   "cell_type": "code",
   "execution_count": null,
   "id": "a175d057",
   "metadata": {},
   "outputs": [],
   "source": []
  }
 ],
 "metadata": {
  "kernelspec": {
   "display_name": "Python 3",
   "language": "python",
   "name": "python3"
  },
  "language_info": {
   "codemirror_mode": {
    "name": "ipython",
    "version": 3
   },
   "file_extension": ".py",
   "mimetype": "text/x-python",
   "name": "python",
   "nbconvert_exporter": "python",
   "pygments_lexer": "ipython3",
   "version": "3.9.5"
  }
 },
 "nbformat": 4,
 "nbformat_minor": 5
}
