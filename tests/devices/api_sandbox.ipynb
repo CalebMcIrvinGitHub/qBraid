{
 "cells": [
  {
   "cell_type": "code",
   "execution_count": 3,
   "id": "06c083a4",
   "metadata": {},
   "outputs": [],
   "source": [
    "import qbraid\n",
    "from braket.circuits import Circuit as BraketCircuit\n",
    "from qiskit import QuantumCircuit as QiskitCircuit"
   ]
  },
  {
   "cell_type": "code",
   "execution_count": 10,
   "id": "3b053502",
   "metadata": {},
   "outputs": [
    {
     "name": "stdout",
     "output_type": "stream",
     "text": [
      "T  : |0|1|2|\n",
      "            \n",
      "q0 : -H-C-C-\n",
      "        | | \n",
      "q1 : ---X-|-\n",
      "          | \n",
      "q2 : -----X-\n",
      "\n",
      "T  : |0|1|2|\n"
     ]
    }
   ],
   "source": [
    "braket_circuit = BraketCircuit().h(0).cnot(0, 1).cnot(0, 2)\n",
    "print(braket_circuit)"
   ]
  },
  {
   "cell_type": "code",
   "execution_count": 11,
   "id": "518fb02f",
   "metadata": {},
   "outputs": [
    {
     "data": {
      "text/html": [
       "<pre style=\"word-wrap: normal;white-space: pre;background: #fff0;line-height: 1.1;font-family: &quot;Courier New&quot;,Courier,monospace\">     ┌───┐          \n",
       "q_0: ┤ H ├──■────■──\n",
       "     └───┘┌─┴─┐  │  \n",
       "q_1: ─────┤ X ├──┼──\n",
       "          └───┘┌─┴─┐\n",
       "q_2: ──────────┤ X ├\n",
       "               └───┘</pre>"
      ],
      "text/plain": [
       "     ┌───┐          \n",
       "q_0: ┤ H ├──■────■──\n",
       "     └───┘┌─┴─┐  │  \n",
       "q_1: ─────┤ X ├──┼──\n",
       "          └───┘┌─┴─┐\n",
       "q_2: ──────────┤ X ├\n",
       "               └───┘"
      ]
     },
     "execution_count": 11,
     "metadata": {},
     "output_type": "execute_result"
    }
   ],
   "source": [
    "qiskit_circuit = QiskitCircuit(3)\n",
    "qiskit_circuit.h(0)\n",
    "qiskit_circuit.cx(0, 1)\n",
    "qiskit_circuit.cx(0, 2)\n",
    "qiskit_circuit.draw()"
   ]
  },
  {
   "cell_type": "code",
   "execution_count": 14,
   "id": "91b62649",
   "metadata": {},
   "outputs": [
    {
     "name": "stdout",
     "output_type": "stream",
     "text": [
      "Software Vendor    Device Provider    Device Name\n",
      "-----------------  -----------------  -----------------------------\n",
      "AWS                AWS                simulator_statevector\n",
      "AWS                AWS                simulator_densitymatrix\n",
      "AWS                AWS                simulator_tensornetwork\n",
      "AWS                AWS                local_simulator_densitymatrix\n",
      "AWS                AWS                local_simulator_statevector\n",
      "AWS                D-Wave             DW_2000Q_6\n",
      "AWS                D-Wave             Advantage_system1\n",
      "AWS                IonQ               ionQdevice\n",
      "AWS                Rigetti            Aspen-9\n",
      "IBM                IBMQ               armonk\n",
      "IBM                IBMQ               belem\n",
      "IBM                IBMQ               bogota\n",
      "IBM                IBMQ               lima\n",
      "IBM                IBMQ               manila\n",
      "IBM                IBMQ               quito\n",
      "IBM                IBMQ               santiago\n",
      "IBM                IBMQ               yorktown\n",
      "IBM                IBMQ               simulator_stabilizer\n",
      "IBM                IBMQ               simulator_stabilizer_ext\n",
      "IBM                IBMQ               simulator_mps\n",
      "IBM                IBMQ               simulator_qasm\n",
      "IBM                IBMQ               simulator_statevector\n"
     ]
    }
   ],
   "source": [
    "qbraid.get_devices(creds=True)"
   ]
  },
  {
   "cell_type": "code",
   "execution_count": 17,
   "id": "65bf6543",
   "metadata": {},
   "outputs": [
    {
     "name": "stderr",
     "output_type": "stream",
     "text": [
      "ibmqfactory.load_account:WARNING:2021-08-09 16:30:58,769: Credentials are already in use. The existing account in the session will be replaced.\n"
     ]
    }
   ],
   "source": [
    "device_wrapper1 = qbraid.device_wrapper(\"simulator_statevector\", \"IBMQ\", \"IBM\")"
   ]
  },
  {
   "cell_type": "code",
   "execution_count": 18,
   "id": "a06e3d40",
   "metadata": {},
   "outputs": [],
   "source": [
    "device_wrapper2 = qbraid.device_wrapper(\"simulator_statevector\", \"AWS\")"
   ]
  },
  {
   "cell_type": "code",
   "execution_count": 19,
   "id": "db165522",
   "metadata": {},
   "outputs": [],
   "source": [
    "job1 = device_wrapper1.run(braket_circuit, shots=10)"
   ]
  },
  {
   "cell_type": "code",
   "execution_count": 20,
   "id": "a6345bdc",
   "metadata": {},
   "outputs": [],
   "source": [
    "job2 = device_wrapper2.run(qiskit_circuit, shots=10)"
   ]
  },
  {
   "cell_type": "code",
   "execution_count": 29,
   "id": "645bd8ec",
   "metadata": {},
   "outputs": [
    {
     "data": {
      "text/plain": [
       "<bound method Result.data of Result(backend_name='simulator_statevector', backend_version='0.8.1', qobj_id='1605eb37-ae18-40cf-8de1-f3e3c5bc2123', job_id='6111bb12b0d6ba926d4f44e6', success=True, results=[ExperimentResult(shots=10, success=True, meas_level=MeasLevel.CLASSIFIED, data=ExperimentResultData(), header=QobjExperimentHeader(clbit_labels=[], creg_sizes=[], global_phase=0.0, memory_slots=0, metadata={}, n_qubits=3, name='qBraid_transpiler_output', qreg_sizes=[['q0', 3]], qubit_labels=[['q0', 0], ['q0', 1], ['q0', 2]]), status=DONE, metadata={'fusion': {'applied': False, 'enabled': True, 'max_fused_qubits': 5, 'threshold': 14}, 'measure_sampling': True, 'method': 'statevector', 'parallel_shots': 1, 'parallel_state_update': 16}, seed_simulator=2344306582, time_taken=0.00027098700000000004)], date=2021-08-09 16:32:38.794695-07:00, status=COMPLETED, status=QobjHeader(backend_name='simulator_statevector', backend_version='0.1.547'), metadata={'max_gpu_memory_mb': 0, 'max_memory_mb': 386975, 'mpi_rank': 0, 'num_mpi_processes': 1, 'omp_enabled': True, 'parallel_experiments': 1, 'time_taken': 0.000444982}, time_taken=0.000444982, client_version={'qiskit': '0.26.0'})>"
      ]
     },
     "execution_count": 29,
     "metadata": {},
     "output_type": "execute_result"
    }
   ],
   "source": [
    "job1.result().data"
   ]
  },
  {
   "cell_type": "code",
   "execution_count": 30,
   "id": "3930d7d0",
   "metadata": {},
   "outputs": [
    {
     "data": {
      "text/plain": [
       "array([[1, 1, 1],\n",
       "       [0, 0, 0],\n",
       "       [0, 0, 0],\n",
       "       [1, 1, 1],\n",
       "       [0, 0, 0],\n",
       "       [1, 1, 1],\n",
       "       [1, 1, 1],\n",
       "       [0, 0, 0],\n",
       "       [1, 1, 1],\n",
       "       [1, 1, 1]])"
      ]
     },
     "execution_count": 30,
     "metadata": {},
     "output_type": "execute_result"
    }
   ],
   "source": [
    "job2.result().measurements"
   ]
  }
 ],
 "metadata": {
  "kernelspec": {
   "display_name": "Python 3",
   "language": "python",
   "name": "python3"
  },
  "language_info": {
   "codemirror_mode": {
    "name": "ipython",
    "version": 3
   },
   "file_extension": ".py",
   "mimetype": "text/x-python",
   "name": "python",
   "nbconvert_exporter": "python",
   "pygments_lexer": "ipython3",
   "version": "3.9.5"
  }
 },
 "nbformat": 4,
 "nbformat_minor": 5
}
