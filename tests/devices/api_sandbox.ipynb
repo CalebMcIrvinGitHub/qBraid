{
 "cells": [
  {
   "cell_type": "code",
   "execution_count": 1,
   "id": "06c083a4",
   "metadata": {},
   "outputs": [],
   "source": [
    "import qbraid"
   ]
  },
  {
   "cell_type": "code",
   "execution_count": 2,
   "id": "56fb581a",
   "metadata": {},
   "outputs": [],
   "source": [
    "import cirq\n",
    "import numpy as np\n",
    "from braket.circuits import Circuit as BraketCircuit\n",
    "from qiskit import QuantumCircuit as QiskitCircuit\n",
    "import networkx as nx\n",
    "import dwave_networkx as dnx"
   ]
  },
  {
   "cell_type": "code",
   "execution_count": 3,
   "id": "3b053502",
   "metadata": {},
   "outputs": [],
   "source": [
    "def braket_circuit():\n",
    "    circuit = BraketCircuit()\n",
    "    circuit.h(0)\n",
    "    circuit.ry(0, np.pi / 2)\n",
    "    return circuit"
   ]
  },
  {
   "cell_type": "code",
   "execution_count": 4,
   "id": "518fb02f",
   "metadata": {},
   "outputs": [],
   "source": [
    "def cirq_circuit(meas=True):\n",
    "    q0 = cirq.GridQubit(0, 0)\n",
    "    def test_circuit():\n",
    "        yield cirq.H(q0)\n",
    "        yield cirq.Ry(rads=np.pi / 2)(q0)\n",
    "        if meas:\n",
    "            yield cirq.measure(q0, key='q0')\n",
    "    circuit = cirq.Circuit()\n",
    "    circuit.append(test_circuit())\n",
    "    return circuit"
   ]
  },
  {
   "cell_type": "code",
   "execution_count": 5,
   "id": "91b62649",
   "metadata": {},
   "outputs": [],
   "source": [
    "def qiskit_circuit(meas=True):\n",
    "    circuit = QiskitCircuit(1, 1) if meas else QiskitCircuit(1)\n",
    "    circuit.h(0)\n",
    "    circuit.ry(np.pi / 2, 0)\n",
    "    if meas:\n",
    "        circuit.measure(0, 0)\n",
    "    return circuit"
   ]
  },
  {
   "cell_type": "code",
   "execution_count": 6,
   "id": "e39ede25",
   "metadata": {},
   "outputs": [],
   "source": [
    "n = 5\n",
    "m = 10\n",
    "graph = nx.gnm_random_graph(n, m, seed=42)"
   ]
  },
  {
   "cell_type": "code",
   "execution_count": 7,
   "id": "7852bcea",
   "metadata": {},
   "outputs": [],
   "source": [
    "# result = dnx.min_vertex_cover(graph, dwave_sampler, answer_mode=\"histogram\")\n",
    "# print('Result to MVC problem:', result)\n",
    "# print('Size of the vertex cover:', len(result))"
   ]
  },
  {
   "cell_type": "code",
   "execution_count": 8,
   "id": "65c435f3",
   "metadata": {
    "scrolled": true
   },
   "outputs": [
    {
     "name": "stdout",
     "output_type": "stream",
     "text": [
      "Software Vendor    Device Provider    Device Name\n",
      "-----------------  -----------------  -----------------------------\n",
      "AWS                AWS                simulator_statevector\n",
      "AWS                AWS                simulator_densitymatrix\n",
      "AWS                AWS                simulator_tensornetwork\n",
      "AWS                AWS                local_simulator_default\n",
      "AWS                D-Wave             DW_2000Q_6\n",
      "AWS                D-Wave             Advantage_system1\n",
      "AWS                IonQ               ionQdevice\n",
      "AWS                Rigetti            Aspen-9\n",
      "Google             Google             local_simulator_default\n",
      "Google             Google             local_simulator_densitymatrix\n",
      "IBM                IBMQ               armonk\n",
      "IBM                IBMQ               belem\n",
      "IBM                IBMQ               bogota\n",
      "IBM                IBMQ               lima\n",
      "IBM                IBMQ               manila\n",
      "IBM                IBMQ               quito\n",
      "IBM                IBMQ               santiago\n",
      "IBM                IBMQ               simulator_stabilizer\n",
      "IBM                IBMQ               simulator_stabilizer_ext\n",
      "IBM                IBMQ               simulator_mps\n",
      "IBM                IBMQ               simulator_qasm\n",
      "IBM                IBMQ               simulator_statevector\n",
      "IBM                IBMQ               least_busy_qpu\n",
      "IBM                Aer                simulator_aer\n",
      "IBM                Aer                simulator_pulse\n",
      "IBM                Aer                simulator_qasm\n",
      "IBM                Aer                simulator_statevector\n",
      "IBM                Aer                simulator_unitary\n",
      "IBM                BasicAer           simulator_qasm\n",
      "IBM                BasicAer           simulator_statevector\n",
      "IBM                BasicAer           simulator_unitary\n"
     ]
    }
   ],
   "source": [
    "qbraid.get_devices()"
   ]
  },
  {
   "cell_type": "code",
   "execution_count": 6,
   "id": "f0806c98",
   "metadata": {},
   "outputs": [
    {
     "ename": "ValueError",
     "evalue": "QPU arn:aws:braket:::device/qpu/rigetti/Aspen-9 not found",
     "output_type": "error",
     "traceback": [
      "\u001b[0;31m---------------------------------------------------------------------------\u001b[0m",
      "\u001b[0;31mValueError\u001b[0m                                Traceback (most recent call last)",
      "\u001b[0;32m<ipython-input-6-810a0aff8c9e>\u001b[0m in \u001b[0;36m<module>\u001b[0;34m\u001b[0m\n\u001b[0;32m----> 1\u001b[0;31m \u001b[0mqbraid_device\u001b[0m \u001b[0;34m=\u001b[0m \u001b[0mqbraid\u001b[0m\u001b[0;34m.\u001b[0m\u001b[0mdevice_wrapper\u001b[0m\u001b[0;34m(\u001b[0m\u001b[0;34m\"Aspen-9\"\u001b[0m\u001b[0;34m,\u001b[0m \u001b[0;34m\"Rigetti\"\u001b[0m\u001b[0;34m,\u001b[0m \u001b[0mvendor\u001b[0m\u001b[0;34m=\u001b[0m\u001b[0;34m\"AWS\"\u001b[0m\u001b[0;34m)\u001b[0m\u001b[0;34m\u001b[0m\u001b[0;34m\u001b[0m\u001b[0m\n\u001b[0m",
      "\u001b[0;32m~/Desktop/qBraid/qbraid/__init__.py\u001b[0m in \u001b[0;36mdevice_wrapper\u001b[0;34m(name, provider, vendor, **kwargs)\u001b[0m\n\u001b[1;32m    112\u001b[0m     \u001b[0;32mif\u001b[0m \u001b[0mvendor\u001b[0m \u001b[0;32min\u001b[0m \u001b[0mdevices_entrypoints\u001b[0m\u001b[0;34m:\u001b[0m\u001b[0;34m\u001b[0m\u001b[0;34m\u001b[0m\u001b[0m\n\u001b[1;32m    113\u001b[0m         \u001b[0mdevice_wrapper_class\u001b[0m \u001b[0;34m=\u001b[0m \u001b[0mdevices_entrypoints\u001b[0m\u001b[0;34m[\u001b[0m\u001b[0mvendor\u001b[0m\u001b[0;34m]\u001b[0m\u001b[0;34m.\u001b[0m\u001b[0mload\u001b[0m\u001b[0;34m(\u001b[0m\u001b[0;34m)\u001b[0m\u001b[0;34m\u001b[0m\u001b[0;34m\u001b[0m\u001b[0m\n\u001b[0;32m--> 114\u001b[0;31m         \u001b[0;32mreturn\u001b[0m \u001b[0mdevice_wrapper_class\u001b[0m\u001b[0;34m(\u001b[0m\u001b[0mname\u001b[0m\u001b[0;34m,\u001b[0m \u001b[0mprovider\u001b[0m\u001b[0;34m,\u001b[0m \u001b[0;34m**\u001b[0m\u001b[0mkwargs\u001b[0m\u001b[0;34m)\u001b[0m\u001b[0;34m\u001b[0m\u001b[0;34m\u001b[0m\u001b[0m\n\u001b[0m\u001b[1;32m    115\u001b[0m \u001b[0;34m\u001b[0m\u001b[0m\n\u001b[1;32m    116\u001b[0m     \u001b[0;32melse\u001b[0m\u001b[0;34m:\u001b[0m\u001b[0;34m\u001b[0m\u001b[0;34m\u001b[0m\u001b[0m\n",
      "\u001b[0;32m~/Desktop/qBraid/qbraid/devices/aws/device.py\u001b[0m in \u001b[0;36m__init__\u001b[0;34m(self, name, provider, **fields)\u001b[0m\n\u001b[1;32m     45\u001b[0m \u001b[0;34m\u001b[0m\u001b[0m\n\u001b[1;32m     46\u001b[0m         \"\"\"\n\u001b[0;32m---> 47\u001b[0;31m         \u001b[0msuper\u001b[0m\u001b[0;34m(\u001b[0m\u001b[0;34m)\u001b[0m\u001b[0;34m.\u001b[0m\u001b[0m__init__\u001b[0m\u001b[0;34m(\u001b[0m\u001b[0mname\u001b[0m\u001b[0;34m,\u001b[0m \u001b[0mprovider\u001b[0m\u001b[0;34m,\u001b[0m \u001b[0mvendor\u001b[0m\u001b[0;34m=\u001b[0m\u001b[0;34m\"AWS\"\u001b[0m\u001b[0;34m,\u001b[0m \u001b[0;34m**\u001b[0m\u001b[0mfields\u001b[0m\u001b[0;34m)\u001b[0m\u001b[0;34m\u001b[0m\u001b[0;34m\u001b[0m\u001b[0m\n\u001b[0m\u001b[1;32m     48\u001b[0m         \u001b[0;32mif\u001b[0m \u001b[0mself\u001b[0m\u001b[0;34m.\u001b[0m\u001b[0mrequires_creds\u001b[0m\u001b[0;34m:\u001b[0m\u001b[0;34m\u001b[0m\u001b[0;34m\u001b[0m\u001b[0m\n\u001b[1;32m     49\u001b[0m             \u001b[0mbucket\u001b[0m \u001b[0;34m=\u001b[0m \u001b[0mget_config\u001b[0m\u001b[0;34m(\u001b[0m\u001b[0;34m\"s3_bucket\"\u001b[0m\u001b[0;34m,\u001b[0m \u001b[0;34m\"AWS\"\u001b[0m\u001b[0;34m)\u001b[0m\u001b[0;34m\u001b[0m\u001b[0;34m\u001b[0m\u001b[0m\n",
      "\u001b[0;32m~/Desktop/qBraid/qbraid/devices/device.py\u001b[0m in \u001b[0;36m__init__\u001b[0;34m(self, name, provider, vendor, **fields)\u001b[0m\n\u001b[1;32m     48\u001b[0m         \u001b[0mself\u001b[0m\u001b[0;34m.\u001b[0m\u001b[0m_run_package\u001b[0m \u001b[0;34m=\u001b[0m \u001b[0mRUN_PACKAGE\u001b[0m\u001b[0;34m[\u001b[0m\u001b[0mself\u001b[0m\u001b[0;34m.\u001b[0m\u001b[0mvendor\u001b[0m\u001b[0;34m]\u001b[0m\u001b[0;34m\u001b[0m\u001b[0;34m\u001b[0m\u001b[0m\n\u001b[1;32m     49\u001b[0m         \u001b[0mself\u001b[0m\u001b[0;34m.\u001b[0m\u001b[0mrequires_creds\u001b[0m \u001b[0;34m=\u001b[0m \u001b[0;32mFalse\u001b[0m\u001b[0;34m\u001b[0m\u001b[0;34m\u001b[0m\u001b[0m\n\u001b[0;32m---> 50\u001b[0;31m         \u001b[0mself\u001b[0m\u001b[0;34m.\u001b[0m\u001b[0mvendor_dlo\u001b[0m \u001b[0;34m=\u001b[0m \u001b[0mself\u001b[0m\u001b[0;34m.\u001b[0m\u001b[0m_get_device_obj\u001b[0m\u001b[0;34m(\u001b[0m\u001b[0;34m)\u001b[0m  \u001b[0;31m# vendor device-like object\u001b[0m\u001b[0;34m\u001b[0m\u001b[0;34m\u001b[0m\u001b[0m\n\u001b[0m\u001b[1;32m     51\u001b[0m         \u001b[0;32mif\u001b[0m \u001b[0mfields\u001b[0m\u001b[0;34m:\u001b[0m\u001b[0;34m\u001b[0m\u001b[0;34m\u001b[0m\u001b[0m\n\u001b[1;32m     52\u001b[0m             \u001b[0;32mfor\u001b[0m \u001b[0mfield\u001b[0m \u001b[0;32min\u001b[0m \u001b[0mfields\u001b[0m\u001b[0;34m:\u001b[0m\u001b[0;34m\u001b[0m\u001b[0;34m\u001b[0m\u001b[0m\n",
      "\u001b[0;32m~/Desktop/qBraid/qbraid/devices/device.py\u001b[0m in \u001b[0;36m_get_device_obj\u001b[0;34m(self)\u001b[0m\n\u001b[1;32m     77\u001b[0m                     \u001b[0mset_config\u001b[0m\u001b[0;34m(\u001b[0m\u001b[0;34m*\u001b[0m\u001b[0mprompt\u001b[0m\u001b[0;34m)\u001b[0m\u001b[0;34m\u001b[0m\u001b[0;34m\u001b[0m\u001b[0m\n\u001b[1;32m     78\u001b[0m             \u001b[0mself\u001b[0m\u001b[0;34m.\u001b[0m\u001b[0mrequires_creds\u001b[0m \u001b[0;34m=\u001b[0m \u001b[0;32mTrue\u001b[0m\u001b[0;34m\u001b[0m\u001b[0;34m\u001b[0m\u001b[0m\n\u001b[0;32m---> 79\u001b[0;31m             \u001b[0;32mreturn\u001b[0m \u001b[0mself\u001b[0m\u001b[0;34m.\u001b[0m\u001b[0m_init_cred_device\u001b[0m\u001b[0;34m(\u001b[0m\u001b[0mdevice_ref\u001b[0m\u001b[0;34m)\u001b[0m\u001b[0;34m\u001b[0m\u001b[0;34m\u001b[0m\u001b[0m\n\u001b[0m\u001b[1;32m     80\u001b[0m         \u001b[0;32mreturn\u001b[0m \u001b[0mdevice_ref\u001b[0m\u001b[0;34m\u001b[0m\u001b[0;34m\u001b[0m\u001b[0m\n\u001b[1;32m     81\u001b[0m \u001b[0;34m\u001b[0m\u001b[0m\n",
      "\u001b[0;32m~/Desktop/qBraid/qbraid/devices/aws/device.py\u001b[0m in \u001b[0;36m_init_cred_device\u001b[0;34m(self, device_ref)\u001b[0m\n\u001b[1;32m     58\u001b[0m         \u001b[0;32mif\u001b[0m \u001b[0mdevice_ref\u001b[0m\u001b[0;34m[\u001b[0m\u001b[0;36m0\u001b[0m\u001b[0;34m:\u001b[0m\u001b[0;36m3\u001b[0m\u001b[0;34m]\u001b[0m \u001b[0;34m==\u001b[0m \u001b[0;34m\"arn\"\u001b[0m\u001b[0;34m:\u001b[0m\u001b[0;34m\u001b[0m\u001b[0;34m\u001b[0m\u001b[0m\n\u001b[1;32m     59\u001b[0m             \u001b[0mself\u001b[0m\u001b[0;34m.\u001b[0m\u001b[0m_arn\u001b[0m \u001b[0;34m=\u001b[0m \u001b[0mdevice_ref\u001b[0m\u001b[0;34m\u001b[0m\u001b[0;34m\u001b[0m\u001b[0m\n\u001b[0;32m---> 60\u001b[0;31m             \u001b[0;32mreturn\u001b[0m \u001b[0mAwsDevice\u001b[0m\u001b[0;34m(\u001b[0m\u001b[0mdevice_ref\u001b[0m\u001b[0;34m)\u001b[0m\u001b[0;34m\u001b[0m\u001b[0;34m\u001b[0m\u001b[0m\n\u001b[0m\u001b[1;32m     61\u001b[0m         \u001b[0;32mreturn\u001b[0m \u001b[0mLocalSimulator\u001b[0m\u001b[0;34m(\u001b[0m\u001b[0mbackend\u001b[0m\u001b[0;34m=\u001b[0m\u001b[0mdevice_ref\u001b[0m\u001b[0;34m)\u001b[0m\u001b[0;34m\u001b[0m\u001b[0;34m\u001b[0m\u001b[0m\n\u001b[1;32m     62\u001b[0m \u001b[0;34m\u001b[0m\u001b[0m\n",
      "\u001b[0;32m~/opt/anaconda3/envs/qBraid/lib/python3.9/site-packages/braket/aws/aws_device.py\u001b[0m in \u001b[0;36m__init__\u001b[0;34m(self, arn, aws_session)\u001b[0m\n\u001b[1;32m     75\u001b[0m         \u001b[0mself\u001b[0m\u001b[0;34m.\u001b[0m\u001b[0m_topology_graph\u001b[0m \u001b[0;34m=\u001b[0m \u001b[0;32mNone\u001b[0m\u001b[0;34m\u001b[0m\u001b[0;34m\u001b[0m\u001b[0m\n\u001b[1;32m     76\u001b[0m         \u001b[0mself\u001b[0m\u001b[0;34m.\u001b[0m\u001b[0m_type\u001b[0m \u001b[0;34m=\u001b[0m \u001b[0;32mNone\u001b[0m\u001b[0;34m\u001b[0m\u001b[0;34m\u001b[0m\u001b[0m\n\u001b[0;32m---> 77\u001b[0;31m         \u001b[0mself\u001b[0m\u001b[0;34m.\u001b[0m\u001b[0m_aws_session\u001b[0m \u001b[0;34m=\u001b[0m \u001b[0mself\u001b[0m\u001b[0;34m.\u001b[0m\u001b[0m_get_session_and_initialize\u001b[0m\u001b[0;34m(\u001b[0m\u001b[0maws_session\u001b[0m \u001b[0;32mor\u001b[0m \u001b[0mAwsSession\u001b[0m\u001b[0;34m(\u001b[0m\u001b[0;34m)\u001b[0m\u001b[0;34m)\u001b[0m\u001b[0;34m\u001b[0m\u001b[0;34m\u001b[0m\u001b[0m\n\u001b[0m\u001b[1;32m     78\u001b[0m \u001b[0;34m\u001b[0m\u001b[0m\n\u001b[1;32m     79\u001b[0m     def run(\n",
      "\u001b[0;32m~/opt/anaconda3/envs/qBraid/lib/python3.9/site-packages/braket/aws/aws_device.py\u001b[0m in \u001b[0;36m_get_session_and_initialize\u001b[0;34m(self, session)\u001b[0m\n\u001b[1;32m    226\u001b[0m             \u001b[0;32mexcept\u001b[0m \u001b[0mException\u001b[0m\u001b[0;34m:\u001b[0m\u001b[0;34m\u001b[0m\u001b[0;34m\u001b[0m\u001b[0m\n\u001b[1;32m    227\u001b[0m                 \u001b[0;32mpass\u001b[0m\u001b[0;34m\u001b[0m\u001b[0;34m\u001b[0m\u001b[0m\n\u001b[0;32m--> 228\u001b[0;31m         \u001b[0;32mraise\u001b[0m \u001b[0mValueError\u001b[0m\u001b[0;34m(\u001b[0m\u001b[0;34mf\"QPU {self._arn} not found\"\u001b[0m\u001b[0;34m)\u001b[0m\u001b[0;34m\u001b[0m\u001b[0;34m\u001b[0m\u001b[0m\n\u001b[0m\u001b[1;32m    229\u001b[0m \u001b[0;34m\u001b[0m\u001b[0m\n\u001b[1;32m    230\u001b[0m     \u001b[0;32mdef\u001b[0m \u001b[0m_populate_properties\u001b[0m\u001b[0;34m(\u001b[0m\u001b[0mself\u001b[0m\u001b[0;34m,\u001b[0m \u001b[0msession\u001b[0m\u001b[0;34m)\u001b[0m\u001b[0;34m:\u001b[0m\u001b[0;34m\u001b[0m\u001b[0;34m\u001b[0m\u001b[0m\n",
      "\u001b[0;31mValueError\u001b[0m: QPU arn:aws:braket:::device/qpu/rigetti/Aspen-9 not found"
     ]
    }
   ],
   "source": [
    "qbraid_device = qbraid.device_wrapper(\"Aspen-9\", \"Rigetti\", vendor=\"AWS\")"
   ]
  },
  {
   "cell_type": "code",
   "execution_count": null,
   "id": "a175d057",
   "metadata": {},
   "outputs": [],
   "source": []
  }
 ],
 "metadata": {
  "kernelspec": {
   "display_name": "Python 3",
   "language": "python",
   "name": "python3"
  },
  "language_info": {
   "codemirror_mode": {
    "name": "ipython",
    "version": 3
   },
   "file_extension": ".py",
   "mimetype": "text/x-python",
   "name": "python",
   "nbconvert_exporter": "python",
   "pygments_lexer": "ipython3",
   "version": "3.9.5"
  }
 },
 "nbformat": 4,
 "nbformat_minor": 5
}
