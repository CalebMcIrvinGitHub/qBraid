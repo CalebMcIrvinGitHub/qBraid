{
 "cells": [
  {
   "cell_type": "code",
   "execution_count": 1,
   "id": "06c083a4",
   "metadata": {},
   "outputs": [],
   "source": [
    "import qbraid\n",
    "from braket.circuits import Circuit as BraketCircuit\n",
    "from qiskit import QuantumCircuit as QiskitCircuit"
   ]
  },
  {
   "cell_type": "code",
   "execution_count": 2,
   "id": "3b053502",
   "metadata": {},
   "outputs": [
    {
     "name": "stdout",
     "output_type": "stream",
     "text": [
      "T  : |0|1|2|\n",
      "            \n",
      "q0 : -H-C-C-\n",
      "        | | \n",
      "q1 : ---X-|-\n",
      "          | \n",
      "q2 : -----X-\n",
      "\n",
      "T  : |0|1|2|\n"
     ]
    }
   ],
   "source": [
    "braket_circuit = BraketCircuit().h(0).cnot(0, 1).cnot(0, 2)\n",
    "print(braket_circuit)"
   ]
  },
  {
   "cell_type": "code",
   "execution_count": 3,
   "id": "518fb02f",
   "metadata": {},
   "outputs": [
    {
     "data": {
      "text/html": [
       "<pre style=\"word-wrap: normal;white-space: pre;background: #fff0;line-height: 1.1;font-family: &quot;Courier New&quot;,Courier,monospace\">     ┌───┐          \n",
       "q_0: ┤ H ├──■────■──\n",
       "     └───┘┌─┴─┐  │  \n",
       "q_1: ─────┤ X ├──┼──\n",
       "          └───┘┌─┴─┐\n",
       "q_2: ──────────┤ X ├\n",
       "               └───┘</pre>"
      ],
      "text/plain": [
       "     ┌───┐          \n",
       "q_0: ┤ H ├──■────■──\n",
       "     └───┘┌─┴─┐  │  \n",
       "q_1: ─────┤ X ├──┼──\n",
       "          └───┘┌─┴─┐\n",
       "q_2: ──────────┤ X ├\n",
       "               └───┘"
      ]
     },
     "execution_count": 3,
     "metadata": {},
     "output_type": "execute_result"
    }
   ],
   "source": [
    "qiskit_circuit = QiskitCircuit(3)\n",
    "qiskit_circuit.h(0)\n",
    "qiskit_circuit.cx(0, 1)\n",
    "qiskit_circuit.cx(0, 2)\n",
    "qiskit_circuit.draw()"
   ]
  },
  {
   "cell_type": "code",
   "execution_count": 4,
   "id": "91b62649",
   "metadata": {},
   "outputs": [
    {
     "name": "stdout",
     "output_type": "stream",
     "text": [
      "Software Vendor    Device Provider    Device Name\n",
      "-----------------  -----------------  -----------------------------\n",
      "AWS                AWS                simulator_statevector\n",
      "AWS                AWS                simulator_densitymatrix\n",
      "AWS                AWS                simulator_tensornetwork\n",
      "AWS                AWS                local_simulator_densitymatrix\n",
      "AWS                AWS                local_simulator_statevector\n",
      "AWS                D-Wave             DW_2000Q_6\n",
      "AWS                D-Wave             Advantage_system1\n",
      "AWS                IonQ               ionQdevice\n",
      "AWS                Rigetti            Aspen-9\n",
      "IBM                IBMQ               armonk\n",
      "IBM                IBMQ               belem\n",
      "IBM                IBMQ               bogota\n",
      "IBM                IBMQ               lima\n",
      "IBM                IBMQ               manila\n",
      "IBM                IBMQ               quito\n",
      "IBM                IBMQ               santiago\n",
      "IBM                IBMQ               yorktown\n",
      "IBM                IBMQ               simulator_stabilizer\n",
      "IBM                IBMQ               simulator_stabilizer_ext\n",
      "IBM                IBMQ               simulator_mps\n",
      "IBM                IBMQ               simulator_qasm\n",
      "IBM                IBMQ               simulator_statevector\n"
     ]
    }
   ],
   "source": [
    "qbraid.get_devices(creds=True)"
   ]
  },
  {
   "cell_type": "code",
   "execution_count": 8,
   "id": "65bf6543",
   "metadata": {},
   "outputs": [],
   "source": [
    "device_wrapper = qbraid.device_wrapper(\"Aspen-9\", \"Rigetti\", \"AWS\")"
   ]
  },
  {
   "cell_type": "code",
   "execution_count": 9,
   "id": "db165522",
   "metadata": {},
   "outputs": [],
   "source": [
    "job = device_wrapper.run(qiskit_circuit, shots=10)"
   ]
  },
  {
   "cell_type": "code",
   "execution_count": null,
   "id": "0914fb15",
   "metadata": {},
   "outputs": [],
   "source": [
    "job.cancel()"
   ]
  },
  {
   "cell_type": "code",
   "execution_count": null,
   "id": "e39ede25",
   "metadata": {},
   "outputs": [],
   "source": []
  }
 ],
 "metadata": {
  "kernelspec": {
   "display_name": "Python 3",
   "language": "python",
   "name": "python3"
  },
  "language_info": {
   "codemirror_mode": {
    "name": "ipython",
    "version": 3
   },
   "file_extension": ".py",
   "mimetype": "text/x-python",
   "name": "python",
   "nbconvert_exporter": "python",
   "pygments_lexer": "ipython3",
   "version": "3.9.5"
  }
 },
 "nbformat": 4,
 "nbformat_minor": 5
}
