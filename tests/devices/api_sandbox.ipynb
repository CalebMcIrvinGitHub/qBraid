{
 "cells": [
  {
   "cell_type": "code",
   "execution_count": 1,
   "id": "a784876a",
   "metadata": {},
   "outputs": [],
   "source": [
    "import qbraid"
   ]
  },
  {
   "cell_type": "code",
   "execution_count": 15,
   "id": "c48bbca3",
   "metadata": {},
   "outputs": [
    {
     "data": {
      "text/html": [
       "<h3>Supported Devices</h3><table><tr>\n",
       "    <th style='text-align:left'>Provider</th>\n",
       "    <th style='text-align:left'>Name</th>\n",
       "    <th style='text-align:left'>qBraid ID</th></tr>\n",
       "    <tr>\n",
       "        <td style='text-align:left'>AWS</td>\n",
       "        <td style='text-align:left'>Braket Default Simulator</td>\n",
       "        <td style='text-align:left'><code>aws_braket_default_sim</code></td></tr>\n",
       "        <tr>\n",
       "        <td style='text-align:left'>AWS</td>\n",
       "        <td style='text-align:left'>Density Matrix Simulator</td>\n",
       "        <td style='text-align:left'><code>aws_dm_sim</code></td></tr>\n",
       "        <tr>\n",
       "        <td style='text-align:left'>AWS</td>\n",
       "        <td style='text-align:left'>State Vector Simulator</td>\n",
       "        <td style='text-align:left'><code>aws_sv_sim</code></td></tr>\n",
       "        <tr>\n",
       "        <td style='text-align:left'>AWS</td>\n",
       "        <td style='text-align:left'>Tensor Network Simulator</td>\n",
       "        <td style='text-align:left'><code>aws_tn_sim</code></td></tr>\n",
       "        <tr>\n",
       "        <td style='text-align:left'>Google</td>\n",
       "        <td style='text-align:left'>Cirq Density Matrix Simulator</td>\n",
       "        <td style='text-align:left'><code>google_cirq_dm_sim</code></td></tr>\n",
       "        <tr>\n",
       "        <td style='text-align:left'>Google</td>\n",
       "        <td style='text-align:left'>Cirq Sparse Simulator</td>\n",
       "        <td style='text-align:left'><code>google_cirq_sparse_sim</code></td></tr>\n",
       "        <tr>\n",
       "        <td style='text-align:left'>IBM</td>\n",
       "        <td style='text-align:left'>Aer Default Simulator</td>\n",
       "        <td style='text-align:left'><code>ibm_aer_default_sim</code></td></tr>\n",
       "        <tr>\n",
       "        <td style='text-align:left'>IBM</td>\n",
       "        <td style='text-align:left'>Aer Pulse Simulator</td>\n",
       "        <td style='text-align:left'><code>ibm_aer_pulse_sim</code></td></tr>\n",
       "        <tr>\n",
       "        <td style='text-align:left'>IBM</td>\n",
       "        <td style='text-align:left'>Aer QASM Simulator</td>\n",
       "        <td style='text-align:left'><code>ibm_aer_qasm_sim</code></td></tr>\n",
       "        <tr>\n",
       "        <td style='text-align:left'>IBM</td>\n",
       "        <td style='text-align:left'>Aer State Vector Simulator</td>\n",
       "        <td style='text-align:left'><code>ibm_aer_sv_sim</code></td></tr>\n",
       "        <tr>\n",
       "        <td style='text-align:left'>IBM</td>\n",
       "        <td style='text-align:left'>Aer Unitary Simulator</td>\n",
       "        <td style='text-align:left'><code>ibm_aer_unitary_sim</code></td></tr>\n",
       "        <tr>\n",
       "        <td style='text-align:left'>IBM</td>\n",
       "        <td style='text-align:left'>BasicAer QASM Simulator</td>\n",
       "        <td style='text-align:left'><code>ibm_basicaer_qasm_sim</code></td></tr>\n",
       "        <tr>\n",
       "        <td style='text-align:left'>IBM</td>\n",
       "        <td style='text-align:left'>BasicAer State Vector Simulator</td>\n",
       "        <td style='text-align:left'><code>ibm_basicaer_sv_sim</code></td></tr>\n",
       "        <tr>\n",
       "        <td style='text-align:left'>IBM</td>\n",
       "        <td style='text-align:left'>BasicAer Unitary Vector Simulator</td>\n",
       "        <td style='text-align:left'><code>ibm_basicaer_unitary_sim</code></td></tr>\n",
       "        <tr>\n",
       "        <td style='text-align:left'>IBM</td>\n",
       "        <td style='text-align:left'>IBMQ Extended Stabilizer Simulator</td>\n",
       "        <td style='text-align:left'><code>ibm_q_ext_stabilizer_sim</code></td></tr>\n",
       "        <tr>\n",
       "        <td style='text-align:left'>IBM</td>\n",
       "        <td style='text-align:left'>IBMQ Matrix Product State Simulator</td>\n",
       "        <td style='text-align:left'><code>ibm_q_mps_sim</code></td></tr>\n",
       "        <tr>\n",
       "        <td style='text-align:left'>IBM</td>\n",
       "        <td style='text-align:left'>IBMQ QASM Simulator</td>\n",
       "        <td style='text-align:left'><code>ibm_q_qasm_sim</code></td></tr>\n",
       "        <tr>\n",
       "        <td style='text-align:left'>IBM</td>\n",
       "        <td style='text-align:left'>IBMQ Stabilizer Simulator</td>\n",
       "        <td style='text-align:left'><code>ibm_q_stabilizer_sim</code></td></tr>\n",
       "        <tr>\n",
       "        <td style='text-align:left'>IBM</td>\n",
       "        <td style='text-align:left'>IBMQ State Vector Simulator</td>\n",
       "        <td style='text-align:left'><code>ibm_q_sv_sim</code></td></tr>\n",
       "        </table>"
      ],
      "text/plain": [
       "<IPython.core.display.HTML object>"
      ]
     },
     "metadata": {},
     "output_type": "display_data"
    }
   ],
   "source": [
    "qbraid.get_devices({\"type\": \"Simulator\"})"
   ]
  },
  {
   "cell_type": "code",
   "execution_count": 3,
   "id": "032d397b",
   "metadata": {},
   "outputs": [],
   "source": [
    "from qiskit import QuantumCircuit as QiskitCircuit\n",
    "import numpy as np"
   ]
  },
  {
   "cell_type": "code",
   "execution_count": 4,
   "id": "4e0a41c3",
   "metadata": {},
   "outputs": [],
   "source": [
    "def qiskit_circuit():\n",
    "    circuit = QiskitCircuit(2)\n",
    "    circuit.h([0, 1])\n",
    "    circuit.cx(0, 1)\n",
    "    return circuit"
   ]
  },
  {
   "cell_type": "code",
   "execution_count": 5,
   "id": "f815b73d",
   "metadata": {},
   "outputs": [],
   "source": [
    "circuit = qiskit_circuit()"
   ]
  },
  {
   "cell_type": "code",
   "execution_count": 6,
   "id": "23be1832",
   "metadata": {},
   "outputs": [],
   "source": [
    "qbraid_circuit = qbraid.circuit_wrapper(circuit)"
   ]
  },
  {
   "cell_type": "code",
   "execution_count": 7,
   "id": "952359a1",
   "metadata": {},
   "outputs": [],
   "source": [
    "qbraid_device = qbraid.device_wrapper(\"ibm_q_armonk\")"
   ]
  },
  {
   "cell_type": "code",
   "execution_count": 11,
   "id": "b96b5642",
   "metadata": {},
   "outputs": [
    {
     "data": {
      "text/plain": [
       "{'qbraid_id': 'ibm_q_armonk',\n",
       " 'name': 'IBMQ Armonk',\n",
       " 'provider': 'IBM',\n",
       " 'paradigm': 'gate-based',\n",
       " 'type': 'QPU',\n",
       " 'type_qubits': 'superconducting',\n",
       " 'date_deployed': '2019',\n",
       " 'location': 'Armonk, NY, USA',\n",
       " 'qubits': 1,\n",
       " 'topology': 'Single qubit',\n",
       " 'vendor': 'IBM',\n",
       " 'run_package': 'qiskit'}"
      ]
     },
     "execution_count": 11,
     "metadata": {},
     "output_type": "execute_result"
    }
   ],
   "source": [
    "qbraid_device.info"
   ]
  },
  {
   "cell_type": "code",
   "execution_count": 13,
   "id": "80674a5a",
   "metadata": {},
   "outputs": [],
   "source": [
    "qbraid_device._info[\"qubits\"] = 0 "
   ]
  },
  {
   "cell_type": "code",
   "execution_count": 14,
   "id": "ea4e29a6",
   "metadata": {},
   "outputs": [
    {
     "data": {
      "text/plain": [
       "{'qbraid_id': 'ibm_q_armonk',\n",
       " 'name': 'IBMQ Armonk',\n",
       " 'provider': 'IBM',\n",
       " 'paradigm': 'gate-based',\n",
       " 'type': 'QPU',\n",
       " 'type_qubits': 'superconducting',\n",
       " 'date_deployed': '2019',\n",
       " 'location': 'Armonk, NY, USA',\n",
       " 'qubits': 0,\n",
       " 'topology': 'Single qubit',\n",
       " 'vendor': 'IBM',\n",
       " 'run_package': 'qiskit'}"
      ]
     },
     "execution_count": 14,
     "metadata": {},
     "output_type": "execute_result"
    }
   ],
   "source": [
    "qbraid_device.info"
   ]
  },
  {
   "cell_type": "code",
   "execution_count": null,
   "id": "a14a1dbf",
   "metadata": {},
   "outputs": [],
   "source": []
  },
  {
   "cell_type": "code",
   "execution_count": null,
   "id": "56fb581a",
   "metadata": {},
   "outputs": [],
   "source": [
    "import cirq\n",
    "import numpy as np\n",
    "from braket.circuits import Circuit as BraketCircuit\n",
    "from qiskit import QuantumCircuit as QiskitCircuit\n",
    "import networkx as nx\n",
    "import dwave_networkx as dnx"
   ]
  },
  {
   "cell_type": "code",
   "execution_count": null,
   "id": "3b053502",
   "metadata": {},
   "outputs": [],
   "source": [
    "def braket_circuit():\n",
    "    circuit = BraketCircuit()\n",
    "    circuit.h(0)\n",
    "    circuit.ry(0, np.pi / 2)\n",
    "    return circuit"
   ]
  },
  {
   "cell_type": "code",
   "execution_count": null,
   "id": "518fb02f",
   "metadata": {},
   "outputs": [],
   "source": [
    "def cirq_circuit(meas=True):\n",
    "    q0 = cirq.GridQubit(0, 0)\n",
    "    def test_circuit():\n",
    "        yield cirq.H(q0)\n",
    "        yield cirq.Ry(rads=np.pi / 2)(q0)\n",
    "        if meas:\n",
    "            yield cirq.measure(q0, key='q0')\n",
    "    circuit = cirq.Circuit()\n",
    "    circuit.append(test_circuit())\n",
    "    return circuit"
   ]
  },
  {
   "cell_type": "code",
   "execution_count": null,
   "id": "91b62649",
   "metadata": {},
   "outputs": [],
   "source": [
    "def qiskit_circuit(meas=True):\n",
    "    circuit = QiskitCircuit(1, 1) if meas else QiskitCircuit(1)\n",
    "    circuit.h(0)\n",
    "    circuit.ry(np.pi / 2, 0)\n",
    "    if meas:\n",
    "        circuit.measure(0, 0)\n",
    "    return circuit"
   ]
  },
  {
   "cell_type": "code",
   "execution_count": null,
   "id": "e39ede25",
   "metadata": {},
   "outputs": [],
   "source": [
    "n = 5\n",
    "m = 10\n",
    "graph = nx.gnm_random_graph(n, m, seed=42)"
   ]
  },
  {
   "cell_type": "code",
   "execution_count": null,
   "id": "7852bcea",
   "metadata": {},
   "outputs": [],
   "source": [
    "# result = dnx.min_vertex_cover(graph, dwave_sampler, answer_mode=\"histogram\")\n",
    "# print('Result to MVC problem:', result)\n",
    "# print('Size of the vertex cover:', len(result))"
   ]
  },
  {
   "cell_type": "code",
   "execution_count": null,
   "id": "a175d057",
   "metadata": {},
   "outputs": [],
   "source": []
  }
 ],
 "metadata": {
  "kernelspec": {
   "display_name": "Python 3",
   "language": "python",
   "name": "python3"
  },
  "language_info": {
   "codemirror_mode": {
    "name": "ipython",
    "version": 3
   },
   "file_extension": ".py",
   "mimetype": "text/x-python",
   "name": "python",
   "nbconvert_exporter": "python",
   "pygments_lexer": "ipython3",
   "version": "3.9.6"
  }
 },
 "nbformat": 4,
 "nbformat_minor": 5
}
