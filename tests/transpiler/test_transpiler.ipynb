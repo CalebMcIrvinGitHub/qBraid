{
 "cells": [
  {
   "cell_type": "code",
   "execution_count": 1,
   "id": "394b28ef",
   "metadata": {},
   "outputs": [],
   "source": [
    "import qiskit\n",
    "import cirq\n",
    "import braket\n",
    "import numpy as np\n",
    "from typing import List\n",
    "from cirq import Circuit as CirqCircuit\n",
    "from qiskit import QuantumCircuit as QiskitCircuit\n",
    "from qiskit.quantum_info import Operator as QiskitOperator\n",
    "from braket.circuits import Circuit as BraketCircuit\n",
    "from braket.circuits.unitary_calculation import calculate_unitary\n",
    "from qbraid import circuit_wrapper"
   ]
  },
  {
   "cell_type": "markdown",
   "id": "45591e07",
   "metadata": {},
   "source": [
    "### Shared gate circuit functions and unitary helper function"
   ]
  },
  {
   "cell_type": "code",
   "execution_count": 2,
   "id": "01b55893",
   "metadata": {},
   "outputs": [],
   "source": [
    "def qiskit_shared_gates_circuit():\n",
    "    \"\"\"Returns qiskit `QuantumCircuit` for qBraid `TestSharedGates`.\"\"\"\n",
    "    \n",
    "    qiskit_circuit = QiskitCircuit(4)\n",
    "\n",
    "    qiskit_circuit.h([0, 1, 2, 3])\n",
    "    qiskit_circuit.x([0, 1])\n",
    "    qiskit_circuit.y(2)\n",
    "    qiskit_circuit.z(3)\n",
    "    qiskit_circuit.s(0)\n",
    "    qiskit_circuit.sdg(1)\n",
    "    qiskit_circuit.t(2)\n",
    "    qiskit_circuit.tdg(3)\n",
    "    qiskit_circuit.rx(np.pi/4, 0)\n",
    "    qiskit_circuit.ry(np.pi/2, 1)\n",
    "    qiskit_circuit.rz(3*np.pi/4, 2)\n",
    "    qiskit_circuit.p(np.pi/8, 3)\n",
    "    qiskit_circuit.sx(0)\n",
    "    qiskit_circuit.sxdg(1)\n",
    "    qiskit_circuit.iswap(2, 3)\n",
    "    qiskit_circuit.swap([0, 1], [2, 3])\n",
    "    qiskit_circuit.cx(0, 1)\n",
    "    qiskit_circuit.cp(np.pi/4, 2, 3)\n",
    "\n",
    "    return qiskit_circuit"
   ]
  },
  {
   "cell_type": "code",
   "execution_count": 3,
   "id": "33e42a8a",
   "metadata": {},
   "outputs": [],
   "source": [
    "def cirq_shared_gates_circuit(rev_qubits=False):\n",
    "    \"\"\"Returns cirq `Circuit` for qBraid `TestSharedGates` \n",
    "    rev_qubits=True reverses ordering of qubits.\"\"\"\n",
    "    \n",
    "    cirq_circuit = CirqCircuit()\n",
    "    qubits = [cirq.LineQubit(i) for i in range(4)]\n",
    "    q3, q2, q1, q0 = qubits if rev_qubits else list(reversed(qubits))\n",
    "    input_qubit_mapping = {q3:0,q2:1,q1:2,q0:3} if rev_qubits else {q0:0,q1:1,q2:2,q3:3}\n",
    "        \n",
    "    cirq_gates = [\n",
    "        cirq.H(q0),\n",
    "        cirq.H(q1),\n",
    "        cirq.H(q2),\n",
    "        cirq.H(q3),\n",
    "        cirq.X(q0),\n",
    "        cirq.X(q1),\n",
    "        cirq.Y(q2),\n",
    "        cirq.Z(q3),\n",
    "        cirq.S(q0),\n",
    "        cirq.ZPowGate(exponent=-0.5)(q1),\n",
    "        cirq.T(q2),\n",
    "        cirq.ZPowGate(exponent=-0.25)(q3),\n",
    "        cirq.Rx(rads=np.pi/4)(q0),\n",
    "        cirq.Ry(rads=np.pi/2)(q1),\n",
    "        cirq.Rz(rads=3*np.pi/4)(q2),\n",
    "        cirq.ZPowGate(exponent=1/8)(q3),\n",
    "        cirq.XPowGate(exponent=0.5)(q0),\n",
    "        cirq.XPowGate(exponent=-0.5)(q1),\n",
    "        cirq.ISWAP(q2, q3),\n",
    "        cirq.SWAP(q0, q2),\n",
    "        cirq.SWAP(q1, q3),\n",
    "        cirq.CNOT(q0, q1),\n",
    "        cirq.CZPowGate(exponent=0.25)(q2, q3),\n",
    "    ]\n",
    "    \n",
    "    for gate in cirq_gates:\n",
    "        cirq_circuit.append(gate)\n",
    "    \n",
    "    return cirq_circuit, input_qubit_mapping"
   ]
  },
  {
   "cell_type": "code",
   "execution_count": 4,
   "id": "6649fcae",
   "metadata": {},
   "outputs": [],
   "source": [
    "def braket_shared_gates_circuit():\n",
    "    \"\"\"Returns braket `Circuit` for qBraid `TestSharedGates`.\"\"\"\n",
    "    \n",
    "    braket_circuit = BraketCircuit()\n",
    "\n",
    "    braket_circuit.h([0, 1, 2, 3])\n",
    "    braket_circuit.x([0, 1])\n",
    "    braket_circuit.y(2)\n",
    "    braket_circuit.z(3)\n",
    "    braket_circuit.s(0)\n",
    "    braket_circuit.si(1)\n",
    "    braket_circuit.t(2)\n",
    "    braket_circuit.ti(3)\n",
    "    braket_circuit.rx(0, np.pi / 4)\n",
    "    braket_circuit.ry(1, np.pi / 2)\n",
    "    braket_circuit.rz(2, 3 * np.pi / 4)\n",
    "    braket_circuit.phaseshift(3, np.pi / 8)\n",
    "    braket_circuit.v(0)\n",
    "    braket_circuit.vi(1)\n",
    "    braket_circuit.iswap(2, 3)\n",
    "    braket_circuit.swap(0, 2)\n",
    "    braket_circuit.swap(1, 3)\n",
    "    braket_circuit.cnot(0, 1)\n",
    "    braket_circuit.cphaseshift(2, 3, np.pi / 4)\n",
    "    \n",
    "    return braket_circuit"
   ]
  },
  {
   "cell_type": "code",
   "execution_count": 5,
   "id": "a238a28e",
   "metadata": {},
   "outputs": [],
   "source": [
    "def to_unitary(circuit):\n",
    "    \"\"\"Calculate unitary of a braket, cirq, or qiskit circuit.\n",
    "    Args:\n",
    "        circuit (braket, cirq, or qiskit Circuit): The circuit object for which \n",
    "            the unitary matrix will be calculated. \n",
    "    Returns:\n",
    "        numpy.ndarray: A numpy array representing the `circuit` as a unitary\n",
    "    \"\"\"\n",
    "    if isinstance(circuit, BraketCircuit):\n",
    "        return calculate_unitary(circuit.qubit_count, circuit.instructions)\n",
    "    elif isinstance(circuit, CirqCircuit):\n",
    "        return circuit.unitary()\n",
    "    elif isinstance(circuit, QiskitCircuit):\n",
    "        return QiskitOperator(circuit).data\n",
    "    else:\n",
    "        raise TypeError(f\"to_unitary calculation not supported for type {type(circuit)}\")"
   ]
  },
  {
   "cell_type": "markdown",
   "id": "ec6c99a2",
   "metadata": {},
   "source": [
    "### Define circuits and unitaries"
   ]
  },
  {
   "cell_type": "code",
   "execution_count": 6,
   "id": "84014ccc",
   "metadata": {},
   "outputs": [],
   "source": [
    "braket_circuit = braket_shared_gates_circuit()\n",
    "cirq_circuit, cirq_input_qubit_mapping = cirq_shared_gates_circuit()\n",
    "cirq_rev_circuit, _ = cirq_shared_gates_circuit(rev_qubits=True)\n",
    "qiskit_circuit = qiskit_shared_gates_circuit()"
   ]
  },
  {
   "cell_type": "code",
   "execution_count": 7,
   "id": "6ed4f51c",
   "metadata": {},
   "outputs": [],
   "source": [
    "braket_unitary = to_unitary(braket_circuit)\n",
    "cirq_unitary = to_unitary(cirq_circuit)\n",
    "cirq_rev_unitary = to_unitary(cirq_rev_circuit)\n",
    "qiskit_unitary = to_unitary(qiskit_circuit)"
   ]
  },
  {
   "cell_type": "code",
   "execution_count": 8,
   "id": "56f1cef6",
   "metadata": {},
   "outputs": [],
   "source": [
    "qbraid_circuit_braket = circuit_wrapper(braket_circuit)\n",
    "qbraid_circuit_cirq = circuit_wrapper(cirq_circuit, input_qubit_mapping = cirq_input_qubit_mapping)\n",
    "qbraid_circuit_qiskit = circuit_wrapper(qiskit_circuit)"
   ]
  },
  {
   "cell_type": "code",
   "execution_count": 9,
   "id": "c5f6296c",
   "metadata": {},
   "outputs": [],
   "source": [
    "def test_transpile(qbraid_circuit, target_package, target_unitary, print_circuit=False):\n",
    "    transpiled_circuit = qbraid_circuit.transpile(target_package)\n",
    "    if print_circuit:\n",
    "        print(\"transpiled circuit\\n\", transpiled_circuit)\n",
    "    transpiled_unitary = to_unitary(transpiled_circuit)\n",
    "    return np.allclose(transpiled_unitary, target_unitary)"
   ]
  },
  {
   "cell_type": "code",
   "execution_count": 10,
   "id": "1fd0f55a",
   "metadata": {},
   "outputs": [
    {
     "name": "stdout",
     "output_type": "stream",
     "text": [
      "all starting unitaries equal\n"
     ]
    },
    {
     "data": {
      "text/plain": [
       "True"
      ]
     },
     "execution_count": 10,
     "metadata": {},
     "output_type": "execute_result"
    }
   ],
   "source": [
    "cirq_qiskit_equal = np.allclose(cirq_rev_unitary, qiskit_unitary)\n",
    "cirq_braket_equal = np.allclose(cirq_rev_unitary, braket_unitary)\n",
    "qiskit_braket_equal = np.allclose(qiskit_unitary, braket_unitary)\n",
    "\n",
    "print(\"all starting unitaries equal\")\n",
    "cirq_qiskit_equal and cirq_braket_equal and qiskit_braket_equal"
   ]
  },
  {
   "cell_type": "code",
   "execution_count": 11,
   "id": "30fe88cf",
   "metadata": {},
   "outputs": [
    {
     "name": "stdout",
     "output_type": "stream",
     "text": [
      "braket to cirq\n"
     ]
    },
    {
     "data": {
      "text/plain": [
       "True"
      ]
     },
     "execution_count": 11,
     "metadata": {},
     "output_type": "execute_result"
    }
   ],
   "source": [
    "print(\"braket to cirq\")\n",
    "# print(\"original circuit\\n\", braket_circuit, \"\\n\")\n",
    "# print(\"target circuit\\n\", cirq_circuit, \"\\n\")\n",
    "test_transpile(qbraid_circuit_braket, \"cirq\", cirq_unitary)"
   ]
  },
  {
   "cell_type": "code",
   "execution_count": 12,
   "id": "639a8904",
   "metadata": {},
   "outputs": [
    {
     "name": "stdout",
     "output_type": "stream",
     "text": [
      "braket to qiskit\n"
     ]
    },
    {
     "data": {
      "text/plain": [
       "True"
      ]
     },
     "execution_count": 12,
     "metadata": {},
     "output_type": "execute_result"
    }
   ],
   "source": [
    "print(\"braket to qiskit\")\n",
    "# print(\"original circuit\\n\", braket_circuit, \"\\n\")\n",
    "# print(\"target circuit\\n\", qiskit_circuit, \"\\n\")\n",
    "test_transpile(qbraid_circuit_braket, \"qiskit\", qiskit_unitary)"
   ]
  },
  {
   "cell_type": "code",
   "execution_count": 13,
   "id": "ca9af259",
   "metadata": {},
   "outputs": [
    {
     "name": "stdout",
     "output_type": "stream",
     "text": [
      "qiskit to braket\n"
     ]
    },
    {
     "data": {
      "text/plain": [
       "True"
      ]
     },
     "execution_count": 13,
     "metadata": {},
     "output_type": "execute_result"
    }
   ],
   "source": [
    "print(\"qiskit to braket\")\n",
    "# print(\"original circuit\\n\", qiskit_circuit, \"\\n\")\n",
    "# print(\"target circuit\\n\", braket_circuit, \"\\n\")\n",
    "test_transpile(qbraid_circuit_qiskit, \"braket\", braket_unitary)"
   ]
  },
  {
   "cell_type": "code",
   "execution_count": 14,
   "id": "08be8fd2",
   "metadata": {},
   "outputs": [
    {
     "name": "stdout",
     "output_type": "stream",
     "text": [
      "qiskit to cirq\n"
     ]
    },
    {
     "data": {
      "text/plain": [
       "True"
      ]
     },
     "execution_count": 14,
     "metadata": {},
     "output_type": "execute_result"
    }
   ],
   "source": [
    "print(\"qiskit to cirq\")\n",
    "# print(\"original circuit\\n\", qiskit_circuit, \"\\n\")\n",
    "# print(\"target circuit\\n\", cirq_circuit, \"\\n\")\n",
    "test_transpile(qbraid_circuit_qiskit, \"cirq\", cirq_unitary)"
   ]
  },
  {
   "cell_type": "code",
   "execution_count": 15,
   "id": "1c353a64",
   "metadata": {},
   "outputs": [
    {
     "name": "stdout",
     "output_type": "stream",
     "text": [
      "cirq to braket\n"
     ]
    },
    {
     "data": {
      "text/plain": [
       "True"
      ]
     },
     "execution_count": 15,
     "metadata": {},
     "output_type": "execute_result"
    }
   ],
   "source": [
    "print(\"cirq to braket\")\n",
    "# print(\"original circuit\\n\", cirq_circuit, \"\\n\")\n",
    "# print(\"target circuit\\n\", braket_circuit, \"\\n\")\n",
    "test_transpile(qbraid_circuit_cirq, \"braket\", braket_unitary)"
   ]
  },
  {
   "cell_type": "code",
   "execution_count": 16,
   "id": "96b3264a",
   "metadata": {},
   "outputs": [
    {
     "name": "stdout",
     "output_type": "stream",
     "text": [
      "cirq to qiskit\n"
     ]
    },
    {
     "data": {
      "text/plain": [
       "True"
      ]
     },
     "execution_count": 16,
     "metadata": {},
     "output_type": "execute_result"
    }
   ],
   "source": [
    "print(\"cirq to qiskit\")\n",
    "# print(\"original circuit\\n\", cirq_circuit, \"\\n\")\n",
    "# print(\"target circuit\\n\", qiskit_circuit, \"\\n\")\n",
    "test_transpile(qbraid_circuit_cirq, \"qiskit\", qiskit_unitary)"
   ]
  }
 ],
 "metadata": {
  "kernelspec": {
   "display_name": "Python 3",
   "language": "python",
   "name": "python3"
  },
  "language_info": {
   "codemirror_mode": {
    "name": "ipython",
    "version": 3
   },
   "file_extension": ".py",
   "mimetype": "text/x-python",
   "name": "python",
   "nbconvert_exporter": "python",
   "pygments_lexer": "ipython3",
   "version": "3.9.5"
  }
 },
 "nbformat": 4,
 "nbformat_minor": 5
}
