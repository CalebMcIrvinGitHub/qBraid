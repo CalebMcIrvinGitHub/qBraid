{
 "cells": [
  {
   "cell_type": "code",
   "execution_count": 1,
   "id": "394b28ef",
   "metadata": {},
   "outputs": [],
   "source": [
    "import qiskit\n",
    "from qiskit import QuantumCircuit as QiskitCircuit\n",
    "from qiskit.quantum_info import Operator as QiskitOperator\n",
    "import cirq\n",
    "from cirq import Circuit as CirqCircuit\n",
    "import braket\n",
    "from braket.circuits import Circuit as BraketCircuit\n",
    "from braket.circuits.gate import Gate as BraketGate\n",
    "from braket.circuits.instruction import Instruction as BraketInstruction\n",
    "from braket.circuits.unitary_calculation import calculate_unitary\n",
    "from qbraid.transpiler.transpiler import qbraid_wrapper\n",
    "from qbraid.transpiler2.transpiler import qbraid_wrapper as qbraid_wrapper2\n",
    "import numpy as np\n",
    "from typing import List"
   ]
  },
  {
   "cell_type": "markdown",
   "id": "45591e07",
   "metadata": {},
   "source": [
    "### Shared gate circuit functions and unitary helper function"
   ]
  },
  {
   "cell_type": "code",
   "execution_count": 2,
   "id": "01b55893",
   "metadata": {},
   "outputs": [],
   "source": [
    "def qiskit_shared_gates_circuit():\n",
    "    \"\"\"Returns qiskit `QuantumCircuit` for qBraid `TestSharedGates`.\"\"\"\n",
    "    \n",
    "    qiskit_circuit = QiskitCircuit(4)\n",
    "\n",
    "    qiskit_circuit.h([0, 1, 2, 3])\n",
    "    qiskit_circuit.x([0, 1])\n",
    "    qiskit_circuit.y(2)\n",
    "    qiskit_circuit.z(3)\n",
    "    qiskit_circuit.s(0)\n",
    "    qiskit_circuit.sdg(1)\n",
    "    qiskit_circuit.t(2)\n",
    "    qiskit_circuit.tdg(3)\n",
    "    qiskit_circuit.rx(np.pi/4, 0)\n",
    "    qiskit_circuit.ry(np.pi/2, 1)\n",
    "    qiskit_circuit.rz(3*np.pi/4, 2)\n",
    "    qiskit_circuit.p(np.pi/8, 3)\n",
    "    qiskit_circuit.sx(0)\n",
    "    qiskit_circuit.sxdg(1)\n",
    "    qiskit_circuit.iswap(2, 3)\n",
    "    qiskit_circuit.swap([0, 1], [2, 3])\n",
    "    qiskit_circuit.cx(0, 1)\n",
    "    qiskit_circuit.cp(np.pi/4, 2, 3)\n",
    "\n",
    "    return qiskit_circuit"
   ]
  },
  {
   "cell_type": "code",
   "execution_count": 3,
   "id": "33e42a8a",
   "metadata": {},
   "outputs": [],
   "source": [
    "def cirq_shared_gates_circuit(rev_qubits=False):\n",
    "    \"\"\"Returns cirq `Circuit` for qBraid `TestSharedGates` \n",
    "    rev_qubits=True reverses ordering of qubits.\"\"\"\n",
    "    \n",
    "    cirq_circuit = CirqCircuit()\n",
    "    qubits = [cirq.LineQubit(i) for i in range(4)]\n",
    "    q3, q2, q1, q0 = qubits if rev_qubits else list(reversed(qubits))\n",
    "        \n",
    "    cirq_gates = [\n",
    "        cirq.H(q0),\n",
    "        cirq.H(q1),\n",
    "        cirq.H(q2),\n",
    "        cirq.H(q3),\n",
    "        cirq.X(q0),\n",
    "        cirq.X(q1),\n",
    "        cirq.Y(q2),\n",
    "        cirq.Z(q3),\n",
    "        cirq.S(q0),\n",
    "        cirq.ZPowGate(exponent=-0.5)(q1),\n",
    "        cirq.T(q2),\n",
    "        cirq.ZPowGate(exponent=-0.25)(q3),\n",
    "        cirq.Rx(rads=np.pi / 4)(q0),\n",
    "        cirq.Ry(rads=np.pi / 2)(q1),\n",
    "        cirq.Rz(rads=3 * np.pi / 4)(q2),\n",
    "        cirq.ZPowGate(exponent=1 / 8)(q3),\n",
    "        cirq.XPowGate(exponent=0.5)(q0),\n",
    "        cirq.XPowGate(exponent=-0.5)(q1),\n",
    "        cirq.ISWAP(q2, q3),\n",
    "        cirq.SWAP(q0, q2),\n",
    "        cirq.SWAP(q1, q3),\n",
    "        cirq.CNOT(q0, q1),\n",
    "        cirq.CZPowGate(exponent=0.25)(q2, q3),\n",
    "    ]\n",
    "    \n",
    "    for gate in cirq_gates:\n",
    "        cirq_circuit.append(gate)\n",
    "    \n",
    "    return cirq_circuit "
   ]
  },
  {
   "cell_type": "code",
   "execution_count": 4,
   "id": "6649fcae",
   "metadata": {},
   "outputs": [],
   "source": [
    "def braket_shared_gates_instructions(get_circuit=False):\n",
    "    \"\"\"Returns braket `List[Instruction]` for qBraid `TestSharedGates`\n",
    "    if get_circuit=True, instead returns braket `Circuit`.\"\"\"\n",
    "\n",
    "    instructions = [\n",
    "        BraketInstruction(BraketGate.H(), 0),\n",
    "        BraketInstruction(BraketGate.H(), 1),\n",
    "        BraketInstruction(BraketGate.H(), 2),\n",
    "        BraketInstruction(BraketGate.H(), 3),\n",
    "        BraketInstruction(BraketGate.X(), 0),\n",
    "        BraketInstruction(BraketGate.X(), 1),\n",
    "        BraketInstruction(BraketGate.Y(), 2),\n",
    "        BraketInstruction(BraketGate.Z(), 3),\n",
    "        BraketInstruction(BraketGate.S(), 0),\n",
    "        BraketInstruction(BraketGate.Si(), 1),\n",
    "        BraketInstruction(BraketGate.T(), 2),\n",
    "        BraketInstruction(BraketGate.Ti(), 3),\n",
    "        BraketInstruction(BraketGate.Rx(np.pi/4), 0),\n",
    "        BraketInstruction(BraketGate.Ry(np.pi/2), 1),\n",
    "        BraketInstruction(BraketGate.Rz(3*np.pi/4), 2),\n",
    "        BraketInstruction(BraketGate.PhaseShift(np.pi/8), 3),\n",
    "        BraketInstruction(BraketGate.V(), 0),\n",
    "        BraketInstruction(BraketGate.Vi(), 1),\n",
    "        BraketInstruction(BraketGate.ISwap(), [2, 3]),\n",
    "        BraketInstruction(BraketGate.Swap(), [0, 2]),\n",
    "        BraketInstruction(BraketGate.Swap(), [1, 3]),\n",
    "        BraketInstruction(BraketGate.CNot(), [0, 1]),\n",
    "        BraketInstruction(BraketGate.CPhaseShift(np.pi/4), [2, 3]),\n",
    "    ]\n",
    "    \n",
    "    if not get_circuit:\n",
    "        return instructions\n",
    "    \n",
    "    braket_circuit = BraketCircuit()\n",
    "\n",
    "    for inst in instructions:\n",
    "        braket_circuit.add_instruction(inst)\n",
    "    \n",
    "    return braket_circuit"
   ]
  },
  {
   "cell_type": "code",
   "execution_count": 5,
   "id": "a238a28e",
   "metadata": {},
   "outputs": [],
   "source": [
    "def to_unitary(circuit, qubit_count=None):\n",
    "    \"\"\"Calculate unitary of braket, cirq, or qiskit circuit.\n",
    "    Args:\n",
    "        circuit (braket Iterable[Instruction] or cirq Circuit or qiskit Circuit): The circuit specification \n",
    "            for which the unitary matrix will be calculated. \n",
    "        qubit_count (int): Number of qubits in circuit, only required for braket calculation.\n",
    "    Returns:\n",
    "        numpy.ndarray: A numpy array representing the `circuit` as a unitary\n",
    "    \"\"\"\n",
    "    if isinstance(circuit, List) and isinstance(circuit[0], BraketInstruction):\n",
    "        if qubit_count is None:\n",
    "            raise ValueError(\"Must specify qubit_count.\")\n",
    "        return calculate_unitary(qubit_count, circuit)\n",
    "    elif isinstance(circuit, CirqCircuit):\n",
    "        return circuit.unitary()\n",
    "    elif isinstance(circuit, QiskitCircuit):\n",
    "        return QiskitOperator(circuit).data\n",
    "    else:\n",
    "        raise TypeError(f\"to_unitary calculation not supported for type {type(circuit)}\")"
   ]
  },
  {
   "cell_type": "markdown",
   "id": "ec6c99a2",
   "metadata": {},
   "source": [
    "### Define circuits and unitaries"
   ]
  },
  {
   "cell_type": "code",
   "execution_count": 6,
   "id": "84014ccc",
   "metadata": {},
   "outputs": [],
   "source": [
    "braket_instructions = braket_shared_gates_instructions()\n",
    "cirq_circuit = cirq_shared_gates_circuit()\n",
    "cirq_rev_circuit = cirq_shared_gates_circuit(rev_qubits=True)\n",
    "qiskit_circuit = qiskit_shared_gates_circuit()"
   ]
  },
  {
   "cell_type": "code",
   "execution_count": 7,
   "id": "6ed4f51c",
   "metadata": {},
   "outputs": [],
   "source": [
    "braket_unitary = to_unitary(braket_instructions, qubit_count=4)\n",
    "cirq_unitary = to_unitary(cirq_circuit)\n",
    "cirq_rev_unitary = to_unitary(cirq_rev_circuit)\n",
    "qiskit_unitary = to_unitary(qiskit_circuit)"
   ]
  },
  {
   "cell_type": "markdown",
   "id": "8d20a0af",
   "metadata": {},
   "source": [
    "### Braket to Cirq"
   ]
  },
  {
   "cell_type": "markdown",
   "id": "631bab18",
   "metadata": {},
   "source": [
    "### Braket to Qiskit"
   ]
  },
  {
   "cell_type": "markdown",
   "id": "48313c68",
   "metadata": {},
   "source": [
    "### Cirq to Qiskit"
   ]
  },
  {
   "cell_type": "markdown",
   "id": "b0afac63",
   "metadata": {},
   "source": [
    "### Cirq to Braket"
   ]
  },
  {
   "cell_type": "markdown",
   "id": "02e3bb11",
   "metadata": {},
   "source": [
    "### Qiskit to Braket"
   ]
  },
  {
   "cell_type": "markdown",
   "id": "ba699cb3",
   "metadata": {},
   "source": [
    "### Qiskit to Cirq"
   ]
  },
  {
   "cell_type": "code",
   "execution_count": null,
   "id": "12e22866",
   "metadata": {},
   "outputs": [],
   "source": []
  }
 ],
 "metadata": {
  "kernelspec": {
   "display_name": "Python 3",
   "language": "python",
   "name": "python3"
  },
  "language_info": {
   "codemirror_mode": {
    "name": "ipython",
    "version": 3
   },
   "file_extension": ".py",
   "mimetype": "text/x-python",
   "name": "python",
   "nbconvert_exporter": "python",
   "pygments_lexer": "ipython3",
   "version": "3.9.5"
  }
 },
 "nbformat": 4,
 "nbformat_minor": 5
}
