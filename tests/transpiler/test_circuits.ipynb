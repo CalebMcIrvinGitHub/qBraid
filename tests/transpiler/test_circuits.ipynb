{
 "cells": [
  {
   "cell_type": "code",
   "execution_count": 3,
   "id": "394b28ef",
   "metadata": {},
   "outputs": [],
   "source": [
    "import braket\n",
    "from braket.circuits.gate import Gate as BraketGate\n",
    "from braket.circuits.instruction import Instruction as BraketInstruction\n",
    "import cirq\n",
    "import qiskit\n",
    "from qiskit.circuit import Parameter\n",
    "import numpy as np\n",
    "from qbraid.transpiler.transpiler import qbraid_wrapper"
   ]
  },
  {
   "cell_type": "code",
   "execution_count": 324,
   "id": "01b55893",
   "metadata": {},
   "outputs": [
    {
     "data": {
      "text/html": [
       "<pre style=\"word-wrap: normal;white-space: pre;background: #fff0;line-height: 1.1;font-family: &quot;Courier New&quot;,Courier,monospace\">     ┌───┐┌───┐ ┌───┐ ┌─────────┐   ┌────┐                 \n",
       "q_0: ┤ H ├┤ X ├─┤ S ├─┤ RX(π/4) ├───┤ √X ├───X────────■────\n",
       "     ├───┤├───┤┌┴───┴┐├─────────┤  ┌┴────┴┐  │      ┌─┴─┐  \n",
       "q_1: ┤ H ├┤ X ├┤ SDG ├┤ RY(π/2) ├──┤ √XDG ├──┼──X───┤ X ├──\n",
       "     ├───┤├───┤└┬───┬┘├─────────┴┐┌┴──────┴┐ │  │   └───┘  \n",
       "q_2: ┤ H ├┤ Y ├─┤ T ├─┤ RZ(3π/4) ├┤0       ├─X──┼──■───────\n",
       "     ├───┤├───┤┌┴───┴┐└┬────────┬┘│  ISWAP │    │  │P(π/4) \n",
       "q_3: ┤ H ├┤ Z ├┤ TDG ├─┤ P(π/8) ├─┤1       ├────X──■───────\n",
       "     └───┘└───┘└─────┘ └────────┘ └────────┘               </pre>"
      ],
      "text/plain": [
       "     ┌───┐┌───┐ ┌───┐ ┌─────────┐   ┌────┐                 \n",
       "q_0: ┤ H ├┤ X ├─┤ S ├─┤ RX(π/4) ├───┤ √X ├───X────────■────\n",
       "     ├───┤├───┤┌┴───┴┐├─────────┤  ┌┴────┴┐  │      ┌─┴─┐  \n",
       "q_1: ┤ H ├┤ X ├┤ SDG ├┤ RY(π/2) ├──┤ √XDG ├──┼──X───┤ X ├──\n",
       "     ├───┤├───┤└┬───┬┘├─────────┴┐┌┴──────┴┐ │  │   └───┘  \n",
       "q_2: ┤ H ├┤ Y ├─┤ T ├─┤ RZ(3π/4) ├┤0       ├─X──┼──■───────\n",
       "     ├───┤├───┤┌┴───┴┐└┬────────┬┘│  ISWAP │    │  │P(π/4) \n",
       "q_3: ┤ H ├┤ Z ├┤ TDG ├─┤ P(π/8) ├─┤1       ├────X──■───────\n",
       "     └───┘└───┘└─────┘ └────────┘ └────────┘               "
      ]
     },
     "execution_count": 324,
     "metadata": {},
     "output_type": "execute_result"
    }
   ],
   "source": [
    "qiskit_circ = qiskit.QuantumCircuit(4)\n",
    "\n",
    "qiskit_circ.h(0)\n",
    "qiskit_circ.h(1)\n",
    "qiskit_circ.h(2)\n",
    "qiskit_circ.h(3)\n",
    "qiskit_circ.x(0)\n",
    "qiskit_circ.x(1)\n",
    "qiskit_circ.y(2)\n",
    "qiskit_circ.z(3)\n",
    "qiskit_circ.s(0)\n",
    "qiskit_circ.sdg(1)\n",
    "qiskit_circ.t(2)\n",
    "qiskit_circ.tdg(3)\n",
    "qiskit_circ.rx(np.pi/4, 0)\n",
    "qiskit_circ.ry(np.pi/2, 1)\n",
    "qiskit_circ.rz(3*np.pi/4, 2)\n",
    "qiskit_circ.p(np.pi/8, 3)\n",
    "qiskit_circ.sx(0)\n",
    "qiskit_circ.sxdg(1)\n",
    "qiskit_circ.iswap(2, 3)\n",
    "qiskit_circ.swap(0, 2)\n",
    "qiskit_circ.swap(1, 3)\n",
    "qiskit_circ.cx(0, 1)\n",
    "qiskit_circ.cp(np.pi/4, 2, 3)\n",
    "\n",
    "qiskit_circ.draw()"
   ]
  },
  {
   "cell_type": "code",
   "execution_count": 325,
   "id": "c302c0a4",
   "metadata": {},
   "outputs": [
    {
     "name": "stdout",
     "output_type": "stream",
     "text": [
      "                                          ┌──┐\n",
      "0: ───H───Z───T^-1───Z^(1/8)─────iSwap──────×────@────────\n",
      "                                 │          │    │\n",
      "1: ───H───Y───T──────Rz(0.75π)───iSwap─────×┼────@^0.25───\n",
      "                                           ││\n",
      "2: ───H───X───S^-1───Ry(0.5π)────X^-0.5────┼×────X────────\n",
      "                                           │     │\n",
      "3: ───H───X───S──────Rx(0.25π)───X^0.5─────×─────@────────\n",
      "                                          └──┘\n"
     ]
    }
   ],
   "source": [
    "q0 = cirq.LineQubit(3)\n",
    "q1 = cirq.LineQubit(2)\n",
    "q2 = cirq.LineQubit(1)\n",
    "q3 = cirq.LineQubit(0)\n",
    "\n",
    "cirq_circ = cirq.Circuit()\n",
    "\n",
    "cirq_circ.append(cirq.H(q0))\n",
    "cirq_circ.append(cirq.H(q1))\n",
    "cirq_circ.append(cirq.H(q2))\n",
    "cirq_circ.append(cirq.H(q3))\n",
    "cirq_circ.append(cirq.X(q0))\n",
    "cirq_circ.append(cirq.X(q1))\n",
    "cirq_circ.append(cirq.Y(q2))\n",
    "cirq_circ.append(cirq.Z(q3))\n",
    "cirq_circ.append(cirq.S(q0))\n",
    "cirq_circ.append(cirq.ZPowGate(exponent=-0.5)(q1))       # Sdg\n",
    "cirq_circ.append(cirq.T(q2))\n",
    "cirq_circ.append(cirq.ZPowGate(exponent=-0.25)(q3))      # Tdg\n",
    "cirq_circ.append(cirq.Rx(rads=np.pi/4)(q0))\n",
    "cirq_circ.append(cirq.Ry(rads=np.pi/2)(q1))\n",
    "cirq_circ.append(cirq.Rz(rads=3*np.pi/4)(q2))\n",
    "cirq_circ.append(cirq.ZPowGate(exponent=1/8)(q3))        # Phase\n",
    "cirq_circ.append(cirq.XPowGate(exponent=0.5)(q0))        # SX\n",
    "cirq_circ.append(cirq.XPowGate(exponent=-0.5)(q1))       # SXdg\n",
    "cirq_circ.append(cirq.ISWAP(q2, q3))\n",
    "cirq_circ.append(cirq.SWAP(q0, q2))\n",
    "cirq_circ.append(cirq.SWAP(q1, q3))\n",
    "cirq_circ.append(cirq.CNOT(q0, q1))\n",
    "cirq_circ.append(cirq.CZPowGate(exponent=0.25)(q2, q3))  # CPhase(pi/4)\n",
    "\n",
    "print(cirq_circ)"
   ]
  },
  {
   "cell_type": "code",
   "execution_count": 326,
   "id": "30e6b3eb",
   "metadata": {},
   "outputs": [],
   "source": [
    "cirq_unitary = cirq_circ.unitary()\n",
    "qiskit_unitary = qiskit.quantum_info.Operator(qiskit_circ).data"
   ]
  },
  {
   "cell_type": "code",
   "execution_count": 327,
   "id": "a7b8b3ce",
   "metadata": {},
   "outputs": [
    {
     "data": {
      "text/plain": [
       "True"
      ]
     },
     "execution_count": 327,
     "metadata": {},
     "output_type": "execute_result"
    }
   ],
   "source": [
    "np.allclose(cirq_unitary, qiskit_unitary)"
   ]
  }
 ],
 "metadata": {
  "kernelspec": {
   "display_name": "Python 3",
   "language": "python",
   "name": "python3"
  },
  "language_info": {
   "codemirror_mode": {
    "name": "ipython",
    "version": 3
   },
   "file_extension": ".py",
   "mimetype": "text/x-python",
   "name": "python",
   "nbconvert_exporter": "python",
   "pygments_lexer": "ipython3",
   "version": "3.9.4"
  }
 },
 "nbformat": 4,
 "nbformat_minor": 5
}
