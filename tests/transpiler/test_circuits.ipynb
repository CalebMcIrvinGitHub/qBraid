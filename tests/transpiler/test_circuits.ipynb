{
 "cells": [
  {
   "cell_type": "code",
   "execution_count": 118,
   "id": "394b28ef",
   "metadata": {},
   "outputs": [],
   "source": [
    "import qiskit\n",
    "import cirq\n",
    "import braket\n",
    "import numpy as np\n",
    "from qbraid.transpiler.transpiler import qbraid_wrapper\n",
    "from qiskit.circuit.library.standard_gates import *"
   ]
  },
  {
   "cell_type": "code",
   "execution_count": 119,
   "id": "01b55893",
   "metadata": {},
   "outputs": [
    {
     "data": {
      "text/html": [
       "<pre style=\"word-wrap: normal;white-space: pre;background: #fff0;line-height: 1.1;font-family: &quot;Courier New&quot;,Courier,monospace\">     ┌───┐┌───┐ ┌───┐ ┌─────────┐   ┌────┐                 \n",
       "q_0: ┤ H ├┤ X ├─┤ S ├─┤ RX(π/4) ├───┤ √X ├───X────────■────\n",
       "     ├───┤├───┤┌┴───┴┐├─────────┤  ┌┴────┴┐  │      ┌─┴─┐  \n",
       "q_1: ┤ H ├┤ X ├┤ SDG ├┤ RY(π/2) ├──┤ √XDG ├──┼──X───┤ X ├──\n",
       "     ├───┤├───┤└┬───┬┘├─────────┴┐┌┴──────┴┐ │  │   └───┘  \n",
       "q_2: ┤ H ├┤ Y ├─┤ T ├─┤ RZ(3π/4) ├┤0       ├─X──┼──■───────\n",
       "     ├───┤├───┤┌┴───┴┐└┬────────┬┘│  ISWAP │    │  │P(π/4) \n",
       "q_3: ┤ H ├┤ Z ├┤ TDG ├─┤ P(π/8) ├─┤1       ├────X──■───────\n",
       "     └───┘└───┘└─────┘ └────────┘ └────────┘               </pre>"
      ],
      "text/plain": [
       "     ┌───┐┌───┐ ┌───┐ ┌─────────┐   ┌────┐                 \n",
       "q_0: ┤ H ├┤ X ├─┤ S ├─┤ RX(π/4) ├───┤ √X ├───X────────■────\n",
       "     ├───┤├───┤┌┴───┴┐├─────────┤  ┌┴────┴┐  │      ┌─┴─┐  \n",
       "q_1: ┤ H ├┤ X ├┤ SDG ├┤ RY(π/2) ├──┤ √XDG ├──┼──X───┤ X ├──\n",
       "     ├───┤├───┤└┬───┬┘├─────────┴┐┌┴──────┴┐ │  │   └───┘  \n",
       "q_2: ┤ H ├┤ Y ├─┤ T ├─┤ RZ(3π/4) ├┤0       ├─X──┼──■───────\n",
       "     ├───┤├───┤┌┴───┴┐└┬────────┬┘│  ISWAP │    │  │P(π/4) \n",
       "q_3: ┤ H ├┤ Z ├┤ TDG ├─┤ P(π/8) ├─┤1       ├────X──■───────\n",
       "     └───┘└───┘└─────┘ └────────┘ └────────┘               "
      ]
     },
     "execution_count": 119,
     "metadata": {},
     "output_type": "execute_result"
    }
   ],
   "source": [
    "qiskit_circ = qiskit.QuantumCircuit(4)\n",
    "\n",
    "qiskit_circ.h([0, 1, 2, 3])\n",
    "qiskit_circ.x([0, 1])\n",
    "qiskit_circ.y(2)\n",
    "qiskit_circ.z(3)\n",
    "qiskit_circ.s(0)\n",
    "qiskit_circ.sdg(1)\n",
    "qiskit_circ.t(2)\n",
    "qiskit_circ.tdg(3)\n",
    "qiskit_circ.rx(np.pi/4, 0)\n",
    "qiskit_circ.ry(np.pi/2, 1)\n",
    "qiskit_circ.rz(3*np.pi/4, 2)\n",
    "qiskit_circ.p(np.pi/8, 3)\n",
    "qiskit_circ.sx(0)\n",
    "qiskit_circ.sxdg(1)\n",
    "qiskit_circ.iswap(2, 3)\n",
    "qiskit_circ.swap([0, 1], [2, 3])\n",
    "qiskit_circ.cx(0, 1)\n",
    "qiskit_circ.cp(np.pi/4, 2, 3)\n",
    "\n",
    "qiskit_circ.draw()"
   ]
  },
  {
   "cell_type": "code",
   "execution_count": 111,
   "id": "c302c0a4",
   "metadata": {},
   "outputs": [],
   "source": [
    "cirq_circuit_flipped = cirq.Circuit()\n",
    "\n",
    "\n",
    "q0 = cirq.LineQubit(3)\n",
    "q1 = cirq.LineQubit(2)\n",
    "q2 = cirq.LineQubit(1)\n",
    "q3 = cirq.LineQubit(0)\n",
    "\n",
    "cirq_gates = [\n",
    "    cirq.H(q0),\n",
    "    cirq.H(q1),\n",
    "    cirq.H(q2),\n",
    "    cirq.H(q3),\n",
    "    cirq.X(q0),\n",
    "    cirq.X(q1),\n",
    "    cirq.Y(q2),\n",
    "    cirq.Z(q3),\n",
    "    cirq.S(q0),\n",
    "    cirq.ZPowGate(exponent=-0.5)(q1),\n",
    "    cirq.T(q2),\n",
    "    cirq.ZPowGate(exponent=-0.25)(q3),\n",
    "    cirq.Rx(rads=np.pi / 4)(q0),\n",
    "    cirq.Ry(rads=np.pi / 2)(q1),\n",
    "    cirq.Rz(rads=3 * np.pi / 4)(q2),\n",
    "    cirq.ZPowGate(exponent=1 / 8)(q3),\n",
    "    cirq.XPowGate(exponent=0.5)(q0),\n",
    "    cirq.XPowGate(exponent=-0.5)(q1),\n",
    "    cirq.ISWAP(q2, q3),\n",
    "    cirq.SWAP(q0, q2),\n",
    "    cirq.SWAP(q1, q3),\n",
    "    cirq.CNOT(q0, q1),\n",
    "    cirq.CZPowGate(exponent=0.25)(q2, q3),\n",
    "]\n",
    "\n",
    "for gate in cirq_gates:\n",
    "    cirq_circuit_flipped.append(gate)"
   ]
  },
  {
   "cell_type": "code",
   "execution_count": 112,
   "id": "9f5ebe39",
   "metadata": {},
   "outputs": [
    {
     "name": "stdout",
     "output_type": "stream",
     "text": [
      "                                          ┌──┐\n",
      "0: ───H───Z───T^-1───Z^(1/8)─────iSwap──────×────@────────\n",
      "                                 │          │    │\n",
      "1: ───H───Y───T──────Rz(0.75π)───iSwap─────×┼────@^0.25───\n",
      "                                           ││\n",
      "2: ───H───X───S^-1───Ry(0.5π)────X^-0.5────┼×────X────────\n",
      "                                           │     │\n",
      "3: ───H───X───S──────Rx(0.25π)───X^0.5─────×─────@────────\n",
      "                                          └──┘\n"
     ]
    }
   ],
   "source": [
    "print(cirq_circuit_flipped)"
   ]
  },
  {
   "cell_type": "code",
   "execution_count": 121,
   "id": "31c99145",
   "metadata": {},
   "outputs": [],
   "source": [
    "cirq_circuit = cirq.Circuit()\n",
    "\n",
    "\n",
    "q0 = cirq.LineQubit(0)\n",
    "q1 = cirq.LineQubit(1)\n",
    "q2 = cirq.LineQubit(2)\n",
    "q3 = cirq.LineQubit(3)\n",
    "\n",
    "cirq_gates = [\n",
    "    cirq.H(q0),\n",
    "    cirq.H(q1),\n",
    "    cirq.H(q2),\n",
    "    cirq.H(q3),\n",
    "    cirq.X(q0),\n",
    "    cirq.X(q1),\n",
    "    cirq.Y(q2),\n",
    "    cirq.Z(q3),\n",
    "    cirq.S(q0),\n",
    "    cirq.ZPowGate(exponent=-0.5)(q1),\n",
    "    cirq.T(q2),\n",
    "    cirq.ZPowGate(exponent=-0.25)(q3),\n",
    "    cirq.Rx(rads=np.pi / 4)(q0),\n",
    "    cirq.Ry(rads=np.pi / 2)(q1),\n",
    "    cirq.Rz(rads=3 * np.pi / 4)(q2),\n",
    "    cirq.ZPowGate(exponent=1 / 8)(q3),\n",
    "    cirq.XPowGate(exponent=0.5)(q0),\n",
    "    cirq.XPowGate(exponent=-0.5)(q1),\n",
    "    cirq.ISWAP(q2, q3),\n",
    "    cirq.SWAP(q0, q2),\n",
    "    cirq.SWAP(q1, q3),\n",
    "    cirq.CNOT(q0, q1),\n",
    "    cirq.CZPowGate(exponent=0.25)(q2, q3),\n",
    "]\n",
    "\n",
    "for gate in cirq_gates:\n",
    "    cirq_circuit.append(gate)"
   ]
  },
  {
   "cell_type": "code",
   "execution_count": 122,
   "id": "4b8ffc68",
   "metadata": {},
   "outputs": [
    {
     "name": "stdout",
     "output_type": "stream",
     "text": [
      "                                          ┌──┐\n",
      "0: ───H───X───S──────Rx(0.25π)───X^0.5─────×─────@────────\n",
      "                                           │     │\n",
      "1: ───H───X───S^-1───Ry(0.5π)────X^-0.5────┼×────X────────\n",
      "                                           ││\n",
      "2: ───H───Y───T──────Rz(0.75π)───iSwap─────×┼────@────────\n",
      "                                 │          │    │\n",
      "3: ───H───Z───T^-1───Z^(1/8)─────iSwap──────×────@^0.25───\n",
      "                                          └──┘\n"
     ]
    }
   ],
   "source": [
    "print(cirq_circuit)"
   ]
  },
  {
   "cell_type": "code",
   "execution_count": 115,
   "id": "9f35a885",
   "metadata": {},
   "outputs": [],
   "source": [
    "qiskit_unitary = qiskit.quantum_info.Operator(qiskit_circ).data\n",
    "cirq_unitary_flipped = cirq_circuit_flipped.unitary()\n",
    "cirq_unitary = cirq_circuit.unitary()"
   ]
  },
  {
   "cell_type": "code",
   "execution_count": 123,
   "id": "59e663cc",
   "metadata": {},
   "outputs": [],
   "source": [
    "qbraid_wrapper_cirq_flipped = qbraid_wrapper(cirq_circuit_flipped)\n",
    "qbraid_wrapper_cirq = qbraid_wrapper(cirq_circuit) "
   ]
  },
  {
   "cell_type": "code",
   "execution_count": 124,
   "id": "423b3d00",
   "metadata": {},
   "outputs": [],
   "source": [
    "qiskit_circuit_transpiled_flipped = qbraid_wrapper_cirq_flipped.transpile(\"qiskit\")\n",
    "qiskit_circuit_transpiled = qbraid_wrapper_cirq.transpile(\"qiskit\")"
   ]
  },
  {
   "cell_type": "code",
   "execution_count": 101,
   "id": "46287870",
   "metadata": {},
   "outputs": [],
   "source": [
    "qiskit_unitary_transpiled_flipped = qiskit.quantum_info.Operator(qiskit_circuit_transpiled_flipped).data\n",
    "qiskit_unitary_transpiled = qiskit.quantum_info.Operator(qiskit_circuit_transpiled).data"
   ]
  },
  {
   "cell_type": "code",
   "execution_count": 125,
   "id": "22c164bc",
   "metadata": {},
   "outputs": [
    {
     "data": {
      "text/html": [
       "<pre style=\"word-wrap: normal;white-space: pre;background: #fff0;line-height: 1.1;font-family: &quot;Courier New&quot;,Courier,monospace\">      ┌───┐┌───┐   ┌───┐   ┌─────────┐ ┌────────┐      ┌──────────┐\n",
       "q6_0: ┤ H ├┤ Y ├───┤ T ├───┤ P(3π/4) ├─┤0       ├─X────┤0         ├\n",
       "      ├───┤├───┤┌──┴───┴──┐└┬────────┤ │  ISWAP │ │    │  Unitary │\n",
       "q6_1: ┤ H ├┤ Z ├┤ P(-π/4) ├─┤ P(π/8) ├─┤1       ├─┼──X─┤1         ├\n",
       "      ├───┤├───┤└──┬───┬──┘┌┴────────┤┌┴────────┤ │  │ └──────────┘\n",
       "q6_2: ┤ H ├┤ X ├───┤ S ├───┤ RX(π/4) ├┤ Unitary ├─X──┼──────■──────\n",
       "      ├───┤├───┤┌──┴───┴──┐├─────────┤├─────────┤    │    ┌─┴─┐    \n",
       "q6_3: ┤ H ├┤ X ├┤ P(-π/2) ├┤ Unitary ├┤ Unitary ├────X────┤ X ├────\n",
       "      └───┘└───┘└─────────┘└─────────┘└─────────┘         └───┘    </pre>"
      ],
      "text/plain": [
       "      ┌───┐┌───┐   ┌───┐   ┌─────────┐ ┌────────┐      ┌──────────┐\n",
       "q6_0: ┤ H ├┤ Y ├───┤ T ├───┤ P(3π/4) ├─┤0       ├─X────┤0         ├\n",
       "      ├───┤├───┤┌──┴───┴──┐└┬────────┤ │  ISWAP │ │    │  Unitary │\n",
       "q6_1: ┤ H ├┤ Z ├┤ P(-π/4) ├─┤ P(π/8) ├─┤1       ├─┼──X─┤1         ├\n",
       "      ├───┤├───┤└──┬───┬──┘┌┴────────┤┌┴────────┤ │  │ └──────────┘\n",
       "q6_2: ┤ H ├┤ X ├───┤ S ├───┤ RX(π/4) ├┤ Unitary ├─X──┼──────■──────\n",
       "      ├───┤├───┤┌──┴───┴──┐├─────────┤├─────────┤    │    ┌─┴─┐    \n",
       "q6_3: ┤ H ├┤ X ├┤ P(-π/2) ├┤ Unitary ├┤ Unitary ├────X────┤ X ├────\n",
       "      └───┘└───┘└─────────┘└─────────┘└─────────┘         └───┘    "
      ]
     },
     "execution_count": 125,
     "metadata": {},
     "output_type": "execute_result"
    }
   ],
   "source": [
    "qiskit_circuit_transpiled.draw()"
   ]
  },
  {
   "cell_type": "code",
   "execution_count": 29,
   "id": "38f56d85",
   "metadata": {},
   "outputs": [
    {
     "name": "stdout",
     "output_type": "stream",
     "text": [
      "T  : |0|1|2 |3|     4      |  5  |    6    |     7      |\n",
      "                                                         \n",
      "q0 : -H-X-S--X-Rx(0.785)----V-----SWAP------C------------\n",
      "                                  |         |            \n",
      "q1 : -H-X-Si-X-Ry(1.57)-----Vi----|----SWAP-X------------\n",
      "                                  |    |                 \n",
      "q2 : -H-Y-T--Y-Rz(2.36)-----ISWAP-SWAP-|----C------------\n",
      "                            |          |    |            \n",
      "q3 : -H-Z-Ti-Z-PHASE(0.393)-ISWAP------SWAP-PHASE(0.785)-\n",
      "\n",
      "T  : |0|1|2 |3|     4      |  5  |    6    |     7      |\n"
     ]
    }
   ],
   "source": [
    "braket_circ = braket.circuits.Circuit()\n",
    "\n",
    "braket_circ.h(0)\n",
    "braket_circ.h(1)\n",
    "braket_circ.h(2)\n",
    "braket_circ.h(3)\n",
    "braket_circ.x(0)\n",
    "braket_circ.x(1)\n",
    "braket_circ.y(2)\n",
    "braket_circ.z(3)\n",
    "braket_circ.s(0)\n",
    "braket_circ.si(1)\n",
    "braket_circ.t(2)\n",
    "braket_circ.ti(3)\n",
    "braket_circ.x(0)\n",
    "braket_circ.x(1)\n",
    "braket_circ.y(2)\n",
    "braket_circ.z(3)\n",
    "braket_circ.rx(0, np.pi/4)\n",
    "braket_circ.ry(1, np.pi/2)\n",
    "braket_circ.rz(2, 3*np.pi/4)\n",
    "braket_circ.phaseshift(3, np.pi/8)\n",
    "braket_circ.v(0)\n",
    "braket_circ.vi(1)\n",
    "braket_circ.iswap(2, 3)\n",
    "braket_circ.swap(0, 2)\n",
    "braket_circ.swap(1, 3)\n",
    "braket_circ.cnot(0, 1)\n",
    "braket_circ.cphaseshift(2, 3, np.pi/4)\n",
    "\n",
    "print(braket_circ)"
   ]
  },
  {
   "cell_type": "code",
   "execution_count": 38,
   "id": "7db6d65b",
   "metadata": {},
   "outputs": [],
   "source": [
    "braket_gates = [\"H\", \"H\", \"H\", \"H\"]\n",
    "braket_operator = braket.circuits.quantum_operator.QuantumOperator(4, braket_gates)\n",
    "# https://amazon-braket-sdk-python.readthedocs.io/en/latest/_apidoc/braket.circuits.quantum_operator.html"
   ]
  },
  {
   "cell_type": "code",
   "execution_count": 43,
   "id": "db290b3c",
   "metadata": {},
   "outputs": [
    {
     "ename": "AssertionError",
     "evalue": "",
     "output_type": "error",
     "traceback": [
      "\u001b[0;31m---------------------------------------------------------------------------\u001b[0m",
      "\u001b[0;31mAssertionError\u001b[0m                            Traceback (most recent call last)",
      "\u001b[0;32m<ipython-input-43-a871fdc9ebee>\u001b[0m in \u001b[0;36m<module>\u001b[0;34m\u001b[0m\n\u001b[0;32m----> 1\u001b[0;31m \u001b[0;32massert\u001b[0m \u001b[0;32mFalse\u001b[0m\u001b[0;34m\u001b[0m\u001b[0;34m\u001b[0m\u001b[0m\n\u001b[0m",
      "\u001b[0;31mAssertionError\u001b[0m: "
     ]
    }
   ],
   "source": [
    "assert False"
   ]
  },
  {
   "cell_type": "code",
   "execution_count": null,
   "id": "adfc8a7c",
   "metadata": {},
   "outputs": [],
   "source": []
  }
 ],
 "metadata": {
  "kernelspec": {
   "display_name": "Python 3",
   "language": "python",
   "name": "python3"
  },
  "language_info": {
   "codemirror_mode": {
    "name": "ipython",
    "version": 3
   },
   "file_extension": ".py",
   "mimetype": "text/x-python",
   "name": "python",
   "nbconvert_exporter": "python",
   "pygments_lexer": "ipython3",
   "version": "3.9.4"
  }
 },
 "nbformat": 4,
 "nbformat_minor": 5
}
