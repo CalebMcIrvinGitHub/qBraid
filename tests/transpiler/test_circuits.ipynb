{
 "cells": [
  {
   "cell_type": "code",
   "execution_count": 1,
   "id": "394b28ef",
   "metadata": {},
   "outputs": [],
   "source": [
    "import qiskit\n",
    "import cirq\n",
    "import braket\n",
    "from braket.circuits import Circuit as BraketCircuit\n",
    "from braket.circuits.gate import Gate as BraketGate\n",
    "from braket.circuits.instruction import Instruction as BraketInstruction\n",
    "from braket.circuits.unitary_calculation import calculate_unitary\n",
    "from qbraid.transpiler.transpiler import qbraid_wrapper\n",
    "import numpy as np"
   ]
  },
  {
   "cell_type": "markdown",
   "id": "45591e07",
   "metadata": {},
   "source": [
    "### cirq to qiskit transpiler qubit indexing / matrix equivalence problem explained"
   ]
  },
  {
   "cell_type": "code",
   "execution_count": 2,
   "id": "01b55893",
   "metadata": {},
   "outputs": [
    {
     "data": {
      "text/html": [
       "<pre style=\"word-wrap: normal;white-space: pre;background: #fff0;line-height: 1.1;font-family: &quot;Courier New&quot;,Courier,monospace\">     ┌───┐┌───┐ ┌───┐ ┌─────────┐   ┌────┐                 \n",
       "q_0: ┤ H ├┤ X ├─┤ S ├─┤ RX(π/4) ├───┤ √X ├───X────────■────\n",
       "     ├───┤├───┤┌┴───┴┐├─────────┤  ┌┴────┴┐  │      ┌─┴─┐  \n",
       "q_1: ┤ H ├┤ X ├┤ SDG ├┤ RY(π/2) ├──┤ √XDG ├──┼──X───┤ X ├──\n",
       "     ├───┤├───┤└┬───┬┘├─────────┴┐┌┴──────┴┐ │  │   └───┘  \n",
       "q_2: ┤ H ├┤ Y ├─┤ T ├─┤ RZ(3π/4) ├┤0       ├─X──┼──■───────\n",
       "     ├───┤├───┤┌┴───┴┐└┬────────┬┘│  ISWAP │    │  │P(π/4) \n",
       "q_3: ┤ H ├┤ Z ├┤ TDG ├─┤ P(π/8) ├─┤1       ├────X──■───────\n",
       "     └───┘└───┘└─────┘ └────────┘ └────────┘               </pre>"
      ],
      "text/plain": [
       "     ┌───┐┌───┐ ┌───┐ ┌─────────┐   ┌────┐                 \n",
       "q_0: ┤ H ├┤ X ├─┤ S ├─┤ RX(π/4) ├───┤ √X ├───X────────■────\n",
       "     ├───┤├───┤┌┴───┴┐├─────────┤  ┌┴────┴┐  │      ┌─┴─┐  \n",
       "q_1: ┤ H ├┤ X ├┤ SDG ├┤ RY(π/2) ├──┤ √XDG ├──┼──X───┤ X ├──\n",
       "     ├───┤├───┤└┬───┬┘├─────────┴┐┌┴──────┴┐ │  │   └───┘  \n",
       "q_2: ┤ H ├┤ Y ├─┤ T ├─┤ RZ(3π/4) ├┤0       ├─X──┼──■───────\n",
       "     ├───┤├───┤┌┴───┴┐└┬────────┬┘│  ISWAP │    │  │P(π/4) \n",
       "q_3: ┤ H ├┤ Z ├┤ TDG ├─┤ P(π/8) ├─┤1       ├────X──■───────\n",
       "     └───┘└───┘└─────┘ └────────┘ └────────┘               "
      ]
     },
     "execution_count": 2,
     "metadata": {},
     "output_type": "execute_result"
    }
   ],
   "source": [
    "# construct a regular qiskit circuit\n",
    "qiskit_circ = qiskit.QuantumCircuit(4)\n",
    "\n",
    "qiskit_circ.h([0, 1, 2, 3])\n",
    "qiskit_circ.x([0, 1])\n",
    "qiskit_circ.y(2)\n",
    "qiskit_circ.z(3)\n",
    "qiskit_circ.s(0)\n",
    "qiskit_circ.sdg(1)\n",
    "qiskit_circ.t(2)\n",
    "qiskit_circ.tdg(3)\n",
    "qiskit_circ.rx(np.pi/4, 0)\n",
    "qiskit_circ.ry(np.pi/2, 1)\n",
    "qiskit_circ.rz(3*np.pi/4, 2)\n",
    "qiskit_circ.p(np.pi/8, 3)\n",
    "qiskit_circ.sx(0)\n",
    "qiskit_circ.sxdg(1)\n",
    "qiskit_circ.iswap(2, 3)\n",
    "qiskit_circ.swap([0, 1], [2, 3])\n",
    "qiskit_circ.cx(0, 1)\n",
    "qiskit_circ.cp(np.pi/4, 2, 3)\n",
    "\n",
    "qiskit_circ.draw()"
   ]
  },
  {
   "cell_type": "code",
   "execution_count": 3,
   "id": "4b70a820",
   "metadata": {},
   "outputs": [
    {
     "name": "stdout",
     "output_type": "stream",
     "text": [
      "                                          ┌──┐\n",
      "0: ───H───X───S──────Rx(0.25π)───X^0.5─────×─────@────────\n",
      "                                           │     │\n",
      "1: ───H───X───S^-1───Ry(0.5π)────X^-0.5────┼×────X────────\n",
      "                                           ││\n",
      "2: ───H───Y───T──────Rz(0.75π)───iSwap─────×┼────@────────\n",
      "                                 │          │    │\n",
      "3: ───H───Z───T^-1───Z^(1/8)─────iSwap──────×────@^0.25───\n",
      "                                          └──┘\n"
     ]
    }
   ],
   "source": [
    "# Now let's make the same cirq circuit\n",
    "cirq_circuit = cirq.Circuit()\n",
    "\n",
    "# here the qubit ordering is normal, from 0 up to 3\n",
    "q0 = cirq.LineQubit(0)\n",
    "q1 = cirq.LineQubit(1)\n",
    "q2 = cirq.LineQubit(2)\n",
    "q3 = cirq.LineQubit(3)\n",
    "\n",
    "cirq_gates = [\n",
    "    cirq.H(q0),\n",
    "    cirq.H(q1),\n",
    "    cirq.H(q2),\n",
    "    cirq.H(q3),\n",
    "    cirq.X(q0),\n",
    "    cirq.X(q1),\n",
    "    cirq.Y(q2),\n",
    "    cirq.Z(q3),\n",
    "    cirq.S(q0),\n",
    "    cirq.ZPowGate(exponent=-0.5)(q1),\n",
    "    cirq.T(q2),\n",
    "    cirq.ZPowGate(exponent=-0.25)(q3),\n",
    "    cirq.Rx(rads=np.pi / 4)(q0),\n",
    "    cirq.Ry(rads=np.pi / 2)(q1),\n",
    "    cirq.Rz(rads=3 * np.pi / 4)(q2),\n",
    "    cirq.ZPowGate(exponent=1 / 8)(q3),\n",
    "    cirq.XPowGate(exponent=0.5)(q0),\n",
    "    cirq.XPowGate(exponent=-0.5)(q1),\n",
    "    cirq.ISWAP(q2, q3),\n",
    "    cirq.SWAP(q0, q2),\n",
    "    cirq.SWAP(q1, q3),\n",
    "    cirq.CNOT(q0, q1),\n",
    "    cirq.CZPowGate(exponent=0.25)(q2, q3),\n",
    "]\n",
    "\n",
    "for gate in cirq_gates:\n",
    "    cirq_circuit.append(gate)\n",
    "\n",
    "# visually, this circuit appears the same as the original qiskit circuit\n",
    "print(cirq_circuit)"
   ]
  },
  {
   "cell_type": "code",
   "execution_count": 4,
   "id": "9b251df8",
   "metadata": {},
   "outputs": [],
   "source": [
    "# calculate unitaries\n",
    "qiskit_unitary = qiskit.quantum_info.Operator(qiskit_circ).data\n",
    "cirq_unitary = cirq_circuit.unitary()"
   ]
  },
  {
   "cell_type": "code",
   "execution_count": 5,
   "id": "4ff71945",
   "metadata": {},
   "outputs": [
    {
     "data": {
      "text/plain": [
       "False"
      ]
     },
     "execution_count": 5,
     "metadata": {},
     "output_type": "execute_result"
    }
   ],
   "source": [
    "# However, the matrix representations of these circuits are NOT equivalent\n",
    "np.allclose(qiskit_unitary, cirq_unitary)"
   ]
  },
  {
   "cell_type": "code",
   "execution_count": 6,
   "id": "c302c0a4",
   "metadata": {
    "scrolled": true
   },
   "outputs": [
    {
     "name": "stdout",
     "output_type": "stream",
     "text": [
      "                                          ┌──┐\n",
      "0: ───H───Z───T^-1───Z^(1/8)─────iSwap──────×────@────────\n",
      "                                 │          │    │\n",
      "1: ───H───Y───T──────Rz(0.75π)───iSwap─────×┼────@^0.25───\n",
      "                                           ││\n",
      "2: ───H───X───S^-1───Ry(0.5π)────X^-0.5────┼×────X────────\n",
      "                                           │     │\n",
      "3: ───H───X───S──────Rx(0.25π)───X^0.5─────×─────@────────\n",
      "                                          └──┘\n"
     ]
    }
   ],
   "source": [
    "# Now let's construct an identical cirq circuit, but with the qubits \"flipped\"\n",
    "cirq_circuit_flipped = cirq.Circuit()\n",
    "\n",
    "# notice the qubits are numbered from 3 down to 0 \n",
    "q0 = cirq.LineQubit(3)\n",
    "q1 = cirq.LineQubit(2)\n",
    "q2 = cirq.LineQubit(1)\n",
    "q3 = cirq.LineQubit(0)\n",
    "\n",
    "cirq_gates = [\n",
    "    cirq.H(q0),\n",
    "    cirq.H(q1),\n",
    "    cirq.H(q2),\n",
    "    cirq.H(q3),\n",
    "    cirq.X(q0),\n",
    "    cirq.X(q1),\n",
    "    cirq.Y(q2),\n",
    "    cirq.Z(q3),\n",
    "    cirq.S(q0),\n",
    "    cirq.ZPowGate(exponent=-0.5)(q1),\n",
    "    cirq.T(q2),\n",
    "    cirq.ZPowGate(exponent=-0.25)(q3),\n",
    "    cirq.Rx(rads=np.pi / 4)(q0),\n",
    "    cirq.Ry(rads=np.pi / 2)(q1),\n",
    "    cirq.Rz(rads=3 * np.pi / 4)(q2),\n",
    "    cirq.ZPowGate(exponent=1 / 8)(q3),\n",
    "    cirq.XPowGate(exponent=0.5)(q0),\n",
    "    cirq.XPowGate(exponent=-0.5)(q1),\n",
    "    cirq.ISWAP(q2, q3),\n",
    "    cirq.SWAP(q0, q2),\n",
    "    cirq.SWAP(q1, q3),\n",
    "    cirq.CNOT(q0, q1),\n",
    "    cirq.CZPowGate(exponent=0.25)(q2, q3),\n",
    "]\n",
    "\n",
    "for gate in cirq_gates:\n",
    "    cirq_circuit_flipped.append(gate)\n",
    "\n",
    "# same circuit as qiskit above, but with qubits flipped\n",
    "print(cirq_circuit_flipped)"
   ]
  },
  {
   "cell_type": "code",
   "execution_count": 7,
   "id": "62a26971",
   "metadata": {},
   "outputs": [],
   "source": [
    "# calculate the matrix representation of the \"flipped\" circuit\n",
    "cirq_unitary_flipped = cirq_circuit_flipped.unitary()"
   ]
  },
  {
   "cell_type": "code",
   "execution_count": 8,
   "id": "3e2b2a73",
   "metadata": {},
   "outputs": [
    {
     "data": {
      "text/plain": [
       "True"
      ]
     },
     "execution_count": 8,
     "metadata": {},
     "output_type": "execute_result"
    }
   ],
   "source": [
    "# The matrix representations of qiskit_circuit and cirq_circuit_flipped are equivalent\n",
    "np.allclose(qiskit_unitary, cirq_unitary_flipped)"
   ]
  },
  {
   "cell_type": "code",
   "execution_count": 9,
   "id": "0e7992de",
   "metadata": {},
   "outputs": [
    {
     "name": "stdout",
     "output_type": "stream",
     "text": [
      "                                      ┌──┐\n",
      "0: ───H───X───S───Rx(0.25π)───U────────×─────@────────\n",
      "                                       │     │\n",
      "1: ───H───X───U───Ry(0.5π)────U────────┼×────X────────\n",
      "                                       ││\n",
      "2: ───H───Y───T───Rz(0.75π)───iSwap────×┼────@────────\n",
      "                              │         │    │\n",
      "3: ───H───Z───U───Z^(1/8)─────iSwap─────×────@^0.25───\n",
      "                                      └──┘\n"
     ]
    }
   ],
   "source": [
    "# Transpiling the original qiskit circuit to cirq should result in a circuit that looks the same and has the same \n",
    "# matrix representation as as the non-flipped cirq circuit\n",
    "qbraid_circuit_0 = qbraid_wrapper(qiskit_circ)\n",
    "cirq_circuit_transpiled = qbraid_circuit_0.transpile(\"cirq\")\n",
    "cirq_unitary_transpiled = cirq_circuit_transpiled.unitary()\n",
    "\n",
    "print(cirq_circuit_transpiled)"
   ]
  },
  {
   "cell_type": "code",
   "execution_count": 10,
   "id": "8ef8b7bb",
   "metadata": {},
   "outputs": [
    {
     "data": {
      "text/plain": [
       "True"
      ]
     },
     "execution_count": 10,
     "metadata": {},
     "output_type": "execute_result"
    }
   ],
   "source": [
    "# This returns True, so transpiling a qiskit circuit to cirq works as expected\n",
    "np.allclose(cirq_unitary_transpiled, cirq_unitary)"
   ]
  },
  {
   "cell_type": "code",
   "execution_count": 11,
   "id": "1f27a79a",
   "metadata": {},
   "outputs": [
    {
     "data": {
      "text/html": [
       "<pre style=\"word-wrap: normal;white-space: pre;background: #fff0;line-height: 1.1;font-family: &quot;Courier New&quot;,Courier,monospace\">      ┌───┐┌───┐   ┌───┐   ┌─────────┐┌─────────┐                  \n",
       "q0_0: ┤ H ├┤ X ├───┤ S ├───┤ RX(π/4) ├┤ Unitary ├─X─────────■──────\n",
       "      ├───┤├───┤┌──┴───┴──┐├─────────┤├─────────┤ │       ┌─┴─┐    \n",
       "q0_1: ┤ H ├┤ X ├┤ P(-π/2) ├┤ Unitary ├┤ Unitary ├─┼──X────┤ X ├────\n",
       "      ├───┤├───┤└──┬───┬──┘├─────────┤└┬────────┤ │  │ ┌──┴───┴───┐\n",
       "q0_2: ┤ H ├┤ Y ├───┤ T ├───┤ P(3π/4) ├─┤0       ├─X──┼─┤0         ├\n",
       "      ├───┤├───┤┌──┴───┴──┐└┬────────┤ │  ISWAP │    │ │  Unitary │\n",
       "q0_3: ┤ H ├┤ Z ├┤ P(-π/4) ├─┤ P(π/8) ├─┤1       ├────X─┤1         ├\n",
       "      └───┘└───┘└─────────┘ └────────┘ └────────┘      └──────────┘</pre>"
      ],
      "text/plain": [
       "      ┌───┐┌───┐   ┌───┐   ┌─────────┐┌─────────┐                  \n",
       "q0_0: ┤ H ├┤ X ├───┤ S ├───┤ RX(π/4) ├┤ Unitary ├─X─────────■──────\n",
       "      ├───┤├───┤┌──┴───┴──┐├─────────┤├─────────┤ │       ┌─┴─┐    \n",
       "q0_1: ┤ H ├┤ X ├┤ P(-π/2) ├┤ Unitary ├┤ Unitary ├─┼──X────┤ X ├────\n",
       "      ├───┤├───┤└──┬───┬──┘├─────────┤└┬────────┤ │  │ ┌──┴───┴───┐\n",
       "q0_2: ┤ H ├┤ Y ├───┤ T ├───┤ P(3π/4) ├─┤0       ├─X──┼─┤0         ├\n",
       "      ├───┤├───┤┌──┴───┴──┐└┬────────┤ │  ISWAP │    │ │  Unitary │\n",
       "q0_3: ┤ H ├┤ Z ├┤ P(-π/4) ├─┤ P(π/8) ├─┤1       ├────X─┤1         ├\n",
       "      └───┘└───┘└─────────┘ └────────┘ └────────┘      └──────────┘"
      ]
     },
     "execution_count": 11,
     "metadata": {},
     "output_type": "execute_result"
    }
   ],
   "source": [
    "# Now let's try transpiling a cirq circuit to qiskit. Transpiling the non-flipped cirq circuit to qiskit \n",
    "# should result in the same qiskit circuit and matrix representation as the original. \n",
    "qbraid_circuit_1 = qbraid_wrapper(cirq_circuit)\n",
    "qiskit_circuit_transpiled = qbraid_circuit_1.transpile(\"qiskit\")\n",
    "qiskit_unitary_transpiled = qiskit.quantum_info.Operator(qiskit_circuit_transpiled).data\n",
    "\n",
    "qiskit_circuit_transpiled.draw()"
   ]
  },
  {
   "cell_type": "code",
   "execution_count": 12,
   "id": "f7175dbc",
   "metadata": {},
   "outputs": [
    {
     "data": {
      "text/plain": [
       "False"
      ]
     },
     "execution_count": 12,
     "metadata": {},
     "output_type": "execute_result"
    }
   ],
   "source": [
    "# But the matrix representation is not equivalent to the original\n",
    "np.allclose(qiskit_unitary_transpiled, qiskit_unitary)"
   ]
  },
  {
   "cell_type": "code",
   "execution_count": 13,
   "id": "8ef00dab",
   "metadata": {},
   "outputs": [
    {
     "name": "stdout",
     "output_type": "stream",
     "text": [
      "T  : |0|1|2 |     3      |  4  |    5    |     6      |\n",
      "                                                       \n",
      "q0 : -H-X-S--Rx(0.785)----V-----SWAP------C------------\n",
      "                                |         |            \n",
      "q1 : -H-X-Si-Ry(1.57)-----Vi----|----SWAP-X------------\n",
      "                                |    |                 \n",
      "q2 : -H-Y-T--Rz(2.36)-----ISWAP-SWAP-|----C------------\n",
      "                          |          |    |            \n",
      "q3 : -H-Z-Ti-PHASE(0.393)-ISWAP------SWAP-PHASE(0.785)-\n",
      "\n",
      "T  : |0|1|2 |     3      |  4  |    5    |     6      |\n"
     ]
    }
   ],
   "source": [
    "braket_circuit = BraketCircuit()\n",
    "\n",
    "instructions = [\n",
    "    BraketInstruction(BraketGate.H(), 0),\n",
    "    BraketInstruction(BraketGate.H(), 1),\n",
    "    BraketInstruction(BraketGate.H(), 2),\n",
    "    BraketInstruction(BraketGate.H(), 3),\n",
    "    BraketInstruction(BraketGate.X(), 0),\n",
    "    BraketInstruction(BraketGate.X(), 1),\n",
    "    BraketInstruction(BraketGate.Y(), 2),\n",
    "    BraketInstruction(BraketGate.Z(), 3),\n",
    "    BraketInstruction(BraketGate.S(), 0),\n",
    "    BraketInstruction(BraketGate.Si(), 1),\n",
    "    BraketInstruction(BraketGate.T(), 2),\n",
    "    BraketInstruction(BraketGate.Ti(), 3),\n",
    "    BraketInstruction(BraketGate.Rx(np.pi/4), 0),\n",
    "    BraketInstruction(BraketGate.Ry(np.pi/2), 1),\n",
    "    BraketInstruction(BraketGate.Rz(3*np.pi/4), 2),\n",
    "    BraketInstruction(BraketGate.PhaseShift(np.pi/8), 3),\n",
    "    BraketInstruction(BraketGate.V(), 0),\n",
    "    BraketInstruction(BraketGate.Vi(), 1),\n",
    "    BraketInstruction(BraketGate.ISwap(), [2, 3]),\n",
    "    BraketInstruction(BraketGate.Swap(), [0, 2]),\n",
    "    BraketInstruction(BraketGate.Swap(), [1, 3]),\n",
    "    BraketInstruction(BraketGate.CNot(), [0, 1]),\n",
    "    BraketInstruction(BraketGate.CPhaseShift(np.pi/4), [2, 3]),\n",
    "]\n",
    "\n",
    "for inst in instructions:\n",
    "    braket_circuit.add_instruction(inst)\n",
    "\n",
    "print(braket_circuit)"
   ]
  },
  {
   "cell_type": "code",
   "execution_count": 14,
   "id": "2a4a6403",
   "metadata": {},
   "outputs": [],
   "source": [
    "braket_unitary = calculate_unitary(4, instructions)"
   ]
  },
  {
   "cell_type": "code",
   "execution_count": 15,
   "id": "d1040cf2",
   "metadata": {},
   "outputs": [
    {
     "data": {
      "text/plain": [
       "True"
      ]
     },
     "execution_count": 15,
     "metadata": {},
     "output_type": "execute_result"
    }
   ],
   "source": [
    "np.allclose(braket_unitary, qiskit_unitary)"
   ]
  },
  {
   "cell_type": "code",
   "execution_count": null,
   "id": "6923feb1",
   "metadata": {},
   "outputs": [],
   "source": []
  }
 ],
 "metadata": {
  "kernelspec": {
   "display_name": "Python 3",
   "language": "python",
   "name": "python3"
  },
  "language_info": {
   "codemirror_mode": {
    "name": "ipython",
    "version": 3
   },
   "file_extension": ".py",
   "mimetype": "text/x-python",
   "name": "python",
   "nbconvert_exporter": "python",
   "pygments_lexer": "ipython3",
   "version": "3.9.5"
  }
 },
 "nbformat": 4,
 "nbformat_minor": 5
}
