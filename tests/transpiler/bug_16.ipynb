{
 "cells": [
  {
   "cell_type": "code",
   "execution_count": 1,
   "id": "ab64a6ae",
   "metadata": {},
   "outputs": [],
   "source": [
    "import qiskit\n",
    "import cirq\n",
    "import braket\n",
    "import numpy as np\n",
    "from qbraid.transpiler2.transpiler import qbraid_wrapper"
   ]
  },
  {
   "cell_type": "code",
   "execution_count": 2,
   "id": "e8a3e590",
   "metadata": {},
   "outputs": [
    {
     "output_type": "execute_result",
     "data": {
      "text/plain": [
       "     ┌───┐┌───┐ ┌───┐ ┌─────────┐   ┌────┐                 \n",
       "q_0: ┤ H ├┤ X ├─┤ S ├─┤ RX(π/4) ├───┤ √X ├───X────────■────\n",
       "     ├───┤├───┤┌┴───┴┐├─────────┤  ┌┴────┴┐  │      ┌─┴─┐  \n",
       "q_1: ┤ H ├┤ X ├┤ SDG ├┤ RY(π/2) ├──┤ √XDG ├──┼──X───┤ X ├──\n",
       "     ├───┤├───┤└┬───┬┘├─────────┴┐┌┴──────┴┐ │  │   └───┘  \n",
       "q_2: ┤ H ├┤ Y ├─┤ T ├─┤ RZ(3π/4) ├┤0       ├─X──┼──■───────\n",
       "     ├───┤├───┤┌┴───┴┐└┬────────┬┘│  ISWAP │    │  │P(π/4) \n",
       "q_3: ┤ H ├┤ Z ├┤ TDG ├─┤ P(π/8) ├─┤1       ├────X──■───────\n",
       "     └───┘└───┘└─────┘ └────────┘ └────────┘               "
      ],
      "text/html": "<pre style=\"word-wrap: normal;white-space: pre;background: #fff0;line-height: 1.1;font-family: &quot;Courier New&quot;,Courier,monospace\">     ┌───┐┌───┐ ┌───┐ ┌─────────┐   ┌────┐                 \nq_0: ┤ H ├┤ X ├─┤ S ├─┤ RX(π/4) ├───┤ √X ├───X────────■────\n     ├───┤├───┤┌┴───┴┐├─────────┤  ┌┴────┴┐  │      ┌─┴─┐  \nq_1: ┤ H ├┤ X ├┤ SDG ├┤ RY(π/2) ├──┤ √XDG ├──┼──X───┤ X ├──\n     ├───┤├───┤└┬───┬┘├─────────┴┐┌┴──────┴┐ │  │   └───┘  \nq_2: ┤ H ├┤ Y ├─┤ T ├─┤ RZ(3π/4) ├┤0       ├─X──┼──■───────\n     ├───┤├───┤┌┴───┴┐└┬────────┬┘│  ISWAP │    │  │P(π/4) \nq_3: ┤ H ├┤ Z ├┤ TDG ├─┤ P(π/8) ├─┤1       ├────X──■───────\n     └───┘└───┘└─────┘ └────────┘ └────────┘               </pre>"
     },
     "metadata": {},
     "execution_count": 2
    }
   ],
   "source": [
    "# construct a regular qiskit circuit\n",
    "qiskit_circ = qiskit.QuantumCircuit(4)\n",
    "\n",
    "qiskit_circ.h([0, 1, 2, 3])\n",
    "qiskit_circ.x([0, 1])\n",
    "qiskit_circ.y(2)\n",
    "qiskit_circ.z(3)\n",
    "qiskit_circ.s(0)\n",
    "qiskit_circ.sdg(1)\n",
    "qiskit_circ.t(2)\n",
    "qiskit_circ.tdg(3)\n",
    "qiskit_circ.rx(np.pi/4, 0)\n",
    "qiskit_circ.ry(np.pi/2, 1)\n",
    "qiskit_circ.rz(3*np.pi/4, 2)\n",
    "qiskit_circ.p(np.pi/8, 3)\n",
    "qiskit_circ.sx(0)\n",
    "qiskit_circ.sxdg(1)\n",
    "qiskit_circ.iswap(2, 3)\n",
    "qiskit_circ.swap([0, 1], [2, 3])\n",
    "qiskit_circ.cx(0, 1)\n",
    "qiskit_circ.cp(np.pi/4, 2, 3)\n",
    "\n",
    "qiskit_circ.draw()"
   ]
  },
  {
   "cell_type": "code",
   "execution_count": 3,
   "id": "d6e1b874",
   "metadata": {},
   "outputs": [
    {
     "output_type": "stream",
     "name": "stdout",
     "text": [
      "                                          ┌──┐\n0: ───H───X───S──────Rx(0.25π)───X^0.5─────×─────@────────\n                                           │     │\n1: ───H───X───S^-1───Ry(0.5π)────X^-0.5────┼×────X────────\n                                           ││\n2: ───H───Y───T──────Rz(0.75π)───iSwap─────×┼────@────────\n                                 │          │    │\n3: ───H───Z───T^-1───Z^(1/8)─────iSwap──────×────@^0.25───\n                                          └──┘\n"
     ]
    }
   ],
   "source": [
    "# Now let's make the same cirq circuit\n",
    "cirq_circuit = cirq.Circuit()\n",
    "\n",
    "# here the qubit ordering is normal, from 0 up to 3\n",
    "q0 = cirq.LineQubit(0)\n",
    "q1 = cirq.LineQubit(1)\n",
    "q2 = cirq.LineQubit(2)\n",
    "q3 = cirq.LineQubit(3)\n",
    "\n",
    "cirq_gates = [\n",
    "    cirq.H(q0),\n",
    "    cirq.H(q1),\n",
    "    cirq.H(q2),\n",
    "    cirq.H(q3),\n",
    "    cirq.X(q0),\n",
    "    cirq.X(q1),\n",
    "    cirq.Y(q2),\n",
    "    cirq.Z(q3),\n",
    "    cirq.S(q0),\n",
    "    cirq.ZPowGate(exponent=-0.5)(q1),\n",
    "    cirq.T(q2),\n",
    "    cirq.ZPowGate(exponent=-0.25)(q3),\n",
    "    cirq.rx(rads=np.pi / 4)(q0),\n",
    "    cirq.ry(rads=np.pi / 2)(q1),\n",
    "    cirq.rz(rads=3 * np.pi / 4)(q2),\n",
    "    cirq.ZPowGate(exponent=1 / 8)(q3),\n",
    "    cirq.XPowGate(exponent=0.5)(q0),\n",
    "    cirq.XPowGate(exponent=-0.5)(q1),\n",
    "    cirq.ISWAP(q2, q3),\n",
    "    cirq.SWAP(q0, q2),\n",
    "    cirq.SWAP(q1, q3),\n",
    "    cirq.CNOT(q0, q1),\n",
    "    cirq.CZPowGate(exponent=0.25)(q2, q3),\n",
    "]\n",
    "\n",
    "for gate in cirq_gates:\n",
    "    cirq_circuit.append(gate)\n",
    "\n",
    "# visually, this circuit appears the same as the original qiskit circuit\n",
    "print(cirq_circuit)"
   ]
  },
  {
   "cell_type": "code",
   "execution_count": 4,
   "id": "1e9eac19",
   "metadata": {},
   "outputs": [
    {
     "output_type": "execute_result",
     "data": {
      "text/plain": [
       "      ┌───┐┌───┐   ┌───┐   ┌─────────┐┌─────────┐                  \n",
       "q0_0: ┤ H ├┤ X ├───┤ S ├───┤ RX(π/4) ├┤ Unitary ├─X─────────■──────\n",
       "      ├───┤├───┤┌──┴───┴──┐├─────────┤├─────────┤ │       ┌─┴─┐    \n",
       "q0_1: ┤ H ├┤ X ├┤ P(-π/2) ├┤ Unitary ├┤ Unitary ├─┼──X────┤ X ├────\n",
       "      ├───┤├───┤└──┬───┬──┘├─────────┤└┬────────┤ │  │ ┌──┴───┴───┐\n",
       "q0_2: ┤ H ├┤ Y ├───┤ T ├───┤ P(3π/4) ├─┤0       ├─X──┼─┤0         ├\n",
       "      ├───┤├───┤┌──┴───┴──┐└┬────────┤ │  ISWAP │    │ │  Unitary │\n",
       "q0_3: ┤ H ├┤ Z ├┤ P(-π/4) ├─┤ P(π/8) ├─┤1       ├────X─┤1         ├\n",
       "      └───┘└───┘└─────────┘ └────────┘ └────────┘      └──────────┘"
      ],
      "text/html": "<pre style=\"word-wrap: normal;white-space: pre;background: #fff0;line-height: 1.1;font-family: &quot;Courier New&quot;,Courier,monospace\">      ┌───┐┌───┐   ┌───┐   ┌─────────┐┌─────────┐                  \nq0_0: ┤ H ├┤ X ├───┤ S ├───┤ RX(π/4) ├┤ Unitary ├─X─────────■──────\n      ├───┤├───┤┌──┴───┴──┐├─────────┤├─────────┤ │       ┌─┴─┐    \nq0_1: ┤ H ├┤ X ├┤ P(-π/2) ├┤ Unitary ├┤ Unitary ├─┼──X────┤ X ├────\n      ├───┤├───┤└──┬───┬──┘├─────────┤└┬────────┤ │  │ ┌──┴───┴───┐\nq0_2: ┤ H ├┤ Y ├───┤ T ├───┤ P(3π/4) ├─┤0       ├─X──┼─┤0         ├\n      ├───┤├───┤┌──┴───┴──┐└┬────────┤ │  ISWAP │    │ │  Unitary │\nq0_3: ┤ H ├┤ Z ├┤ P(-π/4) ├─┤ P(π/8) ├─┤1       ├────X─┤1         ├\n      └───┘└───┘└─────────┘ └────────┘ └────────┘      └──────────┘</pre>"
     },
     "metadata": {},
     "execution_count": 4
    }
   ],
   "source": [
    "# Now let's try transpiling a cirq circuit to qiskit. Transpiling the non-flipped cirq circuit to qiskit \n",
    "# should result in the same qiskit circuit and matrix representation as the original. \n",
    "qbraid_circuit_1 = qbraid_wrapper(cirq_circuit)\n",
    "qiskit_circuit_transpiled = qbraid_circuit_1.transpile(\"qiskit\")\n",
    "qiskit_unitary_transpiled = qiskit.quantum_info.Operator(qiskit_circuit_transpiled).data\n",
    "\n",
    "qiskit_circuit_transpiled.draw()"
   ]
  },
  {
   "cell_type": "code",
   "execution_count": null,
   "id": "8d6abc12",
   "metadata": {},
   "outputs": [],
   "source": []
  }
 ],
 "metadata": {
  "kernelspec": {
   "name": "python3",
   "display_name": "Python 3.9.4 64-bit ('qbraid-dev': conda)"
  },
  "language_info": {
   "codemirror_mode": {
    "name": "ipython",
    "version": 3
   },
   "file_extension": ".py",
   "mimetype": "text/x-python",
   "name": "python",
   "nbconvert_exporter": "python",
   "pygments_lexer": "ipython3",
   "version": "3.9.4"
  },
  "interpreter": {
   "hash": "a59a21ea5e4fa3b62996613976dc63f6cbb2c967f999dc0d9600c35fa4e66e18"
  }
 },
 "nbformat": 4,
 "nbformat_minor": 5
}