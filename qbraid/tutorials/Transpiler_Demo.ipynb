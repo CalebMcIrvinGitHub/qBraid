{
 "cells": [
  {
   "cell_type": "markdown",
   "metadata": {},
   "source": [
    "# qbraid-sdk Demo\n",
    "\n"
   ]
  },
  {
   "cell_type": "markdown",
   "metadata": {},
   "source": [
    "Suppose we take a basic circuit."
   ]
  },
  {
   "cell_type": "code",
   "execution_count": 27,
   "metadata": {},
   "outputs": [],
   "source": [
    "import cirq\n",
    "from cirq import Circuit as CirqCircuit\n",
    "import numpy as np\n",
    "\n",
    "q0 = cirq.LineQubit(0)\n",
    "q1 = cirq.LineQubit(1)\n",
    "\n",
    "circuit = CirqCircuit()\n",
    "theta=np.pi/2\n",
    "rz_gate = cirq.rz(theta)\n",
    "circuit.append(rz_gate(q0))\n",
    "circuit.append(rz_gate(q1))\n",
    "\n",
    "circuit.append(cirq.H(q0))\n",
    "circuit.append(cirq.CNOT(q0,q1))\n",
    "\n",
    "m0 = cirq.measure(q0, key=0)\n",
    "m1 = cirq.measure(q1, key=1)\n",
    "\n",
    "circuit.append([m0,m1])"
   ]
  },
  {
   "cell_type": "markdown",
   "metadata": {},
   "source": [
    "Just to see this circuit, let's print it out."
   ]
  },
  {
   "cell_type": "code",
   "execution_count": 28,
   "metadata": {},
   "outputs": [
    {
     "name": "stdout",
     "output_type": "stream",
     "text": [
      "0: ───Rz(0.5π)───H───@───M('0')───\n",
      "                     │\n",
      "1: ───Rz(0.5π)───────X───M('1')───\n"
     ]
    }
   ],
   "source": [
    "print(circuit)"
   ]
  },
  {
   "cell_type": "markdown",
   "metadata": {},
   "source": [
    "Now let's convert the circuit to an equivalent object in qiskit."
   ]
  },
  {
   "cell_type": "code",
   "execution_count": 29,
   "metadata": {},
   "outputs": [],
   "source": [
    "from qbraid import qbraid_wrapper\n",
    "qbraid_circuit = qbraid_wrapper(circuit)"
   ]
  },
  {
   "cell_type": "markdown",
   "metadata": {},
   "source": [
    "This qbraid wrapper enables the transpiler capability, as well as others."
   ]
  },
  {
   "cell_type": "code",
   "execution_count": 30,
   "metadata": {},
   "outputs": [
    {
     "data": {
      "image/png": "[encoded data removed]",
      "text/plain": [
       "<Figure size 413.849x204.68 with 1 Axes>"
      ]
     },
     "execution_count": 30,
     "metadata": {},
     "output_type": "execute_result"
    }
   ],
   "source": [
    "qiskit_circuit = qbraid_circuit.transpile('qiskit')\n",
    "qiskit_circuit.draw(output='mpl')"
   ]
  },
  {
   "cell_type": "markdown",
   "metadata": {},
   "source": [
    "# Run Circuits on Any Device\n",
    "\n",
    "Let's take the original circuit above and run it on an IBM simulator, say `qasm_simulator`. We can do this using qbraid's `execute` function. This function takes two required arguments: a circuit and a device. Many device's have a unique string associated with them, and are listed in the `qbraid-sdk` reference documentation [here](). The unique string for the `qasm_simulator` is, unsurprisingly, `IBM_qasm_simulator`."
   ]
  },
  {
   "cell_type": "code",
   "execution_count": 31,
   "metadata": {},
   "outputs": [
    {
     "name": "stdout",
     "output_type": "stream",
     "text": [
      "IBM\n"
     ]
    }
   ],
   "source": [
    "from qbraid import execute\n",
    "qbraid_result = execute(circuit,'IBM_qasm_simulator')"
   ]
  },
  {
   "cell_type": "markdown",
   "metadata": {},
   "source": [
    "qBraid has taken care of converting the circuit (originally written in `cirq`) to `qiskit` before execution. Now, we can see the results of the execution. The output is a qbraid `Result` object, which has a few standard features."
   ]
  },
  {
   "cell_type": "code",
   "execution_count": 32,
   "metadata": {},
   "outputs": [
    {
     "name": "stdout",
     "output_type": "stream",
     "text": [
      "{'00': 519, '01': 25, '10': 12, '11': 468}\n"
     ]
    }
   ],
   "source": [
    "counts = result.get_counts()\n",
    "print(counts)"
   ]
  },
  {
   "cell_type": "markdown",
   "metadata": {},
   "source": [
    "We can also visualize the results."
   ]
  },
  {
   "cell_type": "code",
   "execution_count": 33,
   "metadata": {},
   "outputs": [
    {
     "data": {
      "image/png": "[encoded data removed]",
      "text/plain": [
       "<Figure size 504x360 with 1 Axes>"
      ]
     },
     "execution_count": 33,
     "metadata": {},
     "output_type": "execute_result"
    }
   ],
   "source": [
    "from qiskit.visualization import plot_histogram\n",
    "plot_histogram(counts)"
   ]
  },
  {
   "cell_type": "markdown",
   "metadata": {},
   "source": [
    "To access functionality specific to IBM results, we can obtain the original qiskit result object as well."
   ]
  },
  {
   "cell_type": "code",
   "execution_count": 21,
   "metadata": {},
   "outputs": [
    {
     "name": "stdout",
     "output_type": "stream",
     "text": [
      "5093a916-0c62-4ca4-b8e3-d4a86d6cdfce\n"
     ]
    }
   ],
   "source": [
    "ibm_result = result.result\n",
    "print(ibm_result.job_id)"
   ]
  },
  {
   "cell_type": "markdown",
   "metadata": {},
   "source": [
    "# Running Any Circuit on a Custom Device\n",
    "\n",
    "Let's take the same circuit we've written in cirq and run it on a custom noisy simulator created using `qiskit`. First, we need to create the noise model, which requires IBMQ credentials."
   ]
  },
  {
   "cell_type": "code",
   "execution_count": 34,
   "metadata": {
    "collapsed": true,
    "jupyter": {
     "outputs_hidden": true
    },
    "tags": []
   },
   "outputs": [
    {
     "name": "stdin",
     "output_type": "stream",
     "text": [
      "Insert IBM Token 4e1823e5a34097a5a5034ccdd07539ec0eeb76f9417ae5ad96ec2c885215a509fd427a1cde271ba2a637559b03077b03dd3db4c0a8392dd743c24c17a9964cb9\n"
     ]
    },
    {
     "ename": "IBMQAccountError",
     "evalue": "'An IBM Quantum Experience account is already in use for the session.'",
     "output_type": "error",
     "traceback": [
      "\u001b[1;31m---------------------------------------------------------------------------\u001b[0m",
      "\u001b[1;31mIBMQAccountError\u001b[0m                          Traceback (most recent call last)",
      "\u001b[1;32m<ipython-input-34-aa56fa3755b5>\u001b[0m in \u001b[0;36m<module>\u001b[1;34m\u001b[0m\n\u001b[0;32m      1\u001b[0m \u001b[1;32mfrom\u001b[0m \u001b[0mqbraid\u001b[0m\u001b[1;33m.\u001b[0m\u001b[0maccounts\u001b[0m\u001b[1;33m.\u001b[0m\u001b[0mibm\u001b[0m \u001b[1;32mimport\u001b[0m \u001b[0mget_ibm_provider\u001b[0m\u001b[1;33m\u001b[0m\u001b[1;33m\u001b[0m\u001b[0m\n\u001b[1;32m----> 2\u001b[1;33m \u001b[0mprovider\u001b[0m \u001b[1;33m=\u001b[0m \u001b[0mget_ibm_provider\u001b[0m\u001b[1;33m(\u001b[0m\u001b[1;33m)\u001b[0m\u001b[1;33m\u001b[0m\u001b[1;33m\u001b[0m\u001b[0m\n\u001b[0m\u001b[0;32m      3\u001b[0m \u001b[1;31m# 4e1823e5a34097a5a5034ccdd07539ec0eeb76f9417ae5ad96ec2c885215a509fd427a1cde271ba2a637559b03077b03dd3db4c0a8392dd743c24c17a9964cb9\u001b[0m\u001b[1;33m\u001b[0m\u001b[1;33m\u001b[0m\u001b[1;33m\u001b[0m\u001b[0m\n",
      "\u001b[1;32mc:\\users\\erik\\documents\\qbraid\\qbraid\\accounts\\ibm.py\u001b[0m in \u001b[0;36mget_ibm_provider\u001b[1;34m()\u001b[0m\n\u001b[0;32m      3\u001b[0m \u001b[1;32mdef\u001b[0m \u001b[0mget_ibm_provider\u001b[0m\u001b[1;33m(\u001b[0m\u001b[1;33m)\u001b[0m\u001b[1;33m:\u001b[0m\u001b[1;33m\u001b[0m\u001b[1;33m\u001b[0m\u001b[0m\n\u001b[0;32m      4\u001b[0m \u001b[1;33m\u001b[0m\u001b[0m\n\u001b[1;32m----> 5\u001b[1;33m     \u001b[1;32mreturn\u001b[0m \u001b[0mIBMQ\u001b[0m\u001b[1;33m.\u001b[0m\u001b[0menable_account\u001b[0m\u001b[1;33m(\u001b[0m\u001b[0minput\u001b[0m\u001b[1;33m(\u001b[0m\u001b[1;34m\"Insert IBM Token\"\u001b[0m\u001b[1;33m)\u001b[0m\u001b[1;33m)\u001b[0m\u001b[1;33m\u001b[0m\u001b[1;33m\u001b[0m\u001b[0m\n\u001b[0m",
      "\u001b[1;32m~\\anaconda3\\envs\\qbraid-dev\\lib\\site-packages\\qiskit\\providers\\ibmq\\ibmqfactory.py\u001b[0m in \u001b[0;36menable_account\u001b[1;34m(self, token, url, hub, group, project, **kwargs)\u001b[0m\n\u001b[0;32m     91\u001b[0m         \u001b[1;31m# Check if an IBM Quantum Experience account is already in use.\u001b[0m\u001b[1;33m\u001b[0m\u001b[1;33m\u001b[0m\u001b[1;33m\u001b[0m\u001b[0m\n\u001b[0;32m     92\u001b[0m         \u001b[1;32mif\u001b[0m \u001b[0mself\u001b[0m\u001b[1;33m.\u001b[0m\u001b[0m_credentials\u001b[0m\u001b[1;33m:\u001b[0m\u001b[1;33m\u001b[0m\u001b[1;33m\u001b[0m\u001b[0m\n\u001b[1;32m---> 93\u001b[1;33m             raise IBMQAccountError(\n\u001b[0m\u001b[0;32m     94\u001b[0m                 'An IBM Quantum Experience account is already in use for the session.')\n\u001b[0;32m     95\u001b[0m \u001b[1;33m\u001b[0m\u001b[0m\n",
      "\u001b[1;31mIBMQAccountError\u001b[0m: 'An IBM Quantum Experience account is already in use for the session.'"
     ]
    }
   ],
   "source": [
    "from qbraid.accounts.ibm import get_ibm_provider\n",
    "provider = get_ibm_provider()\n",
    "# 4e1823e5a34097a5a5034ccdd07539ec0eeb76f9417ae5ad96ec2c885215a509fd427a1cde271ba2a637559b03077b03dd3db4c0a8392dd743c24c17a9964cb9"
   ]
  },
  {
   "cell_type": "markdown",
   "metadata": {},
   "source": [
    "Now that we have a provider, we can create the noisy device simulator."
   ]
  },
  {
   "cell_type": "code",
   "execution_count": 35,
   "metadata": {},
   "outputs": [],
   "source": [
    "from qiskit.providers.aer.noise import NoiseModel\n",
    "\n",
    "# Build noise model from backend properties\n",
    "backend = provider.get_backend('ibmq_lima')\n",
    "noise_model = NoiseModel.from_backend(backend)\n",
    "\n",
    "# Get coupling map from backend\n",
    "coupling_map = backend.configuration().coupling_map\n",
    "\n",
    "# Get basis gates from noise model\n",
    "basis_gates = noise_model.basis_gates"
   ]
  },
  {
   "cell_type": "markdown",
   "metadata": {},
   "source": [
    "Now, use qbraid's execute function. In addition to accepting a string identifier of many common backends, any additional `kwargs` that apply to qiskit devices can be passed along as well. In this case, we'll specify a our custom `noise_model`, and the corresponding `basis_gates` and `coupling_map`."
   ]
  },
  {
   "cell_type": "code",
   "execution_count": 36,
   "metadata": {},
   "outputs": [
    {
     "name": "stdout",
     "output_type": "stream",
     "text": [
      "IBM\n",
      "Execution successful\n"
     ]
    }
   ],
   "source": [
    "# Perform a noise simulation\n",
    "from qbraid import execute\n",
    "result = execute(circuit, 'IBM_qasm_simulator',\n",
    "                 coupling_map=coupling_map,\n",
    "                 basis_gates=basis_gates,\n",
    "                 noise_model=noise_model)\n",
    "if result:\n",
    "    print(\"Execution successful\")"
   ]
  },
  {
   "cell_type": "code",
   "execution_count": 37,
   "metadata": {},
   "outputs": [],
   "source": [
    "noisy_counts = result.get_counts()"
   ]
  },
  {
   "cell_type": "code",
   "execution_count": 39,
   "metadata": {},
   "outputs": [
    {
     "data": {
      "image/png": "[encoded data removed]",
      "text/plain": [
       "<Figure size 504x360 with 1 Axes>"
      ]
     },
     "execution_count": 39,
     "metadata": {},
     "output_type": "execute_result"
    }
   ],
   "source": [
    "from qiskit.visualization import plot_histogram\n",
    "plot_histogram(noisy_counts)"
   ]
  },
  {
   "cell_type": "markdown",
   "metadata": {},
   "source": [
    "# Device Information\n",
    "\n",
    "We can also use the qbraid device wrapper to get useful information about the backends."
   ]
  },
  {
   "cell_type": "code",
   "execution_count": null,
   "metadata": {},
   "outputs": [],
   "source": [
    "from qbraid import get_qbraid_device\n",
    "\n",
    "dev = get_qbraid_device('IBM_igmq_lima')\n",
    "print(dev.connectivity_graph)\n",
    "print(dev.qubits[0].data)"
   ]
  }
 ],
 "metadata": {
  "kernelspec": {
   "display_name": "Python 3",
   "language": "python",
   "name": "python3"
  },
  "language_info": {
   "codemirror_mode": {
    "name": "ipython",
    "version": 3
   },
   "file_extension": ".py",
   "mimetype": "text/x-python",
   "name": "python",
   "nbconvert_exporter": "python",
   "pygments_lexer": "ipython3",
   "version": "3.9.2"
  }
 },
 "nbformat": 4,
 "nbformat_minor": 4
}
