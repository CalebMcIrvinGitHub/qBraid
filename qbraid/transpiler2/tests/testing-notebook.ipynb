{
 "cells": [
  {
   "cell_type": "code",
   "execution_count": 1,
   "id": "e7b94397",
   "metadata": {},
   "outputs": [],
   "source": [
    "from typing import Optional\n",
    "\n",
    "import numpy as np\n",
    "\n",
    "import cirq\n",
    "from cirq import Circuit, LineQubit, NamedQubit, circuits, ops, protocols\n",
    "from cirq.ops import raw_types, gate_features\n",
    "from cirq.contrib.qasm_import.exception import QasmException\n",
    "\n",
    "from qiskit import QuantumCircuit, QuantumRegister\n",
    "from qiskit.circuit.random import random_circuit as qiskit_random_circuit\n",
    "from cirq.testing import random_circuit as cirq_random_circuit\n",
    "\n",
    "from transpiler.utils import _unitary_cirq, _int_from_qubit, _convert_to_line_qubits\n",
    "from transpiler.interface.qiskit.qiskit_utils import (\n",
    "    _unitary_qiskit,\n",
    "    _equal_unitaries,\n",
    ")\n",
    "from transpiler.interface.cirq_qasm_gates import U2Gate, U3Gate\n",
    "from transpiler.interface.qiskit.conversions import to_qiskit, from_qiskit, to_qasm\n",
    "\n",
    "QASMType = str"
   ]
  },
  {
   "cell_type": "code",
   "execution_count": null,
   "id": "73091ce6",
   "metadata": {},
   "outputs": [],
   "source": [
    "qiskit_circuit = "
   ]
  },
  {
   "cell_type": "code",
   "execution_count": null,
   "id": "822e556f",
   "metadata": {},
   "outputs": [],
   "source": []
  },
  {
   "cell_type": "code",
   "execution_count": null,
   "id": "37e789bb",
   "metadata": {},
   "outputs": [],
   "source": []
  },
  {
   "cell_type": "code",
   "execution_count": null,
   "id": "12278e18",
   "metadata": {},
   "outputs": [],
   "source": []
  },
  {
   "cell_type": "code",
   "execution_count": 2,
   "id": "9a1c01bf",
   "metadata": {},
   "outputs": [
    {
     "name": "stdout",
     "output_type": "stream",
     "text": [
      "0: ───Y───\n"
     ]
    }
   ],
   "source": [
    "cirq_circuit = cirq_random_circuit(qubits=1, n_moments=1, op_density=1, random_state=np.random.randint(1,10))\n",
    "print(cirq_circuit)"
   ]
  },
  {
   "cell_type": "code",
   "execution_count": 3,
   "id": "3d7fae56",
   "metadata": {},
   "outputs": [
    {
     "name": "stdout",
     "output_type": "stream",
     "text": [
      "   ┌───┐\n",
      "q: ┤ Y ├\n",
      "   └───┘\n"
     ]
    }
   ],
   "source": [
    "qiskit_circuit = to_qiskit(cirq_circuit)\n",
    "print(qiskit_circuit)"
   ]
  },
  {
   "cell_type": "code",
   "execution_count": 4,
   "id": "703556ec",
   "metadata": {},
   "outputs": [
    {
     "data": {
      "text/plain": [
       "True"
      ]
     },
     "execution_count": 4,
     "metadata": {},
     "output_type": "execute_result"
    }
   ],
   "source": [
    "_equal_unitaries(qiskit_circuit, cirq_circuit)"
   ]
  },
  {
   "cell_type": "code",
   "execution_count": 5,
   "id": "ea137515",
   "metadata": {},
   "outputs": [],
   "source": [
    "def test_random_to_qiskit(qubits, moments, density):\n",
    "    failed = []\n",
    "    for i in range(50):\n",
    "        cirq_circuit = cirq_random_circuit(\n",
    "            qubits=qubits,\n",
    "            n_moments=moments,\n",
    "            op_density=1,\n",
    "            random_state=np.random.randint(1,10)\n",
    "        )\n",
    "        try:\n",
    "            qiskit_circuit = to_qiskit(cirq_circuit)\n",
    "            equal = _equal_unitaries(qiskit_circuit, cirq_circuit)\n",
    "            if not equal:\n",
    "                for op in cirq_circuit.all_operations():\n",
    "                    failed.append(op)\n",
    "                print(\"====================\")\n",
    "                print(cirq_circuit)\n",
    "                print()\n",
    "                print(qiskit_circuit)\n",
    "                print()\n",
    "        except QasmException as err:\n",
    "            failed.append(str(err))\n",
    "    print(f\"========== Passed {100-len(failed)} Failed {len(failed)} ==========\")\n",
    "    for opr in failed:\n",
    "        print(opr)"
   ]
  },
  {
   "cell_type": "code",
   "execution_count": 6,
   "id": "49b36c72",
   "metadata": {},
   "outputs": [],
   "source": [
    "def test_random_from_qiskit(qubits, depth):\n",
    "    failed = []\n",
    "    for i in range(50):\n",
    "        qiskit_circuit = qiskit_random_circuit(qubits, depth)\n",
    "        try:\n",
    "            cirq_circuit = from_qiskit(qiskit_circuit)\n",
    "            equal = _equal_unitaries(qiskit_circuit, cirq_circuit)\n",
    "            if not equal:\n",
    "                for instruction, _, _, in qiskit_circuit.data:\n",
    "                    failed.append(instruction)\n",
    "                print(\"====================\")\n",
    "                print(qiskit_circuit)\n",
    "                print()\n",
    "                print(cirq_circuit)\n",
    "                print()\n",
    "        except QasmException as err:\n",
    "            failed.append(str(err))\n",
    "    print(f\"========== Passed {100-len(failed)} Failed {len(failed)} ==========\")\n",
    "    for instr in failed:\n",
    "        print(instr)"
   ]
  },
  {
   "cell_type": "code",
   "execution_count": 11,
   "id": "51e1444d",
   "metadata": {},
   "outputs": [
    {
     "name": "stdout",
     "output_type": "stream",
     "text": [
      "========== Passed 100 Failed 0 ==========\n"
     ]
    }
   ],
   "source": [
    "test_random_to_qiskit(5, 5, 1)"
   ]
  },
  {
   "cell_type": "code",
   "execution_count": null,
   "id": "34a0210f",
   "metadata": {},
   "outputs": [],
   "source": []
  }
 ],
 "metadata": {
  "kernelspec": {
   "display_name": "Python 3 (ipykernel)",
   "language": "python",
   "name": "python3"
  },
  "language_info": {
   "codemirror_mode": {
    "name": "ipython",
    "version": 3
   },
   "file_extension": ".py",
   "mimetype": "text/x-python",
   "name": "python",
   "nbconvert_exporter": "python",
   "pygments_lexer": "ipython3",
   "version": "3.9.7"
  }
 },
 "nbformat": 4,
 "nbformat_minor": 5
}
