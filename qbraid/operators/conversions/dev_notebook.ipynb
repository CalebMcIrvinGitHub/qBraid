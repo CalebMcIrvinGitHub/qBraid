{
 "cells": [
  {
   "cell_type": "code",
   "execution_count": null,
   "metadata": {},
   "outputs": [],
   "source": [
    "from pyquil import quil\n",
    "from pyquil import Program\n",
    "from pyquil.gates import *\n",
    "from pyquil import gates\n",
    "from pyquil.quilbase import Gate, Measurement\n",
    "import numpy as np\n",
    "p = Program()\n",
    "p.inst(H(0)) # A single instruction\n",
    "p += CNOT(0, 1)\n",
    "p += CNOT(1, 2)\n",
    "p+= RX(np.pi, 3)\n",
    "p += CNOT(3, 4)\n",
    "p.inst(H(0), H(1)) # Multiple instructions\n",
    "p.inst([H(0), H(1)]) # A list of instructions\n",
    "p.inst(H(i) for i in range(4)) # A generator of instructions\n",
    "p.inst((\"H\", 1)) # A tuple representing an instruction\n",
    "p.inst(\"H 0\") # A string representing an instruction\n",
    "q = Program()\n",
    "p.inst(q) # Another program\n",
    "print(p.get_qubits())"
   ]
  },
  {
   "cell_type": "code",
   "execution_count": null,
   "metadata": {},
   "outputs": [],
   "source": [
    "# print(p.instructions)\n",
    "\n",
    "# print(*p.instructions)\n",
    "# print(p._defined_gates)\n",
    "print(type(quil.get_classical_addresses_from_program(p)))\n",
    "classical_regs = quil.get_classical_addresses_from_program(p)\n",
    "print(classical_regs)\n",
    "print(len(classical_regs))\n",
    "for i in classical_regs:\n",
    "    print(i)\n",
    "    print(classical_regs[i])\n",
    "\n",
    "# string(i) = ClassicalRegister(len(classical_regs[i]))"
   ]
  },
  {
   "cell_type": "code",
   "execution_count": null,
   "metadata": {},
   "outputs": [],
   "source": [
    "g=p.instructions[3]\n",
    "print(type(p.instructions))\n",
    "print(p.get_qubits())\n",
    "# print(p.)\n",
    "print(isinstance(g,Gate))\n",
    "print(type(g))\n",
    "# print(isinstance(g,type(g)))\n",
    "print(g.name)\n",
    "print(g.params[0])\n",
    "print(g.qubits.__str__())"
   ]
  },
  {
   "cell_type": "code",
   "execution_count": null,
   "metadata": {},
   "outputs": [],
   "source": [
    "print(g.name)\n",
    "print(g.params[0])\n",
    "print(type(g.qubits))\n",
    "print(int(g.qubits[0].__str__()))\n",
    "print(g.qubits[0].index)"
   ]
  },
  {
   "cell_type": "code",
   "execution_count": null,
   "metadata": {},
   "outputs": [],
   "source": [
    "# ro = p.declare('ro', 'BIT', 3)\n",
    "\n",
    "p += X(0)\n",
    "# p += MEASURE(0, ro[0])\n",
    "p += MEASURE(0, 'ro')\n",
    "p += MEASURE(1, 'ro')\n",
    "\n",
    "# p += MEASURE(1, ro[1])\n",
    "# p += MEASURE(2, ro[2])\n",
    "ro1 = p.declare('ro1', 'BIT', 1)\n",
    "# p += MEASURE(3, ro3[2])\n"
   ]
  },
  {
   "cell_type": "code",
   "execution_count": null,
   "metadata": {},
   "outputs": [],
   "source": [
    "p.declare('Bo', 'BIT', 3)\n",
    "p += MEASURE(2, 'Bo[2]')\n"
   ]
  },
  {
   "cell_type": "code",
   "execution_count": null,
   "metadata": {},
   "outputs": [],
   "source": [
    "print(p)"
   ]
  },
  {
   "cell_type": "code",
   "execution_count": null,
   "metadata": {},
   "outputs": [],
   "source": [
    "ro2 = p.declare('ro2', 'BIT', 3)\n",
    "ro3 = p.declare('ro3', 'BIT', 3)\n",
    "ro1 = p.declare('ro1', 'BIT', 3)\n",
    "\n",
    "p += MEASURE(0, ro1[0])\n",
    "p += MEASURE(1, ro1[1])\n",
    "p += MEASURE(2, ro1[2])\n",
    "p += MEASURE(0, ro2[0])\n",
    "p += MEASURE(1, ro3[1])\n",
    "p += MEASURE(2, ro[2])\n",
    "ro1 = p.declare('ro1', 'BIT', 1)\n",
    "p += MEASURE(3, ro[0])\n",
    "ro1 = p.declare('ro1', 'BIT', 1)\n",
    "p += MEASURE(3, ro[0])\n",
    "print(type(p.instructions[18]))\n",
    "\n",
    "# print(p)\n"
   ]
  },
  {
   "cell_type": "code",
   "execution_count": null,
   "metadata": {},
   "outputs": [],
   "source": [
    "M=p.instructions[21]\n",
    "print(isinstance(M, Measurement))\n",
    "print()\n",
    "\n",
    "print(M.qubit.index)\n",
    "print(type(M.classical_reg.name))\n",
    "print(M.classical_reg.name)\n",
    "print(type(M.classical_reg))\n",
    "print(M.classical_reg.__str__()[len(M.classical_reg.name):])\n",
    "print(M.classical_reg.offset)"
   ]
  },
  {
   "cell_type": "code",
   "execution_count": null,
   "metadata": {},
   "outputs": [],
   "source": [
    "import matplotlib.pyplot as plt\n",
    "%matplotlib inline\n",
    "import numpy as np\n",
    "from math import pi\n",
    "\n",
    "from qiskit import QuantumCircuit, ClassicalRegister, QuantumRegister, execute\n",
    "from qiskit.tools.visualization import circuit_drawer\n",
    "from qiskit.quantum_info import state_fidelity\n",
    "from qiskit import BasicAer\n",
    "from qiskit.circuit import Gate, Measure"
   ]
  },
  {
   "cell_type": "code",
   "execution_count": null,
   "metadata": {},
   "outputs": [],
   "source": [
    "qc =  QuantumCircuit(2,2)\n",
    "# print(qc.has_r)\n",
    "# qc.u3(pi/2,pi/2,pi/2,q)\n",
    "qc.h([0,1])\n",
    "qc.x(1)\n",
    "qc.measure([0],[0])\n",
    "qc.h(0)\n",
    "qc.draw()\n",
    "# print(type((qc._data)))\n",
    "print(qc._data)\n",
    "print(qc.qregs)\n",
    "print(qc.cregs)"
   ]
  },
  {
   "cell_type": "code",
   "execution_count": null,
   "metadata": {
    "scrolled": true
   },
   "outputs": [],
   "source": [
    "# print(\"\\n\".join(dir(QuantumCircuit)))\n",
    "print(len(qc._data[3]))\n",
    "print(type(qc._data[3][1]))\n",
    "# print(qc._data[0:3])\n",
    "print(qc._data[1][0])\n",
    "print(type(qc._data[3][0]))\n",
    "print(isinstance(qc._data[2][0], Gate))\n",
    "print(qc._data[2][1][0].index)\n",
    "print(isinstance(qc._data[2][0],XGate))\n",
    "print(isinstance(qc._data[3][0], Measure))"
   ]
  },
  {
   "cell_type": "code",
   "execution_count": null,
   "metadata": {},
   "outputs": [],
   "source": [
    "print(qc._data[2][1][0].register.size)"
   ]
  },
  {
   "cell_type": "code",
   "execution_count": null,
   "metadata": {},
   "outputs": [],
   "source": [
    "from qiskit.circuit.library.standard_gates import *\n",
    "from qiskit.circuit.measure import Measure"
   ]
  },
  {
   "cell_type": "code",
   "execution_count": null,
   "metadata": {},
   "outputs": [],
   "source": [
    "print(isinstance(qc._data[3][0],Measure))"
   ]
  },
  {
   "cell_type": "code",
   "execution_count": null,
   "metadata": {},
   "outputs": [],
   "source": [
    "# qc.has_register()\n",
    "qr = QuantumRegister(2)\n",
    "cr = ClassicalRegister(4)\n",
    "qr1 = QuantumRegister(2)\n",
    "cr1 = ClassicalRegister(4,'c123')\n",
    "qr2 = QuantumRegister(2)\n",
    "cr2 = ClassicalRegister(4)\n",
    "qr3 = QuantumRegister(2)\n",
    "cr3 = ClassicalRegister(4,)\n",
    "\n",
    "qc1 = QuantumCircuit(qr1,qr,qr2,qr3,*[cr,cr1,cr2,cr3])\n",
    "qc1.rx(np.pi,qr2[0])\n",
    "qc1.h([qr[0],qr[1]])\n",
    "qc1.x(qr1[1])\n",
    "qc1.cx(qr1[0],qr[1])\n",
    "# qc1.measure([0],[1])\n",
    "# qc1.measure(qr[0],cr1[1])\n",
    "qc1.measure_all()\n",
    "\n",
    "# qc.h(0)\n",
    "qc1.draw()\n",
    "# print(type((qc._data)))\n",
    "# print(qc._data)\n",
    "print(qc1.cregs)\n",
    "\n",
    "for i in qc1.cregs[0:0]:\n",
    "    print(i)\n",
    "#     print(qc1.cregs.index(i))\n",
    "# print(type(qc1.cregs[0]))\n",
    "print(qc1.qregs)\n",
    "print(qc1.cregs[1].size)\n",
    "q_regs = qc1.qregs\n",
    "print(len(qc1.qubits))\n",
    "# print(qc1.get)\n",
    "# for qr in q_regs:\n",
    "#     print('num of qubits:', qr.)"
   ]
  },
  {
   "cell_type": "code",
   "execution_count": null,
   "metadata": {},
   "outputs": [],
   "source": [
    "# print(qc1.cregs.)\n",
    "print(type(qc1._data[3][1][0]))\n",
    "print(qc1._data[3][1][0].register.name)\n",
    "print(type(qc1._data[4][0]))\n",
    "# print(qc1._data[4][0][0].register.name)\n",
    "x=12\n",
    "str(x)\n"
   ]
  },
  {
   "cell_type": "code",
   "execution_count": null,
   "metadata": {},
   "outputs": [],
   "source": [
    "print(qc1._data[0][0].params)\n"
   ]
  },
  {
   "cell_type": "code",
   "execution_count": null,
   "metadata": {},
   "outputs": [],
   "source": [
    "print(*{'a':1, 'b':2, 'c':3})\n",
    "a=[1,2,3,4,'a',5]\n",
    "print(a.index('a'))"
   ]
  },
  {
   "cell_type": "code",
   "execution_count": null,
   "metadata": {},
   "outputs": [],
   "source": [
    "import cirq\n",
    "cirq.circuit"
   ]
  },
  {
   "cell_type": "code",
   "execution_count": 3,
   "metadata": {},
   "outputs": [
    {
     "output_type": "error",
     "ename": "ModuleNotFoundError",
     "evalue": "No module named 'openfermion.chem'",
     "traceback": [
      "\u001b[0;31m---------------------------------------------------------------------------\u001b[0m",
      "\u001b[0;31mModuleNotFoundError\u001b[0m                       Traceback (most recent call last)",
      "\u001b[0;32m<ipython-input-3-fc616d35a9ca>\u001b[0m in \u001b[0;36m<module>\u001b[0;34m\u001b[0m\n\u001b[0;32m----> 1\u001b[0;31m \u001b[0;32mfrom\u001b[0m \u001b[0mopenfermion\u001b[0m\u001b[0;34m.\u001b[0m\u001b[0mchem\u001b[0m \u001b[0;32mimport\u001b[0m \u001b[0mMolecularData\u001b[0m\u001b[0;34m\u001b[0m\u001b[0;34m\u001b[0m\u001b[0m\n\u001b[0m\u001b[1;32m      2\u001b[0m \u001b[0;32mfrom\u001b[0m \u001b[0mopenfermion\u001b[0m\u001b[0;34m.\u001b[0m\u001b[0mtransforms\u001b[0m \u001b[0;32mimport\u001b[0m \u001b[0mget_fermion_operator\u001b[0m\u001b[0;34m,\u001b[0m \u001b[0mjordan_wigner\u001b[0m\u001b[0;34m\u001b[0m\u001b[0;34m\u001b[0m\u001b[0m\n\u001b[1;32m      3\u001b[0m \u001b[0;32mfrom\u001b[0m \u001b[0mopenfermion\u001b[0m\u001b[0;34m.\u001b[0m\u001b[0mlinalg\u001b[0m \u001b[0;32mimport\u001b[0m \u001b[0mget_ground_state\u001b[0m\u001b[0;34m,\u001b[0m \u001b[0mget_sparse_operator\u001b[0m\u001b[0;34m\u001b[0m\u001b[0;34m\u001b[0m\u001b[0m\n\u001b[1;32m      4\u001b[0m \u001b[0;32mimport\u001b[0m \u001b[0mnumpy\u001b[0m\u001b[0;34m\u001b[0m\u001b[0;34m\u001b[0m\u001b[0m\n\u001b[1;32m      5\u001b[0m \u001b[0;32mimport\u001b[0m \u001b[0mscipy\u001b[0m\u001b[0;34m\u001b[0m\u001b[0;34m\u001b[0m\u001b[0m\n",
      "\u001b[0;31mModuleNotFoundError\u001b[0m: No module named 'openfermion.chem'"
     ]
    }
   ],
   "source": [
    "from openfermion.chem import MolecularData\n",
    "from openfermion.transforms import get_fermion_operator, jordan_wigner\n",
    "from openfermion.linalg import get_ground_state, get_sparse_operator\n",
    "import numpy\n",
    "import scipy\n",
    "import scipy.linalg"
   ]
  },
  {
   "cell_type": "code",
   "execution_count": null,
   "metadata": {},
   "outputs": [],
   "source": [
    "# Load saved file for LiH.\n",
    "diatomic_bond_length = 1.45\n",
    "geometry = [('Li', (0., 0., 0.)), ('H', (0., 0., diatomic_bond_length))]\n",
    "basis = 'sto-3g'\n",
    "multiplicity = 1\n",
    "\n",
    "# Set Hamiltonian parameters.\n",
    "active_space_start = 1\n",
    "active_space_stop = 3\n",
    "\n",
    "# Generate and populate instance of MolecularData.\n",
    "molecule = MolecularData(geometry, basis, multiplicity, description=\"1.45\")\n",
    "molecule.load()\n",
    "\n",
    "# Get the Hamiltonian in an active space.\n",
    "molecular_hamiltonian = molecule.get_molecular_hamiltonian(\n",
    "    occupied_indices=range(active_space_start),\n",
    "    active_indices=range(active_space_start, active_space_stop))\n",
    "\n",
    "# Map operator to fermions and qubits.\n",
    "fermion_hamiltonian = get_fermion_operator(molecular_hamiltonian)\n",
    "qubit_hamiltonian = jordan_wigner(fermion_hamiltonian)\n",
    "qubit_hamiltonian.compress()\n",
    "print('The Jordan-Wigner Hamiltonian in canonical basis follows:\\n{}'.format(qubit_hamiltonian))\n",
    "\n",
    "# Get sparse operator and ground state energy.\n",
    "sparse_hamiltonian = get_sparse_operator(qubit_hamiltonian)\n",
    "energy, state = get_ground_state(sparse_hamiltonian)\n",
    "print('Ground state energy before rotation is {} Hartree.\\n'.format(energy))\n",
    "\n",
    "# Randomly rotate.\n",
    "n_orbitals = molecular_hamiltonian.n_qubits // 2\n",
    "n_variables = int(n_orbitals * (n_orbitals - 1) / 2)\n",
    "numpy.random.seed(1)\n",
    "random_angles = numpy.pi * (1. - 2. * numpy.random.rand(n_variables))\n",
    "kappa = numpy.zeros((n_orbitals, n_orbitals))\n",
    "index = 0\n",
    "for p in range(n_orbitals):\n",
    "    for q in range(p + 1, n_orbitals):\n",
    "        kappa[p, q] = random_angles[index]\n",
    "        kappa[q, p] = -numpy.conjugate(random_angles[index])\n",
    "        index += 1\n",
    "\n",
    "    # Build the unitary rotation matrix.\n",
    "    difference_matrix = kappa + kappa.transpose()\n",
    "    rotation_matrix = scipy.linalg.expm(kappa)\n",
    "\n",
    "    # Apply the unitary.\n",
    "    molecular_hamiltonian.rotate_basis(rotation_matrix)\n",
    "\n",
    "# Get qubit Hamiltonian in rotated basis.\n",
    "qubit_hamiltonian = jordan_wigner(molecular_hamiltonian)\n",
    "qubit_hamiltonian.compress()\n",
    "print('The Jordan-Wigner Hamiltonian in rotated basis follows:\\n{}'.format(qubit_hamiltonian))\n",
    "\n",
    "# Get sparse Hamiltonian and energy in rotated basis.\n",
    "sparse_hamiltonian = get_sparse_operator(qubit_hamiltonian)\n",
    "energy, state = get_ground_state(sparse_hamiltonian)\n",
    "print('Ground state energy after rotation is {} Hartree.'.format(energy))\n"
   ]
  }
 ],
 "metadata": {
  "kernelspec": {
   "display_name": "Python 3",
   "language": "python",
   "name": "python3"
  },
  "language_info": {
   "codemirror_mode": {
    "name": "ipython",
    "version": 3
   },
   "file_extension": ".py",
   "mimetype": "text/x-python",
   "name": "python",
   "nbconvert_exporter": "python",
   "pygments_lexer": "ipython3",
   "version": "3.8.2-final"
  },
  "toc": {
   "base_numbering": 1,
   "nav_menu": {},
   "number_sections": true,
   "sideBar": true,
   "skip_h1_title": false,
   "title_cell": "Table of Contents",
   "title_sidebar": "Contents",
   "toc_cell": false,
   "toc_position": {
    "height": "calc(100% - 180px)",
    "left": "10px",
    "top": "150px",
    "width": "384px"
   },
   "toc_section_display": true,
   "toc_window_display": true
  }
 },
 "nbformat": 4,
 "nbformat_minor": 4
}