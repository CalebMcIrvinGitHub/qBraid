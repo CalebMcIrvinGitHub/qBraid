{
 "cells": [
  {
   "cell_type": "markdown",
   "metadata": {
    "cellId": "d54771be-3e31-4d3e-9934-9eb9e7ee7e71"
   },
   "source": [
    "<center><h1> Gate Map for Transpiler </h1></center>\n",
    "\n",
    "## Single-Qubit Gates\n",
    "\n",
    "**Zero-Parameters**\n",
    "\n",
    "| qBraid | Qiskit | Cirq | Braket |\n",
    "|:------ |:----- | :-----| :-------|\n",
    "| `'H'` | `HGate` | `HPowGate(exponent=1)` | `H`|\n",
    "| `'X` | `XGate` | `XPowGate(exponent=1)` | `X` |\n",
    "| `'Y'` | `YGate` | `YPowGate(exponent=1)` | `Y` |\n",
    "| `'Z'` | `ZGate` | `ZPowGate(exponent=1)` | `Z` |\n",
    "| `'S'` | `SGate` | `ZPowGate(exponent=0.5)` | `S` |\n",
    "| `'Sdg'` | `SdgGate` | `ZPowGate(exponent=-0.5)` | `Si` |\n",
    "| `'T'` | `TGate` | `ZPowGate(exponent=0.25)` | `T` |\n",
    "| `'Tdg'` | `TdgGate` | `ZPowGate(exponent=0.25)` | `Ti` |\n",
    "| `'I'` | `IGate` | `pass` | `I` |\n",
    "| `'SX'` | `SXGate` | `XPowGate(exponent=0.5)` | `V` |\n",
    "| `'SXdg'` | `SXdgGate` | `XPowGate(exponent=-0.5)` | `Vi` |"
   ]
  },
  {
   "cell_type": "markdown",
   "metadata": {
    "cellId": "d54771be-3e31-4d3e-9934-9eb9e7ee7e71"
   },
   "source": [
    "**One-Parameter**\n",
    "\n",
    "| qBraid | Qiskit | Cirq | Braket |\n",
    "| :---- |:----- | :-----| :------ |\n",
    "| `Phase` | `Phase` or `U1` | `ZPowGate(exponent=rads/pi)` | `PhaseShift` |\n",
    "| `RX` | `RX` | `XPowGate(exponent=rads/pi, global_shift=-0.5)` or `cirq.rx`| `Rx` |\n",
    "| `RY` | `RY` | `YPowGate(exponent=rads/pi, global_shift=-0.5)` or `cirq.ry` | `Ry` |\n",
    "| `RZ` | `RZ` | `ZPowGate(exponent=rads/pi, global_shift=-0.5)` or `cirq.rz`| `Rz` |\n",
    "| `HPow` | `pass` | `HPowGate` | ` ` |\n",
    "| `XPow` | `pass` | `XPowGate` | ` ` |\n",
    "| `YPow` | `pass` | `YPowGate` | ` ` |\n",
    "| `ZPow` | `pass` | `ZPowGate` | ` ` |"
   ]
  },
  {
   "cell_type": "markdown",
   "metadata": {
    "cellId": "d54771be-3e31-4d3e-9934-9eb9e7ee7e71"
   },
   "source": [
    "**Two-Parameter**\n",
    "\n",
    "| Qiskit | Cirq | Braket |\n",
    "|:----- | :-----| :-------|\n",
    "| R | | |\n",
    "| U2 | | |\n",
    "\n",
    "**Three-Parameter**\n",
    "\n",
    "| Qiskit | Cirq |\n",
    "|:----- | :-----|\n",
    "| U |\n",
    "| U3 | custom `CirqU3` |\n",
    "\n",
    "**General Unitary**\n",
    "\n",
    "|qBraid| Qiskit | Cirq | Braket |\n",
    "|:------|:----- | :-----| :-----|\n",
    "| `Unitary` | ` ` | `MatrixGate` | `Unitary` |\n",
    "\n",
    "**Measurement**\n",
    "\n",
    "|qBraid| Qiskit | Cirq |\n",
    "|:------|:----- | :-----|\n",
    "| `MEASURE` | ` ` | `MeasurementGate` |"
   ]
  },
  {
   "cell_type": "markdown",
   "metadata": {
    "cellId": "229a3e20-89aa-43b7-aa22-84042e7a9256"
   },
   "source": [
    "## Two-Qubit Gates\n",
    "\n",
    "**Zero-Parameter**\n",
    "\n",
    "| qBraid | Qiskit | Cirq | Braket |\n",
    "|:----- | :-----|:------ | :-----|\n",
    "| `'CH'` | `CHGate` | `HGate.controlled` | |\n",
    "| `'CX'` | `CXGate` |`CXPowGate(exponent=1)` | `CNot` |\n",
    "| `'Swap'` | `SwapGate`| `SwapPowGate(exponent=1)` | `Swap` |\n",
    "| `'iSwap'` | `iSwapGate` | `ISwapPowGate(exponent=1)` | `ISwap` |\n",
    "| `'pSwap'` | | | `PSwap`\n",
    "| `'CSX'` | `CSXGate` | `pass` | `pass` |\n",
    "| `'DCX'` | ` ` | `pass` | `pass` |\n",
    "| `'CY'` | ` ` | `YGate.controlled` | `CY` |\n",
    "| `'CZ'` | ` ` | `CZPowGate(exponent=1)` | `CZ` |"
   ]
  },
  {
   "cell_type": "markdown",
   "metadata": {
    "cellId": "229a3e20-89aa-43b7-aa22-84042e7a9256"
   },
   "source": [
    "**One Parameter**\n",
    "\n",
    "| qBraid | Qiskit | Cirq | Braket |\n",
    "|:------- |:----- | :-----| :------|\n",
    "| `'CPhase'` | `CPhaseGate` | `cphase = CZPowGate(exponent=rads/pi)` | `CPhase`\n",
    "| `' '` | `CRXGate` | `pass` | `pass` |\n",
    "| `'RXX'` | RXXGate | `Cirq.XXPowGate(exponent = )` | `XX(angle)`|\n",
    "| `'RXY'` | `pass` | `pass` | `XY(angle)` |\n",
    "| `'CRY'` | CRYGate |\n",
    "| `'RYY'` | RYYGate | `Cirq.YYPowGate(exponent = )` | `YY(angle)`|\n",
    "| `'CRZ'` | CRZGate |\n",
    "| `'RZX'` | RZXGate | `pass` | |\n",
    "| `'RZZ'` | RZZGate | `Cirq.ZZPowGate(exponent = )` | `ZZ(angle)`|\n",
    "| `' '` | CU1Gate |\n",
    "\n",
    "\n",
    "**Two Parameters**\n",
    "\n",
    "| Qiskit | Cirq |\n",
    "|:----- | :-----|\n",
    "\n",
    "**Three Parameters**\n",
    "\n",
    "| Qiskit | Cirq |\n",
    "|:----- | :-----|\n",
    "\n",
    "\n",
    "**Four Parameters**\n",
    "\n",
    "| Qiskit | Cirq |\n",
    "|:----- | :-----|\n",
    "| CU |"
   ]
  },
  {
   "cell_type": "markdown",
   "metadata": {
    "cellId": "95cae0a2-0902-474d-9654-7d3b3498599b"
   },
   "source": [
    "## Multi-Qubit Gates\n",
    "\n",
    "**Zero-Parameter**\n",
    "\n",
    "| Qiskit | Cirq |\n",
    "|:----- | :-----|\n",
    "| RCCX (Simplified Toffoli Gate) |\n",
    "| RC3X (Simplified 3-Controlled Toffoli Gate) |\n",
    "| CCX | `CCXPowGate(exponent=1)` |\n",
    "| MCXGrayCode |\n",
    "| MCXRecursive |\n",
    "| MCXVChain |\n",
    "| CSwap | `CSwapGate`\n",
    "\n",
    "**One Parameter**\n",
    "\n",
    "| Qiskit | Cirq |\n",
    "|:----- | :-----|\n",
    "| MCU1 |\n",
    "| MCPhase |\n",
    "\n",
    "\n",
    "## Other\n",
    "\n",
    "Molmer-Sorensen Gate"
   ]
  },
  {
   "cell_type": "markdown",
   "metadata": {
    "cellId": "1db6f965-0bb7-4aca-bfa3-31c450c95629"
   },
   "source": [
    "# Single-Qubit, Zero-parameter Gates"
   ]
  },
  {
   "cell_type": "markdown",
   "metadata": {
    "cellId": "4251cd80-4dc6-466f-b166-203133c02e04"
   },
   "source": [
    "### Hadamard Gate\n",
    "\n",
    "Defined in the qBraid transpiler as:\n",
    "\n",
    "$$H= \\frac{1}{\\sqrt{2}}\\begin{bmatrix} 1 & 1\\\\ 1 & -1 \\end{bmatrix}$$\n",
    "\n",
    "The following table describes how the Hadamard gate is defined in each of the packages:\n",
    "\n",
    "| Package | Object | Location |Mathematical Definition | Link to Documentation |\n",
    "| :---: | :---- | :---- | :---- | :---- |\n",
    "| Qiskit | `HGate()` | `qiskit.circuit.library.standard_gates.h` | | |\n",
    "| Cirq | `HPowGate(exponent=1)` | `cirq.ops.common_gates` |\n",
    "| Braket | `H` | `braket.gates` |"
   ]
  },
  {
   "cell_type": "markdown",
   "metadata": {
    "cellId": "277c61ff-205f-4aa5-a8a3-ba3c732c628a"
   },
   "source": [
    "### X Gate\n",
    "\n",
    "Defined as:\n",
    "\n",
    "$$X = \\begin{bmatrix} 1 & 0\\\\0 & 1 \\end{bmatrix}$$\n",
    "\n",
    "The following table describes how the Hadamard gate is defined in each of the packages:\n",
    "\n",
    "| Package | Object | Location |Mathematical Definition | Link to Documentation |\n",
    "| :---: | :---- | :---- | :---- | :---- |\n",
    "| Qiskit | `XGate()` | `qiskit.circuit.library.standard_gates.x` | | |\n",
    "| Cirq | `XPowGate(exponent=1)` | `cirq.ops.common_gates` |\n",
    "| Braket | `X` | `braket.gates` | | |\n"
   ]
  },
  {
   "cell_type": "markdown",
   "metadata": {
    "cellId": "bdfd6cfe-7683-4979-94b7-9311ab833036"
   },
   "source": [
    "### Y Gate\n",
    "\n",
    "Defined as:\n",
    "\n",
    "$$Y = \\begin{bmatrix} 0 & -i\\\\i & 0 \\end{bmatrix}$$\n",
    "\n",
    "The following table describes how the _ gate is defined in each of the packages:\n",
    "\n",
    "| Package | Object | Location |Mathematical Definition | Link to Documentation |\n",
    "| :---: | :---- | :---- | :---- | :---- |\n",
    "| Qiskit | \n",
    "| Cirq | \n",
    "| Braket | "
   ]
  },
  {
   "cell_type": "markdown",
   "metadata": {
    "cellId": "334f2fd4-6a61-4f6b-a627-a99057145732"
   },
   "source": [
    "### Z Gate\n",
    "\n",
    "Defined as:\n",
    "\n",
    "$$Z = \\begin{bmatrix} 1 & 0\\\\0 & -1 \\end{bmatrix}$$\n",
    "\n",
    "The following table describes how the _ gate is defined in each of the packages:\n",
    "\n",
    "| Package | Object | Location |Mathematical Definition | Link to Documentation |\n",
    "| :---: | :---- | :---- | :---- | :---- |\n",
    "| Qiskit | \n",
    "| Cirq | \n",
    "| Braket | "
   ]
  },
  {
   "cell_type": "markdown",
   "metadata": {
    "cellId": "b6f0c083-f28a-442b-9955-4d171e0e2f41"
   },
   "source": [
    "### S Gate\n",
    "\n",
    "Defined as:\n",
    "\n",
    "$$S = \\begin{bmatrix} 1 & 0\\\\0 & i \\end{bmatrix}$$\n",
    "\n",
    "The following table describes how the _ gate is defined in each of the packages:\n",
    "\n",
    "| Package | Object | Location |Mathematical Definition | Link to Documentation |\n",
    "| :---: | :---- | :---- | :---- | :---- |\n",
    "| Qiskit | \n",
    "| Cirq | \n",
    "| Braket | "
   ]
  },
  {
   "cell_type": "markdown",
   "metadata": {
    "cellId": "04e213c8-a20f-45e3-8d0c-3eaf53971721"
   },
   "source": [
    "### T Gate\n",
    "\n",
    "Defined as:\n",
    "\n",
    "$$X = \\begin{bmatrix} 1 & 0\\\\0 & e^{i\\pi / 4} \\end{bmatrix}$$\n",
    "\n",
    "The following table describes how the _ gate is defined in each of the packages:\n",
    "\n",
    "| Package | Object | Location |Mathematical Definition | Link to Documentation |\n",
    "| :---: | :---- | :---- | :---- | :---- |\n",
    "| Qiskit | \n",
    "| Cirq | \n",
    "| Braket | "
   ]
  },
  {
   "cell_type": "markdown",
   "metadata": {
    "cellId": "bce85b53-7d6b-4385-8eb1-00391f98faf0"
   },
   "source": [
    "# Single-Qubit, One-Parameter Gates"
   ]
  },
  {
   "cell_type": "markdown",
   "metadata": {
    "cellId": "c91f1a25-7df6-4879-947e-09f54d70deb6"
   },
   "source": [
    "### RX Gate\n",
    "\n",
    "Defined as:\n",
    "\n",
    "$$ \\newcommand{\\th}{\\frac{\\theta}{2}}$$\n",
    "$$ RX(\\theta) = exp(-i \\tfrac{\\theta}{2} X) =\n",
    "            \\begin{bmatrix}\n",
    "                \\cos{\\th}   & -i\\sin{\\th} \\\\\n",
    "                -i\\sin{\\th} & \\cos{\\th}\n",
    "            \\end{bmatrix}$$\n",
    "            \n",
    "The following table describes how the _ gate is defined in each of the packages:\n",
    "\n",
    "| Package | Object | Location |Mathematical Definition | Link to Documentation |\n",
    "| :---: | :---- | :---- | :---- | :---- |\n",
    "| Qiskit | \n",
    "| Cirq | \n",
    "| Braket | "
   ]
  },
  {
   "cell_type": "markdown",
   "metadata": {
    "cellId": "852177b6-6851-4a68-ba35-77aab8197d2d"
   },
   "source": [
    "### RY Gate\n",
    "\n",
    "Defined as:\n",
    "\n",
    "$$ \\newcommand{\\th}{\\frac{\\theta}{2}}$$\n",
    "$$ RY(\\theta) = exp(-i \\th Y) =\n",
    "            \\begin{bmatrix}\n",
    "                \\cos{\\th} & -\\sin{\\th} \\\\\n",
    "                \\sin{\\th} & \\cos{\\th}\n",
    "            \\end{bmatrix}$$\n",
    "            \n",
    "The following table describes how the _ gate is defined in each of the packages:\n",
    "\n",
    "| Package | Object | Location |Mathematical Definition | Link to Documentation |\n",
    "| :---: | :---- | :---- | :---- | :---- |\n",
    "| Qiskit | \n",
    "| Cirq | \n",
    "| Braket | "
   ]
  },
  {
   "cell_type": "markdown",
   "metadata": {
    "cellId": "932c84ff-c708-4994-b7e0-9e46324d332b"
   },
   "source": [
    "### RZ Gate\n",
    "\n",
    "Defined as: \n",
    "$$ RZ(\\lambda) = exp(-i\\frac{\\lambda}{2}Z) =\n",
    "            \\begin{bmatrix}\n",
    "                e^{-i\\frac{\\lambda}{2}} & 0 \\\\\n",
    "                0 & e^{i\\frac{\\lambda}{2}}\n",
    "            \\end{bmatrix}$$\n",
    "            \n",
    "The following table describes how the _ gate is defined in each of the packages:\n",
    "\n",
    "| Package | Object | Location |Mathematical Definition | Link to Documentation |\n",
    "| :---: | :---- | :---- | :---- | :---- |\n",
    "| Qiskit | \n",
    "| Cirq | \n",
    "| Braket | "
   ]
  },
  {
   "cell_type": "markdown",
   "metadata": {
    "cellId": "fcc635f9-bdb9-45be-9090-b28aa5129c5a"
   },
   "source": [
    "### Phase Gate\n",
    "\n",
    "Defined as:\n",
    "$$P(\\lambda) =\n",
    "            \\begin{bmatrix}\n",
    "                1 & 0 \\\\\n",
    "                0 & e^{i\\lambda}\n",
    "            \\end{bmatrix}$$\n",
    "            \n",
    "The following table describes how the `Phase` gate is defined in various packages:\n",
    "\n",
    "| Package | Object ||Mathematical Definition | \n",
    "| :---: | :---- | :---- | :---- |\n",
    "| [Qiskit]() | `PhaseGate(\\lambda)` | |\n",
    "| [Cirq]() | `ZPowGate(exponent=t)` where $t=\\lambda/\\pi$  | |\n",
    "| [Braket]() | `PhaseShift`| |"
   ]
  },
  {
   "cell_type": "markdown",
   "metadata": {
    "cellId": "63116033-5923-434e-93b0-f6313a8d7b40"
   },
   "source": [
    "### U1 Gate"
   ]
  },
  {
   "cell_type": "markdown",
   "metadata": {
    "cellId": "1ce46eaf-1bc1-48f9-ad12-bef8db90fed1"
   },
   "source": [
    "## Single-Qubit, Two-Parameter Gates"
   ]
  },
  {
   "cell_type": "markdown",
   "metadata": {
    "cellId": "97026c58-da51-4464-82fc-6d88906641b4"
   },
   "source": [
    "### U2 Gate\n",
    "\n",
    "$$U2(\\phi, \\lambda) = \\frac{1}{\\sqrt{2}}\n",
    "    \\begin{bmatrix}\n",
    "        1          & -e^{i\\lambda} \\\\\n",
    "        e^{i\\phi} & e^{i(\\phi+\\lambda)}\n",
    "    \\end{bmatrix}$$"
   ]
  },
  {
   "cell_type": "markdown",
   "metadata": {
    "cellId": "1eb4645f-d4fb-4eda-97bd-3a0f833f593f"
   },
   "source": [
    "## Single-Qubit, Three-Parameter Gates"
   ]
  },
  {
   "cell_type": "markdown",
   "metadata": {
    "cellId": "a1914ed8-9a58-476d-aebb-c6bdfe16ff88"
   },
   "source": [
    "### U3 Gate\n",
    "\n",
    "$$\\begin{align}\\begin{aligned}\\newcommand{\\th}{\\frac{\\theta}{2}}\\\\\\begin{split}U3(\\theta, \\phi, \\lambda) =\n",
    "    \\begin{bmatrix}\n",
    "        \\cos(\\th)          & -e^{i\\lambda}\\sin(\\th) \\\\\n",
    "        e^{i\\phi}\\sin(\\th) & e^{i(\\phi+\\lambda)}\\cos(\\th)\n",
    "    \\end{bmatrix}\\end{split}\\end{aligned}\\end{align}$$"
   ]
  },
  {
   "cell_type": "markdown",
   "metadata": {
    "cellId": "35a227a5-bce5-4f74-9bcc-ee7a7c60126c"
   },
   "source": [
    "## Single-Qubit Gate by Matrix"
   ]
  },
  {
   "cell_type": "markdown",
   "metadata": {
    "cellId": "7b2dfc58-6583-498b-879d-e2142bc24c2d"
   },
   "source": [
    "## Cirq HPowGate\n",
    "\n",
    "$$\\newcommand{\\g}[0]{e^{i\\pi t/2}}$$\n",
    "$$\\newcommand{\\c}[0]{\\cos(\\pi t/2)}$$\n",
    "$$\\newcommand{\\s}[0]{\\sin(\\pi t/2)}$$\n",
    "$$\\begin{bmatrix}\\g \\big(\\c-i·\\frac{\\s}{\\sqrt{2}}\\big) & -i \\g \\frac{\\s}{\\sqrt{2}} \\\\ -i \\g \\frac{\\s}{\\sqrt{2}} & \\g \\big( \\c+i·\\frac{\\s}{\\sqrt{2}} \\big) \\end{bmatrix}$$"
   ]
  },
  {
   "cell_type": "markdown",
   "metadata": {
    "cellId": "d3eb9b06-d4f0-4c98-b4f5-8f307eeb7313"
   },
   "source": [
    "## Two-Qubit, Zero-Parameter Gates"
   ]
  },
  {
   "cell_type": "markdown",
   "metadata": {
    "cellId": "15bc1398-f02e-4095-85df-7ae04b063337"
   },
   "source": [
    "### CX Gate\n",
    "\n",
    "$$\n",
    "\n",
    "$$"
   ]
  },
  {
   "cell_type": "markdown",
   "metadata": {
    "cellId": "99ab40be-0d4c-46e5-97ba-3d1b1472e62b"
   },
   "source": [
    "### CY Gate"
   ]
  },
  {
   "cell_type": "markdown",
   "metadata": {
    "cellId": "c00a5675-ddf3-4e1a-be2a-05af544132c8"
   },
   "source": [
    "### CZ Gate"
   ]
  },
  {
   "cell_type": "markdown",
   "metadata": {
    "cellId": "d872fa8e-af6a-47d8-a380-c1661bf52f23"
   },
   "source": [
    "### CH\n",
    "\n",
    "$$\n",
    "CH\\ q_0, q_1 =\n",
    "            I \\otimes |0\\rangle\\langle 0| + H \\otimes |1\\rangle\\langle 1| =\n",
    "            \\begin{pmatrix}\n",
    "                1 & 0 & 0 & 0 \\\\\n",
    "                0 & \\frac{1}{\\sqrt{2}} & 0 & \\frac{1}{\\sqrt{2}} \\\\\n",
    "                0 & 0 & 1 & 0 \\\\\n",
    "                0 & \\frac{1}{\\sqrt{2}} & 0 & -\\frac{1}{\\sqrt{2}}\n",
    "            \\end{pmatrix}\n",
    "$$\n",
    "\n",
    "$$CH\\ q_1, q_0 =\n",
    "                |0\\rangle\\langle 0| \\otimes I + |1\\rangle\\langle 1| \\otimes H =\n",
    "                \\begin{pmatrix}\n",
    "                    1 & 0 & 0 & 0 \\\\\n",
    "                    0 & 1 & 0 & 0 \\\\\n",
    "                    0 & 0 & \\frac{1}{\\sqrt{2}} & \\frac{1}{\\sqrt{2}} \\\\\n",
    "                    0 & 0 & \\frac{1}{\\sqrt{2}} & -\\frac{1}{\\sqrt{2}}\n",
    "                \\end{pmatrix}$$"
   ]
  },
  {
   "cell_type": "markdown",
   "metadata": {
    "cellId": "f14b4c2b-ffcb-4dae-801b-71c68b9154a1"
   },
   "source": [
    "### SWAP Gate"
   ]
  },
  {
   "cell_type": "markdown",
   "metadata": {
    "cellId": "2efb77f6-1012-4b81-bb6a-7175ef73d13a"
   },
   "source": [
    "## Two-Qubit, One-Parameter Gates"
   ]
  },
  {
   "cell_type": "markdown",
   "metadata": {
    "cellId": "1f3b6a89-e653-491f-b34e-ca05bf4153b2"
   },
   "source": [
    "### CRX Gate"
   ]
  },
  {
   "cell_type": "markdown",
   "metadata": {
    "cellId": "cbfb9f3b-3844-41d7-9032-eea1e992b9f4"
   },
   "source": [
    "### CRY Gate"
   ]
  },
  {
   "cell_type": "markdown",
   "metadata": {
    "cellId": "213d0541-3631-44be-af4f-12d6ccc30463"
   },
   "source": [
    "### CRZ Gate"
   ]
  },
  {
   "cell_type": "markdown",
   "metadata": {
    "cellId": "309f5408-ac3c-43b8-ad1b-eaa3860f8dca"
   },
   "source": [
    "###  Gate"
   ]
  },
  {
   "cell_type": "markdown",
   "metadata": {
    "cellId": "5e2e5494-781e-4dd4-947a-38e37bac1573"
   },
   "source": [
    "###  Gate"
   ]
  },
  {
   "cell_type": "code",
   "execution_count": null,
   "metadata": {
    "cellId": "b895df86-e315-44c1-bd2d-c78d33f42ac4"
   },
   "outputs": [],
   "source": []
  }
 ],
 "metadata": {
  "kernelspec": {
   "display_name": "Python 3",
   "language": "python",
   "name": "python3"
  },
  "language_info": {
   "codemirror_mode": {
    "name": "ipython",
    "version": 3
   },
   "file_extension": ".py",
   "mimetype": "text/x-python",
   "name": "python",
   "nbconvert_exporter": "python",
   "pygments_lexer": "ipython3",
   "version": "3.7.6"
  }
 },
 "nbformat": 4,
 "nbformat_minor": 4
}
