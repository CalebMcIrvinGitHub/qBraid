{
 "cells": [
  {
   "cell_type": "markdown",
   "id": "b0ebc129",
   "metadata": {},
   "source": [
    "# qBraid-sdk Transpiler"
   ]
  },
  {
   "cell_type": "code",
   "execution_count": 1,
   "id": "5a9fcddc",
   "metadata": {},
   "outputs": [],
   "source": [
    "import braket\n",
    "from braket.circuits.gate import Gate as BraketGate\n",
    "from braket.circuits.instruction import Instruction as BraketInstruction\n",
    "import cirq\n",
    "import qiskit\n",
    "from qiskit.circuit import Parameter\n",
    "import numpy as np\n",
    "from qbraid.transpiler.transpiler import qbraid_wrapper"
   ]
  },
  {
   "cell_type": "markdown",
   "id": "d9134b78",
   "metadata": {},
   "source": [
    "### Transpile circuits between braket, cirq, and qiskit"
   ]
  },
  {
   "cell_type": "markdown",
   "id": "45d02671",
   "metadata": {},
   "source": [
    "1. Create circuit using any qBraid supported package, e.g. braket"
   ]
  },
  {
   "cell_type": "code",
   "execution_count": 2,
   "id": "66dcbdee",
   "metadata": {},
   "outputs": [],
   "source": [
    "braket_circuit_0 = braket.circuits.Circuit()\n",
    "\n",
    "instructions = [\n",
    "    BraketInstruction(BraketGate.H(), 0),\n",
    "    BraketInstruction(BraketGate.X(), 1),\n",
    "    BraketInstruction(BraketGate.Y(), 2),\n",
    "    BraketInstruction(BraketGate.Z(), 1),\n",
    "    BraketInstruction(BraketGate.S(), 0),\n",
    "    BraketInstruction(BraketGate.Si(), 1),\n",
    "    BraketInstruction(BraketGate.T(), 2),\n",
    "    BraketInstruction(BraketGate.Ti(), 1),\n",
    "    BraketInstruction(BraketGate.I(), 0),\n",
    "    BraketInstruction(BraketGate.V(), 0),\n",
    "    BraketInstruction(BraketGate.Vi(), 2),\n",
    "    BraketInstruction(BraketGate.PhaseShift(np.pi), 2),\n",
    "    BraketInstruction(BraketGate.Rx(np.pi), 0),\n",
    "    BraketInstruction(BraketGate.Ry(np.pi), 1),\n",
    "    BraketInstruction(BraketGate.Rz(np.pi / 2), 2),\n",
    "    BraketInstruction(BraketGate.CNot(), [1, 0]),\n",
    "    BraketInstruction(BraketGate.Swap(), [1, 2]),\n",
    "    BraketInstruction(BraketGate.ISwap(), [1, 2]),\n",
    "    BraketInstruction(BraketGate.PSwap(np.pi), [0, 1]),\n",
    "    BraketInstruction(BraketGate.CY(), [0, 1]),\n",
    "    BraketInstruction(BraketGate.CZ(), [1, 0]),\n",
    "    BraketInstruction(BraketGate.CPhaseShift(np.pi / 4), [2, 0]),\n",
    "    BraketInstruction(BraketGate.XX(np.pi), [0, 1]),\n",
    "    BraketInstruction(BraketGate.XY(np.pi), [0, 1]),\n",
    "    BraketInstruction(BraketGate.YY(np.pi), [0, 1]),\n",
    "    BraketInstruction(BraketGate.ZZ(np.pi), [0, 1]),\n",
    "    BraketInstruction(BraketGate.CCNot(), [0, 1, 2]),\n",
    "]\n",
    "\n",
    "for inst in instructions:\n",
    "    braket_circuit_0.add_instruction(inst)"
   ]
  },
  {
   "cell_type": "code",
   "execution_count": 3,
   "id": "a63ac53e",
   "metadata": {},
   "outputs": [
    {
     "name": "stdout",
     "output_type": "stream",
     "text": [
      "braket circuit\n",
      "\n",
      "T  : |0|1|2 |     3     |   4    |5| 6  |  7  |     8     |9|10|     11     |   12   |   13   |   14   |   15   |16|\n",
      "                                                                                                                    \n",
      "q0 : -H-S-I--V-----------Rx(3.14)-X------------PSWAP(3.14)-C-Z--PHASE(0.785)-XX(3.14)-XY(3.14)-YY(3.14)-ZZ(3.14)-C--\n",
      "                                  |            |           | |  |            |        |        |        |        |  \n",
      "q1 : -X-Z-Si-Ti----------Ry(3.14)-C-SWAP-ISWAP-PSWAP(3.14)-Y-C--|------------XX(3.14)-XY(3.14)-YY(3.14)-ZZ(3.14)-C--\n",
      "                                    |    |                      |                                                |  \n",
      "q2 : -Y-T-Vi-PHASE(3.14)-Rz(1.57)---SWAP-ISWAP------------------C------------------------------------------------X--\n",
      "\n",
      "T  : |0|1|2 |     3     |   4    |5| 6  |  7  |     8     |9|10|     11     |   12   |   13   |   14   |   15   |16|\n"
     ]
    }
   ],
   "source": [
    "print(\"braket circuit\\n\")\n",
    "print(braket_circuit_0)"
   ]
  },
  {
   "cell_type": "markdown",
   "id": "fa64a79e",
   "metadata": {},
   "source": [
    "2. Apply the qBraid wrapper"
   ]
  },
  {
   "cell_type": "code",
   "execution_count": 4,
   "id": "0fe5fc8a",
   "metadata": {},
   "outputs": [],
   "source": [
    "qbraid_circuit_0 = qbraid_wrapper(braket_circuit_0)"
   ]
  },
  {
   "cell_type": "markdown",
   "id": "8662fc50",
   "metadata": {},
   "source": [
    "3. Transpile circuit to any other qBraid supported package, i.e. cirq, qiskit"
   ]
  },
  {
   "cell_type": "code",
   "execution_count": 5,
   "id": "8774450e",
   "metadata": {},
   "outputs": [
    {
     "name": "stdout",
     "output_type": "stream",
     "text": [
      "cirq circuit\n",
      "\n",
      "0: ───H───S───U───U───Rx(π)──────X───────────────U───@───@───@────────U───U───U───U───@───\n",
      "                                 │               │   │   │   │        │   │   │   │   │\n",
      "1: ───X───Z───U───U───Ry(π)──────@───×───iSwap───U───Y───@───┼────────U───U───U───U───@───\n",
      "                                     │   │                   │                        │\n",
      "2: ───Y───T───U───Z───Rz(0.5π)───────×───iSwap───────────────@^0.25───────────────────X───\n"
     ]
    }
   ],
   "source": [
    "cirq_circuit_0 = qbraid_circuit_0.transpile(package=\"cirq\")\n",
    "\n",
    "print(\"cirq circuit\\n\")\n",
    "print(cirq_circuit_0)"
   ]
  },
  {
   "cell_type": "code",
   "execution_count": 6,
   "id": "a2a53a8b",
   "metadata": {},
   "outputs": [
    {
     "name": "stdout",
     "output_type": "stream",
     "text": [
      "qiskit circuit\n",
      "\n",
      "      ┌───┐┌───┐ ┌───┐   ┌────┐  ┌───────┐ ┌───┐             ┌──────────┐     »\n",
      "q0_0: ┤ H ├┤ S ├─┤ I ├───┤ √X ├──┤ RX(π) ├─┤ X ├─────────────┤0         ├──■──»\n",
      "      ├───┤├───┤┌┴───┴┐ ┌┴────┤  ├───────┤ └─┬─┘   ┌────────┐│  Unitary │┌─┴─┐»\n",
      "q0_1: ┤ X ├┤ Z ├┤ SDG ├─┤ TDG ├──┤ RY(π) ├───■───X─┤0       ├┤1         ├┤ Y ├»\n",
      "      ├───┤├───┤├─────┴┐├─────┴┐┌┴───────┴┐      │ │  ISWAP │└──────────┘└───┘»\n",
      "q0_2: ┤ Y ├┤ T ├┤ √XDG ├┤ P(π) ├┤ RZ(π/2) ├──────X─┤1       ├─────────────────»\n",
      "      └───┘└───┘└──────┘└──────┘└─────────┘        └────────┘                 »\n",
      "«                  ┌─────────┐┌──────────┐┌─────────┐             \n",
      "«q0_0: ─■──■───────┤0        ├┤0         ├┤0        ├─■────────■──\n",
      "«       │  │       │  RXX(π) ││  Unitary ││  RYY(π) │ │ZZ(π)   │  \n",
      "«q0_1: ─■──┼───────┤1        ├┤1         ├┤1        ├─■────────■──\n",
      "«          │P(π/4) └─────────┘└──────────┘└─────────┘        ┌─┴─┐\n",
      "«q0_2: ────■─────────────────────────────────────────────────┤ X ├\n",
      "«                                                            └───┘\n"
     ]
    }
   ],
   "source": [
    "qiskit_circuit_0 = qbraid_circuit_0.transpile(\"qiskit\")\n",
    "\n",
    "print(\"qiskit circuit\\n\")\n",
    "print(qiskit_circuit_0)"
   ]
  },
  {
   "cell_type": "markdown",
   "id": "9d2a367c",
   "metadata": {},
   "source": [
    "### Test transpile circuit equivalence"
   ]
  },
  {
   "cell_type": "code",
   "execution_count": 7,
   "id": "3e9914ff",
   "metadata": {},
   "outputs": [],
   "source": [
    "q0 = cirq.LineQubit(0)\n",
    "q1 = cirq.LineQubit(1)\n",
    "\n",
    "op_h = cirq.H(q0) ** 1.8\n",
    "op_cnot = cirq.CNOT(q0, q1)\n",
    "op_z = cirq.Z(q1)\n",
    "op_t = cirq.T(q0)\n",
    "op_s = cirq.S(q1)\n",
    "\n",
    "h = cirq.H.controlled(1)\n",
    "op_controlled_h = h(q0, q1)\n",
    "\n",
    "cirq_circuit_1 = cirq.Circuit()\n",
    "cirq_circuit_1.append(op_h)\n",
    "cirq_circuit_1.append(cirq.H(q0))\n",
    "cirq_circuit_1.append(cirq.X(q1))\n",
    "cirq_circuit_1.append(op_cnot)\n",
    "cirq_circuit_1.append(op_z)\n",
    "cirq_circuit_1.append(op_s)\n",
    "cirq_circuit_1.append(op_t)\n",
    "cirq_circuit_1.append(op_controlled_h)"
   ]
  },
  {
   "cell_type": "code",
   "execution_count": 8,
   "id": "eba6f3d0",
   "metadata": {},
   "outputs": [
    {
     "name": "stdout",
     "output_type": "stream",
     "text": [
      "cirq circuit 1\n",
      "\n",
      "0: ───H^-0.2───H───@───T───────@───\n",
      "                   │           │\n",
      "1: ───X────────────X───Z───S───H───\n"
     ]
    }
   ],
   "source": [
    "print(\"cirq circuit 1\\n\")\n",
    "print(cirq_circuit_1)"
   ]
  },
  {
   "cell_type": "markdown",
   "id": "adeafa4c",
   "metadata": {},
   "source": [
    "Apply qBraid wrapper and transpile to qiskit"
   ]
  },
  {
   "cell_type": "code",
   "execution_count": 9,
   "id": "45637960",
   "metadata": {},
   "outputs": [],
   "source": [
    "qbraid_circuit_1 = qbraid_wrapper(cirq_circuit_1)"
   ]
  },
  {
   "cell_type": "code",
   "execution_count": 10,
   "id": "69263e9a",
   "metadata": {},
   "outputs": [],
   "source": [
    "qiskit_circuit_1 = qbraid_circuit_1.transpile(\"qiskit\")"
   ]
  },
  {
   "cell_type": "code",
   "execution_count": 11,
   "id": "5e40f864",
   "metadata": {},
   "outputs": [
    {
     "name": "stdout",
     "output_type": "stream",
     "text": [
      "qiskit circuit 1\n",
      "\n",
      "      ┌─────────┐┌───┐     ┌───┐     ┌──────────┐\n",
      "q1_0: ┤ Unitary ├┤ H ├──■──┤ T ├─────┤0         ├\n",
      "      └──┬───┬──┘└───┘┌─┴─┐├───┤┌───┐│  Unitary │\n",
      "q1_1: ───┤ X ├────────┤ X ├┤ Z ├┤ S ├┤1         ├\n",
      "         └───┘        └───┘└───┘└───┘└──────────┘\n"
     ]
    }
   ],
   "source": [
    "print(\"qiskit circuit 1\\n\")\n",
    "print(qiskit_circuit_1)"
   ]
  },
  {
   "cell_type": "markdown",
   "id": "5192b5f1",
   "metadata": {},
   "source": [
    "Apply qBraid wrapper to new qiskit circuit and transpile back to cirq"
   ]
  },
  {
   "cell_type": "code",
   "execution_count": 12,
   "id": "66822cb8",
   "metadata": {},
   "outputs": [],
   "source": [
    "cirq_circuit_2 = qbraid_wrapper(qiskit_circuit_1).transpile(\"cirq\")"
   ]
  },
  {
   "cell_type": "code",
   "execution_count": 13,
   "id": "96f52efe",
   "metadata": {},
   "outputs": [
    {
     "name": "stdout",
     "output_type": "stream",
     "text": [
      "cirq circuit 2\n",
      "\n",
      "0: ───U───H───@───T───────U───\n",
      "              │           │\n",
      "1: ───X───────X───Z───S───U───\n"
     ]
    }
   ],
   "source": [
    "print(\"cirq circuit 2\\n\")\n",
    "print(cirq_circuit_2)"
   ]
  },
  {
   "cell_type": "markdown",
   "id": "3d4e1452",
   "metadata": {},
   "source": [
    "Check equivalence"
   ]
  },
  {
   "cell_type": "code",
   "execution_count": 14,
   "id": "7dbe4017",
   "metadata": {},
   "outputs": [
    {
     "data": {
      "text/plain": [
       "True"
      ]
     },
     "execution_count": 14,
     "metadata": {},
     "output_type": "execute_result"
    }
   ],
   "source": [
    "np.allclose(cirq_circuit_1.unitary(), cirq_circuit_2.unitary())"
   ]
  },
  {
   "cell_type": "markdown",
   "id": "dba60288",
   "metadata": {},
   "source": [
    "### Transpile parameterized circuits"
   ]
  },
  {
   "cell_type": "markdown",
   "id": "20380bb6",
   "metadata": {},
   "source": [
    "Create a qiskit parameterized circuit"
   ]
  },
  {
   "cell_type": "code",
   "execution_count": 15,
   "id": "7783a395",
   "metadata": {},
   "outputs": [
    {
     "data": {
      "text/plain": [
       "<qiskit.circuit.instructionset.InstructionSet at 0x12ac176a0>"
      ]
     },
     "execution_count": 15,
     "metadata": {},
     "output_type": "execute_result"
    }
   ],
   "source": [
    "theta = Parameter(\"\\u03B8\")\n",
    "\n",
    "qiskit_param_circuit = qiskit.QuantumCircuit(5, 1)\n",
    "qiskit_param_circuit.rz(np.pi / 4, range(5))\n",
    "qiskit_param_circuit.h(0)\n",
    "\n",
    "for i in range(3):\n",
    "    qiskit_param_circuit.cx(i, i + 1)\n",
    "\n",
    "qiskit_param_circuit.rz(theta, range(2))\n",
    "\n",
    "for i in reversed(range(2)):\n",
    "    qiskit_param_circuit.cx(i, i + 1)\n",
    "    \n",
    "qiskit_param_circuit.h(0)\n",
    "qiskit_param_circuit.measure(0, 0)"
   ]
  },
  {
   "cell_type": "code",
   "execution_count": 16,
   "id": "bb69cbf7",
   "metadata": {},
   "outputs": [
    {
     "name": "stdout",
     "output_type": "stream",
     "text": [
      "qiskit parameterized circuit\n",
      "\n",
      "     ┌─────────┐┌───┐     ┌───────┐                   ┌───┐┌─┐\n",
      "q_0: ┤ RZ(π/4) ├┤ H ├──■──┤ RZ(θ) ├────────────────■──┤ H ├┤M├\n",
      "     ├─────────┤└───┘┌─┴─┐└───────┘┌───────┐     ┌─┴─┐└───┘└╥┘\n",
      "q_1: ┤ RZ(π/4) ├─────┤ X ├────■────┤ RZ(θ) ├──■──┤ X ├──────╫─\n",
      "     ├─────────┤     └───┘  ┌─┴─┐  └───────┘┌─┴─┐└───┘      ║ \n",
      "q_2: ┤ RZ(π/4) ├────────────┤ X ├──────■────┤ X ├───────────╫─\n",
      "     ├─────────┤            └───┘    ┌─┴─┐  └───┘           ║ \n",
      "q_3: ┤ RZ(π/4) ├─────────────────────┤ X ├──────────────────╫─\n",
      "     ├─────────┤                     └───┘                  ║ \n",
      "q_4: ┤ RZ(π/4) ├────────────────────────────────────────────╫─\n",
      "     └─────────┘                                            ║ \n",
      "c: 1/═══════════════════════════════════════════════════════╩═\n",
      "                                                            0 \n"
     ]
    }
   ],
   "source": [
    "print(\"qiskit parameterized circuit\\n\")\n",
    "print(qiskit_param_circuit)"
   ]
  },
  {
   "cell_type": "markdown",
   "id": "6a5b2ce8",
   "metadata": {},
   "source": [
    "Apply qBraid wrapper and transpile to cirq"
   ]
  },
  {
   "cell_type": "code",
   "execution_count": 17,
   "id": "0db045bb",
   "metadata": {},
   "outputs": [
    {
     "name": "stdout",
     "output_type": "stream",
     "text": [
      "cirq parameterized circuit\n",
      "\n",
      "0: ───Rz(0.25π)───H───@───Rz(θ)───────────────@───H───M───\n",
      "                      │                       │\n",
      "1: ───Rz(0.25π)───────X───@───────Rz(θ)───@───X───────────\n",
      "                          │               │\n",
      "2: ───Rz(0.25π)───────────X───────@───────X───────────────\n",
      "                                  │\n",
      "3: ───Rz(0.25π)───────────────────X───────────────────────\n",
      "\n",
      "4: ───Rz(0.25π)───────────────────────────────────────────\n"
     ]
    }
   ],
   "source": [
    "qbraid_param_circuit = qbraid_wrapper(qiskit_param_circuit)\n",
    "cirq_param_circuit = qbraid_param_circuit.transpile(\"cirq\")\n",
    "print(\"cirq parameterized circuit\\n\")\n",
    "print(cirq_param_circuit)"
   ]
  },
  {
   "cell_type": "markdown",
   "id": "34a32af6",
   "metadata": {},
   "source": [
    "### Run circuits on any Device"
   ]
  },
  {
   "cell_type": "code",
   "execution_count": null,
   "id": "61765f27",
   "metadata": {},
   "outputs": [],
   "source": []
  }
 ],
 "metadata": {
  "kernelspec": {
   "display_name": "Python 3",
   "language": "python",
   "name": "python3"
  },
  "language_info": {
   "codemirror_mode": {
    "name": "ipython",
    "version": 3
   },
   "file_extension": ".py",
   "mimetype": "text/x-python",
   "name": "python",
   "nbconvert_exporter": "python",
   "pygments_lexer": "ipython3",
   "version": "3.9.4"
  }
 },
 "nbformat": 4,
 "nbformat_minor": 5
}
