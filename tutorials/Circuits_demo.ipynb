{
 "cells": [
  {
   "cell_type": "markdown",
   "id": "af2cb596",
   "metadata": {},
   "source": [
    "# qBraid-sdk Circuits demo"
   ]
  },
  {
   "cell_type": "markdown",
   "id": "fdad4946",
   "metadata": {},
   "source": [
    "The following notebook provides a quick demo of the qBraid circuit implementation. The overall goal of this notebook is to provide a quick intuitive intro for qBraid-sdk engineers/researchers who will use the qBraid-sdk for development of the VQE as well as for research purposes."
   ]
  },
  {
   "cell_type": "code",
   "execution_count": 1,
   "id": "2d27a713",
   "metadata": {},
   "outputs": [],
   "source": [
    "import qbraid\n",
    "from qbraid.circuits.circuit import Circuit\n",
    "from qbraid.circuits.drawer import drawer"
   ]
  },
  {
   "cell_type": "markdown",
   "id": "26ef382d",
   "metadata": {},
   "source": [
    "## Initializing a circuit"
   ]
  },
  {
   "cell_type": "markdown",
   "id": "00dfacfa",
   "metadata": {},
   "source": [
    "Create a circuit with 3 qubits. All circuits require the number of qubits (channels) that will be used.\n",
    "Optional arguments are naming the circuit as well as changing the update rule. A `Circuit` is a collection of `Moment`s."
   ]
  },
  {
   "cell_type": "code",
   "execution_count": 2,
   "id": "d36d8f44",
   "metadata": {},
   "outputs": [],
   "source": [
    "circuit = Circuit(num_qubits=3,name=\"test_circuit\")"
   ]
  },
  {
   "cell_type": "code",
   "execution_count": 3,
   "id": "9e40a536",
   "metadata": {},
   "outputs": [
    {
     "name": "stdout",
     "output_type": "stream",
     "text": [
      "Circuit(test_circuit, 3 qubits, 0 gates)\n"
     ]
    }
   ],
   "source": [
    "print(circuit)"
   ]
  },
  {
   "cell_type": "code",
   "execution_count": 4,
   "id": "0052c504",
   "metadata": {},
   "outputs": [],
   "source": [
    "from qbraid.circuits import UpdateRule"
   ]
  },
  {
   "cell_type": "code",
   "execution_count": 5,
   "id": "ff7f5a00",
   "metadata": {},
   "outputs": [],
   "source": [
    "another_circuit = Circuit(3,\"another_circuit\",UpdateRule.NEW)"
   ]
  },
  {
   "cell_type": "markdown",
   "id": "b447bafc",
   "metadata": {},
   "source": [
    "## How to add gates to a circuit\n",
    "Let's add some gates to a circuit. To do so we need to import the `Instruction` module which allows us to define the qubits that the gate will operate on.An `Instruction` is an effect that operates on a specific subset of `Qubits`, the most common type of `Instruction` is a `Gate`. A gate will not be appended if the qubit is not specified using the Instruction module.  Each `Instruction` must have a disjoint set of qubits from the other `Instruction` in the `Moment`. A `Moment` can be thought of as a vertical slice of a quantum circuit diagram."
   ]
  },
  {
   "cell_type": "code",
   "execution_count": 6,
   "id": "bf4321d1",
   "metadata": {},
   "outputs": [],
   "source": [
    "from qbraid.circuits.instruction import Instruction"
   ]
  },
  {
   "cell_type": "markdown",
   "id": "31de23a5",
   "metadata": {},
   "source": [
    "### Single qubit gate\n",
    "We'll begin by creating a Hadamard, Pauli X, and Y gates."
   ]
  },
  {
   "cell_type": "code",
   "execution_count": 7,
   "id": "89ca5b32",
   "metadata": {},
   "outputs": [],
   "source": [
    "from qbraid.circuits import H,X,Y\n",
    "h =  Instruction(H(),qubits=0) # Hadamard which acts on the 0-th qubit.\n",
    "x =  Instruction(X(),qubits=[0]) # Pauli X which acts on the 0-th qubit.\n",
    "y =  Instruction(Y(),qubits=1) # Pauli Y which acts on the 1 qubit."
   ]
  },
  {
   "cell_type": "markdown",
   "id": "dbc352ea",
   "metadata": {},
   "source": [
    "Note that all qubits are put into a list."
   ]
  },
  {
   "cell_type": "code",
   "execution_count": 8,
   "id": "135c8d1f",
   "metadata": {},
   "outputs": [
    {
     "name": "stdout",
     "output_type": "stream",
     "text": [
      "Instruction ([0] qubits, <qbraid.circuits.library.standard_gates.h.H object at 0x7f8c014f1a30> gate)\n",
      "Instruction ([0] qubits, <qbraid.circuits.library.standard_gates.x.X object at 0x7f8c014f1a90> gate)\n"
     ]
    }
   ],
   "source": [
    "print(h)\n",
    "print(x)"
   ]
  },
  {
   "cell_type": "markdown",
   "id": "1ca90ef5",
   "metadata": {},
   "source": [
    "Appending the instructions to the circuit results in the creation of moments. A `Moment` is a collection of `Instructions` that all act during the same abstract time slice. Printing out the moments shows that the circuit has two `Moment` objects where Hadamard acts in the first moment and since the X gate act"
   ]
  },
  {
   "cell_type": "code",
   "execution_count": 9,
   "id": "2d3f5ce3",
   "metadata": {},
   "outputs": [
    {
     "name": "stdout",
     "output_type": "stream",
     "text": [
      "True\n",
      "True\n",
      "True\n",
      "[Moment(\"[<qbraid.circuits.instruction.Instruction object at 0x7f8c014f1af0>]\"), Moment(\"[<qbraid.circuits.instruction.Instruction object at 0x7f8c014f1bb0>, <qbraid.circuits.instruction.Instruction object at 0x7f8c014f1c70>]\")]\n",
      "Qubit 0:|┤H├|┤X├\n",
      "Qubit 1:|---|┤Y├\n",
      "Qubit 2:|---|---\n"
     ]
    }
   ],
   "source": [
    "circuit = Circuit(num_qubits=3,name=\"test_circuit\")\n",
    "circuit.append([h,x,y])\n",
    "print(circuit.moments)\n",
    "drawer(circuit)"
   ]
  },
  {
   "cell_type": "markdown",
   "id": "7ecacc24",
   "metadata": {},
   "source": [
    "### Two qubit gates\n",
    "\n",
    "The story is similar for two qubit gates. The only difference is that two qubits must be specified when \"wrapping\" the gate with the `Instruction`."
   ]
  },
  {
   "cell_type": "code",
   "execution_count": 10,
   "id": "e3723fa8",
   "metadata": {},
   "outputs": [],
   "source": [
    "from qbraid.circuits import CH,CX,CY\n",
    "ch =  Instruction(CH(),qubits=[0,2]) # Control Hadamard which acts on the 0-th qubit.\n",
    "cx =  Instruction(CX(),qubits=[0,1]) # Control Pauli X which acts on the 0-th qubit.\n",
    "cy =  Instruction(CY(),qubits=[2,1]) # Control Pauli Y which acts on the 1 qubit."
   ]
  },
  {
   "cell_type": "code",
   "execution_count": 11,
   "id": "ab6434ff",
   "metadata": {},
   "outputs": [
    {
     "name": "stdout",
     "output_type": "stream",
     "text": [
      "Instruction ([0, 2] qubits, <qbraid.circuits.library.standard_gates.h.CH object at 0x7f8c014f19a0> gate)\n",
      "Instruction ([0, 1] qubits, <qbraid.circuits.library.standard_gates.x.CX object at 0x7f8c014f1cd0> gate)\n"
     ]
    }
   ],
   "source": [
    "print(ch)\n",
    "print(cx)"
   ]
  },
  {
   "cell_type": "markdown",
   "id": "6292c08c",
   "metadata": {},
   "source": [
    "Since the `CH` and `CX` gates both require the 0-th qubit for the operation, a new `Moment` is created. Appending the three gates results in three `Moment`s."
   ]
  },
  {
   "cell_type": "code",
   "execution_count": 12,
   "id": "1becc517",
   "metadata": {},
   "outputs": [
    {
     "name": "stdout",
     "output_type": "stream",
     "text": [
      "True\n",
      "True\n",
      "True\n",
      "[Moment(\"[<qbraid.circuits.instruction.Instruction object at 0x7f8c014f13a0>]\"), Moment(\"[<qbraid.circuits.instruction.Instruction object at 0x7f8c014f16d0>]\"), Moment(\"[<qbraid.circuits.instruction.Instruction object at 0x7f8c014f1d90>]\")]\n",
      "Qubit 0:|┤CH├|┤CX├|-----\n",
      "Qubit 1:|----|┤CX├|┤CSY├\n",
      "Qubit 2:|┤CH├|----|┤CSY├\n"
     ]
    }
   ],
   "source": [
    "circuit = Circuit(num_qubits=3,name=\"test_circuit\")\n",
    "circuit.append([ch,cx,cy])\n",
    "print(circuit.moments)\n",
    "drawer(circuit)"
   ]
  },
  {
   "cell_type": "markdown",
   "id": "274d2631",
   "metadata": {},
   "source": [
    "## Update Rules"
   ]
  },
  {
   "cell_type": "markdown",
   "id": "79575907",
   "metadata": {},
   "source": [
    "The circuit will by default update according to the `NEW_THEN_INLINE` rule. `UpdateRule` defines how `Instructions `are placed in a `Circuit` when requested to be inserted at a given location. Here, a location is identified by the index of the `Moment` (in the `Circuit`) where the insertion is requested to be placed at (in the case of `Circuit.append`, this means inserting at the `Moment`, at an index one greater than the maximum moment index in the `Circuit`). There are four such rules: `UpdateRule.EARLIEST`, `UpdateRule.NEW`, `UpdateRule.INLINE` and `UpdateRule.NEW_THEN_INLINE`. See [Circ Insert Strategy](https://quantumai.google/reference/python/cirq/circuits/InsertStrategy#NEW_THEN_INLINE) for more information."
   ]
  },
  {
   "cell_type": "markdown",
   "id": "29065ded",
   "metadata": {},
   "source": [
    "### `UpdateRule.EARLIEST`\n",
    "\n",
    "Scans backward from the insert location until a moment with operations touching qubits affected by the operation to insert is found. The operation is added to the moment just after that location."
   ]
  },
  {
   "cell_type": "markdown",
   "id": "b0ef5326",
   "metadata": {},
   "source": [
    "We can tell from the below example that since `CH` acts on the 0 and 2 qubit and `Y` operates on the 1 qubit they are placed in the same `Moment`. The next gate,`X` however operates on the 0 qubit. Therfore, a new `Moment` is created. Since the second `X` gate operates on the same qubit as the first `X` a new `Moment` is once again created. "
   ]
  },
  {
   "cell_type": "code",
   "execution_count": 13,
   "id": "59959b72",
   "metadata": {},
   "outputs": [
    {
     "name": "stdout",
     "output_type": "stream",
     "text": [
      "True\n",
      "True\n",
      "True\n",
      "True\n",
      "[Moment(\"[<qbraid.circuits.instruction.Instruction object at 0x7f8c014f13a0>, <qbraid.circuits.instruction.Instruction object at 0x7f8c014f1c70>]\"), Moment(\"[<qbraid.circuits.instruction.Instruction object at 0x7f8c014f1bb0>]\"), Moment(\"[<qbraid.circuits.instruction.Instruction object at 0x7f8c014f1bb0>]\")]\n",
      "Qubit 0:|┤CH├|┤X├|┤X├\n",
      "Qubit 1:|┤Y├-|---|---\n",
      "Qubit 2:|┤CH├|---|---\n"
     ]
    }
   ],
   "source": [
    "circuit = Circuit(num_qubits=3, name=\"test_circuit\",update_rule=UpdateRule.EARLIEST)\n",
    "circuit.append(ch)\n",
    "circuit.append([y,x])\n",
    "circuit.append(x)\n",
    "print(circuit.moments)\n",
    "drawer(circuit)"
   ]
  },
  {
   "cell_type": "markdown",
   "id": "c1151f0b",
   "metadata": {},
   "source": [
    "### `UpdateRule.NEW`\n",
    "\n",
    "Every operation that is inserted is created in a new moment."
   ]
  },
  {
   "cell_type": "markdown",
   "id": "32160cb1",
   "metadata": {},
   "source": [
    "We see that there are three `Moment` objects in the list of moments confirming that a new moment is created for\n",
    "every operation."
   ]
  },
  {
   "cell_type": "code",
   "execution_count": 14,
   "id": "00c13326",
   "metadata": {},
   "outputs": [
    {
     "name": "stdout",
     "output_type": "stream",
     "text": [
      "True\n",
      "True\n",
      "True\n",
      "[Moment(\"[<qbraid.circuits.instruction.Instruction object at 0x7f8c014f1af0>]\"), Moment(\"[<qbraid.circuits.instruction.Instruction object at 0x7f8c014f1bb0>]\"), Moment(\"[<qbraid.circuits.instruction.Instruction object at 0x7f8c014f1c70>]\")]\n",
      "Qubit 0:|┤H├|┤X├|---\n",
      "Qubit 1:|---|---|┤Y├\n",
      "Qubit 2:|---|---|---\n"
     ]
    }
   ],
   "source": [
    "circuit = Circuit(num_qubits=3, name=\"test_circuit\",update_rule=UpdateRule.NEW)\n",
    "circuit.append(h)\n",
    "circuit.append(x)\n",
    "circuit.append(y)\n",
    "print(circuit.moments)\n",
    "drawer(circuit)"
   ]
  },
  {
   "cell_type": "markdown",
   "id": "74a8519b",
   "metadata": {},
   "source": [
    "### `UpdateRule.INLINE`\n",
    "\n",
    "Attempts to add the operation to insert into the moment just before the desired insert location. But, if there’s already an existing operation affecting any of the qubits touched by the operation to insert, a new moment is created instead."
   ]
  },
  {
   "cell_type": "markdown",
   "id": "6c0fdb5d",
   "metadata": {},
   "source": [
    "The circuit appends the `CH` gate (operateson the 0 and 2 qubit) in its own `Moment` because the `CY` gate also operates on the 2 qubit. The `H` gate however is appended into the same `Moment` as the `CY` gate since the `H` gate operates on the 0 qubit where `CY` operates on the 1 and 2 qubit. The `Y` gate acts on the 1 qubit and `X` gate acts on the 0 qubit so they are added into the same `Moment`. "
   ]
  },
  {
   "cell_type": "code",
   "execution_count": 15,
   "id": "9ba58987",
   "metadata": {},
   "outputs": [
    {
     "name": "stdout",
     "output_type": "stream",
     "text": [
      "True\n",
      "True\n",
      "True\n",
      "True\n",
      "True\n",
      "[Moment(\"[<qbraid.circuits.instruction.Instruction object at 0x7f8c014f13a0>]\"), Moment(\"[<qbraid.circuits.instruction.Instruction object at 0x7f8c014f1d90>, <qbraid.circuits.instruction.Instruction object at 0x7f8c014f1af0>]\"), Moment(\"[<qbraid.circuits.instruction.Instruction object at 0x7f8c014f1c70>, <qbraid.circuits.instruction.Instruction object at 0x7f8c014f1bb0>]\")]\n",
      "Qubit 0:|┤CH├|┤H├--|┤X├\n",
      "Qubit 1:|----|┤CSY├|┤Y├\n",
      "Qubit 2:|┤CH├|┤CSY├|---\n"
     ]
    }
   ],
   "source": [
    "circuit = Circuit(num_qubits=3, name=\"test_circuit\",update_rule=UpdateRule.INLINE)\n",
    "circuit.append(ch)\n",
    "circuit.append(cy)\n",
    "circuit.append([h,y,x])\n",
    "print(circuit.moments)\n",
    "drawer(circuit)"
   ]
  },
  {
   "cell_type": "markdown",
   "id": "087e5847",
   "metadata": {},
   "source": [
    "### `UpdateRule.NEW_THEN_INLINE`\n",
    "\n",
    "Creates a new moment at the desired insert location for the first operation, but then switches to inserting operations inline."
   ]
  },
  {
   "cell_type": "markdown",
   "id": "431b741d",
   "metadata": {},
   "source": [
    "The first append creates a single moment with an `CH` on the first qubit. Then, the append with the `InsertStrategy.NEW_THEN_INLINE` strategy begins by inserting the `Y` in a new `Moment` (the `InsertStrategy.NEW` in `InsertStrategy.NEW_THEN_INLINE`). Subsequent appending is done `InsertStrategy.INLINE`, so the next `CH` on the first qubit is appending in the just created `Moment`."
   ]
  },
  {
   "cell_type": "code",
   "execution_count": 16,
   "id": "ca726989",
   "metadata": {},
   "outputs": [
    {
     "name": "stdout",
     "output_type": "stream",
     "text": [
      "True\n",
      "True\n",
      "True\n",
      "[Moment(\"[<qbraid.circuits.instruction.Instruction object at 0x7f8c014f13a0>]\"), Moment(\"[<qbraid.circuits.instruction.Instruction object at 0x7f8c014f1c70>, <qbraid.circuits.instruction.Instruction object at 0x7f8c014f13a0>]\")]\n",
      "Qubit 0:|┤CH├|┤CH├\n",
      "Qubit 1:|----|┤Y├-\n",
      "Qubit 2:|┤CH├|┤CH├\n"
     ]
    }
   ],
   "source": [
    "circuit = Circuit(num_qubits=3, name=\"test_circuit\")\n",
    "circuit.append(ch)\n",
    "circuit.append([y,ch])\n",
    "print(circuit.moments)\n",
    "drawer(circuit)"
   ]
  },
  {
   "cell_type": "markdown",
   "id": "c748f22a",
   "metadata": {},
   "source": [
    "### Different Update Rules\n",
    "We can also use different update rules by specifying during appending."
   ]
  },
  {
   "cell_type": "code",
   "execution_count": 17,
   "id": "2c8ee74d",
   "metadata": {},
   "outputs": [
    {
     "name": "stdout",
     "output_type": "stream",
     "text": [
      "True\n",
      "True\n",
      "True\n",
      "True\n",
      "True\n",
      "[Moment(\"[<qbraid.circuits.instruction.Instruction object at 0x7f8c014f13a0>]\"), Moment(\"[<qbraid.circuits.instruction.Instruction object at 0x7f8c014f1d90>]\"), Moment(\"[<qbraid.circuits.instruction.Instruction object at 0x7f8c014f1af0>]\"), Moment(\"[<qbraid.circuits.instruction.Instruction object at 0x7f8c014f1c70>]\"), Moment(\"[<qbraid.circuits.instruction.Instruction object at 0x7f8c014f1bb0>]\")]\n",
      "Qubit 0:|┤CH├|-----|┤H├|---|┤X├\n",
      "Qubit 1:|----|┤CSY├|---|┤Y├|---\n",
      "Qubit 2:|┤CH├|┤CSY├|---|---|---\n"
     ]
    }
   ],
   "source": [
    "circuit = Circuit(num_qubits=3, name=\"test_circuit\")\n",
    "circuit.append(ch,update_rule=UpdateRule.INLINE)\n",
    "circuit.append(cy,update_rule=UpdateRule.EARLIEST)\n",
    "circuit.append([h,y,x],update_rule=UpdateRule.NEW)\n",
    "print(circuit.moments)\n",
    "drawer(circuit)"
   ]
  },
  {
   "cell_type": "markdown",
   "id": "8b1b69e5",
   "metadata": {},
   "source": [
    "## Deutsch Algorithm Example\n",
    "The very first indication that quantum computers could be more powerful than classical computers was provided by David Deutsch in his 1985 paper. This is a modified implementation of the Cirq Deutsch algorithm see [Deutsch-Jozsa](https://quantumai.google/cirq/tutorials/educators/intro#the_deutsch-jozsa_algorithm) for more information.\n",
    "\n",
    "This algorithm was extended by Deutsch and Richard Jozsa to a more convincing algorithmic seperation and what is now called the Deutsch-Jozsa algorithm.  In this section we will show how to write circuits for the Deutsch algorithm.\n",
    "\n",
    "Let's begin with the Deutsch algorithm.  In Deutsch's algorithm you are given access to a box which computes a one bit boolean function.  That is it is a box which takes in a bit and outputs a bit.  If we want to be a mathematician or theoretical computer scientist we write the function $f$ as $f: \\{0, 1\\} \\rightarrow \\{0, 1\\}$.  There are exactly four such boolean functions which we can write out in a table\n",
    "\n",
    "| $x$ | $f_0$ | $f_1$ | $f_x$ | $f_{\\bar{x}}$ |\n",
    "| --- |  --- | --- | --- | --- |\n",
    "| 0 | 0 | 1 | 0 | 1\n",
    "| 1 | 0 | 1 | 1 | 0\n",
    "\n",
    "The first two of these are *constant* functions, $f_0$ and $f_1$.  That is they always output a constant value (independent of the input).  The other two $f_x$ and $f_\\bar{x}$ are *balanced*.  Over their inputs $0$ and $1$, they have an equal number of $0$s and $1$s in their truth table.  \n",
    "\n",
    "We can now state Deutsch's problem:\n",
    "\n",
    "> Given access to a one bit input one bit output boolean function, determine by querying the function whether the function is *balanced* or *constant*.\n",
    "\n",
    "It shouldn't take you much to convince yourself that in order to solve this problem classically you need to call the function on both possible input values.  The easiest way to see this is just to consider what happens if you query the function on one particular input and notice that, for either input, learning the value of the function does not separate the constant from balanced functions. In summary:\n",
    "\n",
    "*Classically one must query the binary function twice to distinguish the constant function from the balanced function.*\n"
   ]
  },
  {
   "cell_type": "markdown",
   "id": "e4dc1948",
   "metadata": {},
   "source": [
    "Now lets turn to the quantum approach to this problem.  There is one bit of book keeping we need to take care of.  Above we have described a classical function on bits that is not reversible.  That is, knowing the values of the output does not allow us to determine uniquely the value of the input.  In order to run this on a quantum computer, however we need to make this computation reversible.  A trick for taking a classical non-reversible function and making it \"quantum happy\" is to compute the value in an extra register and store the input.  Suppose we have an $n$ bit input $x$ and we are computing a (potentially non-reverisble) boolean function $f(x)$.  Then we can implement this via a Unitary $U_f$ that acts like on $n + 1$ qubits\n",
    "\n",
    "$$\n",
    "U_f |x\\rangle |y\\rangle = |x\\rangle | y \\oplus f(x)\\rangle .\n",
    "$$\n",
    "\n",
    "Here $\\oplus$ is addition modulo $2$ (XOR) and we have identified how $U_f$ acts by its action on all computational basis states $|x\\rangle$ ($n$ input qubits) and $|y\\rangle$ ($1$ output qubit). To see that this is reversible one can note that applying the transformation twice returns the state to its original form.\n",
    "\n",
    "Let's see how to implement these functions in qBraid.\n",
    "\n",
    "$f_0$ enacts the transform\n",
    "$$\n",
    "\\begin{eqnarray}\n",
    "|00\\rangle &\\rightarrow&  |00\\rangle \\\\\n",
    "|01\\rangle &\\rightarrow&  |01\\rangle \\\\\n",
    "|10\\rangle &\\rightarrow&  |10\\rangle \\\\\n",
    "|11\\rangle &\\rightarrow&  |11\\rangle \\\\\n",
    "\\end{eqnarray}\n",
    "$$\n",
    "Well this is just the identity transform, i.e. an empty circuit.\n",
    "\n",
    "$f_1$ enacts the transform\n",
    "$$\n",
    "\\begin{eqnarray}\n",
    "|00\\rangle &\\rightarrow&  |01\\rangle \\\\\n",
    "|01\\rangle &\\rightarrow&  |00\\rangle \\\\\n",
    "|10\\rangle &\\rightarrow&  |11\\rangle \\\\\n",
    "|11\\rangle &\\rightarrow&  |10\\rangle \\\\\n",
    "\\end{eqnarray}\n",
    "$$\n",
    "This is the `qbraid.circuits.X` bit flip gate on the second qubit.\n",
    "\n",
    "$f_x$ enacts the transform\n",
    "$$\n",
    "\\begin{eqnarray}\n",
    "|00\\rangle &\\rightarrow&  |00\\rangle \\\\\n",
    "|01\\rangle &\\rightarrow&  |01\\rangle \\\\\n",
    "|10\\rangle &\\rightarrow&  |11\\rangle \\\\\n",
    "|11\\rangle &\\rightarrow&  |10\\rangle \\\\\n",
    "\\end{eqnarray}\n",
    "$$\n",
    "This is nothing more than a `qbraid.circuits.CX` from the first bit to the second bit.\n",
    "\n",
    "Finally $f_\\bar{x}$ enacts the transform\n",
    "$$\n",
    "\\begin{eqnarray}\n",
    "|00\\rangle &\\rightarrow&  |01\\rangle \\\\\n",
    "|01\\rangle &\\rightarrow&  |00\\rangle \\\\\n",
    "|10\\rangle &\\rightarrow&  |10\\rangle \\\\\n",
    "|11\\rangle &\\rightarrow&  |11\\rangle \\\\\n",
    "\\end{eqnarray}\n",
    "$$\n",
    "which is a `qbraid.circuits.CX` from the first bit to the second bit followed by a `qbraid.circuits.X` on the second bit.\n",
    "\n",
    "We can encapulate these functions into a dictionary from a oracle name to the operations in the circuit needed to enact this function."
   ]
  },
  {
   "cell_type": "markdown",
   "id": "116d2b6c",
   "metadata": {},
   "source": [
    "### Deutsch's Algorithm"
   ]
  },
  {
   "cell_type": "code",
   "execution_count": 18,
   "id": "449d887a",
   "metadata": {},
   "outputs": [],
   "source": [
    "\"\"\"Store the operations to query each function in a dictionary.\"\"\"\n",
    "#  Initialize.\n",
    "deutsch_circuit = Circuit(num_qubits=2,name=\"deutsch_circuit\")\n",
    "\n",
    "# Define the dictionary of operations. The key of each dictionary entry\n",
    "# is the subscript of the function f in the above explanatory text.\n",
    "oracles = {\n",
    "    '0': [],\n",
    "    '1': [Instruction(qbraid.circuits.X(),1)],\n",
    "    'x': [Instruction(qbraid.circuits.CX(),[0,1])],\n",
    "    'notx': [Instruction(qbraid.circuits.CX(),[0,1]), Instruction(qbraid.circuits.X(),1)]\n",
    "}    "
   ]
  },
  {
   "cell_type": "markdown",
   "id": "5a786ef7",
   "metadata": {},
   "source": [
    "We now turn to Deutsch's algorithm.  Suppose we are given access to the reversible oracle functions we have defined above.  By a similar argument for our irreversible classical functions you can show that you cannot distinguish the balanced from the constant functions by using this oracle only once.  But now we can ask the question: what if we are allowed to query this box in superposition, i.e. what if we can use the power of quantum computing?\n",
    "\n",
    "Deutsch was able to show that you could solve this problem now, with quantum computers, using only a single query.  To see how this works we need two simple insights.\n",
    "\n",
    "Suppose that we prepare the second qubit in the superposition state $|-\\rangle=\\frac{1}{\\sqrt{2}}(|0\\rangle-|1\\rangle)$ and apply the oracle.  Then we can check that\n",
    "$$ \n",
    "U_f |x\\rangle |-\\rangle = U_f|x\\rangle \\frac{1}{\\sqrt{2}}(|0\\rangle -|1\\rangle ) = |x\\rangle \\frac{1}{\\sqrt{2}}(|f(x)\\rangle -|f(x) \\oplus 1\\rangle ) =  (-1)^{f(x)} |x\\rangle |-\\rangle .\n",
    "$$  \n",
    "This is the so called \"phase kickback trick\".  By applying $U_f$ onto a target which is in superposition, the value of the function ends up showing up in the global phase.  \n",
    "\n",
    "How can we leverage this to distinguish between the constant and balanced functions?  Note that for the constant functions the phase that is applied is the same for all inputs $|x\\rangle$, whereas for the balanced functions the phase is different for each value of $x$.  In other words, if we use the phase kickback trick then for each of the oracles we apply the following transform on the first qubit:\n",
    "\n",
    "$$\n",
    "\\begin{eqnarray}\n",
    "f_0 \\rightarrow I, &&\n",
    "f_1 \\rightarrow -I, &&\n",
    "f_x \\rightarrow Z, &&\n",
    "f_\\bar{x} \\rightarrow -Z &&\n",
    "\\end{eqnarray}\n",
    "$$\n",
    "\n",
    "Now we only need, on the first qubit, to distinguish between the identity gate and the $Z$ gate.  But we can do this by recalling the identity\n",
    "\n",
    "$$ \n",
    "H Z H = X\n",
    "$$\n",
    "\n",
    "where $H$ is the Hamadard gate.\n",
    "\n",
    "This means that we can turn a phase flip into a bit flip by applying Hadamards before and after the phase flip.  If we look at the constant and balanced functions we see that this means that the constant functions will be proportional to $I$ and the balanced functions will be proportional to $X$.  If we feed in $|0\\rangle$ to this register, then in the first cases we will only see $|0\\rangle$ and in the second case we will only see $|1\\rangle$.  In other words we will be able to distinguish constant from balanced using a single query of the oracle.\n",
    "\n",
    "Let's code this up."
   ]
  },
  {
   "cell_type": "code",
   "execution_count": 19,
   "id": "1c2fb246",
   "metadata": {},
   "outputs": [
    {
     "name": "stdout",
     "output_type": "stream",
     "text": [
      "Circuit for f_0:\n",
      "True\n",
      "True\n",
      "True\n",
      "True\n",
      "True\n",
      "Qubit 0:|┤H├|┤H├|┤measure├\n",
      "Qubit 1:|┤X├|┤H├|---------\n",
      "Circuit for f_1:\n",
      "True\n",
      "True\n",
      "True\n"
     ]
    },
    {
     "ename": "CircuitError",
     "evalue": "\"Operation of type <class 'qbraid.circuits.instruction.Instruction'> not appendable in circuit of 2 qubits\"",
     "output_type": "error",
     "traceback": [
      "\u001b[0;31m---------------------------------------------------------------------------\u001b[0m",
      "\u001b[0;31mCircuitError\u001b[0m                              Traceback (most recent call last)",
      "\u001b[0;32m<ipython-input-19-56c74ed3de8b>\u001b[0m in \u001b[0;36m<module>\u001b[0;34m\u001b[0m\n\u001b[1;32m     11\u001b[0m     \u001b[0mdeutsch_circuit\u001b[0m \u001b[0;34m=\u001b[0m \u001b[0mCircuit\u001b[0m\u001b[0;34m(\u001b[0m\u001b[0mnum_qubits\u001b[0m\u001b[0;34m=\u001b[0m\u001b[0;36m2\u001b[0m\u001b[0;34m,\u001b[0m\u001b[0mname\u001b[0m\u001b[0;34m=\u001b[0m\u001b[0;34m\"deutsch_circuit\"\u001b[0m\u001b[0;34m)\u001b[0m\u001b[0;34m\u001b[0m\u001b[0;34m\u001b[0m\u001b[0m\n\u001b[1;32m     12\u001b[0m     \u001b[0mprint\u001b[0m\u001b[0;34m(\u001b[0m\u001b[0;34mf\"Circuit for f_{key}:\"\u001b[0m\u001b[0;34m)\u001b[0m\u001b[0;34m\u001b[0m\u001b[0;34m\u001b[0m\u001b[0m\n\u001b[0;32m---> 13\u001b[0;31m     \u001b[0mdeutsch_algorithm\u001b[0m\u001b[0;34m(\u001b[0m\u001b[0moracle\u001b[0m\u001b[0;34m,\u001b[0m\u001b[0mdeutsch_circuit\u001b[0m\u001b[0;34m)\u001b[0m\u001b[0;34m\u001b[0m\u001b[0;34m\u001b[0m\u001b[0m\n\u001b[0m\u001b[1;32m     14\u001b[0m     \u001b[0mdrawer\u001b[0m\u001b[0;34m(\u001b[0m\u001b[0mdeutsch_circuit\u001b[0m\u001b[0;34m)\u001b[0m\u001b[0;34m\u001b[0m\u001b[0;34m\u001b[0m\u001b[0m\n",
      "\u001b[0;32m<ipython-input-19-56c74ed3de8b>\u001b[0m in \u001b[0;36mdeutsch_algorithm\u001b[0;34m(oracle, circuit)\u001b[0m\n\u001b[1;32m      4\u001b[0m     \u001b[0moracle\u001b[0m\u001b[0;34m,\u001b[0m \u001b[0mi\u001b[0m\u001b[0;34m.\u001b[0m\u001b[0me\u001b[0m\u001b[0;34m.\u001b[0m\u001b[0;34m,\u001b[0m \u001b[0ma\u001b[0m \u001b[0msequence\u001b[0m \u001b[0mof\u001b[0m \u001b[0moperations\u001b[0m \u001b[0mto\u001b[0m \u001b[0mquery\u001b[0m \u001b[0ma\u001b[0m \u001b[0mparticular\u001b[0m \u001b[0mfunction\u001b[0m\u001b[0;34m.\u001b[0m\u001b[0;34m\u001b[0m\u001b[0;34m\u001b[0m\u001b[0m\n\u001b[1;32m      5\u001b[0m     \"\"\"\n\u001b[0;32m----> 6\u001b[0;31m     \u001b[0mcircuit\u001b[0m\u001b[0;34m.\u001b[0m\u001b[0mappend\u001b[0m\u001b[0;34m(\u001b[0m\u001b[0;34m[\u001b[0m\u001b[0mInstruction\u001b[0m\u001b[0;34m(\u001b[0m\u001b[0mqbraid\u001b[0m\u001b[0;34m.\u001b[0m\u001b[0mcircuits\u001b[0m\u001b[0;34m.\u001b[0m\u001b[0mX\u001b[0m\u001b[0;34m(\u001b[0m\u001b[0;34m)\u001b[0m\u001b[0;34m,\u001b[0m\u001b[0;36m1\u001b[0m\u001b[0;34m)\u001b[0m\u001b[0;34m,\u001b[0m\u001b[0mInstruction\u001b[0m\u001b[0;34m(\u001b[0m\u001b[0mqbraid\u001b[0m\u001b[0;34m.\u001b[0m\u001b[0mcircuits\u001b[0m\u001b[0;34m.\u001b[0m\u001b[0mH\u001b[0m\u001b[0;34m(\u001b[0m\u001b[0;34m)\u001b[0m\u001b[0;34m,\u001b[0m\u001b[0;36m0\u001b[0m\u001b[0;34m)\u001b[0m\u001b[0;34m,\u001b[0m \u001b[0mInstruction\u001b[0m\u001b[0;34m(\u001b[0m\u001b[0mqbraid\u001b[0m\u001b[0;34m.\u001b[0m\u001b[0mcircuits\u001b[0m\u001b[0;34m.\u001b[0m\u001b[0mH\u001b[0m\u001b[0;34m(\u001b[0m\u001b[0;34m)\u001b[0m\u001b[0;34m,\u001b[0m\u001b[0;36m1\u001b[0m\u001b[0;34m)\u001b[0m\u001b[0;34m,\u001b[0m\u001b[0;34m*\u001b[0m\u001b[0moracle\u001b[0m\u001b[0;34m]\u001b[0m\u001b[0;34m)\u001b[0m\u001b[0;34m\u001b[0m\u001b[0;34m\u001b[0m\u001b[0m\n\u001b[0m\u001b[1;32m      7\u001b[0m     \u001b[0mcircuit\u001b[0m\u001b[0;34m.\u001b[0m\u001b[0mappend\u001b[0m\u001b[0;34m(\u001b[0m\u001b[0;34m[\u001b[0m\u001b[0mInstruction\u001b[0m\u001b[0;34m(\u001b[0m\u001b[0mqbraid\u001b[0m\u001b[0;34m.\u001b[0m\u001b[0mcircuits\u001b[0m\u001b[0;34m.\u001b[0m\u001b[0mH\u001b[0m\u001b[0;34m(\u001b[0m\u001b[0;34m)\u001b[0m\u001b[0;34m,\u001b[0m\u001b[0;36m0\u001b[0m\u001b[0;34m)\u001b[0m\u001b[0;34m]\u001b[0m\u001b[0;34m,\u001b[0m\u001b[0mupdate_rule\u001b[0m\u001b[0;34m=\u001b[0m\u001b[0mUpdateRule\u001b[0m\u001b[0;34m.\u001b[0m\u001b[0mINLINE\u001b[0m\u001b[0;34m)\u001b[0m\u001b[0;34m\u001b[0m\u001b[0;34m\u001b[0m\u001b[0m\n\u001b[1;32m      8\u001b[0m     \u001b[0mcircuit\u001b[0m\u001b[0;34m.\u001b[0m\u001b[0mappend\u001b[0m\u001b[0;34m(\u001b[0m\u001b[0mInstruction\u001b[0m\u001b[0;34m(\u001b[0m\u001b[0mqbraid\u001b[0m\u001b[0;34m.\u001b[0m\u001b[0mcircuits\u001b[0m\u001b[0;34m.\u001b[0m\u001b[0mMeasure\u001b[0m\u001b[0;34m(\u001b[0m\u001b[0;34m)\u001b[0m\u001b[0;34m,\u001b[0m\u001b[0;36m0\u001b[0m\u001b[0;34m)\u001b[0m\u001b[0;34m)\u001b[0m \u001b[0;31m#not implemented\u001b[0m\u001b[0;34m\u001b[0m\u001b[0;34m\u001b[0m\u001b[0m\n",
      "\u001b[0;32m~/Documents/GitHub/qBraid/qbraid/circuits/circuit.py\u001b[0m in \u001b[0;36mappend\u001b[0;34m(self, operation, mapping, update_rule)\u001b[0m\n\u001b[1;32m    182\u001b[0m         \u001b[0;31m# iterable\u001b[0m\u001b[0;34m\u001b[0m\u001b[0;34m\u001b[0m\u001b[0;34m\u001b[0m\u001b[0m\n\u001b[1;32m    183\u001b[0m         \u001b[0;32mif\u001b[0m \u001b[0misinstance\u001b[0m\u001b[0;34m(\u001b[0m\u001b[0moperation\u001b[0m\u001b[0;34m,\u001b[0m \u001b[0mIterable\u001b[0m\u001b[0;34m)\u001b[0m\u001b[0;34m:\u001b[0m\u001b[0;34m\u001b[0m\u001b[0;34m\u001b[0m\u001b[0m\n\u001b[0;32m--> 184\u001b[0;31m             \u001b[0mself\u001b[0m\u001b[0;34m.\u001b[0m\u001b[0m_update\u001b[0m\u001b[0;34m(\u001b[0m\u001b[0moperation\u001b[0m\u001b[0;34m,\u001b[0m \u001b[0mupdate_rule\u001b[0m\u001b[0;34m=\u001b[0m\u001b[0mupdate_rule\u001b[0m\u001b[0;34m,\u001b[0m \u001b[0mindex\u001b[0m\u001b[0;34m=\u001b[0m\u001b[0mlen\u001b[0m\u001b[0;34m(\u001b[0m\u001b[0mself\u001b[0m\u001b[0;34m.\u001b[0m\u001b[0m_moments\u001b[0m\u001b[0;34m)\u001b[0m\u001b[0;34m)\u001b[0m\u001b[0;34m\u001b[0m\u001b[0;34m\u001b[0m\u001b[0m\n\u001b[0m\u001b[1;32m    185\u001b[0m         \u001b[0;32melif\u001b[0m \u001b[0misinstance\u001b[0m\u001b[0;34m(\u001b[0m\u001b[0moperation\u001b[0m\u001b[0;34m,\u001b[0m \u001b[0mCircuit\u001b[0m\u001b[0;34m)\u001b[0m\u001b[0;34m:\u001b[0m\u001b[0;34m\u001b[0m\u001b[0;34m\u001b[0m\u001b[0m\n\u001b[1;32m    186\u001b[0m             \u001b[0;31m# not implemented\u001b[0m\u001b[0;34m\u001b[0m\u001b[0;34m\u001b[0m\u001b[0;34m\u001b[0m\u001b[0m\n",
      "\u001b[0;32m~/Documents/GitHub/qBraid/qbraid/circuits/circuit.py\u001b[0m in \u001b[0;36m_update\u001b[0;34m(self, operation, update_rule, index)\u001b[0m\n\u001b[1;32m    113\u001b[0m         \u001b[0;32mfor\u001b[0m \u001b[0mop\u001b[0m \u001b[0;32min\u001b[0m \u001b[0moperation\u001b[0m\u001b[0;34m:\u001b[0m\u001b[0;34m\u001b[0m\u001b[0;34m\u001b[0m\u001b[0m\n\u001b[1;32m    114\u001b[0m             \u001b[0;32mif\u001b[0m \u001b[0misinstance\u001b[0m\u001b[0;34m(\u001b[0m\u001b[0mop\u001b[0m\u001b[0;34m,\u001b[0m \u001b[0mInstruction\u001b[0m\u001b[0;34m)\u001b[0m\u001b[0;34m:\u001b[0m\u001b[0;34m\u001b[0m\u001b[0;34m\u001b[0m\u001b[0m\n\u001b[0;32m--> 115\u001b[0;31m                 \u001b[0mprint\u001b[0m\u001b[0;34m(\u001b[0m\u001b[0mvalidate_operation\u001b[0m\u001b[0;34m(\u001b[0m\u001b[0mop\u001b[0m\u001b[0;34m,\u001b[0m \u001b[0mself\u001b[0m\u001b[0;34m.\u001b[0m\u001b[0mnum_qubits\u001b[0m\u001b[0;34m)\u001b[0m\u001b[0;34m)\u001b[0m\u001b[0;34m\u001b[0m\u001b[0;34m\u001b[0m\u001b[0m\n\u001b[0m\u001b[1;32m    116\u001b[0m                 \u001b[0;32mif\u001b[0m \u001b[0mvalidate_operation\u001b[0m\u001b[0;34m(\u001b[0m\u001b[0mop\u001b[0m\u001b[0;34m,\u001b[0m \u001b[0mself\u001b[0m\u001b[0;34m.\u001b[0m\u001b[0mnum_qubits\u001b[0m\u001b[0;34m)\u001b[0m\u001b[0;34m:\u001b[0m\u001b[0;34m\u001b[0m\u001b[0;34m\u001b[0m\u001b[0m\n\u001b[1;32m    117\u001b[0m                     \u001b[0;32mif\u001b[0m \u001b[0mupdate_rule\u001b[0m \u001b[0;32mis\u001b[0m \u001b[0mUpdateRule\u001b[0m\u001b[0;34m.\u001b[0m\u001b[0mNEW_THEN_INLINE\u001b[0m\u001b[0;34m:\u001b[0m\u001b[0;34m\u001b[0m\u001b[0;34m\u001b[0m\u001b[0m\n",
      "\u001b[0;32m~/Documents/GitHub/qBraid/qbraid/circuits/utils.py\u001b[0m in \u001b[0;36mvalidate_operation\u001b[0;34m(op, num_qubits)\u001b[0m\n\u001b[1;32m     30\u001b[0m         \u001b[0;32mreturn\u001b[0m \u001b[0;32mTrue\u001b[0m\u001b[0;34m\u001b[0m\u001b[0;34m\u001b[0m\u001b[0m\n\u001b[1;32m     31\u001b[0m     \u001b[0;32melse\u001b[0m\u001b[0;34m:\u001b[0m\u001b[0;34m\u001b[0m\u001b[0;34m\u001b[0m\u001b[0m\n\u001b[0;32m---> 32\u001b[0;31m         raise CircuitError(\n\u001b[0m\u001b[1;32m     33\u001b[0m             \"Operation of type {} not appendable in circuit of {} qubits\".format(\n\u001b[1;32m     34\u001b[0m                 \u001b[0mtype\u001b[0m\u001b[0;34m(\u001b[0m\u001b[0mop\u001b[0m\u001b[0;34m)\u001b[0m\u001b[0;34m,\u001b[0m \u001b[0mnum_qubits\u001b[0m\u001b[0;34m\u001b[0m\u001b[0;34m\u001b[0m\u001b[0m\n",
      "\u001b[0;31mCircuitError\u001b[0m: \"Operation of type <class 'qbraid.circuits.instruction.Instruction'> not appendable in circuit of 2 qubits\""
     ]
    }
   ],
   "source": [
    "\n",
    "\"\"\"Creating the circuit used in Deutsch's algorithm.\"\"\"\n",
    "def deutsch_algorithm(oracle,circuit):\n",
    "    \"\"\"Returns the circuit for Deutsch's algorithm given an input\n",
    "    oracle, i.e., a sequence of operations to query a particular function.\n",
    "    \"\"\"\n",
    "    circuit.append([Instruction(qbraid.circuits.X(),1),Instruction(qbraid.circuits.H(),0), Instruction(qbraid.circuits.H(),1),*oracle])\n",
    "    circuit.append([Instruction(qbraid.circuits.H(),0)],update_rule=UpdateRule.INLINE)\n",
    "    circuit.append(Instruction(qbraid.circuits.Measure(),0)) #not implemented\n",
    "    return circuit.moments\n",
    "for key, oracle in oracles.items():\n",
    "    deutsch_circuit = Circuit(num_qubits=2,name=\"deutsch_circuit\")\n",
    "    print(f\"Circuit for f_{key}:\")\n",
    "    deutsch_algorithm(oracle,deutsch_circuit)\n",
    "    drawer(deutsch_circuit)"
   ]
  },
  {
   "cell_type": "markdown",
   "id": "a7289af2",
   "metadata": {},
   "source": [
    "We interpret the simulation results as follows:\n",
    "\n",
    "- For the first two functions $f_0$ and $f_1$, we always measure $0$. Therefore, we know that these functions are constant.\n",
    "- For the second two functions $f_x$ and $f_{\\bar{x}}$, we always measure $1$. Therefore, we know that these functions are balanced."
   ]
  },
  {
   "cell_type": "markdown",
   "id": "abcccf38",
   "metadata": {},
   "source": [
    "David Deutsch, \"Quantum Theory, the Church-Turing Principle and the Universal Quantum Computer\" Proc. R. Soc. Lond. A 400 97–117. http://doi.org/10.1098/rspa.1985.0070"
   ]
  },
  {
   "cell_type": "code",
   "execution_count": null,
   "id": "895ac621",
   "metadata": {},
   "outputs": [],
   "source": []
  }
 ],
 "metadata": {
  "kernelspec": {
   "display_name": "Python 3",
   "language": "python",
   "name": "python3"
  },
  "language_info": {
   "codemirror_mode": {
    "name": "ipython",
    "version": 3
   },
   "file_extension": ".py",
   "mimetype": "text/x-python",
   "name": "python",
   "nbconvert_exporter": "python",
   "pygments_lexer": "ipython3",
   "version": "3.8.10"
  }
 },
 "nbformat": 4,
 "nbformat_minor": 5
}
