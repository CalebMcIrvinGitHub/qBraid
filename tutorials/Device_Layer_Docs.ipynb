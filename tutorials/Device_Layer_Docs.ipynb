{
 "cells": [
  {
   "cell_type": "markdown",
   "metadata": {
    "cellId": "d54771be-3e31-4d3e-9934-9eb9e7ee7e71"
   },
   "source": [
    "## qBraid Device Layer"
   ]
  },
  {
   "cell_type": "markdown",
   "metadata": {
    "cellId": "d54771be-3e31-4d3e-9934-9eb9e7ee7e71"
   },
   "source": [
    "**Available devices**\n",
    "\n",
    "| Provider | Name | Paradigm | Type | Num Qubits | Type Qubits | Access |\n",
    "|:---------|:-----|:---------|:-----|:-----------|:------------|:-------|\n",
    "| D-Wave | DW_2000Q_6 | quantum annealer | QPU | ? | ? | `braket.aws.AwsDevice('arn:aws:braket:::device/qpu/d-wave/DW_2000Q_6')` |\n",
    "| Google | Sycamore | ? | QPU | 54 | Superconducting | `cirq.google.Sycamore` |\n",
    "| Google | Sycamore23 | ? | QPU | 23 | Superconducting | `cirq.google.Sycamore23` |\n",
    "| Google | Bristlecone | ? | QPU | 72 | Superconducting | `cirq.google.Bristlecone` |\n",
    "| Google | Foxtail | ? | QPU | 22 | Superconducting | `cirq.google.Foxtail` |\n",
    "| IBM | AerSimulator | ? | Simulator | N/A | N/A | `qiskit.providers.aer.AerSimulator` |\n",
    "| IBM | PulseSimulator | ? | Simulator | N/A | N/A | `qiskit.providers.aer.PulseSimulator` |\n",
    "| IBM | QasmSimulator | ? | Simulator | N/A | N/A | `qiskit.providers.aer.QasmSimulator` |\n",
    "| IBM | StatevectorSimulator | ? | Simulator | N/A | N/A | `qiskit.providers.aer.StatevectorSimulator` |\n",
    "| IBM | UnitarySimulator | ? | Simulator | N/A | N/A | `qiskit.providers.aer.UnitarySimulator` |"
   ]
  },
  {
   "cell_type": "markdown",
   "metadata": {},
   "source": [
    "**Functions to get available devices**\n",
    "\n",
    "| Package | Function |\n",
    "|:--------|:---------|\n",
    "| Braket | ? |\n",
    "| Cirq | ? |\n",
    "| Qiskit | ? |"
   ]
  },
  {
   "cell_type": "markdown",
   "metadata": {
    "cellId": "b895df86-e315-44c1-bd2d-c78d33f42ac4"
   },
   "source": [
    "**Device-like objects**\n",
    "\n",
    "| Object | Properties | Methods (\\*=abstract) |\n",
    "|:--------------------|:-----------|:----------------------|\n",
    "| `braket.devices.device.Device` | `name` <br> `status` | `run`\\* | \n",
    "| `cirq.devices.device.Device` | -- | `qubit_set` <br> `qid_pairs` <br> `decompose_operation` <br> `validate_operation` <br> `validate_circuit` <br> `validate_moment` <br> `can_add_operation_into_moment` |\n",
    "| `qiskit.providers.backend.BackendV1` | `options` | `_default_options`* <br> `set_options` <br> `configuration` <br> `properties` <br> `provider` <br> `status` <br> `name` <br> `__str__` <br> `__repr__` <br> `run`* |"
   ]
  },
  {
   "cell_type": "markdown",
   "metadata": {},
   "source": [
    "**Run-like functions**\n",
    "\n",
    "| Function | Arguments | Returns |\n",
    "|:---------|:----------|:--------|\n",
    "| `braket.devices.device.Device.run` | `task_specification: Union[braket.circuits.circuit.Circuit, braket.annealing.problem.Problem]` <br> `shots: Optional[int]` | `braket.tasks.quantum_task.QuantumTask` | \n",
    "| `cirq.work.sampler.Sampler.run` | `program: cirq.circuits.Circuit` <br> `param_resolver: cirq.study.resolver.ParamResolverOrSimilarType = None` <br> `repetitions: int = 1` | `cirq.study.result.Result` |\n",
    "| `qiskit.providers.backend.BackendV1.run` | `run_input: Union[qiskit.circuits.QuantumCircuit, qiskit.pulse.Schedule, list]` | `qiskit.providers.Job` |"
   ]
  },
  {
   "cell_type": "markdown",
   "metadata": {},
   "source": [
    "**Objects returned by run-like functions**\n",
    "\n",
    "| Object | Properties | Methods(\\*=abstract) |\n",
    "|:---------|:----------|:--------|\n",
    "| `braket.tasks.quantum_task.QuantumTask` | ? | ? | \n",
    "| `cirq.study.result.Result` | ? | ? |\n",
    "| `qiskit.providers.Job` | ? | ? |"
   ]
  },
  {
   "cell_type": "code",
   "execution_count": null,
   "metadata": {},
   "outputs": [],
   "source": []
  }
 ],
 "metadata": {
  "kernelspec": {
   "display_name": "Python 3",
   "language": "python",
   "name": "python3"
  },
  "language_info": {
   "codemirror_mode": {
    "name": "ipython",
    "version": 3
   },
   "file_extension": ".py",
   "mimetype": "text/x-python",
   "name": "python",
   "nbconvert_exporter": "python",
   "pygments_lexer": "ipython3",
   "version": "3.9.5"
  }
 },
 "nbformat": 4,
 "nbformat_minor": 4
}
