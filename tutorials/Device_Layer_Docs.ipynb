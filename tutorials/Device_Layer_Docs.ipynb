{
 "cells": [
  {
   "cell_type": "markdown",
   "metadata": {
    "cellId": "d54771be-3e31-4d3e-9934-9eb9e7ee7e71"
   },
   "source": [
    "## qBraid Device Layer"
   ]
  },
  {
   "cell_type": "markdown",
   "metadata": {
    "cellId": "d54771be-3e31-4d3e-9934-9eb9e7ee7e71"
   },
   "source": [
    "**Available devices**\n",
    "\n",
    "| Provider | Name | Paradigm | Type | Num Qubits | Type Qubits | Access |\n",
    "|:---------|:-----|:---------|:-----|:-----------|:------------|:-------|\n",
    "| D-Wave | Advantage_system1.1 | quantum annealer | QPU | 5760 | Superconducting | `braket.aws.AwsDevice('arn:aws:braket:::device/qpu/d-wave/Advantage_system1')` |\n",
    "| D-Wave | DW_2000Q_6 | quantum annealer | QPU | 2048 | Superconducting | `braket.aws.AwsDevice('arn:aws:braket:::device/qpu/d-wave/DW_2000Q_6')` |\n",
    "| IonQ | IonQ | Irapped Ions| QPU | 11 | Trapped Ions | `braket.aws.AwsDevice('arn:aws:braket:::device/qpu/ionq/ionQdevice')` `cirq.ionQ` |\n",
    "| AQT | Simulator | ? | Simulator | N/A | N/A | `cirq.aqt.aqt_sampler.AQTSampler(`url = 'https://gateway.aqt.eu/marmot/sim') |\n",
    "| Pasqal | Pasqal | Laser-controlled Neutral Atoms | QPU | 36 | Neutral Atoms | `cirq.pasqal` |\n",
    "| Google | Sycamore | ? | QPU | 54 | Superconducting | `cirq.google.Sycamore` |\n",
    "| Google | Sycamore23 | ? | QPU | 23 | Superconducting | `cirq.google.Sycamore23` |\n",
    "| Google | Bristlecone | ? | QPU | 72 | Superconducting | `cirq.google.Bristlecone` |\n",
    "| Google | Foxtail | ? | QPU | 22 | Superconducting | `cirq.google.Foxtail` |\n",
    "| Google | Simulator | ? | Simulator | N/A | N/A | `cirq.Simulator` |\n",
    "| Google | DensityMatrixSimulator | ? | Simulator | N/A | N/A | `cirq.DensityMatrixSimulator` |\n",
    "| IBM | AerSimulator | ? | Simulator | N/A | N/A | `qiskit.providers.aer.AerSimulator` |\n",
    "| IBM | PulseSimulator | ? | Simulator | N/A | N/A | `qiskit.providers.aer.PulseSimulator` |\n",
    "| IBM | QasmSimulator | ? | Simulator | N/A | N/A | `qiskit.providers.aer.QasmSimulator` |\n",
    "| IBM | StatevectorSimulator | ? | Simulator | N/A | N/A | `qiskit.providers.aer.StatevectorSimulator` |\n",
    "| IBM | UnitarySimulator | ? | Simulator | N/A | N/A | `qiskit.providers.aer.UnitarySimulator` |\n",
    "| IBM | All Quantum Devices | ? | QPU | Various | Superconducting | `qiskit.providers.ibmq` |"
   ]
  },
  {
   "cell_type": "markdown",
   "metadata": {},
   "source": [
    "**Functions to get available devices**\n",
    "\n",
    "| Package | Function |\n",
    "|:--------|:---------|\n",
    "| Braket | probably call get_device() on all ARNs |\n",
    "| Cirq | ? |\n",
    "| Qiskit | call backend() on provider |"
   ]
  },
  {
   "cell_type": "markdown",
   "metadata": {
    "cellId": "b895df86-e315-44c1-bd2d-c78d33f42ac4"
   },
   "source": [
    "**Device-like objects**\n",
    "\n",
    "| Object | Properties | Methods (\\*=abstract) |\n",
    "|:--------------------|:-----------|:----------------------|\n",
    "| `braket.devices.device.Device` | `name` <br> `status` | `run`\\* | \n",
    "| `cirq.devices.device.Device` | -- | `qubit_set` <br> `qid_pairs` <br> `decompose_operation` <br> `validate_operation` <br> `validate_circuit` <br> `validate_moment` <br> `can_add_operation_into_moment` |\n",
    "| `qiskit.providers.backend.BackendV1` | `options` | `_default_options`* <br> `set_options` <br> `configuration` <br> `properties` <br> `provider` <br> `status` <br> `name` <br> `__str__` <br> `__repr__` <br> `run`* |"
   ]
  },
  {
   "cell_type": "markdown",
   "metadata": {},
   "source": [
    "**Run-like functions**\n",
    "\n",
    "| Function | Arguments | Returns |\n",
    "|:---------|:----------|:--------|\n",
    "| `braket.devices.device.Device.run` | `task_specification: Union[braket.circuits.circuit.Circuit, braket.annealing.problem.Problem]` <br> `shots: Optional[int]` | `braket.tasks.quantum_task.QuantumTask` | \n",
    "| `cirq.work.sampler.Sampler.run` | `program: cirq.circuits.Circuit` <br> `param_resolver: cirq.study.resolver.ParamResolverOrSimilarType = None` <br> `repetitions: int = 1` | `cirq.study.result.Result` |\n",
    "| `qiskit.providers.backend.BackendV1.run` | `run_input: Union[qiskit.circuits.QuantumCircuit, qiskit.pulse.Schedule, list]` | `qiskit.providers.Job` |"
   ]
  },
  {
   "cell_type": "markdown",
   "metadata": {},
   "source": [
    "**Objects returned by run-like functions**\n",
    "\n",
    "| Object | Properties | Methods(\\*=abstract) |\n",
    "|:---------|:----------|:--------|\n",
    "| `braket.tasks.quantum_task.QuantumTask` | `id` | `cancel`\\* <br> `state`\\* <br> `result`\\* <br> `async_result` <br> `metadata` | \n",
    "| `cirq.study.result.Result` | `params` <br> `data` <br> `measurements` <br> `repetitions` | `from_single_parameter_set` <br> `multi_measurement_histogram` <br> `histogram` <br> `__repr__` <br> `_repr_pretty_` <br> `__str__` <br> `__eq__` <br> `_measurement_shape` <br> `__add__` <br> `_json_dict_` <br> `_from_json_dict_` |\n",
    "| `qiskit.providers.Job` | `job_id()` <br> `backend()` <br> `metadata` | `done` <br> `running` <br> `canceled` <br> `is_final_state` <br> `wait_for_final_state` <br> `submit`\\* <br> `result`\\* <br> `cancel` <br> `status`\\* |"
   ]
  },
  {
   "cell_type": "code",
   "execution_count": null,
   "metadata": {},
   "outputs": [],
   "source": []
  }
 ],
 "metadata": {
  "kernelspec": {
   "display_name": "Python 3",
   "language": "python",
   "name": "python3"
  },
  "language_info": {
   "codemirror_mode": {
    "name": "ipython",
    "version": 3
   },
   "file_extension": ".py",
   "mimetype": "text/x-python",
   "name": "python",
   "nbconvert_exporter": "python",
   "pygments_lexer": "ipython3",
   "version": "3.9.5"
  }
 },
 "nbformat": 4,
 "nbformat_minor": 4
}