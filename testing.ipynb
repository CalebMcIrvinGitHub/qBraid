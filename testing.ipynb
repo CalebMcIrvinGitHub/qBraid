{
 "cells": [
  {
   "cell_type": "code",
   "execution_count": 4,
   "metadata": {},
   "outputs": [
    {
     "ename": "ClientError",
     "evalue": "An error occurred (UnrecognizedClientException) when calling the SearchDevices operation: The security token included in the request is invalid.",
     "output_type": "error",
     "traceback": [
      "\u001b[0;31m---------------------------------------------------------------------------\u001b[0m",
      "\u001b[0;31mClientError\u001b[0m                               Traceback (most recent call last)",
      "Cell \u001b[0;32mIn[4], line 2\u001b[0m\n\u001b[1;32m      1\u001b[0m \u001b[39mfrom\u001b[39;00m \u001b[39mbraket\u001b[39;00m\u001b[39m.\u001b[39;00m\u001b[39maws\u001b[39;00m \u001b[39mimport\u001b[39;00m AwsDevice\n\u001b[0;32m----> 2\u001b[0m aws_devices \u001b[39m=\u001b[39m AwsDevice\u001b[39m.\u001b[39;49mget_devices()\n",
      "File \u001b[0;32m~/anaconda3/envs/qbraid/lib/python3.9/site-packages/amazon_braket_sdk-1.35.4-py3.9.egg/braket/aws/aws_device.py:555\u001b[0m, in \u001b[0;36mAwsDevice.get_devices\u001b[0;34m(arns, names, types, statuses, provider_names, order_by, aws_session)\u001b[0m\n\u001b[1;32m    549\u001b[0m     \u001b[39m# Simulators are only instantiated in the same region as the AWS session\u001b[39;00m\n\u001b[1;32m    550\u001b[0m     types_for_region \u001b[39m=\u001b[39m \u001b[39msorted\u001b[39m(\n\u001b[1;32m    551\u001b[0m         types \u001b[39mif\u001b[39;00m region \u001b[39m==\u001b[39m session_region \u001b[39melse\u001b[39;00m types \u001b[39m-\u001b[39m {AwsDeviceType\u001b[39m.\u001b[39mSIMULATOR}\n\u001b[1;32m    552\u001b[0m     )\n\u001b[1;32m    553\u001b[0m     region_device_arns \u001b[39m=\u001b[39m [\n\u001b[1;32m    554\u001b[0m         result[\u001b[39m\"\u001b[39m\u001b[39mdeviceArn\u001b[39m\u001b[39m\"\u001b[39m]\n\u001b[0;32m--> 555\u001b[0m         \u001b[39mfor\u001b[39;00m result \u001b[39min\u001b[39;00m session_for_region\u001b[39m.\u001b[39;49msearch_devices(\n\u001b[1;32m    556\u001b[0m             arns\u001b[39m=\u001b[39;49marns,\n\u001b[1;32m    557\u001b[0m             names\u001b[39m=\u001b[39;49mnames,\n\u001b[1;32m    558\u001b[0m             types\u001b[39m=\u001b[39;49mtypes_for_region,\n\u001b[1;32m    559\u001b[0m             statuses\u001b[39m=\u001b[39;49mstatuses,\n\u001b[1;32m    560\u001b[0m             provider_names\u001b[39m=\u001b[39;49mprovider_names,\n\u001b[1;32m    561\u001b[0m         )\n\u001b[1;32m    562\u001b[0m     ]\n\u001b[1;32m    563\u001b[0m     device_map\u001b[39m.\u001b[39mupdate(\n\u001b[1;32m    564\u001b[0m         {\n\u001b[1;32m    565\u001b[0m             arn: AwsDevice(arn, session_for_region)\n\u001b[0;32m   (...)\u001b[0m\n\u001b[1;32m    568\u001b[0m         }\n\u001b[1;32m    569\u001b[0m     )\n\u001b[1;32m    570\u001b[0m devices \u001b[39m=\u001b[39m \u001b[39mlist\u001b[39m(device_map\u001b[39m.\u001b[39mvalues())\n",
      "File \u001b[0;32m~/anaconda3/envs/qbraid/lib/python3.9/site-packages/amazon_braket_sdk-1.35.4-py3.9.egg/braket/aws/aws_session.py:628\u001b[0m, in \u001b[0;36mAwsSession.search_devices\u001b[0;34m(self, arns, names, types, statuses, provider_names)\u001b[0m\n\u001b[1;32m    626\u001b[0m page_iterator \u001b[39m=\u001b[39m paginator\u001b[39m.\u001b[39mpaginate(filters\u001b[39m=\u001b[39mfilters, PaginationConfig\u001b[39m=\u001b[39m{\u001b[39m\"\u001b[39m\u001b[39mMaxItems\u001b[39m\u001b[39m\"\u001b[39m: \u001b[39m100\u001b[39m})\n\u001b[1;32m    627\u001b[0m results \u001b[39m=\u001b[39m []\n\u001b[0;32m--> 628\u001b[0m \u001b[39mfor\u001b[39;00m page \u001b[39min\u001b[39;00m page_iterator:\n\u001b[1;32m    629\u001b[0m     \u001b[39mfor\u001b[39;00m result \u001b[39min\u001b[39;00m page[\u001b[39m\"\u001b[39m\u001b[39mdevices\u001b[39m\u001b[39m\"\u001b[39m]:\n\u001b[1;32m    630\u001b[0m         \u001b[39mif\u001b[39;00m names \u001b[39mand\u001b[39;00m result[\u001b[39m\"\u001b[39m\u001b[39mdeviceName\u001b[39m\u001b[39m\"\u001b[39m] \u001b[39mnot\u001b[39;00m \u001b[39min\u001b[39;00m names:\n",
      "File \u001b[0;32m~/anaconda3/envs/qbraid/lib/python3.9/site-packages/botocore/paginate.py:269\u001b[0m, in \u001b[0;36mPageIterator.__iter__\u001b[0;34m(self)\u001b[0m\n\u001b[1;32m    267\u001b[0m \u001b[39mself\u001b[39m\u001b[39m.\u001b[39m_inject_starting_params(current_kwargs)\n\u001b[1;32m    268\u001b[0m \u001b[39mwhile\u001b[39;00m \u001b[39mTrue\u001b[39;00m:\n\u001b[0;32m--> 269\u001b[0m     response \u001b[39m=\u001b[39m \u001b[39mself\u001b[39;49m\u001b[39m.\u001b[39;49m_make_request(current_kwargs)\n\u001b[1;32m    270\u001b[0m     parsed \u001b[39m=\u001b[39m \u001b[39mself\u001b[39m\u001b[39m.\u001b[39m_extract_parsed_response(response)\n\u001b[1;32m    271\u001b[0m     \u001b[39mif\u001b[39;00m first_request:\n\u001b[1;32m    272\u001b[0m         \u001b[39m# The first request is handled differently.  We could\u001b[39;00m\n\u001b[1;32m    273\u001b[0m         \u001b[39m# possibly have a resume/starting token that tells us where\u001b[39;00m\n\u001b[1;32m    274\u001b[0m         \u001b[39m# to index into the retrieved page.\u001b[39;00m\n",
      "File \u001b[0;32m~/anaconda3/envs/qbraid/lib/python3.9/site-packages/botocore/paginate.py:357\u001b[0m, in \u001b[0;36mPageIterator._make_request\u001b[0;34m(self, current_kwargs)\u001b[0m\n\u001b[1;32m    356\u001b[0m \u001b[39mdef\u001b[39;00m \u001b[39m_make_request\u001b[39m(\u001b[39mself\u001b[39m, current_kwargs):\n\u001b[0;32m--> 357\u001b[0m     \u001b[39mreturn\u001b[39;00m \u001b[39mself\u001b[39;49m\u001b[39m.\u001b[39;49m_method(\u001b[39m*\u001b[39;49m\u001b[39m*\u001b[39;49mcurrent_kwargs)\n",
      "File \u001b[0;32m~/anaconda3/envs/qbraid/lib/python3.9/site-packages/botocore/client.py:530\u001b[0m, in \u001b[0;36mClientCreator._create_api_method.<locals>._api_call\u001b[0;34m(self, *args, **kwargs)\u001b[0m\n\u001b[1;32m    526\u001b[0m     \u001b[39mraise\u001b[39;00m \u001b[39mTypeError\u001b[39;00m(\n\u001b[1;32m    527\u001b[0m         \u001b[39mf\u001b[39m\u001b[39m\"\u001b[39m\u001b[39m{\u001b[39;00mpy_operation_name\u001b[39m}\u001b[39;00m\u001b[39m() only accepts keyword arguments.\u001b[39m\u001b[39m\"\u001b[39m\n\u001b[1;32m    528\u001b[0m     )\n\u001b[1;32m    529\u001b[0m \u001b[39m# The \"self\" in this scope is referring to the BaseClient.\u001b[39;00m\n\u001b[0;32m--> 530\u001b[0m \u001b[39mreturn\u001b[39;00m \u001b[39mself\u001b[39;49m\u001b[39m.\u001b[39;49m_make_api_call(operation_name, kwargs)\n",
      "File \u001b[0;32m~/anaconda3/envs/qbraid/lib/python3.9/site-packages/botocore/client.py:960\u001b[0m, in \u001b[0;36mBaseClient._make_api_call\u001b[0;34m(self, operation_name, api_params)\u001b[0m\n\u001b[1;32m    958\u001b[0m     error_code \u001b[39m=\u001b[39m parsed_response\u001b[39m.\u001b[39mget(\u001b[39m\"\u001b[39m\u001b[39mError\u001b[39m\u001b[39m\"\u001b[39m, {})\u001b[39m.\u001b[39mget(\u001b[39m\"\u001b[39m\u001b[39mCode\u001b[39m\u001b[39m\"\u001b[39m)\n\u001b[1;32m    959\u001b[0m     error_class \u001b[39m=\u001b[39m \u001b[39mself\u001b[39m\u001b[39m.\u001b[39mexceptions\u001b[39m.\u001b[39mfrom_code(error_code)\n\u001b[0;32m--> 960\u001b[0m     \u001b[39mraise\u001b[39;00m error_class(parsed_response, operation_name)\n\u001b[1;32m    961\u001b[0m \u001b[39melse\u001b[39;00m:\n\u001b[1;32m    962\u001b[0m     \u001b[39mreturn\u001b[39;00m parsed_response\n",
      "\u001b[0;31mClientError\u001b[0m: An error occurred (UnrecognizedClientException) when calling the SearchDevices operation: The security token included in the request is invalid."
     ]
    }
   ],
   "source": [
    "from braket.aws import AwsDevice\n",
    "aws_devices = AwsDevice.get_devices()"
   ]
  },
  {
   "cell_type": "code",
   "execution_count": 2,
   "metadata": {},
   "outputs": [
    {
     "data": {
      "text/plain": [
       "'// Generated from Cirq v1.1.0\\n\\nOPENQASM 2.0;\\ninclude \"qelib1.inc\";\\n\\n\\n// Qubits: [q(0), q(1)]\\nqreg q[2];\\n\\n\\nh q[0];\\ncx q[0],q[1];'"
      ]
     },
     "execution_count": 2,
     "metadata": {},
     "output_type": "execute_result"
    }
   ],
   "source": [
    "from qbraid.interface.qbraid_qasm.circuits import qasm_bell\n",
    "qasm_bell().read()"
   ]
  },
  {
   "cell_type": "code",
   "execution_count": 8,
   "metadata": {},
   "outputs": [],
   "source": [
    "from qbraid.interface.qbraid_qasm.tools import qasm_qubits, qasm_num_qubits, qasm_depth"
   ]
  },
  {
   "cell_type": "code",
   "execution_count": 3,
   "metadata": {},
   "outputs": [
    {
     "ename": "AttributeError",
     "evalue": "'str' object has no attribute '__module__'",
     "output_type": "error",
     "traceback": [
      "\u001b[1;31m---------------------------------------------------------------------------\u001b[0m",
      "\u001b[1;31mAttributeError\u001b[0m                            Traceback (most recent call last)",
      "Cell \u001b[1;32mIn[3], line 4\u001b[0m\n\u001b[0;32m      2\u001b[0m \u001b[39m#from qbraid.interface.qbraid_cirq.circuits import cirq_bell\u001b[39;00m\n\u001b[0;32m      3\u001b[0m \u001b[39mfrom\u001b[39;00m \u001b[39mqbraid\u001b[39;00m\u001b[39m.\u001b[39;00m\u001b[39minterface\u001b[39;00m\u001b[39m.\u001b[39;00m\u001b[39mqbraid_qasm\u001b[39;00m\u001b[39m.\u001b[39;00m\u001b[39mcircuits\u001b[39;00m \u001b[39mimport\u001b[39;00m qasm_bell\n\u001b[1;32m----> 4\u001b[0m qasm_bell()\u001b[39m.\u001b[39;49m\u001b[39m__module__\u001b[39;49m\n",
      "\u001b[1;31mAttributeError\u001b[0m: 'str' object has no attribute '__module__'"
     ]
    }
   ],
   "source": [
    "from qbraid.transpiler.cirq_qasm.qasm_conversions import from_qasm, to_qasm\n",
    "#from qbraid.interface.qbraid_cirq.circuits import cirq_bell\n",
    "from qbraid.interface.qbraid_qasm.circuits import qasm_bell\n",
    "qasm_bell().__module__\n",
    "#o_qasm(cirq_bell())"
   ]
  },
  {
   "cell_type": "code",
   "execution_count": 7,
   "metadata": {},
   "outputs": [
    {
     "ename": "NameError",
     "evalue": "name 'instance' is not defined",
     "output_type": "error",
     "traceback": [
      "\u001b[1;31m---------------------------------------------------------------------------\u001b[0m",
      "\u001b[1;31mNameError\u001b[0m                                 Traceback (most recent call last)",
      "Cell \u001b[1;32mIn[7], line 2\u001b[0m\n\u001b[0;32m      1\u001b[0m test_str \u001b[39m=\u001b[39m \u001b[39m'\u001b[39m\u001b[39mok\u001b[39m\u001b[39m'\u001b[39m\n\u001b[1;32m----> 2\u001b[0m instance(test_str, \u001b[39mstr\u001b[39m)\n",
      "\u001b[1;31mNameError\u001b[0m: name 'instance' is not defined"
     ]
    }
   ],
   "source": [
    "test_str = 'ok'\n",
    "isinstance(test_str, str)"
   ]
  },
  {
   "cell_type": "code",
   "execution_count": 1,
   "metadata": {},
   "outputs": [
    {
     "name": "stdout",
     "output_type": "stream",
     "text": [
      "22\n"
     ]
    }
   ],
   "source": [
    "from qbraid.interface.qbraid_qasm.circuits import qasm_bell, qasm_shared15\n",
    "from qbraid.interface.qbraid_qasm.tools import qasm_depth\n",
    "assert qasm_depth(qasm_bell()) == 2\n",
    "print(qasm_depth(qasm_shared15()))"
   ]
  },
  {
   "cell_type": "code",
   "execution_count": null,
   "metadata": {},
   "outputs": [],
   "source": [
    "qasm_num_qubits(to_qasm(cirq_bell()))"
   ]
  },
  {
   "cell_type": "code",
   "execution_count": 11,
   "metadata": {},
   "outputs": [
    {
     "name": "stdout",
     "output_type": "stream",
     "text": [
      "// Generated from Cirq v1.1.0\n",
      "\n",
      "OPENQASM 2.0;\n",
      "include \"qelib1.inc\";\n",
      "\n",
      "\n",
      "// Qubits: [q(0), q(1)]\n",
      "qreg q[2];\n",
      "\n",
      "\n",
      "h q[0];\n",
      "cx q[0],q[1];\n",
      "\n"
     ]
    }
   ],
   "source": [
    "print('// Generated from Cirq v1.1.0\\n\\nOPENQASM 2.0;\\ninclude \"qelib1.inc\";\\n\\n\\n// Qubits: [q(0), q(1)]\\nqreg q[2];\\n\\n\\nh q[0];\\ncx q[0],q[1];\\n')"
   ]
  },
  {
   "cell_type": "code",
   "execution_count": 19,
   "metadata": {},
   "outputs": [
    {
     "data": {
      "text/plain": [
       "'OPENQASM 2.0;\\ninclude \"qelib1.inc\";\\ngate rzx(param0) q0,q1 { h q1; cx q0,q1; rz(-pi/4) q1; cx q0,q1; h q1; }\\ngate ecr q0,q1 { rzx(pi/4) q0,q1; x q0; rzx(-pi/4) q0,q1; }\\ngate rzx_6320157840(param0) q0,q1 { h q1; cx q0,q1; rz(2.3200048200765524) q1; cx q0,q1; h q1; }\\nqreg q[4];\\nqreg a[10];\\ncry(5.518945082555831) q[0],q[1];\\nu(5.75740842861076,5.870881397684582,1.8535618384181967) q[2];\\necr q[3],q[0];\\necr a[3],a[0];\\nrzx_6320157840(2.3200048200765524) q[2],q[1];\\nrccx q[1],q[2],q[3];\\ncsx q[0],q[1];\\nrxx(5.603791034636421) q[2],q[0];\\n'"
      ]
     },
     "execution_count": 19,
     "metadata": {},
     "output_type": "execute_result"
    }
   ],
   "source": [
    "str(qasm_0)"
   ]
  },
  {
   "cell_type": "code",
   "execution_count": 1,
   "metadata": {},
   "outputs": [
    {
     "name": "stdout",
     "output_type": "stream",
     "text": [
      "['qreg q[4];', 'qreg a[10];']\n",
      "14\n"
     ]
    }
   ],
   "source": [
    "\n",
    "qasm_0 = \"\"\"OPENQASM 2.0;\n",
    "include \"qelib1.inc\";\n",
    "gate rzx(param0) q0,q1 { h q1; cx q0,q1; rz(-pi/4) q1; cx q0,q1; h q1; }\n",
    "gate ecr q0,q1 { rzx(pi/4) q0,q1; x q0; rzx(-pi/4) q0,q1; }\n",
    "gate rzx_6320157840(param0) q0,q1 { h q1; cx q0,q1; rz(2.3200048200765524) q1; cx q0,q1; h q1; }\n",
    "qreg q[4];\n",
    "qreg a[10];\n",
    "cry(5.518945082555831) q[0],q[1];\n",
    "u(5.75740842861076,5.870881397684582,1.8535618384181967) q[2];\n",
    "ecr q[3],q[0];\n",
    "ecr a[3],a[0];\n",
    "rzx_6320157840(2.3200048200765524) q[2],q[1];\n",
    "rccx q[1],q[2],q[3];\n",
    "csx q[0],q[1];\n",
    "rxx(5.603791034636421) q[2],q[0];\n",
    "\"\"\"\n",
    "\n",
    "\n",
    "#from qbraid.interface.qbraid_qasm.tools import _unitary_from_qasm\n",
    "#print(_unitary_from_qasm(qasm_0))\n",
    "\n",
    "import re \n",
    "#def qasm_depth(qasmstr:str) -> str:\n",
    "#    \"\"\"calculate number of depth\"\"\"\n",
    "#    from qbraid.transpiler.cirq_qasm.qasm_conversions import from_qasm\n",
    "#    from cirq.circuits import Circuit\n",
    "#    circuit = from_qasm(qasmstr)\n",
    "#    return len(Circuit(circuit.all_operations()))\n",
    "\n",
    "QASMType = str\n",
    "def qasm_qubits(qasmstr:str) -> QASMType:\n",
    "    \"\"\"get number of qasm qubits\"\"\"\n",
    "    return [text.replace('\\n','') for text in re.findall(r'\\bqreg\\s\\S+\\n\\b', qasmstr)]\n",
    "print(qasm_qubits(qasm_0))\n",
    "\n",
    "def qasm_num_qubits(qasmstr:str) -> QASMType:\n",
    "    \"\"\"calculate number of qubits\"\"\"\n",
    "    q_num = 0\n",
    "    for num in qasm_qubits(qasmstr):\n",
    "      q_num += int(re.search(r'\\d+', num).group())\n",
    "    return q_num\n",
    "print(qasm_num_qubits(qasm_0))\n",
    "\n",
    "#def qasm_depth():\n",
    "#    \"\"\"calculate number of depth\"\"\"\n",
    "#    \n",
    "#    pass\n",
    "#\n",
    "#from qbraid.transpiler.cirq_qasm.qasm_conversions import from_qasm\n",
    "#from qbraid.transpiler.cirq_qasm.qasm_preprocess import convert_to_supported_qasm\n",
    "#print(from_qasm(qasm_0).all_qubits())\n",
    "\n",
    "#print(qasm_depth(qasm_0))"
   ]
  },
  {
   "cell_type": "code",
   "execution_count": 3,
   "metadata": {},
   "outputs": [
    {
     "name": "stdout",
     "output_type": "stream",
     "text": [
      "[{'numberQubits': 7, 'objArg': 'ibm_nairobi', 'objRef': 'IBMQ', 'pendingJobs': '0', 'statusRefresh': '2023-02-15T14:03:57.657Z', 'visibility': 'public', 'connectivityGraph': [], '_id': '622979b2d3e5f145307a5f71', 'qbraid_id': 'ibm_q_nairobi', 'name': 'Nairobi', 'provider': 'IBM', 'paradigm': 'gate-based', 'type': 'QPU', 'dateDeployed': '2021', 'location': 'Armonk, NY, USA', 'vendor': 'IBM', 'runPackage': 'qiskit', 'requiresCred': True, 'status': 'ONLINE', '_code': 1, 'calibrationData': [], 'publishedStudies': [], 'createdAt': '2022-03-10T04:08:18.469Z', 'updatedAt': '2023-02-15T14:03:57.711Z', '__v': 0, 'architecture': 'superconducting'}, {'numberQubits': 5, 'objArg': 'ibmq_belem', 'objRef': 'IBMQ', 'pendingJobs': '0', 'statusRefresh': '2023-02-15T14:03:57.658Z', 'visibility': 'public', 'connectivityGraph': [], '_id': '622979b2d3e5f145307a5f75', 'qbraid_id': 'ibm_q_belem', 'name': 'Belem', 'provider': 'IBM', 'paradigm': 'gate-based', 'type': 'QPU', 'dateDeployed': '2020', 'location': '\"Armonk, NY, USA', 'vendor': 'IBM', 'runPackage': 'qiskit', 'requiresCred': True, 'status': 'ONLINE', '_code': 1, 'calibrationData': [], 'publishedStudies': [], 'createdAt': '2022-03-10T04:08:18.580Z', 'updatedAt': '2023-02-15T14:03:57.724Z', '__v': 0, 'architecture': 'superconducting'}, {'numberQubits': None, 'objArg': 'aer_simulator', 'objRef': 'Aer', 'pendingJobs': 'N/D', 'statusRefresh': '2023-02-10T02:12:51.628Z', 'visibility': 'public', 'connectivityGraph': [], '_id': '622979b2d3e5f145307a5f79', 'qbraid_id': 'ibm_aer_default_sim', 'name': 'Aer Default Simulator', 'provider': 'IBM', 'paradigm': 'gate-based', 'type': 'Simulator', 'vendor': 'IBM', 'runPackage': 'qiskit', 'requiresCred': False, 'status': 'ONLINE', '_code': 2, 'calibrationData': [], 'publishedStudies': [], 'createdAt': '2022-03-10T04:08:18.682Z', 'updatedAt': '2023-02-10T02:12:51.628Z', '__v': 0}, {'numberQubits': None, 'objArg': 'qasm_simulator', 'objRef': None, 'pendingJobs': 'N/D', 'statusRefresh': '2023-02-10T02:12:51.997Z', 'visibility': 'public', 'connectivityGraph': [], '_id': '622979b2d3e5f145307a5f7d', 'qbraid_id': 'ibm_basicaer_qasm_sim', 'name': 'BasicAer QASM Simulator', 'provider': 'IBM', 'paradigm': 'gate-based', 'type': 'Simulator', 'vendor': 'IBM', 'runPackage': 'qiskit', 'requiresCred': False, 'status': 'OFFLINE', '_code': 0, 'calibrationData': [], 'publishedStudies': [], 'createdAt': '2022-03-10T04:08:18.777Z', 'updatedAt': '2023-02-10T02:12:51.997Z', '__v': 0}, {'numberQubits': None, 'objArg': 'pulse_simulator', 'objRef': 'Aer', 'pendingJobs': 'N/D', 'statusRefresh': '2023-02-10T02:12:52.401Z', 'visibility': 'public', 'connectivityGraph': [], '_id': '622979b2d3e5f145307a5f81', 'qbraid_id': 'ibm_aer_pulse_sim', 'name': 'Aer Pulse Simulator', 'provider': 'IBM', 'paradigm': 'gate-based', 'type': 'Simulator', 'vendor': 'IBM', 'runPackage': 'qiskit', 'requiresCred': False, 'status': 'ONLINE', '_code': 2, 'calibrationData': [], 'publishedStudies': [], 'createdAt': '2022-03-10T04:08:18.878Z', 'updatedAt': '2023-02-10T02:12:52.402Z', '__v': 0}, {'numberQubits': None, 'objArg': 'qasm_simulator', 'objRef': 'Aer', 'pendingJobs': 'N/D', 'statusRefresh': '2023-02-10T02:12:52.767Z', 'visibility': 'public', 'connectivityGraph': [], '_id': '622979b2d3e5f145307a5f85', 'qbraid_id': 'ibm_aer_qasm_sim', 'name': 'Aer QASM Simulator', 'provider': 'IBM', 'paradigm': 'gate-based', 'type': 'Simulator', 'vendor': 'IBM', 'runPackage': 'qiskit', 'requiresCred': False, 'status': 'ONLINE', '_code': 2, 'calibrationData': [], 'publishedStudies': [], 'createdAt': '2022-03-10T04:08:18.968Z', 'updatedAt': '2023-02-10T02:12:52.767Z', '__v': 0}, {'numberQubits': None, 'objArg': 'statevector_simulator', 'objRef': 'Aer', 'pendingJobs': 'N/D', 'statusRefresh': '2023-02-10T02:12:53.126Z', 'visibility': 'public', 'connectivityGraph': [], '_id': '622979b3d3e5f145307a5f89', 'qbraid_id': 'ibm_aer_sv_sim', 'name': 'Aer State Vector Simulator', 'provider': 'IBM', 'paradigm': 'gate-based', 'type': 'Simulator', 'vendor': 'IBM', 'runPackage': 'qiskit', 'requiresCred': False, 'status': 'ONLINE', '_code': 2, 'calibrationData': [], 'publishedStudies': [], 'createdAt': '2022-03-10T04:08:19.097Z', 'updatedAt': '2023-02-10T02:12:53.127Z', '__v': 0}, {'numberQubits': None, 'objArg': 'unitary_simulator', 'objRef': 'Aer', 'pendingJobs': 'N/D', 'statusRefresh': '2023-02-10T02:12:53.496Z', 'visibility': 'public', 'connectivityGraph': [], '_id': '622979b3d3e5f145307a5f8d', 'qbraid_id': 'ibm_aer_unitary_sim', 'name': 'Aer Unitary Simulator', 'provider': 'IBM', 'paradigm': 'gate-based', 'type': 'Simulator', 'vendor': 'IBM', 'runPackage': 'qiskit', 'requiresCred': False, 'status': 'ONLINE', '_code': 2, 'calibrationData': [], 'publishedStudies': [], 'createdAt': '2022-03-10T04:08:19.187Z', 'updatedAt': '2023-02-10T02:12:53.496Z', '__v': 0}, {'numberQubits': None, 'objArg': 'statevector_simulator', 'objRef': None, 'pendingJobs': 'N/D', 'statusRefresh': '2023-02-10T02:12:53.870Z', 'visibility': 'public', 'connectivityGraph': [], '_id': '622979b3d3e5f145307a5f91', 'qbraid_id': 'ibm_basicaer_sv_sim', 'name': 'BasicAer State Vector Simulator', 'provider': 'IBM', 'paradigm': 'gate-based', 'type': 'Simulator', 'vendor': 'IBM', 'runPackage': 'qiskit', 'requiresCred': False, 'status': 'ONLINE', '_code': 0, 'calibrationData': [], 'publishedStudies': [], 'createdAt': '2022-03-10T04:08:19.275Z', 'updatedAt': '2023-02-10T02:12:53.870Z', '__v': 0}, {'numberQubits': None, 'objArg': 'unitary_simulator', 'objRef': None, 'pendingJobs': 'N/D', 'statusRefresh': '2023-02-10T02:12:54.250Z', 'visibility': 'public', 'connectivityGraph': [], '_id': '622979b3d3e5f145307a5f95', 'qbraid_id': 'ibm_basicaer_unitary_sim', 'name': 'BasicAer Unitary Simulator', 'provider': 'IBM', 'paradigm': 'gate-based', 'type': 'Simulator', 'vendor': 'IBM', 'runPackage': 'qiskit', 'requiresCred': False, 'status': 'ONLINE', '_code': 0, 'calibrationData': [], 'publishedStudies': [], 'createdAt': '2022-03-10T04:08:19.378Z', 'updatedAt': '2023-02-10T02:12:54.251Z', '__v': 0}, {'numberQubits': 5, 'objArg': 'ibmq_manila', 'objRef': 'IBMQ', 'pendingJobs': '0', 'statusRefresh': '2023-02-15T14:03:57.658Z', 'visibility': 'public', 'connectivityGraph': [], '_id': '622979b3d3e5f145307a5f9d', 'qbraid_id': 'ibm_q_manila', 'name': 'Manila', 'provider': 'IBM', 'paradigm': 'gate-based', 'type': 'QPU', 'dateDeployed': '2021', 'location': '\"Armonk, NY, USA', 'vendor': 'IBM', 'runPackage': 'qiskit', 'requiresCred': True, 'status': 'ONLINE', '_code': 1, 'calibrationData': [], 'publishedStudies': [], 'createdAt': '2022-03-10T04:08:19.556Z', 'updatedAt': '2023-02-15T14:03:57.734Z', '__v': 0, 'architecture': 'superconducting'}, {'numberQubits': 5, 'objArg': 'ibmq_quito', 'objRef': 'IBMQ', 'pendingJobs': '0', 'statusRefresh': '2023-02-15T14:03:57.658Z', 'visibility': 'public', 'connectivityGraph': [], '_id': '622979b3d3e5f145307a5fa5', 'qbraid_id': 'ibm_q_quito', 'name': 'Quito', 'provider': 'IBM', 'paradigm': 'gate-based', 'type': 'QPU', 'dateDeployed': '2020', 'location': '\"Armonk, NY, USA', 'vendor': 'IBM', 'runPackage': 'qiskit', 'requiresCred': True, 'status': 'ONLINE', '_code': 1, 'calibrationData': [], 'publishedStudies': [], 'createdAt': '2022-03-10T04:08:19.734Z', 'updatedAt': '2023-02-15T14:03:57.743Z', '__v': 0, 'architecture': 'superconducting'}, {'numberQubits': 5, 'objArg': 'ibmq_lima', 'objRef': 'IBMQ', 'pendingJobs': '0', 'statusRefresh': '2023-02-15T14:03:57.659Z', 'visibility': 'public', 'connectivityGraph': [], '_id': '622979b3d3e5f145307a5fa9', 'qbraid_id': 'ibm_q_lima', 'name': 'Lima', 'provider': 'IBM', 'paradigm': 'gate-based', 'type': 'QPU', 'dateDeployed': '2020', 'location': '\"Armonk, NY, USA', 'vendor': 'IBM', 'runPackage': 'qiskit', 'requiresCred': True, 'status': 'ONLINE', '_code': 1, 'calibrationData': [], 'publishedStudies': [], 'createdAt': '2022-03-10T04:08:19.823Z', 'updatedAt': '2023-02-15T14:03:57.745Z', '__v': 0, 'architecture': 'superconducting'}, {'numberQubits': 5000, 'objArg': 'simulator_stabilizer', 'objRef': 'IBMQ', 'pendingJobs': '0', 'statusRefresh': '2023-02-15T14:03:57.659Z', 'visibility': 'public', 'connectivityGraph': [], '_id': '622979b3d3e5f145307a5fad', 'qbraid_id': 'ibm_q_stabilizer_sim', 'name': 'Stabilizer simulator', 'provider': 'IBM', 'paradigm': 'gate-based', 'type': 'Simulator', 'vendor': 'IBM', 'runPackage': 'qiskit', 'requiresCred': True, 'status': 'ONLINE', '_code': 2, 'calibrationData': [], 'publishedStudies': [], 'createdAt': '2022-03-10T04:08:19.908Z', 'updatedAt': '2023-02-15T14:03:57.771Z', '__v': 0, 'processorType': 'Clifford simulator'}, {'numberQubits': 63, 'objArg': 'simulator_extended_stabilizer', 'objRef': 'IBMQ', 'pendingJobs': '0', 'statusRefresh': '2023-02-15T14:03:57.659Z', 'visibility': 'public', 'connectivityGraph': [], '_id': '622979b3d3e5f145307a5fb1', 'qbraid_id': 'ibm_q_ext_stabilizer_sim', 'name': 'Ext. stabilizer simulator', 'provider': 'IBM', 'paradigm': 'gate-based', 'type': 'Simulator', 'vendor': 'IBM', 'runPackage': 'qiskit', 'requiresCred': True, 'status': 'ONLINE', '_code': 2, 'calibrationData': [], 'publishedStudies': [], 'createdAt': '2022-03-10T04:08:19.995Z', 'updatedAt': '2023-02-15T14:03:57.773Z', '__v': 0, 'processorType': 'Extended clifford'}, {'numberQubits': 100, 'objArg': 'simulator_mps', 'objRef': 'IBMQ', 'pendingJobs': '0', 'statusRefresh': '2023-02-15T14:03:57.659Z', 'visibility': 'public', 'connectivityGraph': [], '_id': '622979b4d3e5f145307a5fb5', 'qbraid_id': 'ibm_q_mps_sim', 'name': 'MPS simulator', 'provider': 'IBM', 'paradigm': 'gate-based', 'type': 'Simulator', 'vendor': 'IBM', 'runPackage': 'qiskit', 'requiresCred': True, 'status': 'ONLINE', '_code': 2, 'calibrationData': [], 'publishedStudies': [], 'createdAt': '2022-03-10T04:08:20.096Z', 'updatedAt': '2023-02-15T14:03:57.764Z', '__v': 0, 'processorType': 'Matrix product state'}, {'numberQubits': 32, 'objArg': 'ibmq_qasm_simulator', 'objRef': 'IBMQ', 'pendingJobs': '0', 'statusRefresh': '2023-02-15T14:03:57.659Z', 'visibility': 'public', 'connectivityGraph': [], '_id': '622979b4d3e5f145307a5fb9', 'qbraid_id': 'ibm_q_qasm_sim', 'name': 'QASM simulator', 'provider': 'IBM', 'paradigm': 'gate-based', 'type': 'Simulator', 'vendor': 'IBM', 'runPackage': 'qiskit', 'requiresCred': True, 'status': 'ONLINE', '_code': 2, 'calibrationData': [], 'publishedStudies': [], 'createdAt': '2022-03-10T04:08:20.184Z', 'updatedAt': '2023-02-15T14:03:57.777Z', '__v': 0, 'processorType': 'General, context-aware'}, {'numberQubits': 32, 'objArg': 'simulator_statevector', 'objRef': 'IBMQ', 'pendingJobs': '0', 'statusRefresh': '2023-02-15T14:03:57.659Z', 'visibility': 'public', 'connectivityGraph': [], '_id': '622979b4d3e5f145307a5fc1', 'qbraid_id': 'ibm_q_sv_sim', 'name': 'State vector simulator', 'provider': 'IBM', 'paradigm': 'gate-based', 'type': 'Simulator', 'vendor': 'IBM', 'runPackage': 'qiskit', 'requiresCred': True, 'status': 'ONLINE', '_code': 2, 'calibrationData': [], 'publishedStudies': [], 'createdAt': '2022-03-10T04:08:20.359Z', 'updatedAt': '2023-02-15T14:03:57.778Z', '__v': 0, 'processorType': 'Schrödinger wavefunction'}, {'numberQubits': 17, 'objArg': 'arn:aws:braket:::device/quantum-simulator/amazon/dm1', 'objRef': None, 'pendingJobs': 'N/D', 'statusRefresh': '2023-02-15T14:03:57.659Z', 'visibility': 'public', 'connectivityGraph': [], '_id': '622979b4d3e5f145307a5fc9', 'qbraid_id': 'aws_dm_sim', 'name': 'DM1', 'provider': 'AWS', 'paradigm': 'gate-based', 'type': 'Simulator', 'vendor': 'AWS', 'runPackage': 'braket', 'requiresCred': True, 'status': 'ONLINE', '_code': 2, 'calibrationData': [], 'publishedStudies': [], 'createdAt': '2022-03-10T04:08:20.537Z', 'updatedAt': '2023-02-15T14:03:57.784Z', '__v': 0, 'processorType': 'Density matrix simulator'}, {'numberQubits': 34, 'objArg': 'arn:aws:braket:::device/quantum-simulator/amazon/sv1', 'objRef': None, 'pendingJobs': 'N/D', 'statusRefresh': '2023-02-15T14:03:57.659Z', 'visibility': 'public', 'connectivityGraph': [], '_id': '622979b4d3e5f145307a5fcd', 'qbraid_id': 'aws_sv_sim', 'name': 'SV1', 'provider': 'AWS', 'paradigm': 'gate-based', 'type': 'Simulator', 'vendor': 'AWS', 'runPackage': 'braket', 'requiresCred': True, 'status': 'ONLINE', '_code': 2, 'calibrationData': [], 'publishedStudies': [], 'createdAt': '2022-03-10T04:08:20.639Z', 'updatedAt': '2023-02-15T14:03:57.785Z', '__v': 0, 'processorType': 'State vector simulator'}, {'numberQubits': None, 'objArg': 'default', 'objRef': None, 'pendingJobs': 'N/D', 'statusRefresh': '2023-02-10T02:13:22.947Z', 'visibility': 'public', 'connectivityGraph': [], '_id': '622979b4d3e5f145307a5fd1', 'qbraid_id': 'aws_braket_default_sim', 'name': 'Braket Default Simulator', 'provider': 'AWS', 'paradigm': 'gate-based', 'type': 'Simulator', 'vendor': 'AWS', 'runPackage': 'braket', 'requiresCred': False, 'status': 'ONLINE', '_code': 0, 'calibrationData': [], 'publishedStudies': [], 'createdAt': '2022-03-10T04:08:20.732Z', 'updatedAt': '2023-02-10T02:13:22.947Z', '__v': 0}, {'numberQubits': 50, 'objArg': 'arn:aws:braket:::device/quantum-simulator/amazon/tn1', 'objRef': None, 'pendingJobs': 'N/D', 'statusRefresh': '2023-02-15T14:03:57.659Z', 'visibility': 'public', 'connectivityGraph': [], '_id': '622979b4d3e5f145307a5fd9', 'qbraid_id': 'aws_tn_sim', 'name': 'TN1', 'provider': 'AWS', 'paradigm': 'gate-based', 'type': 'Simulator', 'vendor': 'AWS', 'runPackage': 'braket', 'requiresCred': True, 'status': 'ONLINE', '_code': 2, 'calibrationData': [], 'publishedStudies': [], 'createdAt': '2022-03-10T04:08:20.924Z', 'updatedAt': '2023-02-15T14:03:57.772Z', '__v': 0, 'processorType': 'Tensor network simulator'}, {'numberQubits': 11, 'objArg': 'arn:aws:braket:::device/qpu/ionq/ionQdevice', 'objRef': None, 'pendingJobs': 'N/D', 'statusRefresh': '2023-02-15T14:03:57.660Z', 'visibility': 'public', 'connectivityGraph': [], '_id': '622979b4d3e5f145307a5fdd', 'qbraid_id': 'aws_ionq', 'name': 'IonQ Device', 'provider': 'IonQ', 'paradigm': 'gate-based', 'type': 'QPU', 'dateDeployed': '2019', 'location': 'College Park, MD, USA', 'vendor': 'AWS', 'runPackage': 'braket', 'requiresCred': True, 'status': 'ONLINE', '_code': 1, 'calibrationData': [], 'publishedStudies': [], 'createdAt': '2022-03-10T04:08:21.014Z', 'updatedAt': '2023-02-15T14:03:57.788Z', '__v': 0, 'architecture': 'trapped ion'}, {'numberQubits': 80, 'objArg': 'arn:aws:braket:us-west-1::device/qpu/rigetti/Aspen-M-2', 'objRef': None, 'pendingJobs': 'N/A', 'statusRefresh': '2023-02-15T14:03:57.660Z', 'visibility': 'public', 'connectivityGraph': [], '_id': '622979b5d3e5f145307a5fe1', 'qbraid_id': 'aws_rigetti_aspen_m2', 'name': 'Aspen-M-2', 'provider': 'Rigetti', 'paradigm': 'gate-based', 'type': 'QPU', 'location': 'Berkeley, CA, USA', 'vendor': 'AWS', 'runPackage': 'braket', 'requiresCred': True, 'status': 'OFFLINE', '_code': 1, 'calibrationData': [], 'publishedStudies': [], 'createdAt': '2022-03-10T04:08:21.093Z', 'updatedAt': '2023-02-15T14:03:57.786Z', '__v': 0, 'architecture': 'superconducting'}, {'numberQubits': None, 'objArg': None, 'objRef': 'Simulator', 'pendingJobs': 'N/D', 'statusRefresh': '2023-02-10T02:13:26.840Z', 'visibility': 'public', 'connectivityGraph': [], '_id': '622979b5d3e5f145307a5fe5', 'qbraid_id': 'google_cirq_sparse_sim', 'name': 'Cirq Sparse Simulator', 'provider': 'Google', 'paradigm': 'gate-based', 'type': 'Simulator', 'vendor': 'Google', 'runPackage': 'cirq', 'requiresCred': False, 'status': 'ONLINE', '_code': 0, 'calibrationData': [], 'publishedStudies': [], 'createdAt': '2022-03-10T04:08:21.182Z', 'updatedAt': '2023-02-10T02:13:26.841Z', '__v': 0}, {'numberQubits': None, 'objArg': None, 'objRef': 'DensityMatrixSimulator', 'pendingJobs': 'N/D', 'statusRefresh': '2023-02-10T02:13:27.217Z', 'visibility': 'public', 'connectivityGraph': [], '_id': '622979b5d3e5f145307a5fe9', 'qbraid_id': 'google_cirq_dm_sim', 'name': 'Cirq Density Matrix Simulator', 'provider': 'Google', 'paradigm': 'gate-based', 'type': 'Simulator', 'vendor': 'Google', 'runPackage': 'cirq', 'requiresCred': False, 'status': 'ONLINE', '_code': 0, 'calibrationData': [], 'publishedStudies': [], 'createdAt': '2022-03-10T04:08:21.290Z', 'updatedAt': '2023-02-10T02:13:27.217Z', '__v': 0}, {'numberQubits': 54, 'objArg': None, 'objRef': None, 'pendingJobs': 'N/D', 'statusRefresh': None, 'visibility': 'public', 'connectivityGraph': [], '_id': '622979b5d3e5f145307a5fed', 'qbraid_id': 'google_sycamore', 'name': 'Sycamore', 'provider': 'Google', 'paradigm': 'gate-based', 'type': 'QPU', 'typeQubits': 'superconducting', 'dateDeployed': '2019', 'location': 'Santa Barbara, CA, USA', 'vendor': 'Google', 'runPackage': 'cirq', 'requiresCred': True, 'status': 'OFFLINE', '_code': 1, 'calibrationData': [], 'publishedStudies': [], 'createdAt': '2022-03-10T04:08:21.376Z', 'updatedAt': '2022-03-10T04:08:21.376Z', '__v': 0}, {'numberQubits': 23, 'objArg': None, 'objRef': None, 'pendingJobs': 'N/D', 'statusRefresh': None, 'visibility': 'public', 'connectivityGraph': [], '_id': '622979b5d3e5f145307a5ff1', 'qbraid_id': 'google_sycamore23', 'name': 'Sycamore23', 'provider': 'Google', 'paradigm': 'gate-based', 'type': 'QPU', 'typeQubits': 'superconducting', 'dateDeployed': '2019', 'location': 'Santa Barbara, CA, USA', 'vendor': 'Google', 'runPackage': 'cirq', 'requiresCred': True, 'status': 'OFFLINE', '_code': 1, 'calibrationData': [], 'publishedStudies': [], 'createdAt': '2022-03-10T04:08:21.465Z', 'updatedAt': '2022-03-10T04:08:21.465Z', '__v': 0}, {'numberQubits': 72, 'objArg': None, 'objRef': None, 'pendingJobs': 'N/D', 'statusRefresh': None, 'visibility': 'public', 'connectivityGraph': [], '_id': '622979b5d3e5f145307a5ff5', 'qbraid_id': 'google_bristlecone', 'name': 'Bristlecone', 'provider': 'Google', 'paradigm': 'gate-based', 'type': 'QPU', 'dateDeployed': '2018', 'location': 'Santa Barbara, CA, USA', 'vendor': 'Google', 'runPackage': 'cirq', 'requiresCred': True, 'status': 'OFFLINE', '_code': 1, 'calibrationData': [], 'publishedStudies': [], 'createdAt': '2022-03-10T04:08:21.550Z', 'updatedAt': '2022-03-10T04:08:21.550Z', '__v': 0, 'architecture': 'superconducting'}, {'numberQubits': 22, 'objArg': None, 'objRef': None, 'pendingJobs': 'N/D', 'statusRefresh': None, 'visibility': 'public', 'connectivityGraph': [], '_id': '622979b5d3e5f145307a5ff9', 'qbraid_id': 'google_foxtail', 'name': 'Foxtail', 'provider': 'Google', 'paradigm': 'gate-based', 'type': 'QPU', 'dateDeployed': '2016', 'location': 'Santa Barbara, CA, USA', 'vendor': 'Google', 'runPackage': 'cirq', 'requiresCred': True, 'status': 'OFFLINE', '_code': 1, 'calibrationData': [], 'publishedStudies': [], 'createdAt': '2022-03-10T04:08:21.648Z', 'updatedAt': '2022-03-10T04:08:21.648Z', '__v': 0, 'architecture': 'superconducting'}, {'numberQubits': 80, 'objArg': 'arn:aws:braket:us-west-1::device/qpu/rigetti/Aspen-M-3', 'objRef': None, 'pendingJobs': 'N/A', 'statusRefresh': '2023-02-15T14:03:57.660Z', 'visibility': 'public', 'connectivityGraph': [], '_id': '6249c964d8f2f11f7dc20e15', 'qbraid_id': 'aws_rigetti_aspen_m3', 'name': 'Aspen-M-3', 'provider': 'Rigetti', 'paradigm': 'gate-based', 'type': 'QPU', 'location': 'Berkeley, CA, USA', 'vendor': 'AWS', 'runPackage': 'braket', 'requiresCred': True, 'status': 'OFFLINE', '_code': 1, 'calibrationData': [], 'publishedStudies': [], 'createdAt': '2022-03-10T04:08:21.093Z', 'updatedAt': '2023-02-15T14:03:57.789Z', '__v': 0, 'architecture': 'superconducting'}, {'numberQubits': 8, 'objArg': 'arn:aws:braket:eu-west-2::device/qpu/oqc/Lucy', 'objRef': None, 'pendingJobs': 'N/A', 'statusRefresh': '2023-02-15T14:03:57.660Z', 'visibility': 'public', 'connectivityGraph': [], '_id': '6249ca03d8f2f11f7dc20e16', 'qbraid_id': 'aws_oqc_lucy', 'name': 'Lucy', 'provider': 'OQC', 'paradigm': 'gate-based', 'type': 'QPU', 'location': 'London, England', 'vendor': 'AWS', 'runPackage': 'braket', 'requiresCred': True, 'status': 'OFFLINE', '_code': 1, 'calibrationData': [], 'publishedStudies': [], 'createdAt': '2022-03-10T04:08:21.093Z', 'updatedAt': '2023-02-15T14:03:57.786Z', '__v': 0, 'architecture': 'superconducting'}, {'numberQubits': 7, 'objArg': 'ibm_oslo', 'objRef': 'IBMQ', 'pendingJobs': '0', 'statusRefresh': '2023-02-15T14:03:57.660Z', 'visibility': 'public', 'connectivityGraph': [], '_id': '62c9a4cb9698db1b121b0722', 'qbraid_id': 'ibm_q_oslo', 'name': 'Oslo', 'provider': 'IBM', 'paradigm': 'gate-based', 'type': 'QPU', 'dateDeployed': '2021', 'location': '\"Armonk, NY, USA', 'vendor': 'IBM', 'runPackage': 'qiskit', 'requiresCred': True, 'status': 'ONLINE', '_code': 1, 'calibrationData': [], 'publishedStudies': [], 'createdAt': '2022-03-10T04:08:19.823Z', 'updatedAt': '2023-02-15T14:03:57.784Z', '__v': 0, 'architecture': 'superconducting'}, {'numberQubits': 216, 'objArg': 'arn:aws:braket:us-east-1::device/qpu/xanadu/Borealis', 'objRef': None, 'pendingJobs': 'N/A', 'statusRefresh': '2023-02-15T14:03:57.660Z', 'visibility': 'public', 'connectivityGraph': [], '_id': '62d849629daa7ffc2b899700', 'qbraid_id': 'aws_xanadu_borealis', 'name': 'Borealis', 'provider': 'Xanadu', 'paradigm': 'continuous-variable', 'type': 'QPU', 'dateDeployed': '2022', 'location': 'Toronto, ON, Canada', 'vendor': 'AWS', 'runPackage': 'braket', 'requiresCred': True, 'status': 'OFFLINE', '_code': 3, 'calibrationData': [], 'publishedStudies': [], 'createdAt': '2022-03-10T04:08:20.448Z', 'updatedAt': '2023-02-15T14:03:57.790Z', '__v': 0, 'architecture': 'photonic'}, {'numberQubits': 256, 'objArg': 'arn:aws:braket:us-east-1::device/qpu/quera/Aquila', 'objRef': None, 'pendingJobs': 'N/A', 'statusRefresh': '2023-02-15T14:03:57.660Z', 'visibility': 'public', 'connectivityGraph': [], '_id': '63b84a7cbca47a5e5d6e5dfd', 'qbraid_id': 'aws_quera_aquila', 'name': 'Aquila', 'provider': 'QuEra', 'paradigm': 'AHS', 'type': 'QPU', 'dateDeployed': '2022', 'location': 'Boston, MA, USA', 'vendor': 'AWS', 'runPackage': 'braket', 'requiresCred': True, 'status': 'OFFLINE', '_code': 2, 'calibrationData': [], 'publishedStudies': [], 'createdAt': '2022-03-10T04:08:20.448Z', 'updatedAt': '2023-02-15T14:03:57.787Z', '__v': 0, 'architecture': 'neutral atom'}]\n"
     ]
    }
   ],
   "source": [
    "from qbraid.api import QbraidSession\n",
    "def device_wrapper_inputs(vendor: str):\n",
    "    \"\"\"Returns list of tuples containing all device_wrapper inputs for given vendor.\"\"\"\n",
    "    session = QbraidSession()\n",
    "    devices = session.get(\"/public/lab/get-devices\", params={}).json()\n",
    "    print(devices)\n",
    "    input_list = []\n",
    "    for document in devices:\n",
    "        if document[\"vendor\"] == vendor:\n",
    "            input_list.append(document[\"qbraid_id\"])\n",
    "    return input_list\n",
    "\n",
    "b = device_wrapper_inputs(\"AWS\")"
   ]
  },
  {
   "cell_type": "code",
   "execution_count": 1,
   "metadata": {},
   "outputs": [
    {
     "ename": "ClientError",
     "evalue": "An error occurred (UnrecognizedClientException) when calling the GetDevice operation: The security token included in the request is invalid.",
     "output_type": "error",
     "traceback": [
      "\u001b[0;31m---------------------------------------------------------------------------\u001b[0m",
      "\u001b[0;31mClientError\u001b[0m                               Traceback (most recent call last)",
      "Cell \u001b[0;32mIn[1], line 3\u001b[0m\n\u001b[1;32m      1\u001b[0m \u001b[39mfrom\u001b[39;00m \u001b[39mbraket\u001b[39;00m\u001b[39m.\u001b[39;00m\u001b[39maws\u001b[39;00m \u001b[39mimport\u001b[39;00m AwsDevice\n\u001b[0;32m----> 3\u001b[0m device \u001b[39m=\u001b[39m AwsDevice(\u001b[39m'\u001b[39;49m\u001b[39marn:aws:braket:::device/quantum-simulator/amazon/sv1\u001b[39;49m\u001b[39m'\u001b[39;49m)   \n\u001b[1;32m      4\u001b[0m device\u001b[39m.\u001b[39mis_available\n",
      "File \u001b[0;32m~/anaconda3/envs/qbraid/lib/python3.9/site-packages/amazon_braket_sdk-1.35.4-py3.9.egg/braket/aws/aws_device.py:87\u001b[0m, in \u001b[0;36mAwsDevice.__init__\u001b[0;34m(self, arn, aws_session)\u001b[0m\n\u001b[1;32m     85\u001b[0m \u001b[39mself\u001b[39m\u001b[39m.\u001b[39m_topology_graph \u001b[39m=\u001b[39m \u001b[39mNone\u001b[39;00m\n\u001b[1;32m     86\u001b[0m \u001b[39mself\u001b[39m\u001b[39m.\u001b[39m_type \u001b[39m=\u001b[39m \u001b[39mNone\u001b[39;00m\n\u001b[0;32m---> 87\u001b[0m \u001b[39mself\u001b[39m\u001b[39m.\u001b[39m_aws_session \u001b[39m=\u001b[39m \u001b[39mself\u001b[39;49m\u001b[39m.\u001b[39;49m_get_session_and_initialize(aws_session \u001b[39mor\u001b[39;49;00m AwsSession())\n\u001b[1;32m     88\u001b[0m \u001b[39mself\u001b[39m\u001b[39m.\u001b[39m_ports \u001b[39m=\u001b[39m \u001b[39mNone\u001b[39;00m\n\u001b[1;32m     89\u001b[0m \u001b[39mself\u001b[39m\u001b[39m.\u001b[39m_frames \u001b[39m=\u001b[39m \u001b[39mNone\u001b[39;00m\n",
      "File \u001b[0;32m~/anaconda3/envs/qbraid/lib/python3.9/site-packages/amazon_braket_sdk-1.35.4-py3.9.egg/braket/aws/aws_device.py:278\u001b[0m, in \u001b[0;36mAwsDevice._get_session_and_initialize\u001b[0;34m(self, session)\u001b[0m\n\u001b[1;32m    273\u001b[0m \u001b[39mdef\u001b[39;00m \u001b[39m_get_session_and_initialize\u001b[39m(\u001b[39mself\u001b[39m, session: AwsSession) \u001b[39m-\u001b[39m\u001b[39m>\u001b[39m AwsSession:\n\u001b[1;32m    274\u001b[0m     device_region \u001b[39m=\u001b[39m AwsDevice\u001b[39m.\u001b[39mget_device_region(\u001b[39mself\u001b[39m\u001b[39m.\u001b[39m_arn)\n\u001b[1;32m    275\u001b[0m     \u001b[39mreturn\u001b[39;00m (\n\u001b[1;32m    276\u001b[0m         \u001b[39mself\u001b[39m\u001b[39m.\u001b[39m_get_regional_device_session(session)\n\u001b[1;32m    277\u001b[0m         \u001b[39mif\u001b[39;00m device_region\n\u001b[0;32m--> 278\u001b[0m         \u001b[39melse\u001b[39;00m \u001b[39mself\u001b[39;49m\u001b[39m.\u001b[39;49m_get_non_regional_device_session(session)\n\u001b[1;32m    279\u001b[0m     )\n",
      "File \u001b[0;32m~/anaconda3/envs/qbraid/lib/python3.9/site-packages/amazon_braket_sdk-1.35.4-py3.9.egg/braket/aws/aws_device.py:306\u001b[0m, in \u001b[0;36mAwsDevice._get_non_regional_device_session\u001b[0;34m(self, session)\u001b[0m\n\u001b[1;32m    304\u001b[0m             \u001b[39mraise\u001b[39;00m \u001b[39mValueError\u001b[39;00m(\u001b[39mf\u001b[39m\u001b[39m\"\u001b[39m\u001b[39mSimulator \u001b[39m\u001b[39m'\u001b[39m\u001b[39m{\u001b[39;00m\u001b[39mself\u001b[39m\u001b[39m.\u001b[39m_arn\u001b[39m}\u001b[39;00m\u001b[39m'\u001b[39m\u001b[39m not found in \u001b[39m\u001b[39m'\u001b[39m\u001b[39m{\u001b[39;00mcurrent_region\u001b[39m}\u001b[39;00m\u001b[39m'\u001b[39m\u001b[39m\"\u001b[39m)\n\u001b[1;32m    305\u001b[0m     \u001b[39melse\u001b[39;00m:\n\u001b[0;32m--> 306\u001b[0m         \u001b[39mraise\u001b[39;00m e\n\u001b[1;32m    307\u001b[0m \u001b[39m# Search remaining regions for QPU\u001b[39;00m\n\u001b[1;32m    308\u001b[0m \u001b[39mfor\u001b[39;00m region \u001b[39min\u001b[39;00m \u001b[39mfrozenset\u001b[39m(AwsDevice\u001b[39m.\u001b[39mREGIONS) \u001b[39m-\u001b[39m {current_region}:\n",
      "File \u001b[0;32m~/anaconda3/envs/qbraid/lib/python3.9/site-packages/amazon_braket_sdk-1.35.4-py3.9.egg/braket/aws/aws_device.py:299\u001b[0m, in \u001b[0;36mAwsDevice._get_non_regional_device_session\u001b[0;34m(self, session)\u001b[0m\n\u001b[1;32m    297\u001b[0m current_region \u001b[39m=\u001b[39m session\u001b[39m.\u001b[39mregion\n\u001b[1;32m    298\u001b[0m \u001b[39mtry\u001b[39;00m:\n\u001b[0;32m--> 299\u001b[0m     \u001b[39mself\u001b[39;49m\u001b[39m.\u001b[39;49m_populate_properties(session)\n\u001b[1;32m    300\u001b[0m     \u001b[39mreturn\u001b[39;00m session\n\u001b[1;32m    301\u001b[0m \u001b[39mexcept\u001b[39;00m ClientError \u001b[39mas\u001b[39;00m e:\n",
      "File \u001b[0;32m~/anaconda3/envs/qbraid/lib/python3.9/site-packages/amazon_braket_sdk-1.35.4-py3.9.egg/braket/aws/aws_device.py:319\u001b[0m, in \u001b[0;36mAwsDevice._populate_properties\u001b[0;34m(self, session)\u001b[0m\n\u001b[1;32m    318\u001b[0m \u001b[39mdef\u001b[39;00m \u001b[39m_populate_properties\u001b[39m(\u001b[39mself\u001b[39m, session: AwsSession) \u001b[39m-\u001b[39m\u001b[39m>\u001b[39m \u001b[39mNone\u001b[39;00m:\n\u001b[0;32m--> 319\u001b[0m     metadata \u001b[39m=\u001b[39m session\u001b[39m.\u001b[39;49mget_device(\u001b[39mself\u001b[39;49m\u001b[39m.\u001b[39;49m_arn)\n\u001b[1;32m    320\u001b[0m     \u001b[39mself\u001b[39m\u001b[39m.\u001b[39m_name \u001b[39m=\u001b[39m metadata\u001b[39m.\u001b[39mget(\u001b[39m\"\u001b[39m\u001b[39mdeviceName\u001b[39m\u001b[39m\"\u001b[39m)\n\u001b[1;32m    321\u001b[0m     \u001b[39mself\u001b[39m\u001b[39m.\u001b[39m_status \u001b[39m=\u001b[39m metadata\u001b[39m.\u001b[39mget(\u001b[39m\"\u001b[39m\u001b[39mdeviceStatus\u001b[39m\u001b[39m\"\u001b[39m)\n",
      "File \u001b[0;32m~/anaconda3/envs/qbraid/lib/python3.9/site-packages/amazon_braket_sdk-1.35.4-py3.9.egg/braket/aws/aws_session.py:598\u001b[0m, in \u001b[0;36mAwsSession.get_device\u001b[0;34m(self, arn)\u001b[0m\n\u001b[1;32m    588\u001b[0m \u001b[39mdef\u001b[39;00m \u001b[39mget_device\u001b[39m(\u001b[39mself\u001b[39m, arn: \u001b[39mstr\u001b[39m) \u001b[39m-\u001b[39m\u001b[39m>\u001b[39m Dict[\u001b[39mstr\u001b[39m, Any]:\n\u001b[1;32m    589\u001b[0m     \u001b[39m\"\"\"\u001b[39;00m\n\u001b[1;32m    590\u001b[0m \u001b[39m    Calls the Amazon Braket `get_device` API to retrieve device metadata.\u001b[39;00m\n\u001b[1;32m    591\u001b[0m \n\u001b[0;32m   (...)\u001b[0m\n\u001b[1;32m    596\u001b[0m \u001b[39m        Dict[str, Any]: The response from the Amazon Braket `GetDevice` operation.\u001b[39;00m\n\u001b[1;32m    597\u001b[0m \u001b[39m    \"\"\"\u001b[39;00m\n\u001b[0;32m--> 598\u001b[0m     \u001b[39mreturn\u001b[39;00m \u001b[39mself\u001b[39;49m\u001b[39m.\u001b[39;49mbraket_client\u001b[39m.\u001b[39;49mget_device(deviceArn\u001b[39m=\u001b[39;49marn)\n",
      "File \u001b[0;32m~/anaconda3/envs/qbraid/lib/python3.9/site-packages/botocore/client.py:530\u001b[0m, in \u001b[0;36mClientCreator._create_api_method.<locals>._api_call\u001b[0;34m(self, *args, **kwargs)\u001b[0m\n\u001b[1;32m    526\u001b[0m     \u001b[39mraise\u001b[39;00m \u001b[39mTypeError\u001b[39;00m(\n\u001b[1;32m    527\u001b[0m         \u001b[39mf\u001b[39m\u001b[39m\"\u001b[39m\u001b[39m{\u001b[39;00mpy_operation_name\u001b[39m}\u001b[39;00m\u001b[39m() only accepts keyword arguments.\u001b[39m\u001b[39m\"\u001b[39m\n\u001b[1;32m    528\u001b[0m     )\n\u001b[1;32m    529\u001b[0m \u001b[39m# The \"self\" in this scope is referring to the BaseClient.\u001b[39;00m\n\u001b[0;32m--> 530\u001b[0m \u001b[39mreturn\u001b[39;00m \u001b[39mself\u001b[39;49m\u001b[39m.\u001b[39;49m_make_api_call(operation_name, kwargs)\n",
      "File \u001b[0;32m~/anaconda3/envs/qbraid/lib/python3.9/site-packages/botocore/client.py:960\u001b[0m, in \u001b[0;36mBaseClient._make_api_call\u001b[0;34m(self, operation_name, api_params)\u001b[0m\n\u001b[1;32m    958\u001b[0m     error_code \u001b[39m=\u001b[39m parsed_response\u001b[39m.\u001b[39mget(\u001b[39m\"\u001b[39m\u001b[39mError\u001b[39m\u001b[39m\"\u001b[39m, {})\u001b[39m.\u001b[39mget(\u001b[39m\"\u001b[39m\u001b[39mCode\u001b[39m\u001b[39m\"\u001b[39m)\n\u001b[1;32m    959\u001b[0m     error_class \u001b[39m=\u001b[39m \u001b[39mself\u001b[39m\u001b[39m.\u001b[39mexceptions\u001b[39m.\u001b[39mfrom_code(error_code)\n\u001b[0;32m--> 960\u001b[0m     \u001b[39mraise\u001b[39;00m error_class(parsed_response, operation_name)\n\u001b[1;32m    961\u001b[0m \u001b[39melse\u001b[39;00m:\n\u001b[1;32m    962\u001b[0m     \u001b[39mreturn\u001b[39;00m parsed_response\n",
      "\u001b[0;31mClientError\u001b[0m: An error occurred (UnrecognizedClientException) when calling the GetDevice operation: The security token included in the request is invalid."
     ]
    }
   ],
   "source": [
    "from braket.aws import AwsDevice\n",
    "\n",
    "device = AwsDevice('arn:aws:braket:::device/quantum-simulator/amazon/sv1')   \n",
    "device.is_available"
   ]
  },
  {
   "cell_type": "code",
   "execution_count": 2,
   "metadata": {},
   "outputs": [],
   "source": [
    "from qbraid import device_wrapper\n",
    "qbraid_device = device_wrapper('aws_dm_sim')\n",
    "qbraid_device"
   ]
  },
  {
   "cell_type": "code",
   "execution_count": 11,
   "metadata": {},
   "outputs": [],
   "source": [
    "def methodinclasses(classes):\n",
    "    return [\n",
    "        method for method in dir(classes) if (\n",
    "            method.startswith('_') is False\n",
    "        )\n",
    "    ]"
   ]
  },
  {
   "cell_type": "code",
   "execution_count": 1,
   "metadata": {},
   "outputs": [
    {
     "ename": "ClientError",
     "evalue": "An error occurred (UnrecognizedClientException) when calling the GetDevice operation: The security token included in the request is invalid.",
     "output_type": "error",
     "traceback": [
      "\u001b[0;31m---------------------------------------------------------------------------\u001b[0m",
      "\u001b[0;31mClientError\u001b[0m                               Traceback (most recent call last)",
      "Cell \u001b[0;32mIn[1], line 4\u001b[0m\n\u001b[1;32m      1\u001b[0m \u001b[39mfrom\u001b[39;00m \u001b[39mqbraid\u001b[39;00m\u001b[39m.\u001b[39;00m\u001b[39mdevices\u001b[39;00m\u001b[39m.\u001b[39;00m\u001b[39maws\u001b[39;00m \u001b[39mimport\u001b[39;00m BraketDeviceWrapper\n\u001b[1;32m      2\u001b[0m \u001b[39mfrom\u001b[39;00m \u001b[39mbraket\u001b[39;00m\u001b[39m.\u001b[39;00m\u001b[39maws\u001b[39;00m \u001b[39mimport\u001b[39;00m AwsDevice\n\u001b[0;32m----> 4\u001b[0m device \u001b[39m=\u001b[39m AwsDevice(\u001b[39m'\u001b[39;49m\u001b[39marn:aws:braket:::device/quantum-simulator/amazon/sv1\u001b[39;49m\u001b[39m'\u001b[39;49m)   \n\u001b[1;32m      5\u001b[0m BraketDeviceWrapper(device)\n",
      "File \u001b[0;32m~/anaconda3/envs/qbraid/lib/python3.9/site-packages/braket/aws/aws_device.py:87\u001b[0m, in \u001b[0;36mAwsDevice.__init__\u001b[0;34m(self, arn, aws_session)\u001b[0m\n\u001b[1;32m     85\u001b[0m \u001b[39mself\u001b[39m\u001b[39m.\u001b[39m_topology_graph \u001b[39m=\u001b[39m \u001b[39mNone\u001b[39;00m\n\u001b[1;32m     86\u001b[0m \u001b[39mself\u001b[39m\u001b[39m.\u001b[39m_type \u001b[39m=\u001b[39m \u001b[39mNone\u001b[39;00m\n\u001b[0;32m---> 87\u001b[0m \u001b[39mself\u001b[39m\u001b[39m.\u001b[39m_aws_session \u001b[39m=\u001b[39m \u001b[39mself\u001b[39;49m\u001b[39m.\u001b[39;49m_get_session_and_initialize(aws_session \u001b[39mor\u001b[39;49;00m AwsSession())\n\u001b[1;32m     88\u001b[0m \u001b[39mself\u001b[39m\u001b[39m.\u001b[39m_ports \u001b[39m=\u001b[39m \u001b[39mNone\u001b[39;00m\n\u001b[1;32m     89\u001b[0m \u001b[39mself\u001b[39m\u001b[39m.\u001b[39m_frames \u001b[39m=\u001b[39m \u001b[39mNone\u001b[39;00m\n",
      "File \u001b[0;32m~/anaconda3/envs/qbraid/lib/python3.9/site-packages/braket/aws/aws_device.py:278\u001b[0m, in \u001b[0;36mAwsDevice._get_session_and_initialize\u001b[0;34m(self, session)\u001b[0m\n\u001b[1;32m    273\u001b[0m \u001b[39mdef\u001b[39;00m \u001b[39m_get_session_and_initialize\u001b[39m(\u001b[39mself\u001b[39m, session: AwsSession) \u001b[39m-\u001b[39m\u001b[39m>\u001b[39m AwsSession:\n\u001b[1;32m    274\u001b[0m     device_region \u001b[39m=\u001b[39m AwsDevice\u001b[39m.\u001b[39mget_device_region(\u001b[39mself\u001b[39m\u001b[39m.\u001b[39m_arn)\n\u001b[1;32m    275\u001b[0m     \u001b[39mreturn\u001b[39;00m (\n\u001b[1;32m    276\u001b[0m         \u001b[39mself\u001b[39m\u001b[39m.\u001b[39m_get_regional_device_session(session)\n\u001b[1;32m    277\u001b[0m         \u001b[39mif\u001b[39;00m device_region\n\u001b[0;32m--> 278\u001b[0m         \u001b[39melse\u001b[39;00m \u001b[39mself\u001b[39;49m\u001b[39m.\u001b[39;49m_get_non_regional_device_session(session)\n\u001b[1;32m    279\u001b[0m     )\n",
      "File \u001b[0;32m~/anaconda3/envs/qbraid/lib/python3.9/site-packages/braket/aws/aws_device.py:306\u001b[0m, in \u001b[0;36mAwsDevice._get_non_regional_device_session\u001b[0;34m(self, session)\u001b[0m\n\u001b[1;32m    304\u001b[0m             \u001b[39mraise\u001b[39;00m \u001b[39mValueError\u001b[39;00m(\u001b[39mf\u001b[39m\u001b[39m\"\u001b[39m\u001b[39mSimulator \u001b[39m\u001b[39m'\u001b[39m\u001b[39m{\u001b[39;00m\u001b[39mself\u001b[39m\u001b[39m.\u001b[39m_arn\u001b[39m}\u001b[39;00m\u001b[39m'\u001b[39m\u001b[39m not found in \u001b[39m\u001b[39m'\u001b[39m\u001b[39m{\u001b[39;00mcurrent_region\u001b[39m}\u001b[39;00m\u001b[39m'\u001b[39m\u001b[39m\"\u001b[39m)\n\u001b[1;32m    305\u001b[0m     \u001b[39melse\u001b[39;00m:\n\u001b[0;32m--> 306\u001b[0m         \u001b[39mraise\u001b[39;00m e\n\u001b[1;32m    307\u001b[0m \u001b[39m# Search remaining regions for QPU\u001b[39;00m\n\u001b[1;32m    308\u001b[0m \u001b[39mfor\u001b[39;00m region \u001b[39min\u001b[39;00m \u001b[39mfrozenset\u001b[39m(AwsDevice\u001b[39m.\u001b[39mREGIONS) \u001b[39m-\u001b[39m {current_region}:\n",
      "File \u001b[0;32m~/anaconda3/envs/qbraid/lib/python3.9/site-packages/braket/aws/aws_device.py:299\u001b[0m, in \u001b[0;36mAwsDevice._get_non_regional_device_session\u001b[0;34m(self, session)\u001b[0m\n\u001b[1;32m    297\u001b[0m current_region \u001b[39m=\u001b[39m session\u001b[39m.\u001b[39mregion\n\u001b[1;32m    298\u001b[0m \u001b[39mtry\u001b[39;00m:\n\u001b[0;32m--> 299\u001b[0m     \u001b[39mself\u001b[39;49m\u001b[39m.\u001b[39;49m_populate_properties(session)\n\u001b[1;32m    300\u001b[0m     \u001b[39mreturn\u001b[39;00m session\n\u001b[1;32m    301\u001b[0m \u001b[39mexcept\u001b[39;00m ClientError \u001b[39mas\u001b[39;00m e:\n",
      "File \u001b[0;32m~/anaconda3/envs/qbraid/lib/python3.9/site-packages/braket/aws/aws_device.py:319\u001b[0m, in \u001b[0;36mAwsDevice._populate_properties\u001b[0;34m(self, session)\u001b[0m\n\u001b[1;32m    318\u001b[0m \u001b[39mdef\u001b[39;00m \u001b[39m_populate_properties\u001b[39m(\u001b[39mself\u001b[39m, session: AwsSession) \u001b[39m-\u001b[39m\u001b[39m>\u001b[39m \u001b[39mNone\u001b[39;00m:\n\u001b[0;32m--> 319\u001b[0m     metadata \u001b[39m=\u001b[39m session\u001b[39m.\u001b[39;49mget_device(\u001b[39mself\u001b[39;49m\u001b[39m.\u001b[39;49m_arn)\n\u001b[1;32m    320\u001b[0m     \u001b[39mself\u001b[39m\u001b[39m.\u001b[39m_name \u001b[39m=\u001b[39m metadata\u001b[39m.\u001b[39mget(\u001b[39m\"\u001b[39m\u001b[39mdeviceName\u001b[39m\u001b[39m\"\u001b[39m)\n\u001b[1;32m    321\u001b[0m     \u001b[39mself\u001b[39m\u001b[39m.\u001b[39m_status \u001b[39m=\u001b[39m metadata\u001b[39m.\u001b[39mget(\u001b[39m\"\u001b[39m\u001b[39mdeviceStatus\u001b[39m\u001b[39m\"\u001b[39m)\n",
      "File \u001b[0;32m~/anaconda3/envs/qbraid/lib/python3.9/site-packages/braket/aws/aws_session.py:598\u001b[0m, in \u001b[0;36mAwsSession.get_device\u001b[0;34m(self, arn)\u001b[0m\n\u001b[1;32m    588\u001b[0m \u001b[39mdef\u001b[39;00m \u001b[39mget_device\u001b[39m(\u001b[39mself\u001b[39m, arn: \u001b[39mstr\u001b[39m) \u001b[39m-\u001b[39m\u001b[39m>\u001b[39m Dict[\u001b[39mstr\u001b[39m, Any]:\n\u001b[1;32m    589\u001b[0m     \u001b[39m\"\"\"\u001b[39;00m\n\u001b[1;32m    590\u001b[0m \u001b[39m    Calls the Amazon Braket `get_device` API to retrieve device metadata.\u001b[39;00m\n\u001b[1;32m    591\u001b[0m \n\u001b[0;32m   (...)\u001b[0m\n\u001b[1;32m    596\u001b[0m \u001b[39m        Dict[str, Any]: The response from the Amazon Braket `GetDevice` operation.\u001b[39;00m\n\u001b[1;32m    597\u001b[0m \u001b[39m    \"\"\"\u001b[39;00m\n\u001b[0;32m--> 598\u001b[0m     \u001b[39mreturn\u001b[39;00m \u001b[39mself\u001b[39;49m\u001b[39m.\u001b[39;49mbraket_client\u001b[39m.\u001b[39;49mget_device(deviceArn\u001b[39m=\u001b[39;49marn)\n",
      "File \u001b[0;32m~/anaconda3/envs/qbraid/lib/python3.9/site-packages/botocore/client.py:530\u001b[0m, in \u001b[0;36mClientCreator._create_api_method.<locals>._api_call\u001b[0;34m(self, *args, **kwargs)\u001b[0m\n\u001b[1;32m    526\u001b[0m     \u001b[39mraise\u001b[39;00m \u001b[39mTypeError\u001b[39;00m(\n\u001b[1;32m    527\u001b[0m         \u001b[39mf\u001b[39m\u001b[39m\"\u001b[39m\u001b[39m{\u001b[39;00mpy_operation_name\u001b[39m}\u001b[39;00m\u001b[39m() only accepts keyword arguments.\u001b[39m\u001b[39m\"\u001b[39m\n\u001b[1;32m    528\u001b[0m     )\n\u001b[1;32m    529\u001b[0m \u001b[39m# The \"self\" in this scope is referring to the BaseClient.\u001b[39;00m\n\u001b[0;32m--> 530\u001b[0m \u001b[39mreturn\u001b[39;00m \u001b[39mself\u001b[39;49m\u001b[39m.\u001b[39;49m_make_api_call(operation_name, kwargs)\n",
      "File \u001b[0;32m~/anaconda3/envs/qbraid/lib/python3.9/site-packages/botocore/client.py:960\u001b[0m, in \u001b[0;36mBaseClient._make_api_call\u001b[0;34m(self, operation_name, api_params)\u001b[0m\n\u001b[1;32m    958\u001b[0m     error_code \u001b[39m=\u001b[39m parsed_response\u001b[39m.\u001b[39mget(\u001b[39m\"\u001b[39m\u001b[39mError\u001b[39m\u001b[39m\"\u001b[39m, {})\u001b[39m.\u001b[39mget(\u001b[39m\"\u001b[39m\u001b[39mCode\u001b[39m\u001b[39m\"\u001b[39m)\n\u001b[1;32m    959\u001b[0m     error_class \u001b[39m=\u001b[39m \u001b[39mself\u001b[39m\u001b[39m.\u001b[39mexceptions\u001b[39m.\u001b[39mfrom_code(error_code)\n\u001b[0;32m--> 960\u001b[0m     \u001b[39mraise\u001b[39;00m error_class(parsed_response, operation_name)\n\u001b[1;32m    961\u001b[0m \u001b[39melse\u001b[39;00m:\n\u001b[1;32m    962\u001b[0m     \u001b[39mreturn\u001b[39;00m parsed_response\n",
      "\u001b[0;31mClientError\u001b[0m: An error occurred (UnrecognizedClientException) when calling the GetDevice operation: The security token included in the request is invalid."
     ]
    }
   ],
   "source": [
    "from qbraid.devices.aws import BraketDeviceWrapper\n",
    "from braket.aws import AwsDevice\n",
    "\n",
    "device = AwsDevice('arn:aws:braket:::device/quantum-simulator/amazon/sv1')   \n",
    "BraketDeviceWrapper(device)"
   ]
  },
  {
   "cell_type": "code",
   "execution_count": 1,
   "metadata": {},
   "outputs": [],
   "source": [
    "from qbraid.api import ApiError, QbraidSession\n",
    "session = QbraidSession()\n",
    "\n",
    "# get-devices must be a POST request with kwarg `json` (not `data`) to\n",
    "# encode the query. This is because certain queries contain regular\n",
    "# expressions which cannot be encoded in GET request `params`.\n",
    "devices = session.post(\"/public/lab/get-devices\", json={}).json()"
   ]
  },
  {
   "cell_type": "code",
   "execution_count": 19,
   "metadata": {},
   "outputs": [
    {
     "data": {
      "text/plain": [
       "[H q[1]; CX q[1], q[0]; ]"
      ]
     },
     "execution_count": 19,
     "metadata": {},
     "output_type": "execute_result"
    }
   ],
   "source": [
    "pytket_circuit\n"
   ]
  },
  {
   "cell_type": "code",
   "execution_count": 20,
   "metadata": {},
   "outputs": [
    {
     "data": {
      "text/html": [
       "<pre style=\"overflow: auto; white-space: pre;\">0: ───H───@───\n",
       "          │\n",
       "1: ───────X───</pre>"
      ],
      "text/plain": [
       "0: ───H───@───\n",
       "          │\n",
       "1: ───────X───"
      ]
     },
     "execution_count": 20,
     "metadata": {},
     "output_type": "execute_result"
    }
   ],
   "source": [
    "cirq_circuit"
   ]
  },
  {
   "cell_type": "code",
   "execution_count": 3,
   "metadata": {},
   "outputs": [
    {
     "data": {
      "text/plain": [
       "[]"
      ]
     },
     "execution_count": 3,
     "metadata": {},
     "output_type": "execute_result"
    }
   ],
   "source": [
    "import pytket\n",
    "pytket.Circuit(2)"
   ]
  },
  {
   "cell_type": "code",
   "execution_count": 18,
   "metadata": {},
   "outputs": [
    {
     "name": "stdout",
     "output_type": "stream",
     "text": [
      "\n",
      "0: ───H───@───\n",
      "          │\n",
      "1: ───────X───\n",
      "\n",
      "<tket::Circuit, qubits=2, gates=2>\n",
      "\n"
     ]
    },
    {
     "ename": "AssertionError",
     "evalue": "",
     "output_type": "error",
     "traceback": [
      "\u001b[0;31m---------------------------------------------------------------------------\u001b[0m",
      "\u001b[0;31mAssertionError\u001b[0m                            Traceback (most recent call last)",
      "Cell \u001b[0;32mIn[18], line 17\u001b[0m\n\u001b[1;32m     15\u001b[0m \u001b[39mprint\u001b[39m(pytket_circuit)\n\u001b[1;32m     16\u001b[0m \u001b[39mprint\u001b[39m()\n\u001b[0;32m---> 17\u001b[0m \u001b[39massert\u001b[39;00m circuits_allclose(pytket_circuit, cirq_circuit, strict_gphase\u001b[39m=\u001b[39m\u001b[39mTrue\u001b[39;00m)\n",
      "\u001b[0;31mAssertionError\u001b[0m: "
     ]
    }
   ],
   "source": [
    "import numpy as np\n",
    "import pytest\n",
    "from cirq import Circuit, LineQubit, ops, testing\n",
    "\n",
    "from qbraid.interface import circuits_allclose\n",
    "from qbraid.transpiler.cirq_pytket.convert_pytket_qasm import to_pytket\n",
    "from qbraid.transpiler.exceptions import CircuitConversionError\n",
    "\n",
    "qreg = LineQubit.range(2)\n",
    "cirq_circuit = Circuit([ops.H.on(qreg[0]), ops.CNOT.on(qreg[0], qreg[1])])\n",
    "pytket_circuit = to_pytket(cirq_circuit)\n",
    "print()\n",
    "print(cirq_circuit)\n",
    "print()\n",
    "print(pytket_circuit)\n",
    "print()\n",
    "assert circuits_allclose(pytket_circuit, cirq_circuit, strict_gphase=True)"
   ]
  },
  {
   "cell_type": "code",
   "execution_count": 3,
   "metadata": {},
   "outputs": [
    {
     "data": {
      "text/html": [
       "\n",
       "\n",
       "\n",
       "\n",
       "\n",
       "\n",
       "<iframe srcdoc=\"\n",
       "&lt;!DOCTYPE html&gt;\n",
       "&lt;html lang=&#34;en&#34;&gt;\n",
       "&lt;head&gt;\n",
       "    &lt;meta charset=&#34;UTF-8&#34;&gt;\n",
       "    &lt;script type=&#34;application/javascript&#34; src=&#34;https://cdn.jsdelivr.net/npm/vue@3&#34;&gt;&lt;/script&gt;\n",
       "    &lt;script type=&#34;application/javascript&#34; src=&#34;https://unpkg.com/pytket-circuit-renderer@0.3/dist/pytket-circuit-renderer.umd.js&#34;&gt;&lt;/script&gt;\n",
       "    &lt;link rel=&#34;stylesheet&#34; href=&#34;https://unpkg.com/pytket-circuit-renderer@0.3/dist/pytket-circuit-renderer.css&#34;&gt;\n",
       "&lt;/head&gt;\n",
       "&lt;body&gt;\n",
       "    &lt;div id=&#34;circuit-display-vue-container-772e2dbd-d4b0-4b43-b1e8-14cf1bca3986&#34; class=&#34;pytket-circuit-display-container&#34;&gt;\n",
       "        &lt;div style=&#34;display: none&#34;&gt;\n",
       "            &lt;div id=&#34;circuit-json-to-display&#34;&gt;{&#34;bits&#34;: [[&#34;c&#34;, [0]], [&#34;c&#34;, [1]]], &#34;commands&#34;: [{&#34;args&#34;: [[&#34;q&#34;, [0]]], &#34;op&#34;: {&#34;type&#34;: &#34;noop&#34;}}, {&#34;args&#34;: [[&#34;q&#34;, [2]], [&#34;q&#34;, [3]]], &#34;op&#34;: {&#34;params&#34;: [&#34;1.5707963267949&#34;], &#34;type&#34;: &#34;CU1&#34;}}, {&#34;args&#34;: [[&#34;q&#34;, [0]], [&#34;q&#34;, [1]]], &#34;op&#34;: {&#34;type&#34;: &#34;ISWAPMax&#34;}}, {&#34;args&#34;: [[&#34;q&#34;, [0]]], &#34;op&#34;: {&#34;type&#34;: &#34;Z&#34;}}, {&#34;args&#34;: [[&#34;q&#34;, [0]], [&#34;q&#34;, [1]]], &#34;op&#34;: {&#34;data&#34;: &#34;&#34;, &#34;signature&#34;: [&#34;Q&#34;, &#34;Q&#34;], &#34;type&#34;: &#34;Barrier&#34;}}], &#34;created_qubits&#34;: [], &#34;discarded_qubits&#34;: [], &#34;implicit_permutation&#34;: [[[&#34;q&#34;, [0]], [&#34;q&#34;, [0]]], [[&#34;q&#34;, [1]], [&#34;q&#34;, [1]]], [[&#34;q&#34;, [2]], [&#34;q&#34;, [2]]], [[&#34;q&#34;, [3]], [&#34;q&#34;, [3]]], [[&#34;q&#34;, [4]], [&#34;q&#34;, [4]]], [[&#34;q&#34;, [5]], [&#34;q&#34;, [5]]], [[&#34;q&#34;, [6]], [&#34;q&#34;, [6]]], [[&#34;q&#34;, [7]], [&#34;q&#34;, [7]]], [[&#34;q&#34;, [8]], [&#34;q&#34;, [8]]], [[&#34;q&#34;, [9]], [&#34;q&#34;, [9]]]], &#34;name&#34;: &#34;example&#34;, &#34;phase&#34;: &#34;0.0&#34;, &#34;qubits&#34;: [[&#34;q&#34;, [0]], [&#34;q&#34;, [1]], [&#34;q&#34;, [2]], [&#34;q&#34;, [3]], [&#34;q&#34;, [4]], [&#34;q&#34;, [5]], [&#34;q&#34;, [6]], [&#34;q&#34;, [7]], [&#34;q&#34;, [8]], [&#34;q&#34;, [9]]]}&lt;/div&gt;\n",
       "        &lt;/div&gt;\n",
       "        &lt;circuit-display-container :circuit-element-str=&#34;&#39;#circuit-json-to-display&#39;&#34;&gt;&lt;/circuit-display-container&gt;\n",
       "    &lt;/div&gt;\n",
       "    &lt;script type=&#34;application/javascript&#34;&gt;\n",
       "        const { createApp } = Vue;\n",
       "        const circuitDisplayContainer = window[&#34;pytket-circuit-renderer&#34;].default;\n",
       "        // Init variables to be shared between circuit display instances\n",
       "        if (typeof window.pytketCircuitDisplays === &#34;undefined&#34;) {\n",
       "            window.pytketCircuitDisplays = {};\n",
       "        }\n",
       "        const uid = &#34;772e2dbd-d4b0-4b43-b1e8-14cf1bca3986&#34;;\n",
       "        // Create the root Vue component\n",
       "        const app = createApp({\n",
       "            delimiters: [&#39;[[#&#39;, &#39;#]]&#39;],\n",
       "            components: { circuitDisplayContainer },\n",
       "        })\n",
       "        app.config.unwrapInjectedRef = true;\n",
       "        app.mount(&#34;#circuit-display-vue-container-&#34;+uid);\n",
       "        window.pytketCircuitDisplays[uid] = app;\n",
       "    &lt;/script&gt;\n",
       "&lt;/body&gt;\n",
       "&lt;/html&gt;\n",
       "\"\n",
       "        width=\"100%\" height=\"200px\"\n",
       "        style=\"border: none; outline: none; resize: vertical; overflow: auto\"></iframe>\n",
       "\n"
      ],
      "text/plain": [
       "<IPython.core.display.HTML object>"
      ]
     },
     "metadata": {},
     "output_type": "display_data"
    }
   ],
   "source": [
    "from pytket.circuit import OpType, QubitRegister, BitRegister, Circuit as TKCircuit, Command\n",
    "import numpy as np\n",
    "from pytket.circuit.display import render_circuit_jupyter\n",
    "from pytket.utils import QubitPauliOperator\n",
    "from pytket.utils.symbolic import circuit_to_symbolic_unitary\n",
    "from qbraid.transpiler.cirq_pytket.convert_pytket_qasm import from_pytket, to_pytket\n",
    "c = TKCircuit(10,2, name=\"example\")\n",
    "#c.add_gate(OpType.XXPhase, 0.5, [0, 1])\n",
    "c.add_gate(OpType.noop , [], [0])\n",
    "c.CU1(np.pi/2,2,3)\n",
    "c.ISWAPMax(0,1)\n",
    "c.Z(0)\n",
    "c.get_unitary()\n",
    "c.add_barrier([0,1])\n",
    "render_circuit_jupyter(c)\n",
    "#from_pytket(c)"
   ]
  },
  {
   "cell_type": "code",
   "execution_count": 23,
   "metadata": {},
   "outputs": [
    {
     "name": "stdout",
     "output_type": "stream",
     "text": [
      "[CnZ q[0], q[1], q[2];, ISWAPMax q[0], q[1];]\n",
      "q[2]\n"
     ]
    }
   ],
   "source": [
    "a = list(map(max, [gate.qubits for gate in c.get_commands()[:2]]))\n",
    "print(c.get_commands()[:2])\n",
    "print(max(a))\n",
    "#max(max(a))"
   ]
  },
  {
   "cell_type": "code",
   "execution_count": 4,
   "metadata": {},
   "outputs": [
    {
     "data": {
      "text/plain": [
       "list"
      ]
     },
     "execution_count": 4,
     "metadata": {},
     "output_type": "execute_result"
    }
   ],
   "source": [
    "type(c.get_commands())"
   ]
  },
  {
   "cell_type": "code",
   "execution_count": 5,
   "metadata": {},
   "outputs": [
    {
     "data": {
      "text/plain": [
       "list"
      ]
     },
     "execution_count": 5,
     "metadata": {},
     "output_type": "execute_result"
    }
   ],
   "source": [
    "type(c.get_commands())"
   ]
  },
  {
   "cell_type": "code",
   "execution_count": 17,
   "metadata": {},
   "outputs": [
    {
     "data": {
      "text/plain": [
       "list"
      ]
     },
     "execution_count": 17,
     "metadata": {},
     "output_type": "execute_result"
    }
   ],
   "source": [
    "type(gates)"
   ]
  },
  {
   "cell_type": "code",
   "execution_count": 16,
   "metadata": {},
   "outputs": [
    {
     "name": "stdout",
     "output_type": "stream",
     "text": [
      "<class 'list'> False\n"
     ]
    },
    {
     "data": {
      "text/plain": [
       "[CU1(1.5708) q[2], q[3];]"
      ]
     },
     "execution_count": 16,
     "metadata": {},
     "output_type": "execute_result"
    }
   ],
   "source": [
    "gates = c.get_commands()\n",
    "print(type(gates),isinstance(list, type(gates)))\n",
    "[gates] if isinstance(list, type(gates)) else gates"
   ]
  },
  {
   "cell_type": "code",
   "execution_count": 3,
   "metadata": {},
   "outputs": [
    {
     "ename": "TypeError",
     "evalue": "'pytket._tket.circuit.Command' object is not iterable",
     "output_type": "error",
     "traceback": [
      "\u001b[0;31m---------------------------------------------------------------------------\u001b[0m",
      "\u001b[0;31mTypeError\u001b[0m                                 Traceback (most recent call last)",
      "Cell \u001b[0;32mIn[3], line 5\u001b[0m\n\u001b[1;32m      3\u001b[0m \u001b[39m#c.add_gate(OpType.CnZ, [], [0, 1,2])\u001b[39;00m\n\u001b[1;32m      4\u001b[0m \u001b[39mfrom\u001b[39;00m \u001b[39mqbraid\u001b[39;00m\u001b[39m.\u001b[39;00m\u001b[39minterface\u001b[39;00m\u001b[39m.\u001b[39;00m\u001b[39mqbraid_pytket\u001b[39;00m\u001b[39m.\u001b[39;00m\u001b[39mtools\u001b[39;00m \u001b[39mimport\u001b[39;00m _gate_to_matrix_pytket\n\u001b[0;32m----> 5\u001b[0m _gate_to_matrix_pytket(gates \u001b[39m=\u001b[39;49m c\u001b[39m.\u001b[39;49mget_commands()[\u001b[39m0\u001b[39;49m],flat\u001b[39m=\u001b[39;49m\u001b[39mFalse\u001b[39;49;00m)\n",
      "File \u001b[0;32m/mnt/c/Users/poig/Documents/GitHub/qBraid/qbraid/interface/qbraid_pytket/tools.py:20\u001b[0m, in \u001b[0;36m_gate_to_matrix_pytket\u001b[0;34m(gates, flat)\u001b[0m\n\u001b[1;32m     18\u001b[0m \u001b[39m\"\"\"Return the unitary of the Command\"\"\"\u001b[39;00m\n\u001b[1;32m     19\u001b[0m gates \u001b[39m=\u001b[39m [gates] \u001b[39mif\u001b[39;00m \u001b[39misinstance\u001b[39m(\u001b[39mlist\u001b[39m, \u001b[39mtype\u001b[39m(gates)) \u001b[39melse\u001b[39;00m gates\n\u001b[0;32m---> 20\u001b[0m a \u001b[39m=\u001b[39m \u001b[39mlist\u001b[39m(\u001b[39mmap\u001b[39m(\u001b[39mmax\u001b[39m, [gate\u001b[39m.\u001b[39mqubits \u001b[39mfor\u001b[39;00m gate \u001b[39min\u001b[39;00m gates]))\n\u001b[1;32m     21\u001b[0m circuit \u001b[39m=\u001b[39m TKCircuit(\u001b[39mmax\u001b[39m(a)\u001b[39m.\u001b[39mindex[\u001b[39m0\u001b[39m] \u001b[39m+\u001b[39m \u001b[39m1\u001b[39m)\n\u001b[1;32m     22\u001b[0m \u001b[39mfor\u001b[39;00m gate \u001b[39min\u001b[39;00m gates:\n",
      "\u001b[0;31mTypeError\u001b[0m: 'pytket._tket.circuit.Command' object is not iterable"
     ]
    }
   ],
   "source": [
    "c = TKCircuit(10,2, name=\"example\")\n",
    "c.CU1(np.pi/2,2,3)\n",
    "#c.add_gate(OpType.CnZ, [], [0, 1,2])\n",
    "from qbraid.interface.qbraid_pytket.tools import _gate_to_matrix_pytket\n",
    "_gate_to_matrix_pytket(gates = c.get_commands()[0],flat=False)\n"
   ]
  },
  {
   "cell_type": "code",
   "execution_count": 21,
   "metadata": {},
   "outputs": [
    {
     "data": {
      "text/plain": [
       "[H q[0]; CX q[0], q[1]; ]"
      ]
     },
     "execution_count": 21,
     "metadata": {},
     "output_type": "execute_result"
    }
   ],
   "source": [
    "pytket_circuit = TKCircuit(2)\n",
    "pytket_circuit.H(0)\n",
    "pytket_circuit.CX(0,1)"
   ]
  },
  {
   "cell_type": "code",
   "execution_count": 17,
   "metadata": {},
   "outputs": [
    {
     "data": {
      "text/plain": [
       "16"
      ]
     },
     "execution_count": 17,
     "metadata": {},
     "output_type": "execute_result"
    }
   ],
   "source": [
    "2**4"
   ]
  },
  {
   "cell_type": "code",
   "execution_count": 28,
   "metadata": {},
   "outputs": [
    {
     "data": {
      "text/plain": [
       "4"
      ]
     },
     "execution_count": 28,
     "metadata": {},
     "output_type": "execute_result"
    }
   ],
   "source": [
    "2**2"
   ]
  },
  {
   "cell_type": "code",
   "execution_count": 21,
   "metadata": {},
   "outputs": [
    {
     "data": {
      "text/plain": [
       "q[2]"
      ]
     },
     "execution_count": 21,
     "metadata": {},
     "output_type": "execute_result"
    }
   ],
   "source": [
    "max(c.get_commands()[:2][0].qubits)"
   ]
  },
  {
   "cell_type": "code",
   "execution_count": null,
   "metadata": {},
   "outputs": [],
   "source": [
    "map(qubits,c.get_commands()[:2])"
   ]
  },
  {
   "cell_type": "code",
   "execution_count": 29,
   "metadata": {},
   "outputs": [],
   "source": [
    "a = [gate.qubits for gate in c.get_commands()[:2]]\n",
    "out = []\n",
    "for sublist in a:\n",
    "    out.extend(sublist)"
   ]
  },
  {
   "cell_type": "code",
   "execution_count": 31,
   "metadata": {},
   "outputs": [
    {
     "data": {
      "text/plain": [
       "q[2]"
      ]
     },
     "execution_count": 31,
     "metadata": {},
     "output_type": "execute_result"
    }
   ],
   "source": [
    "max(out)"
   ]
  },
  {
   "cell_type": "code",
   "execution_count": 27,
   "metadata": {},
   "outputs": [
    {
     "ename": "TypeError",
     "evalue": "'>=' not supported between instances of 'pytket._tket.circuit.Command' and 'pytket._tket.circuit.Command'",
     "output_type": "error",
     "traceback": [
      "\u001b[0;31m---------------------------------------------------------------------------\u001b[0m",
      "\u001b[0;31mTypeError\u001b[0m                                 Traceback (most recent call last)",
      "Cell \u001b[0;32mIn[27], line 1\u001b[0m\n\u001b[0;32m----> 1\u001b[0m np\u001b[39m.\u001b[39;49mmax(c\u001b[39m.\u001b[39;49mget_commands()[:\u001b[39m2\u001b[39;49m])\n",
      "File \u001b[0;32m<__array_function__ internals>:180\u001b[0m, in \u001b[0;36mamax\u001b[0;34m(*args, **kwargs)\u001b[0m\n",
      "File \u001b[0;32m~/anaconda3/envs/qbraid/lib/python3.9/site-packages/numpy/core/fromnumeric.py:2793\u001b[0m, in \u001b[0;36mamax\u001b[0;34m(a, axis, out, keepdims, initial, where)\u001b[0m\n\u001b[1;32m   2677\u001b[0m \u001b[39m@array_function_dispatch\u001b[39m(_amax_dispatcher)\n\u001b[1;32m   2678\u001b[0m \u001b[39mdef\u001b[39;00m \u001b[39mamax\u001b[39m(a, axis\u001b[39m=\u001b[39m\u001b[39mNone\u001b[39;00m, out\u001b[39m=\u001b[39m\u001b[39mNone\u001b[39;00m, keepdims\u001b[39m=\u001b[39mnp\u001b[39m.\u001b[39m_NoValue, initial\u001b[39m=\u001b[39mnp\u001b[39m.\u001b[39m_NoValue,\n\u001b[1;32m   2679\u001b[0m          where\u001b[39m=\u001b[39mnp\u001b[39m.\u001b[39m_NoValue):\n\u001b[1;32m   2680\u001b[0m     \u001b[39m\"\"\"\u001b[39;00m\n\u001b[1;32m   2681\u001b[0m \u001b[39m    Return the maximum of an array or maximum along an axis.\u001b[39;00m\n\u001b[1;32m   2682\u001b[0m \n\u001b[0;32m   (...)\u001b[0m\n\u001b[1;32m   2791\u001b[0m \u001b[39m    5\u001b[39;00m\n\u001b[1;32m   2792\u001b[0m \u001b[39m    \"\"\"\u001b[39;00m\n\u001b[0;32m-> 2793\u001b[0m     \u001b[39mreturn\u001b[39;00m _wrapreduction(a, np\u001b[39m.\u001b[39;49mmaximum, \u001b[39m'\u001b[39;49m\u001b[39mmax\u001b[39;49m\u001b[39m'\u001b[39;49m, axis, \u001b[39mNone\u001b[39;49;00m, out,\n\u001b[1;32m   2794\u001b[0m                           keepdims\u001b[39m=\u001b[39;49mkeepdims, initial\u001b[39m=\u001b[39;49minitial, where\u001b[39m=\u001b[39;49mwhere)\n",
      "File \u001b[0;32m~/anaconda3/envs/qbraid/lib/python3.9/site-packages/numpy/core/fromnumeric.py:86\u001b[0m, in \u001b[0;36m_wrapreduction\u001b[0;34m(obj, ufunc, method, axis, dtype, out, **kwargs)\u001b[0m\n\u001b[1;32m     83\u001b[0m         \u001b[39melse\u001b[39;00m:\n\u001b[1;32m     84\u001b[0m             \u001b[39mreturn\u001b[39;00m reduction(axis\u001b[39m=\u001b[39maxis, out\u001b[39m=\u001b[39mout, \u001b[39m*\u001b[39m\u001b[39m*\u001b[39mpasskwargs)\n\u001b[0;32m---> 86\u001b[0m \u001b[39mreturn\u001b[39;00m ufunc\u001b[39m.\u001b[39;49mreduce(obj, axis, dtype, out, \u001b[39m*\u001b[39;49m\u001b[39m*\u001b[39;49mpasskwargs)\n",
      "\u001b[0;31mTypeError\u001b[0m: '>=' not supported between instances of 'pytket._tket.circuit.Command' and 'pytket._tket.circuit.Command'"
     ]
    }
   ],
   "source": [
    "np.max(c.get_commands()[:2])"
   ]
  },
  {
   "cell_type": "code",
   "execution_count": 11,
   "metadata": {},
   "outputs": [
    {
     "data": {
      "text/plain": [
       "array([[1.+0.j, 0.+0.j, 0.+0.j, 0.+0.j],\n",
       "       [0.+0.j, 0.+0.j, 0.+1.j, 0.+0.j],\n",
       "       [0.+0.j, 0.+1.j, 0.+0.j, 0.+0.j],\n",
       "       [0.+0.j, 0.+0.j, 0.+0.j, 1.+0.j]])"
      ]
     },
     "execution_count": 11,
     "metadata": {},
     "output_type": "execute_result"
    }
   ],
   "source": []
  },
  {
   "cell_type": "code",
   "execution_count": 11,
   "metadata": {},
   "outputs": [
    {
     "ename": "CircuitConversionError",
     "evalue": "Cirq qasm converter doesn't yet support qasm3.",
     "output_type": "error",
     "traceback": [
      "\u001b[0;31m---------------------------------------------------------------------------\u001b[0m",
      "\u001b[0;31mQasmException\u001b[0m                             Traceback (most recent call last)",
      "File \u001b[0;32m/mnt/c/Users/poig/Documents/GitHub/qBraid/qbraid/transpiler/cirq_pytket/convert_pytket_qasm.py:61\u001b[0m, in \u001b[0;36mfrom_pytket\u001b[0;34m(circuit)\u001b[0m\n\u001b[1;32m     60\u001b[0m qasm_str \u001b[39m=\u001b[39m circuit_to_qasm_str(circuit)\n\u001b[0;32m---> 61\u001b[0m cirq_circuit \u001b[39m=\u001b[39m from_qasm(qasm_str)\n\u001b[1;32m     62\u001b[0m \u001b[39mreturn\u001b[39;00m _convert_to_line_qubits(cirq_circuit, rev_qubits\u001b[39m=\u001b[39m\u001b[39mTrue\u001b[39;00m)\n",
      "File \u001b[0;32m/mnt/c/Users/poig/Documents/GitHub/qBraid/qbraid/transpiler/cirq_qasm/qasm_conversions.py:143\u001b[0m, in \u001b[0;36mfrom_qasm\u001b[0;34m(qasm)\u001b[0m\n\u001b[1;32m    142\u001b[0m qasm \u001b[39m=\u001b[39m convert_to_supported_qasm(qasm)\n\u001b[0;32m--> 143\u001b[0m \u001b[39mreturn\u001b[39;00m circuit_from_qasm(qasm)\n",
      "File \u001b[0;32m/mnt/c/Users/poig/Documents/GitHub/qBraid/qbraid/transpiler/cirq_qasm/qasm_conversions.py:117\u001b[0m, in \u001b[0;36mcircuit_from_qasm\u001b[0;34m(qasm)\u001b[0m\n\u001b[1;32m    108\u001b[0m \u001b[39m\"\"\"Parses an OpenQASM string to `cirq.Circuit`.\u001b[39;00m\n\u001b[1;32m    109\u001b[0m \u001b[39m\u001b[39;00m\n\u001b[1;32m    110\u001b[0m \u001b[39mArgs:\u001b[39;00m\n\u001b[0;32m   (...)\u001b[0m\n\u001b[1;32m    114\u001b[0m \u001b[39m    The parsed circuit\u001b[39;00m\n\u001b[1;32m    115\u001b[0m \u001b[39m\"\"\"\u001b[39;00m\n\u001b[0;32m--> 117\u001b[0m \u001b[39mreturn\u001b[39;00m QasmParser()\u001b[39m.\u001b[39;49mparse(qasm)\u001b[39m.\u001b[39mcircuit\n",
      "File \u001b[0;32m/mnt/c/Users/poig/Documents/GitHub/qBraid/qbraid/transpiler/cirq_qasm/qasm_parser.py:628\u001b[0m, in \u001b[0;36mQasmParser.parse\u001b[0;34m(self, qasm)\u001b[0m\n\u001b[1;32m    627\u001b[0m     \u001b[39mself\u001b[39m\u001b[39m.\u001b[39mlexer\u001b[39m.\u001b[39minput(\u001b[39mself\u001b[39m\u001b[39m.\u001b[39mqasm)\n\u001b[0;32m--> 628\u001b[0m     \u001b[39mself\u001b[39m\u001b[39m.\u001b[39mparsedQasm \u001b[39m=\u001b[39m \u001b[39mself\u001b[39;49m\u001b[39m.\u001b[39;49mparser\u001b[39m.\u001b[39;49mparse(lexer\u001b[39m=\u001b[39;49m\u001b[39mself\u001b[39;49m\u001b[39m.\u001b[39;49mlexer)\n\u001b[1;32m    629\u001b[0m \u001b[39mreturn\u001b[39;00m \u001b[39mself\u001b[39m\u001b[39m.\u001b[39mparsedQasm\n",
      "File \u001b[0;32m~/anaconda3/envs/qbraid/lib/python3.9/site-packages/ply/yacc.py:333\u001b[0m, in \u001b[0;36mLRParser.parse\u001b[0;34m(self, input, lexer, debug, tracking, tokenfunc)\u001b[0m\n\u001b[1;32m    332\u001b[0m \u001b[39melse\u001b[39;00m:\n\u001b[0;32m--> 333\u001b[0m     \u001b[39mreturn\u001b[39;00m \u001b[39mself\u001b[39;49m\u001b[39m.\u001b[39;49mparseopt_notrack(\u001b[39minput\u001b[39;49m, lexer, debug, tracking, tokenfunc)\n",
      "File \u001b[0;32m~/anaconda3/envs/qbraid/lib/python3.9/site-packages/ply/yacc.py:1120\u001b[0m, in \u001b[0;36mLRParser.parseopt_notrack\u001b[0;34m(self, input, lexer, debug, tracking, tokenfunc)\u001b[0m\n\u001b[1;32m   1119\u001b[0m \u001b[39mself\u001b[39m\u001b[39m.\u001b[39mstate \u001b[39m=\u001b[39m state\n\u001b[0;32m-> 1120\u001b[0m p\u001b[39m.\u001b[39;49mcallable(pslice)\n\u001b[1;32m   1121\u001b[0m \u001b[39mdel\u001b[39;00m statestack[\u001b[39m-\u001b[39mplen:]\n",
      "File \u001b[0;32m/mnt/c/Users/poig/Documents/GitHub/qBraid/qbraid/transpiler/cirq_qasm/qasm_parser.py:516\u001b[0m, in \u001b[0;36mQasmParser.p_quantum_arg_register\u001b[0;34m(self, p)\u001b[0m\n\u001b[1;32m    515\u001b[0m \u001b[39mif\u001b[39;00m reg \u001b[39mnot\u001b[39;00m \u001b[39min\u001b[39;00m \u001b[39mself\u001b[39m\u001b[39m.\u001b[39mqregs\u001b[39m.\u001b[39mkeys():\n\u001b[0;32m--> 516\u001b[0m     \u001b[39mraise\u001b[39;00m QasmException(\u001b[39mf\u001b[39m\u001b[39m'\u001b[39m\u001b[39mUndefined quantum register \u001b[39m\u001b[39m\"\u001b[39m\u001b[39m{\u001b[39;00mreg\u001b[39m}\u001b[39;00m\u001b[39m\"\u001b[39m\u001b[39m at line \u001b[39m\u001b[39m{\u001b[39;00mp\u001b[39m.\u001b[39mlineno(\u001b[39m1\u001b[39m)\u001b[39m}\u001b[39;00m\u001b[39m'\u001b[39m)\n\u001b[1;32m    517\u001b[0m qubits \u001b[39m=\u001b[39m []\n",
      "\u001b[0;31mQasmException\u001b[0m: Undefined quantum register \"iswapmaxq0\" at line 24",
      "\nThe above exception was the direct cause of the following exception:\n",
      "\u001b[0;31mCircuitConversionError\u001b[0m                    Traceback (most recent call last)",
      "Cell \u001b[0;32mIn[11], line 24\u001b[0m\n\u001b[1;32m     22\u001b[0m pytket_circuit\u001b[39m.\u001b[39mCX(\u001b[39m0\u001b[39m, \u001b[39m1\u001b[39m)\n\u001b[1;32m     23\u001b[0m pytket_circuit\u001b[39m.\u001b[39mCU1(np\u001b[39m.\u001b[39mpi \u001b[39m/\u001b[39m \u001b[39m4\u001b[39m, \u001b[39m2\u001b[39m, \u001b[39m3\u001b[39m)\n\u001b[0;32m---> 24\u001b[0m cirq_circuit \u001b[39m=\u001b[39m from_pytket(pytket_circuit)\n",
      "File \u001b[0;32m/mnt/c/Users/poig/Documents/GitHub/qBraid/qbraid/transpiler/cirq_pytket/convert_pytket_qasm.py:64\u001b[0m, in \u001b[0;36mfrom_pytket\u001b[0;34m(circuit)\u001b[0m\n\u001b[1;32m     62\u001b[0m     \u001b[39mreturn\u001b[39;00m _convert_to_line_qubits(cirq_circuit, rev_qubits\u001b[39m=\u001b[39m\u001b[39mTrue\u001b[39;00m)\n\u001b[1;32m     63\u001b[0m \u001b[39mexcept\u001b[39;00m \u001b[39mException\u001b[39;00m \u001b[39mas\u001b[39;00m err:\n\u001b[0;32m---> 64\u001b[0m     \u001b[39mraise\u001b[39;00m CircuitConversionError(\u001b[39m\"\u001b[39m\u001b[39mCirq qasm converter doesn\u001b[39m\u001b[39m'\u001b[39m\u001b[39mt yet support qasm3.\u001b[39m\u001b[39m\"\u001b[39m) \u001b[39mfrom\u001b[39;00m \u001b[39merr\u001b[39;00m\n",
      "\u001b[0;31mCircuitConversionError\u001b[0m: Cirq qasm converter doesn't yet support qasm3."
     ]
    }
   ],
   "source": [
    "from qbraid.transpiler.cirq_qiskit.conversions import from_qiskit\n",
    "pytket_circuit = TKCircuit(4)\n",
    "for i in range(4):\n",
    "    pytket_circuit.H(i)\n",
    "for i in range(2):\n",
    "    pytket_circuit.X(i)\n",
    "pytket_circuit.Y(2)\n",
    "pytket_circuit.Z(3)\n",
    "pytket_circuit.S(0)\n",
    "pytket_circuit.Sdg(1)\n",
    "pytket_circuit.T(2)\n",
    "pytket_circuit.Tdg(3)\n",
    "pytket_circuit.Rx(np.pi / 4, 0)\n",
    "pytket_circuit.Ry(np.pi / 2, 1)\n",
    "pytket_circuit.Rz(3 * np.pi / 4, 2)\n",
    "pytket_circuit.U1(np.pi / 8, 3)\n",
    "pytket_circuit.SX(0)\n",
    "pytket_circuit.SXdg(1)\n",
    "pytket_circuit.ISWAPMax(2, 3)\n",
    "for i in range(2):\n",
    "    pytket_circuit.SWAP(i,i+2)\n",
    "pytket_circuit.CX(0, 1)\n",
    "pytket_circuit.CU1(np.pi / 4, 2, 3)\n",
    "cirq_circuit = from_pytket(pytket_circuit)"
   ]
  },
  {
   "cell_type": "code",
   "execution_count": 6,
   "metadata": {},
   "outputs": [
    {
     "data": {
      "text/html": [
       "\n",
       "\n",
       "\n",
       "\n",
       "\n",
       "\n",
       "<iframe srcdoc=\"\n",
       "&lt;!DOCTYPE html&gt;\n",
       "&lt;html lang=&#34;en&#34;&gt;\n",
       "&lt;head&gt;\n",
       "    &lt;meta charset=&#34;UTF-8&#34;&gt;\n",
       "    &lt;script type=&#34;application/javascript&#34; src=&#34;https://cdn.jsdelivr.net/npm/vue@3&#34;&gt;&lt;/script&gt;\n",
       "    &lt;script type=&#34;application/javascript&#34; src=&#34;https://unpkg.com/pytket-circuit-renderer@0.3/dist/pytket-circuit-renderer.umd.js&#34;&gt;&lt;/script&gt;\n",
       "    &lt;link rel=&#34;stylesheet&#34; href=&#34;https://unpkg.com/pytket-circuit-renderer@0.3/dist/pytket-circuit-renderer.css&#34;&gt;\n",
       "&lt;/head&gt;\n",
       "&lt;body&gt;\n",
       "    &lt;div id=&#34;circuit-display-vue-container-79738908-0c65-4f01-8174-d6c0a6e1aa0d&#34; class=&#34;pytket-circuit-display-container&#34;&gt;\n",
       "        &lt;div style=&#34;display: none&#34;&gt;\n",
       "            &lt;div id=&#34;circuit-json-to-display&#34;&gt;{&#34;bits&#34;: [], &#34;commands&#34;: [{&#34;args&#34;: [[&#34;q&#34;, [0]], [&#34;q&#34;, [1]]], &#34;op&#34;: {&#34;n_qb&#34;: 2, &#34;type&#34;: &#34;CnX&#34;}}, {&#34;args&#34;: [[&#34;q&#34;, [0]], [&#34;q&#34;, [1]]], &#34;op&#34;: {&#34;type&#34;: &#34;ISWAPMax&#34;}}, {&#34;args&#34;: [[&#34;q&#34;, [0]]], &#34;op&#34;: {&#34;type&#34;: &#34;Z&#34;}}, {&#34;args&#34;: [[&#34;q&#34;, [0]], [&#34;q&#34;, [1]]], &#34;op&#34;: {&#34;data&#34;: &#34;&#34;, &#34;signature&#34;: [&#34;Q&#34;, &#34;Q&#34;], &#34;type&#34;: &#34;Barrier&#34;}}], &#34;created_qubits&#34;: [], &#34;discarded_qubits&#34;: [], &#34;implicit_permutation&#34;: [[[&#34;q&#34;, [0]], [&#34;q&#34;, [0]]], [[&#34;q&#34;, [1]], [&#34;q&#34;, [1]]]], &#34;name&#34;: &#34;example&#34;, &#34;phase&#34;: &#34;0.0&#34;, &#34;qubits&#34;: [[&#34;q&#34;, [0]], [&#34;q&#34;, [1]]]}&lt;/div&gt;\n",
       "        &lt;/div&gt;\n",
       "        &lt;circuit-display-container :circuit-element-str=&#34;&#39;#circuit-json-to-display&#39;&#34;&gt;&lt;/circuit-display-container&gt;\n",
       "    &lt;/div&gt;\n",
       "    &lt;script type=&#34;application/javascript&#34;&gt;\n",
       "        const { createApp } = Vue;\n",
       "        const circuitDisplayContainer = window[&#34;pytket-circuit-renderer&#34;].default;\n",
       "        // Init variables to be shared between circuit display instances\n",
       "        if (typeof window.pytketCircuitDisplays === &#34;undefined&#34;) {\n",
       "            window.pytketCircuitDisplays = {};\n",
       "        }\n",
       "        const uid = &#34;79738908-0c65-4f01-8174-d6c0a6e1aa0d&#34;;\n",
       "        // Create the root Vue component\n",
       "        const app = createApp({\n",
       "            delimiters: [&#39;[[#&#39;, &#39;#]]&#39;],\n",
       "            components: { circuitDisplayContainer },\n",
       "        })\n",
       "        app.config.unwrapInjectedRef = true;\n",
       "        app.mount(&#34;#circuit-display-vue-container-&#34;+uid);\n",
       "        window.pytketCircuitDisplays[uid] = app;\n",
       "    &lt;/script&gt;\n",
       "&lt;/body&gt;\n",
       "&lt;/html&gt;\n",
       "\"\n",
       "        width=\"100%\" height=\"200px\"\n",
       "        style=\"border: none; outline: none; resize: vertical; overflow: auto\"></iframe>\n",
       "\n"
      ],
      "text/plain": [
       "<IPython.core.display.HTML object>"
      ]
     },
     "metadata": {},
     "output_type": "display_data"
    }
   ],
   "source": [
    "c.remove_blank_wires()\n",
    "render_circuit_jupyter(c)"
   ]
  },
  {
   "cell_type": "code",
   "execution_count": 28,
   "metadata": {},
   "outputs": [],
   "source": [
    "from pytket.passes import CommuteThroughMultis, RemoveRedundancies, RepeatPass,RemoveBarriers"
   ]
  },
  {
   "cell_type": "code",
   "execution_count": 3,
   "metadata": {},
   "outputs": [
    {
     "data": {
      "text/html": [
       "<pre style=\"overflow: auto; white-space: pre;\">0: ───S───────\n",
       "      │\n",
       "1: ───@───Z───</pre>"
      ],
      "text/plain": [
       "0: ───S───────\n",
       "      │\n",
       "1: ───@───Z───"
      ]
     },
     "execution_count": 3,
     "metadata": {},
     "output_type": "execute_result"
    }
   ],
   "source": [
    "#pytket_circuit = TKCircuit(2)\n",
    "#pytket_circuit.ISWAPMax(0,1)\n",
    "cirq_circuit = from_pytket(c)\n",
    "cirq_circuit"
   ]
  },
  {
   "cell_type": "code",
   "execution_count": 2,
   "metadata": {},
   "outputs": [
    {
     "name": "stdout",
     "output_type": "stream",
     "text": [
      "[-0.15606649-0.05469703j -0.15606649-0.05469703j  0.15606649+0.05469703j\n",
      "  0.15606649+0.05469703j  0.        +0.j          0.        +0.j\n",
      "  0.        +0.j          0.        +0.j         -0.44530297-0.15606649j\n",
      " -0.44530297-0.15606649j  0.44530297+0.15606649j  0.44530297+0.15606649j\n",
      "  0.        +0.j          0.        +0.j          0.        +0.j\n",
      "  0.        +0.j        ]\n",
      "[-0.1767767-0.4267767j -0.0732233-0.1767767j  0.       +0.j\n",
      "  0.       +0.j         0.1767767+0.4267767j  0.0732233+0.1767767j\n",
      "  0.       +0.j         0.       +0.j        -0.1767767-0.4267767j\n",
      " -0.0732233-0.1767767j  0.       +0.j         0.       +0.j\n",
      "  0.1767767+0.4267767j  0.0732233+0.1767767j  0.       +0.j\n",
      "  0.       +0.j       ]\n"
     ]
    }
   ],
   "source": [
    "print(pytketcircuit.get_unitary()[0])\n",
    "print(_unitary_from_qiskit(circuit)[0])"
   ]
  },
  {
   "cell_type": "code",
   "execution_count": 1,
   "metadata": {},
   "outputs": [
    {
     "data": {
      "text/plain": [
       "{'braket': EntryPoint.parse('braket = qbraid.transpiler:BraketCircuitWrapper'),\n",
       " 'cirq': EntryPoint.parse('cirq = qbraid.transpiler:CirqCircuitWrapper'),\n",
       " 'pyquil': EntryPoint.parse('pyquil = qbraid.transpiler:PyQuilProgramWrapper'),\n",
       " 'pytket': EntryPoint.parse('pytket = qbraid.transpiler:PytketCircuitWrapper'),\n",
       " 'qiskit': EntryPoint.parse('qiskit = qbraid.transpiler:QiskitCircuitWrapper')}"
      ]
     },
     "execution_count": 1,
     "metadata": {},
     "output_type": "execute_result"
    }
   ],
   "source": [
    "import pkg_resources\n",
    "def _get_entrypoints(group: str):\n",
    "    \"\"\"Returns a dictionary mapping each entry of ``group`` to its loadable entrypoint.\"\"\"\n",
    "    return {entry.name: entry for entry in pkg_resources.iter_entry_points(group)}\n",
    "_get_entrypoints(\"qbraid.transpiler\")"
   ]
  },
  {
   "cell_type": "code",
   "execution_count": 6,
   "metadata": {},
   "outputs": [
    {
     "data": {
      "text/plain": [
       "['BraketCircuitWrapper',\n",
       " 'CircuitConversionError',\n",
       " 'CirqCircuitWrapper',\n",
       " 'PyQuilProgramWrapper',\n",
       " 'PytketCircuitWrapper',\n",
       " 'QasmError',\n",
       " 'QiskitCircuitWrapper',\n",
       " 'QuantumProgramWrapper',\n",
       " '__builtins__',\n",
       " '__cached__',\n",
       " '__doc__',\n",
       " '__file__',\n",
       " '__loader__',\n",
       " '__name__',\n",
       " '__package__',\n",
       " '__path__',\n",
       " '__spec__',\n",
       " 'cirq_braket',\n",
       " 'cirq_pyquil',\n",
       " 'cirq_pytket',\n",
       " 'cirq_qasm',\n",
       " 'cirq_qiskit',\n",
       " 'conversions',\n",
       " 'convert_from_cirq',\n",
       " 'convert_to_cirq',\n",
       " 'custom_gates',\n",
       " 'exceptions',\n",
       " 'wrappers']"
      ]
     },
     "execution_count": 6,
     "metadata": {},
     "output_type": "execute_result"
    }
   ],
   "source": [
    "import qbraid.transpiler\n",
    "dir(qbraid.transpiler)"
   ]
  },
  {
   "cell_type": "code",
   "execution_count": 16,
   "metadata": {},
   "outputs": [
    {
     "name": "stdout",
     "output_type": "stream",
     "text": [
      "OPENQASM 2.0;\n",
      "include \"qelib1.inc\";\n",
      "\n",
      "qreg q[2];\n",
      "gate iswap (param0) iswapq0,iswapq1 {\n",
      "u3(0.5*pi,0.0*pi,0.5*pi) iswapq0;\n",
      "u3(1.5*pi,1.5*pi,0.5*pi) iswapq1;\n",
      "cx iswapq0,iswapq1;\n",
      "u3((1 - 0.5*param0)*pi,1.5*pi,0.0*pi) iswapq0;\n",
      "u3(1.5*pi,1.5*pi,(0.5*param0 + 2.5)*pi) iswapq1;\n",
      "cx iswapq0,iswapq1;\n",
      "u3(0.5*pi,1.5*pi,0.5*pi) iswapq0;\n",
      "}\n",
      "iswap(1.0*pi) q[0],q[1];\n",
      "\n"
     ]
    }
   ],
   "source": [
    "pytket_bell = TKCircuit(2)\n",
    "pytket_bell.ISWAP(1,0,1)\n",
    "from pytket.qasm import circuit_to_qasm_str\n",
    "print(circuit_to_qasm_str(pytket_bell))"
   ]
  },
  {
   "cell_type": "code",
   "execution_count": 1,
   "metadata": {},
   "outputs": [
    {
     "name": "stdout",
     "output_type": "stream",
     "text": [
      "     ┌───┐┌───┐ ┌───┐ ┌─────────┐   ┌────┐                 \n",
      "q_0: ┤ H ├┤ X ├─┤ S ├─┤ Rx(π/4) ├───┤ √X ├───X────────■────\n",
      "     ├───┤├───┤┌┴───┴┐├─────────┤  ┌┴────┴┐  │      ┌─┴─┐  \n",
      "q_1: ┤ H ├┤ X ├┤ Sdg ├┤ Ry(π/2) ├──┤ √Xdg ├──┼──X───┤ X ├──\n",
      "     ├───┤├───┤└┬───┬┘├─────────┴┐┌┴──────┴┐ │  │   └───┘  \n",
      "q_2: ┤ H ├┤ Y ├─┤ T ├─┤ Rz(3π/4) ├┤0       ├─X──┼──■───────\n",
      "     ├───┤├───┤┌┴───┴┐└┬────────┬┘│  Iswap │    │  │P(π/4) \n",
      "q_3: ┤ H ├┤ Z ├┤ Tdg ├─┤ P(π/8) ├─┤1       ├────X──■───────\n",
      "     └───┘└───┘└─────┘ └────────┘ └────────┘               \n"
     ]
    },
    {
     "data": {
      "text/html": [
       "\n",
       "\n",
       "\n",
       "\n",
       "\n",
       "\n",
       "<iframe srcdoc=\"\n",
       "&lt;!DOCTYPE html&gt;\n",
       "&lt;html lang=&#34;en&#34;&gt;\n",
       "&lt;head&gt;\n",
       "    &lt;meta charset=&#34;UTF-8&#34;&gt;\n",
       "    &lt;script type=&#34;application/javascript&#34; src=&#34;https://cdn.jsdelivr.net/npm/vue@3&#34;&gt;&lt;/script&gt;\n",
       "    &lt;script type=&#34;application/javascript&#34; src=&#34;https://unpkg.com/pytket-circuit-renderer@0.3/dist/pytket-circuit-renderer.umd.js&#34;&gt;&lt;/script&gt;\n",
       "    &lt;link rel=&#34;stylesheet&#34; href=&#34;https://unpkg.com/pytket-circuit-renderer@0.3/dist/pytket-circuit-renderer.css&#34;&gt;\n",
       "&lt;/head&gt;\n",
       "&lt;body&gt;\n",
       "    &lt;div id=&#34;circuit-display-vue-container-3ea8945f-853c-4ff8-80b4-3f5091aeef75&#34; class=&#34;pytket-circuit-display-container&#34;&gt;\n",
       "        &lt;div style=&#34;display: none&#34;&gt;\n",
       "            &lt;div id=&#34;circuit-json-to-display&#34;&gt;{&#34;bits&#34;: [], &#34;commands&#34;: [{&#34;args&#34;: [[&#34;q&#34;, [0]]], &#34;op&#34;: {&#34;type&#34;: &#34;H&#34;}}, {&#34;args&#34;: [[&#34;q&#34;, [1]]], &#34;op&#34;: {&#34;type&#34;: &#34;H&#34;}}, {&#34;args&#34;: [[&#34;q&#34;, [2]]], &#34;op&#34;: {&#34;type&#34;: &#34;H&#34;}}, {&#34;args&#34;: [[&#34;q&#34;, [3]]], &#34;op&#34;: {&#34;type&#34;: &#34;H&#34;}}, {&#34;args&#34;: [[&#34;q&#34;, [0]]], &#34;op&#34;: {&#34;type&#34;: &#34;X&#34;}}, {&#34;args&#34;: [[&#34;q&#34;, [1]]], &#34;op&#34;: {&#34;type&#34;: &#34;X&#34;}}, {&#34;args&#34;: [[&#34;q&#34;, [2]]], &#34;op&#34;: {&#34;type&#34;: &#34;Y&#34;}}, {&#34;args&#34;: [[&#34;q&#34;, [3]]], &#34;op&#34;: {&#34;type&#34;: &#34;Z&#34;}}, {&#34;args&#34;: [[&#34;q&#34;, [0]]], &#34;op&#34;: {&#34;type&#34;: &#34;S&#34;}}, {&#34;args&#34;: [[&#34;q&#34;, [1]]], &#34;op&#34;: {&#34;type&#34;: &#34;Sdg&#34;}}, {&#34;args&#34;: [[&#34;q&#34;, [2]]], &#34;op&#34;: {&#34;type&#34;: &#34;T&#34;}}, {&#34;args&#34;: [[&#34;q&#34;, [3]]], &#34;op&#34;: {&#34;type&#34;: &#34;Tdg&#34;}}, {&#34;args&#34;: [[&#34;q&#34;, [0]]], &#34;op&#34;: {&#34;params&#34;: [&#34;0.785398163397448&#34;], &#34;type&#34;: &#34;Rx&#34;}}, {&#34;args&#34;: [[&#34;q&#34;, [1]]], &#34;op&#34;: {&#34;params&#34;: [&#34;1.5707963267949&#34;], &#34;type&#34;: &#34;Ry&#34;}}, {&#34;args&#34;: [[&#34;q&#34;, [2]]], &#34;op&#34;: {&#34;params&#34;: [&#34;2.35619449019234&#34;], &#34;type&#34;: &#34;Rz&#34;}}, {&#34;args&#34;: [[&#34;q&#34;, [3]]], &#34;op&#34;: {&#34;params&#34;: [&#34;0.392699081698724&#34;], &#34;type&#34;: &#34;U1&#34;}}, {&#34;args&#34;: [[&#34;q&#34;, [0]]], &#34;op&#34;: {&#34;type&#34;: &#34;SX&#34;}}, {&#34;args&#34;: [[&#34;q&#34;, [1]]], &#34;op&#34;: {&#34;type&#34;: &#34;SXdg&#34;}}, {&#34;args&#34;: [[&#34;q&#34;, [2]], [&#34;q&#34;, [3]]], &#34;op&#34;: {&#34;type&#34;: &#34;ISWAPMax&#34;}}, {&#34;args&#34;: [[&#34;q&#34;, [0]], [&#34;q&#34;, [2]]], &#34;op&#34;: {&#34;type&#34;: &#34;SWAP&#34;}}, {&#34;args&#34;: [[&#34;q&#34;, [1]], [&#34;q&#34;, [3]]], &#34;op&#34;: {&#34;type&#34;: &#34;SWAP&#34;}}, {&#34;args&#34;: [[&#34;q&#34;, [0]], [&#34;q&#34;, [1]]], &#34;op&#34;: {&#34;type&#34;: &#34;CX&#34;}}, {&#34;args&#34;: [[&#34;q&#34;, [2]], [&#34;q&#34;, [3]]], &#34;op&#34;: {&#34;params&#34;: [&#34;0.785398163397448&#34;], &#34;type&#34;: &#34;CU1&#34;}}], &#34;created_qubits&#34;: [], &#34;discarded_qubits&#34;: [], &#34;implicit_permutation&#34;: [[[&#34;q&#34;, [0]], [&#34;q&#34;, [0]]], [[&#34;q&#34;, [1]], [&#34;q&#34;, [1]]], [[&#34;q&#34;, [2]], [&#34;q&#34;, [2]]], [[&#34;q&#34;, [3]], [&#34;q&#34;, [3]]]], &#34;phase&#34;: &#34;0.0&#34;, &#34;qubits&#34;: [[&#34;q&#34;, [0]], [&#34;q&#34;, [1]], [&#34;q&#34;, [2]], [&#34;q&#34;, [3]]]}&lt;/div&gt;\n",
       "        &lt;/div&gt;\n",
       "        &lt;circuit-display-container :circuit-element-str=&#34;&#39;#circuit-json-to-display&#39;&#34;&gt;&lt;/circuit-display-container&gt;\n",
       "    &lt;/div&gt;\n",
       "    &lt;script type=&#34;application/javascript&#34;&gt;\n",
       "        const { createApp } = Vue;\n",
       "        const circuitDisplayContainer = window[&#34;pytket-circuit-renderer&#34;].default;\n",
       "        // Init variables to be shared between circuit display instances\n",
       "        if (typeof window.pytketCircuitDisplays === &#34;undefined&#34;) {\n",
       "            window.pytketCircuitDisplays = {};\n",
       "        }\n",
       "        const uid = &#34;3ea8945f-853c-4ff8-80b4-3f5091aeef75&#34;;\n",
       "        // Create the root Vue component\n",
       "        const app = createApp({\n",
       "            delimiters: [&#39;[[#&#39;, &#39;#]]&#39;],\n",
       "            components: { circuitDisplayContainer },\n",
       "        })\n",
       "        app.config.unwrapInjectedRef = true;\n",
       "        app.mount(&#34;#circuit-display-vue-container-&#34;+uid);\n",
       "        window.pytketCircuitDisplays[uid] = app;\n",
       "    &lt;/script&gt;\n",
       "&lt;/body&gt;\n",
       "&lt;/html&gt;\n",
       "\"\n",
       "        width=\"100%\" height=\"200px\"\n",
       "        style=\"border: none; outline: none; resize: vertical; overflow: auto\"></iframe>\n",
       "\n"
      ],
      "text/plain": [
       "<IPython.core.display.HTML object>"
      ]
     },
     "metadata": {},
     "output_type": "display_data"
    },
    {
     "data": {
      "text/html": [
       "\n",
       "\n",
       "\n",
       "\n",
       "\n",
       "\n",
       "<iframe srcdoc=\"\n",
       "&lt;!DOCTYPE html&gt;\n",
       "&lt;html lang=&#34;en&#34;&gt;\n",
       "&lt;head&gt;\n",
       "    &lt;meta charset=&#34;UTF-8&#34;&gt;\n",
       "    &lt;script type=&#34;application/javascript&#34; src=&#34;https://cdn.jsdelivr.net/npm/vue@3&#34;&gt;&lt;/script&gt;\n",
       "    &lt;script type=&#34;application/javascript&#34; src=&#34;https://unpkg.com/pytket-circuit-renderer@0.3/dist/pytket-circuit-renderer.umd.js&#34;&gt;&lt;/script&gt;\n",
       "    &lt;link rel=&#34;stylesheet&#34; href=&#34;https://unpkg.com/pytket-circuit-renderer@0.3/dist/pytket-circuit-renderer.css&#34;&gt;\n",
       "&lt;/head&gt;\n",
       "&lt;body&gt;\n",
       "    &lt;div id=&#34;circuit-display-vue-container-65f3bf89-c1ed-4ca5-9e13-3c7c3c24f793&#34; class=&#34;pytket-circuit-display-container&#34;&gt;\n",
       "        &lt;div style=&#34;display: none&#34;&gt;\n",
       "            &lt;div id=&#34;circuit-json-to-display&#34;&gt;{&#34;bits&#34;: [], &#34;commands&#34;: [{&#34;args&#34;: [[&#34;q&#34;, [0]]], &#34;op&#34;: {&#34;type&#34;: &#34;H&#34;}}, {&#34;args&#34;: [[&#34;q&#34;, [1]]], &#34;op&#34;: {&#34;type&#34;: &#34;H&#34;}}, {&#34;args&#34;: [[&#34;q&#34;, [2]]], &#34;op&#34;: {&#34;type&#34;: &#34;H&#34;}}, {&#34;args&#34;: [[&#34;q&#34;, [3]]], &#34;op&#34;: {&#34;type&#34;: &#34;H&#34;}}, {&#34;args&#34;: [[&#34;q&#34;, [0]]], &#34;op&#34;: {&#34;type&#34;: &#34;X&#34;}}, {&#34;args&#34;: [[&#34;q&#34;, [1]]], &#34;op&#34;: {&#34;type&#34;: &#34;X&#34;}}, {&#34;args&#34;: [[&#34;q&#34;, [2]]], &#34;op&#34;: {&#34;type&#34;: &#34;Y&#34;}}, {&#34;args&#34;: [[&#34;q&#34;, [3]]], &#34;op&#34;: {&#34;type&#34;: &#34;Z&#34;}}, {&#34;args&#34;: [[&#34;q&#34;, [0]]], &#34;op&#34;: {&#34;type&#34;: &#34;S&#34;}}, {&#34;args&#34;: [[&#34;q&#34;, [1]]], &#34;op&#34;: {&#34;type&#34;: &#34;Sdg&#34;}}, {&#34;args&#34;: [[&#34;q&#34;, [2]]], &#34;op&#34;: {&#34;type&#34;: &#34;T&#34;}}, {&#34;args&#34;: [[&#34;q&#34;, [3]]], &#34;op&#34;: {&#34;type&#34;: &#34;Tdg&#34;}}, {&#34;args&#34;: [[&#34;q&#34;, [0]]], &#34;op&#34;: {&#34;params&#34;: [&#34;0.25&#34;], &#34;type&#34;: &#34;Rx&#34;}}, {&#34;args&#34;: [[&#34;q&#34;, [1]]], &#34;op&#34;: {&#34;params&#34;: [&#34;0.5&#34;], &#34;type&#34;: &#34;Ry&#34;}}, {&#34;args&#34;: [[&#34;q&#34;, [2]]], &#34;op&#34;: {&#34;params&#34;: [&#34;0.75&#34;], &#34;type&#34;: &#34;Rz&#34;}}, {&#34;args&#34;: [[&#34;q&#34;, [3]]], &#34;op&#34;: {&#34;params&#34;: [&#34;0.125&#34;], &#34;type&#34;: &#34;U1&#34;}}, {&#34;args&#34;: [[&#34;q&#34;, [0]]], &#34;op&#34;: {&#34;type&#34;: &#34;SX&#34;}}, {&#34;args&#34;: [[&#34;q&#34;, [1]]], &#34;op&#34;: {&#34;type&#34;: &#34;SXdg&#34;}}, {&#34;args&#34;: [[&#34;q&#34;, [2]]], &#34;op&#34;: {&#34;type&#34;: &#34;S&#34;}}, {&#34;args&#34;: [[&#34;q&#34;, [3]]], &#34;op&#34;: {&#34;type&#34;: &#34;S&#34;}}, {&#34;args&#34;: [[&#34;q&#34;, [2]]], &#34;op&#34;: {&#34;type&#34;: &#34;H&#34;}}, {&#34;args&#34;: [[&#34;q&#34;, [2]], [&#34;q&#34;, [3]]], &#34;op&#34;: {&#34;type&#34;: &#34;CX&#34;}}, {&#34;args&#34;: [[&#34;q&#34;, [3]], [&#34;q&#34;, [2]]], &#34;op&#34;: {&#34;type&#34;: &#34;CX&#34;}}, {&#34;args&#34;: [[&#34;q&#34;, [0]], [&#34;q&#34;, [2]]], &#34;op&#34;: {&#34;type&#34;: &#34;SWAP&#34;}}, {&#34;args&#34;: [[&#34;q&#34;, [3]]], &#34;op&#34;: {&#34;type&#34;: &#34;H&#34;}}, {&#34;args&#34;: [[&#34;q&#34;, [1]], [&#34;q&#34;, [3]]], &#34;op&#34;: {&#34;type&#34;: &#34;SWAP&#34;}}, {&#34;args&#34;: [[&#34;q&#34;, [2]]], &#34;op&#34;: {&#34;params&#34;: [&#34;0.5&#34;, &#34;1.0&#34;, &#34;1.0&#34;], &#34;type&#34;: &#34;U3&#34;}}, {&#34;args&#34;: [[&#34;q&#34;, [0]], [&#34;q&#34;, [1]]], &#34;op&#34;: {&#34;type&#34;: &#34;CX&#34;}}, {&#34;args&#34;: [[&#34;q&#34;, [2]]], &#34;op&#34;: {&#34;type&#34;: &#34;SX&#34;}}, {&#34;args&#34;: [[&#34;q&#34;, [3]]], &#34;op&#34;: {&#34;params&#34;: [&#34;0.5&#34;, &#34;1.0&#34;, &#34;1.0&#34;], &#34;type&#34;: &#34;U3&#34;}}, {&#34;args&#34;: [[&#34;q&#34;, [2]], [&#34;q&#34;, [3]]], &#34;op&#34;: {&#34;type&#34;: &#34;CX&#34;}}, {&#34;args&#34;: [[&#34;q&#34;, [2]]], &#34;op&#34;: {&#34;params&#34;: [&#34;0.375&#34;], &#34;type&#34;: &#34;Rx&#34;}}, {&#34;args&#34;: [[&#34;q&#34;, [3]]], &#34;op&#34;: {&#34;params&#34;: [&#34;0.5&#34;], &#34;type&#34;: &#34;Ry&#34;}}, {&#34;args&#34;: [[&#34;q&#34;, [3]], [&#34;q&#34;, [2]]], &#34;op&#34;: {&#34;type&#34;: &#34;CX&#34;}}, {&#34;args&#34;: [[&#34;q&#34;, [3]]], &#34;op&#34;: {&#34;type&#34;: &#34;SXdg&#34;}}, {&#34;args&#34;: [[&#34;q&#34;, [3]]], &#34;op&#34;: {&#34;type&#34;: &#34;S&#34;}}, {&#34;args&#34;: [[&#34;q&#34;, [2]], [&#34;q&#34;, [3]]], &#34;op&#34;: {&#34;type&#34;: &#34;CX&#34;}}, {&#34;args&#34;: [[&#34;q&#34;, [2]]], &#34;op&#34;: {&#34;params&#34;: [&#34;0.5&#34;, &#34;0.125&#34;, &#34;0&#34;], &#34;type&#34;: &#34;U3&#34;}}, {&#34;args&#34;: [[&#34;q&#34;, [3]]], &#34;op&#34;: {&#34;params&#34;: [&#34;0.5&#34;, &#34;0.125&#34;, &#34;0&#34;], &#34;type&#34;: &#34;U3&#34;}}], &#34;created_qubits&#34;: [], &#34;discarded_qubits&#34;: [], &#34;implicit_permutation&#34;: [[[&#34;q&#34;, [0]], [&#34;q&#34;, [0]]], [[&#34;q&#34;, [1]], [&#34;q&#34;, [1]]], [[&#34;q&#34;, [2]], [&#34;q&#34;, [2]]], [[&#34;q&#34;, [3]], [&#34;q&#34;, [3]]]], &#34;phase&#34;: &#34;0.0&#34;, &#34;qubits&#34;: [[&#34;q&#34;, [0]], [&#34;q&#34;, [1]], [&#34;q&#34;, [2]], [&#34;q&#34;, [3]]]}&lt;/div&gt;\n",
       "        &lt;/div&gt;\n",
       "        &lt;circuit-display-container :circuit-element-str=&#34;&#39;#circuit-json-to-display&#39;&#34;&gt;&lt;/circuit-display-container&gt;\n",
       "    &lt;/div&gt;\n",
       "    &lt;script type=&#34;application/javascript&#34;&gt;\n",
       "        const { createApp } = Vue;\n",
       "        const circuitDisplayContainer = window[&#34;pytket-circuit-renderer&#34;].default;\n",
       "        // Init variables to be shared between circuit display instances\n",
       "        if (typeof window.pytketCircuitDisplays === &#34;undefined&#34;) {\n",
       "            window.pytketCircuitDisplays = {};\n",
       "        }\n",
       "        const uid = &#34;65f3bf89-c1ed-4ca5-9e13-3c7c3c24f793&#34;;\n",
       "        // Create the root Vue component\n",
       "        const app = createApp({\n",
       "            delimiters: [&#39;[[#&#39;, &#39;#]]&#39;],\n",
       "            components: { circuitDisplayContainer },\n",
       "        })\n",
       "        app.config.unwrapInjectedRef = true;\n",
       "        app.mount(&#34;#circuit-display-vue-container-&#34;+uid);\n",
       "        window.pytketCircuitDisplays[uid] = app;\n",
       "    &lt;/script&gt;\n",
       "&lt;/body&gt;\n",
       "&lt;/html&gt;\n",
       "\"\n",
       "        width=\"100%\" height=\"200px\"\n",
       "        style=\"border: none; outline: none; resize: vertical; overflow: auto\"></iframe>\n",
       "\n"
      ],
      "text/plain": [
       "<IPython.core.display.HTML object>"
      ]
     },
     "metadata": {},
     "output_type": "display_data"
    }
   ],
   "source": [
    "from qbraid.wrappers import circuit_wrapper\n",
    "from qbraid.interface.programs import bell_data,shared15_data\n",
    "from pytket.circuit.display import render_circuit_jupyter\n",
    "from qbraid.interface.qbraid_qiskit.tools import _unitary_from_qiskit\n",
    "from qbraid.interface.qbraid_pytket.tools import _unitary_from_pytket\n",
    "map, _ = shared15_data()\n",
    "qiskit_bell = map[\"qiskit\"]()\n",
    "pytket_bell = map[\"pytket\"]()\n",
    "test_case = circuit_wrapper(qiskit_bell).transpile('pytket')\n",
    "print(qiskit_bell)\n",
    "render_circuit_jupyter(pytket_bell)\n",
    "render_circuit_jupyter(test_case)"
   ]
  },
  {
   "cell_type": "code",
   "execution_count": 67,
   "metadata": {},
   "outputs": [
    {
     "data": {
      "text/plain": [
       "array([[1.        +0.j        , 0.        +0.j        ,\n",
       "        0.        +0.j        , 0.        +0.j        ],\n",
       "       [0.        +0.j        , 0.22058404+0.j        ,\n",
       "        0.        -0.97536797j, 0.        +0.j        ],\n",
       "       [0.        +0.j        , 0.        -0.97536797j,\n",
       "        0.22058404+0.j        , 0.        +0.j        ],\n",
       "       [0.        +0.j        , 0.        +0.j        ,\n",
       "        0.        +0.j        , 1.        +0.j        ]])"
      ]
     },
     "execution_count": 67,
     "metadata": {},
     "output_type": "execute_result"
    }
   ],
   "source": [
    "def _gate_to_matrix_pytket(gate: Command) -> np.ndarray:\n",
    "    gate_op = gate.op\n",
    "    pytket_circuit = TKCircuit(gate_op.n_qubits)\n",
    "    pytket_circuit.add_gate(gate_op.type, gate_op.params, gate.qubits)\n",
    "    return pytket_circuit.get_unitary()\n",
    "_gate_to_matrix_pytket(c.get_commands()[0])"
   ]
  },
  {
   "cell_type": "code",
   "execution_count": 2,
   "metadata": {},
   "outputs": [
    {
     "data": {
      "image/svg+xml": [
       "<?xml version=\"1.0\" encoding=\"UTF-8\" standalone=\"no\"?>\n",
       "<!DOCTYPE svg PUBLIC \"-//W3C//DTD SVG 1.1//EN\"\n",
       " \"http://www.w3.org/Graphics/SVG/1.1/DTD/svg11.dtd\">\n",
       "<!-- Generated by graphviz version 2.43.0 (0)\n",
       " -->\n",
       "<!-- Title: Qubit connectivity Pages: 1 -->\n",
       "<svg width=\"127pt\" height=\"67pt\"\n",
       " viewBox=\"0.00 0.00 127.48 66.91\" xmlns=\"http://www.w3.org/2000/svg\" xmlns:xlink=\"http://www.w3.org/1999/xlink\">\n",
       "<g id=\"graph0\" class=\"graph\" transform=\"scale(1 1) rotate(0) translate(4 62.91)\">\n",
       "<title>Qubit connectivity</title>\n",
       "<polygon fill=\"white\" stroke=\"transparent\" points=\"-4,4 -4,-62.91 123.48,-62.91 123.48,4 -4,4\"/>\n",
       "<!-- q[0] -->\n",
       "<g id=\"node1\" class=\"node\">\n",
       "<title>q[0]</title>\n",
       "<ellipse fill=\"none\" stroke=\"blue\" cx=\"24.14\" cy=\"-34.77\" rx=\"24.27\" ry=\"24.27\"/>\n",
       "<text text-anchor=\"middle\" x=\"24.14\" y=\"-32.27\" font-family=\"Courier,monospace\" font-size=\"10.00\">q[0]</text>\n",
       "</g>\n",
       "<!-- q[1] -->\n",
       "<g id=\"node2\" class=\"node\">\n",
       "<title>q[1]</title>\n",
       "<ellipse fill=\"none\" stroke=\"blue\" cx=\"95.34\" cy=\"-24.14\" rx=\"24.27\" ry=\"24.27\"/>\n",
       "<text text-anchor=\"middle\" x=\"95.34\" y=\"-21.64\" font-family=\"Courier,monospace\" font-size=\"10.00\">q[1]</text>\n",
       "</g>\n",
       "<!-- q[0]&#45;&#45;q[1] -->\n",
       "<g id=\"edge1\" class=\"edge\">\n",
       "<title>q[0]&#45;&#45;q[1]</title>\n",
       "<path fill=\"none\" stroke=\"black\" d=\"M48.24,-31.17C55.67,-30.06 63.84,-28.84 71.26,-27.73\"/>\n",
       "</g>\n",
       "</g>\n",
       "</svg>\n"
      ],
      "text/plain": [
       "<graphviz.graphs.Graph at 0x7efe3e650e50>"
      ]
     },
     "execution_count": 2,
     "metadata": {},
     "output_type": "execute_result"
    }
   ],
   "source": [
    "from pytket.utils import Graph\n",
    "\n",
    "G = Graph(c)\n",
    "G.get_DAG()\n",
    "\n",
    "# The small numbers (0 and 1) shown at the entry to and exit from the two-qubit gates represent \"port numbers\" on the gates; these allow us to track individual qubits, which may be placed in a different order on entry and exit in order to simplify the layout.\n",
    "#\n",
    "# The `Graph` class also has methods to save this image to a file and to open it in a PDF viewer.\n",
    "#\n",
    "# We can also view the qubit connectivity graph of a circuit:\n",
    "\n",
    "G.get_qubit_graph()\n"
   ]
  },
  {
   "cell_type": "code",
   "execution_count": 9,
   "metadata": {},
   "outputs": [
    {
     "data": {
      "text/plain": [
       "[0.5]"
      ]
     },
     "execution_count": 9,
     "metadata": {},
     "output_type": "execute_result"
    }
   ],
   "source": [
    "c.get_commands()[0].op.params"
   ]
  },
  {
   "cell_type": "code",
   "execution_count": 34,
   "metadata": {},
   "outputs": [
    {
     "data": {
      "text/plain": [
       "[q[0], q[1]]"
      ]
     },
     "execution_count": 34,
     "metadata": {},
     "output_type": "execute_result"
    }
   ],
   "source": [
    "c.get_commands()[0].qubits"
   ]
  },
  {
   "cell_type": "code",
   "execution_count": 87,
   "metadata": {},
   "outputs": [
    {
     "data": {
      "text/plain": [
       "{'args': [['q', [0]], ['q', [1]]], 'op': {'params': ['0.5'], 'type': 'CU1'}}"
      ]
     },
     "execution_count": 87,
     "metadata": {},
     "output_type": "execute_result"
    }
   ],
   "source": [
    "c.to_dict()[\"commands\"][0]['']"
   ]
  },
  {
   "cell_type": "code",
   "execution_count": 49,
   "metadata": {},
   "outputs": [
    {
     "data": {
      "text/plain": [
       "array([[1.000000e+00+0.j, 0.000000e+00+0.j, 0.000000e+00+0.j,\n",
       "        0.000000e+00+0.j],\n",
       "       [0.000000e+00+0.j, 1.000000e+00+0.j, 0.000000e+00+0.j,\n",
       "        0.000000e+00+0.j],\n",
       "       [0.000000e+00+0.j, 0.000000e+00+0.j, 1.000000e+00+0.j,\n",
       "        0.000000e+00+0.j],\n",
       "       [0.000000e+00+0.j, 0.000000e+00+0.j, 0.000000e+00+0.j,\n",
       "        6.123234e-17+1.j]])"
      ]
     },
     "execution_count": 49,
     "metadata": {},
     "output_type": "execute_result"
    }
   ],
   "source": [
    "c.get_unitary()"
   ]
  },
  {
   "cell_type": "code",
   "execution_count": 33,
   "metadata": {},
   "outputs": [
    {
     "data": {
      "text/plain": [
       "[Z q[0]; ]"
      ]
     },
     "execution_count": 33,
     "metadata": {},
     "output_type": "execute_result"
    }
   ],
   "source": [
    "pytket_circuit = TKCircuit(1)\n",
    "pytket_circuit.add_gate(OpType.Z, [0])"
   ]
  },
  {
   "cell_type": "code",
   "execution_count": 16,
   "metadata": {},
   "outputs": [
    {
     "ename": "AttributeError",
     "evalue": "'pytket._tket.circuit.OpType' object has no attribute 'n_qubits'",
     "output_type": "error",
     "traceback": [
      "\u001b[0;31m---------------------------------------------------------------------------\u001b[0m",
      "\u001b[0;31mAttributeError\u001b[0m                            Traceback (most recent call last)",
      "Cell \u001b[0;32mIn[16], line 1\u001b[0m\n\u001b[0;32m----> 1\u001b[0m circuit_to_symbolic_unitary(OpType\u001b[39m.\u001b[39;49mZ)\n",
      "File \u001b[0;32m~/anaconda3/envs/qbraid/lib/python3.9/site-packages/pytket/utils/symbolic.py:387\u001b[0m, in \u001b[0;36mcircuit_to_symbolic_unitary\u001b[0;34m(circ)\u001b[0m\n\u001b[1;32m    377\u001b[0m \u001b[39mdef\u001b[39;00m \u001b[39mcircuit_to_symbolic_unitary\u001b[39m(circ: Circuit) \u001b[39m-\u001b[39m\u001b[39m>\u001b[39m ImmutableMatrix:\n\u001b[1;32m    378\u001b[0m     \u001b[39m\"\"\"Generate a symbolic unitary from Circuit.\u001b[39;00m\n\u001b[1;32m    379\u001b[0m \n\u001b[1;32m    380\u001b[0m \u001b[39m    Unitary matches pytket default ILO BasisOrder.\u001b[39;00m\n\u001b[0;32m   (...)\u001b[0m\n\u001b[1;32m    385\u001b[0m \u001b[39m    :rtype: ImmutableMatrix\u001b[39;00m\n\u001b[1;32m    386\u001b[0m \u001b[39m    \"\"\"\u001b[39;00m\n\u001b[0;32m--> 387\u001b[0m     gates \u001b[39m=\u001b[39m circuit_to_symbolic_gates(circ)\n\u001b[1;32m    388\u001b[0m     nqb \u001b[39m=\u001b[39m circ\u001b[39m.\u001b[39mn_qubits\n\u001b[1;32m    389\u001b[0m     \u001b[39mtry\u001b[39;00m:\n",
      "File \u001b[0;32m~/anaconda3/envs/qbraid/lib/python3.9/site-packages/pytket/utils/symbolic.py:354\u001b[0m, in \u001b[0;36mcircuit_to_symbolic_gates\u001b[0;34m(circ)\u001b[0m\n\u001b[1;32m    345\u001b[0m \u001b[39m\"\"\"Generate a multiplication expression of sympy gates from Circuit\u001b[39;00m\n\u001b[1;32m    346\u001b[0m \n\u001b[1;32m    347\u001b[0m \u001b[39m:param circ: Input circuit\u001b[39;00m\n\u001b[0;32m   (...)\u001b[0m\n\u001b[1;32m    351\u001b[0m \u001b[39m:rtype: Mul\u001b[39;00m\n\u001b[1;32m    352\u001b[0m \u001b[39m\"\"\"\u001b[39;00m\n\u001b[1;32m    353\u001b[0m outmat \u001b[39m=\u001b[39m symgate\u001b[39m.\u001b[39mIdentityGate(\u001b[39m0\u001b[39m)  \u001b[39m# type: ignore\u001b[39;00m\n\u001b[0;32m--> 354\u001b[0m nqb \u001b[39m=\u001b[39m circ\u001b[39m.\u001b[39;49mn_qubits\n\u001b[1;32m    355\u001b[0m qubit_map \u001b[39m=\u001b[39m {qb: nqb \u001b[39m-\u001b[39m \u001b[39m1\u001b[39m \u001b[39m-\u001b[39m i \u001b[39mfor\u001b[39;00m i, qb \u001b[39min\u001b[39;00m \u001b[39menumerate\u001b[39m(circ\u001b[39m.\u001b[39mqubits)}\n\u001b[1;32m    356\u001b[0m \u001b[39mfor\u001b[39;00m com \u001b[39min\u001b[39;00m circ:\n",
      "\u001b[0;31mAttributeError\u001b[0m: 'pytket._tket.circuit.OpType' object has no attribute 'n_qubits'"
     ]
    }
   ],
   "source": [
    "circuit_to_symbolic_unitary(Optype.Z)"
   ]
  },
  {
   "cell_type": "code",
   "execution_count": 7,
   "metadata": {},
   "outputs": [
    {
     "ename": "TypeError",
     "evalue": "add_unitary1qbox(): incompatible function arguments. The following argument types are supported:\n    1. (self: pytket._tket.circuit.Circuit, unitarybox: pytket._tket.circuit.Unitary1qBox, qubit_0: int, **kwargs) -> pytket._tket.circuit.Circuit\n    2. (self: pytket._tket.circuit.Circuit, unitarybox: pytket._tket.circuit.Unitary1qBox, qubit_0: pytket._tket.circuit.Qubit, **kwargs) -> pytket._tket.circuit.Circuit\n\nInvoked with: ",
     "output_type": "error",
     "traceback": [
      "\u001b[0;31m---------------------------------------------------------------------------\u001b[0m",
      "\u001b[0;31mTypeError\u001b[0m                                 Traceback (most recent call last)",
      "Cell \u001b[0;32mIn[7], line 1\u001b[0m\n\u001b[0;32m----> 1\u001b[0m TKCircuit\u001b[39m.\u001b[39;49madd_unitary1qbox()\u001b[39m.\u001b[39mget_circuit(OpType\u001b[39m.\u001b[39mZ)\n",
      "\u001b[0;31mTypeError\u001b[0m: add_unitary1qbox(): incompatible function arguments. The following argument types are supported:\n    1. (self: pytket._tket.circuit.Circuit, unitarybox: pytket._tket.circuit.Unitary1qBox, qubit_0: int, **kwargs) -> pytket._tket.circuit.Circuit\n    2. (self: pytket._tket.circuit.Circuit, unitarybox: pytket._tket.circuit.Unitary1qBox, qubit_0: pytket._tket.circuit.Qubit, **kwargs) -> pytket._tket.circuit.Circuit\n\nInvoked with: "
     ]
    }
   ],
   "source": [
    "TKCircuit.add_unitary1qbox().get_circuit(OpType.Z)"
   ]
  },
  {
   "cell_type": "code",
   "execution_count": 1,
   "metadata": {},
   "outputs": [
    {
     "name": "stdout",
     "output_type": "stream",
     "text": [
      "\n",
      "0: ───H───@───\n",
      "          │\n",
      "1: ───────X───\n",
      "\n",
      "          ┌───┐\n",
      "q_0: ─────┤ X ├\n",
      "     ┌───┐└─┬─┘\n",
      "q_1: ┤ H ├──■──\n",
      "     └───┘     \n",
      "\n"
     ]
    }
   ],
   "source": [
    "import cirq\n",
    "from qbraid.transpiler.cirq_qiskit.conversions import to_qiskit\n",
    "qreg = cirq.LineQubit.range(2)\n",
    "cirq_circuit = cirq.Circuit([cirq.ops.H.on(qreg[0]), cirq.ops.CNOT.on(qreg[0], qreg[1])])\n",
    "qiskit_circuit = to_qiskit(cirq_circuit)\n",
    "print()\n",
    "print(cirq_circuit)\n",
    "print()\n",
    "print(qiskit_circuit)\n",
    "print()"
   ]
  },
  {
   "cell_type": "code",
   "execution_count": 1,
   "metadata": {},
   "outputs": [
    {
     "ename": "NameError",
     "evalue": "name 'cirq_circuit' is not defined",
     "output_type": "error",
     "traceback": [
      "\u001b[0;31m---------------------------------------------------------------------------\u001b[0m",
      "\u001b[0;31mNameError\u001b[0m                                 Traceback (most recent call last)",
      "Cell \u001b[0;32mIn[1], line 3\u001b[0m\n\u001b[1;32m      1\u001b[0m \u001b[39mfrom\u001b[39;00m \u001b[39mqbraid\u001b[39;00m\u001b[39m.\u001b[39;00m\u001b[39minterface\u001b[39;00m \u001b[39mimport\u001b[39;00m convert_to_contiguous\n\u001b[1;32m      2\u001b[0m \u001b[39mfrom\u001b[39;00m \u001b[39mqbraid\u001b[39;00m\u001b[39m.\u001b[39;00m\u001b[39mtranspiler\u001b[39;00m\u001b[39m.\u001b[39;00m\u001b[39mcustom_gates\u001b[39;00m \u001b[39mimport\u001b[39;00m _map_zpow_and_unroll\n\u001b[0;32m----> 3\u001b[0m contig_circuit \u001b[39m=\u001b[39m convert_to_contiguous(cirq_circuit, rev_qubits\u001b[39m=\u001b[39m\u001b[39mTrue\u001b[39;00m)\n\u001b[1;32m      4\u001b[0m compat_circuit \u001b[39m=\u001b[39m _map_zpow_and_unroll(contig_circuit)\n",
      "\u001b[0;31mNameError\u001b[0m: name 'cirq_circuit' is not defined"
     ]
    }
   ],
   "source": [
    "from qbraid.interface import convert_to_contiguous\n",
    "from qbraid.transpiler.custom_gates import _map_zpow_and_unroll\n",
    "contig_circuit = convert_to_contiguous(cirq_circuit, rev_qubits=True)\n",
    "compat_circuit = _map_zpow_and_unroll(contig_circuit)"
   ]
  },
  {
   "cell_type": "code",
   "execution_count": 14,
   "metadata": {},
   "outputs": [
    {
     "name": "stdout",
     "output_type": "stream",
     "text": [
      "H(q(1))\n",
      "CNOT(q(1), q(0))\n"
     ]
    }
   ],
   "source": [
    "if opr in list(contig_circuit.all_operations())\n",
    "    "
   ]
  },
  {
   "cell_type": "code",
   "execution_count": 24,
   "metadata": {},
   "outputs": [],
   "source": [
    "import numpy as np\n",
    "import pytest\n",
    "from qiskit import QuantumCircuit\n",
    "from qiskit.circuit.random import random_circuit\n",
    "\n",
    "from qbraid.interface import circuits_allclose, convert_to_contiguous\n",
    "from qbraid.transpiler.cirq_qiskit.conversions import from_qiskit\n",
    "qiskit_circuit = QuantumCircuit(2)\n",
    "qiskit_circuit.h(0)\n",
    "qiskit_circuit.cx(0, 1)\n",
    "cirq_circuit = from_qiskit(qiskit_circuit)"
   ]
  },
  {
   "cell_type": "code",
   "execution_count": 3,
   "metadata": {},
   "outputs": [
    {
     "ename": "ValueError",
     "evalue": "Cannot output operation as QUIL: cirq.bit_flip(p=0.2).on(cirq.LineQubit(0))",
     "output_type": "error",
     "traceback": [
      "\u001b[0;31m---------------------------------------------------------------------------\u001b[0m",
      "\u001b[0;31mValueError\u001b[0m                                Traceback (most recent call last)",
      "Cell \u001b[0;32mIn[3], line 7\u001b[0m\n\u001b[1;32m      2\u001b[0m q0 \u001b[39m=\u001b[39m cirq\u001b[39m.\u001b[39mLineQubit(\u001b[39m0\u001b[39m)\n\u001b[1;32m      3\u001b[0m circuit \u001b[39m=\u001b[39m cirq\u001b[39m.\u001b[39mCircuit(\n\u001b[1;32m      4\u001b[0m     cirq\u001b[39m.\u001b[39mbit_flip(p\u001b[39m=\u001b[39m\u001b[39m0.2\u001b[39m)\u001b[39m.\u001b[39mon(q0),\n\u001b[1;32m      5\u001b[0m     cirq\u001b[39m.\u001b[39mmeasure(q0, key\u001b[39m=\u001b[39m\u001b[39m'\u001b[39m\u001b[39mresult\u001b[39m\u001b[39m'\u001b[39m)\n\u001b[1;32m      6\u001b[0m )\n\u001b[0;32m----> 7\u001b[0m to_pyquil(circuit)\n",
      "File \u001b[0;32m/mnt/c/Users/poig/Documents/GitHub/qBraid/qbraid/transpiler/cirq_pyquil/conversions.py:51\u001b[0m, in \u001b[0;36mto_pyquil\u001b[0;34m(circuit, compat)\u001b[0m\n\u001b[1;32m     49\u001b[0m qubits \u001b[39m=\u001b[39m QubitOrder\u001b[39m.\u001b[39mas_qubit_order(qubit_order)\u001b[39m.\u001b[39morder_for(input_qubits)\n\u001b[1;32m     50\u001b[0m operations \u001b[39m=\u001b[39m circuit\u001b[39m.\u001b[39mall_operations()\n\u001b[0;32m---> 51\u001b[0m quil_str \u001b[39m=\u001b[39m \u001b[39mstr\u001b[39;49m(QuilOutput(operations, qubits))\n\u001b[1;32m     52\u001b[0m \u001b[39mreturn\u001b[39;00m Program(quil_str)\n",
      "File \u001b[0;32m~/anaconda3/envs/qbraid/lib/python3.9/site-packages/cirq_rigetti/quil_output.py:383\u001b[0m, in \u001b[0;36mQuilOutput.__str__\u001b[0;34m(self)\u001b[0m\n\u001b[1;32m    381\u001b[0m \u001b[39mdef\u001b[39;00m \u001b[39m__str__\u001b[39m(\u001b[39mself\u001b[39m) \u001b[39m-\u001b[39m\u001b[39m>\u001b[39m \u001b[39mstr\u001b[39m:\n\u001b[1;32m    382\u001b[0m     output \u001b[39m=\u001b[39m []\n\u001b[0;32m--> 383\u001b[0m     \u001b[39mself\u001b[39;49m\u001b[39m.\u001b[39;49m_write_quil(\u001b[39mlambda\u001b[39;49;00m s: output\u001b[39m.\u001b[39;49mappend(s))\n\u001b[1;32m    384\u001b[0m     \u001b[39mreturn\u001b[39;00m \u001b[39mself\u001b[39m\u001b[39m.\u001b[39mrename_defgates(\u001b[39m'\u001b[39m\u001b[39m'\u001b[39m\u001b[39m.\u001b[39mjoin(output))\n",
      "File \u001b[0;32m~/anaconda3/envs/qbraid/lib/python3.9/site-packages/cirq_rigetti/quil_output.py:440\u001b[0m, in \u001b[0;36mQuilOutput._write_quil\u001b[0;34m(self, output_func)\u001b[0m\n\u001b[1;32m    437\u001b[0m     \u001b[39mreturn\u001b[39;00m \u001b[39mValueError\u001b[39;00m(\u001b[39mf\u001b[39m\u001b[39m'\u001b[39m\u001b[39mCannot output operation as QUIL: \u001b[39m\u001b[39m{\u001b[39;00mbad_op\u001b[39m!r}\u001b[39;00m\u001b[39m'\u001b[39m)\n\u001b[1;32m    439\u001b[0m \u001b[39mfor\u001b[39;00m main_op \u001b[39min\u001b[39;00m \u001b[39mself\u001b[39m\u001b[39m.\u001b[39moperations:\n\u001b[0;32m--> 440\u001b[0m     decomposed \u001b[39m=\u001b[39m protocols\u001b[39m.\u001b[39;49mdecompose(\n\u001b[1;32m    441\u001b[0m         main_op, keep\u001b[39m=\u001b[39;49mkeep, fallback_decomposer\u001b[39m=\u001b[39;49mfallback, on_stuck_raise\u001b[39m=\u001b[39;49mon_stuck\n\u001b[1;32m    442\u001b[0m     )\n\u001b[1;32m    444\u001b[0m     \u001b[39mfor\u001b[39;00m decomposed_op \u001b[39min\u001b[39;00m decomposed:\n\u001b[1;32m    445\u001b[0m         output_func(\u001b[39mself\u001b[39m\u001b[39m.\u001b[39m_op_to_quil(decomposed_op))\n",
      "File \u001b[0;32m~/anaconda3/envs/qbraid/lib/python3.9/site-packages/cirq/protocols/decompose_protocol.py:247\u001b[0m, in \u001b[0;36mdecompose\u001b[0;34m(val, intercepting_decomposer, fallback_decomposer, keep, on_stuck_raise, preserve_structure)\u001b[0m\n\u001b[1;32m    245\u001b[0m             error \u001b[39m=\u001b[39m on_stuck_raise(item)\n\u001b[1;32m    246\u001b[0m             \u001b[39mif\u001b[39;00m error \u001b[39mis\u001b[39;00m \u001b[39mnot\u001b[39;00m \u001b[39mNone\u001b[39;00m:\n\u001b[0;32m--> 247\u001b[0m                 \u001b[39mraise\u001b[39;00m error\n\u001b[1;32m    249\u001b[0m     output\u001b[39m.\u001b[39mappend(item)\n\u001b[1;32m    251\u001b[0m \u001b[39mreturn\u001b[39;00m output\n",
      "\u001b[0;31mValueError\u001b[0m: Cannot output operation as QUIL: cirq.bit_flip(p=0.2).on(cirq.LineQubit(0))"
     ]
    }
   ],
   "source": [
    "from qbraid.transpiler.cirq_pyquil.conversions import to_pyquil\n",
    "q0 = cirq.LineQubit(0)\n",
    "circuit = cirq.Circuit(\n",
    "    cirq.bit_flip(p=0.2).on(q0),\n",
    "    cirq.measure(q0, key='result')\n",
    ")\n",
    "to_pyquil(circuit)"
   ]
  },
  {
   "cell_type": "code",
   "execution_count": 4,
   "metadata": {},
   "outputs": [
    {
     "data": {
      "text/plain": [
       "' cirq.bit_flip(p=0.2).on(cirq.LineQubit(0))'"
      ]
     },
     "execution_count": 4,
     "metadata": {},
     "output_type": "execute_result"
    }
   ],
   "source": [
    "'Cannot output operation as QASM: cirq.bit_flip(p=0.2).on(cirq.LineQubit(0))'[32:]"
   ]
  },
  {
   "cell_type": "code",
   "execution_count": 19,
   "metadata": {},
   "outputs": [
    {
     "ename": "UnsupportedQuilInstruction",
     "evalue": "\nPlease remove PRAGMAs from your Quil program.\nIf you would like to add noise, do so after conversion.\n",
     "output_type": "error",
     "traceback": [
      "\u001b[0;31m---------------------------------------------------------------------------\u001b[0m",
      "\u001b[0;31mUnsupportedQuilInstruction\u001b[0m                Traceback (most recent call last)",
      "Cell \u001b[0;32mIn[19], line 13\u001b[0m\n\u001b[1;32m     11\u001b[0m noise_model \u001b[39m=\u001b[39m _decoherence_noise_model(_get_program_gates(p))\n\u001b[1;32m     12\u001b[0m p \u001b[39m=\u001b[39m apply_noise_model(p,noise_model)\n\u001b[0;32m---> 13\u001b[0m p_test \u001b[39m=\u001b[39m to_pyquil(from_pyquil(p, compat\u001b[39m=\u001b[39;49m\u001b[39mFalse\u001b[39;49;00m), compat\u001b[39m=\u001b[39m\u001b[39mFalse\u001b[39;00m)\n",
      "File \u001b[0;32m/mnt/c/Users/poig/Documents/GitHub/qBraid/qbraid/transpiler/cirq_pyquil/conversions.py:64\u001b[0m, in \u001b[0;36mfrom_pyquil\u001b[0;34m(program, compat)\u001b[0m\n\u001b[1;32m     60\u001b[0m \u001b[39mdef\u001b[39;00m \u001b[39mfrom_pyquil\u001b[39m(program: Program, compat\u001b[39m=\u001b[39m\u001b[39mTrue\u001b[39;00m) \u001b[39m-\u001b[39m\u001b[39m>\u001b[39m Circuit:\n\u001b[1;32m     61\u001b[0m     \u001b[39m\"\"\"Returns a Cirq circuit equivalent to the input pyQuil Program.\u001b[39;00m\n\u001b[1;32m     62\u001b[0m \n\u001b[1;32m     63\u001b[0m \u001b[39m    Args:\u001b[39;00m\n\u001b[0;32m---> 64\u001b[0m \u001b[39m        program: PyQuil Program to convert to a Cirq circuit.\u001b[39;00m\n\u001b[1;32m     65\u001b[0m \n\u001b[1;32m     66\u001b[0m \u001b[39m    Returns:\u001b[39;00m\n\u001b[1;32m     67\u001b[0m \u001b[39m        Cirq circuit representation equivalent to the input pyQuil Program.\u001b[39;00m\n\u001b[1;32m     68\u001b[0m \u001b[39m    \"\"\"\u001b[39;00m\n\u001b[1;32m     69\u001b[0m     circuit \u001b[39m=\u001b[39m circuit_from_quil(program\u001b[39m.\u001b[39mout())\n\u001b[1;32m     70\u001b[0m     \u001b[39mif\u001b[39;00m compat:\n",
      "File \u001b[0;32m~/anaconda3/envs/qbraid/lib/python3.9/site-packages/cirq_rigetti/quil_input.py:280\u001b[0m, in \u001b[0;36mcircuit_from_quil\u001b[0;34m(quil)\u001b[0m\n\u001b[1;32m    278\u001b[0m \u001b[39m# Raise a targeted error when encountering a PRAGMA.\u001b[39;00m\n\u001b[1;32m    279\u001b[0m \u001b[39melif\u001b[39;00m \u001b[39misinstance\u001b[39m(inst, Pragma):\n\u001b[0;32m--> 280\u001b[0m     \u001b[39mraise\u001b[39;00m UnsupportedQuilInstruction(PRAGMA_ERROR)\n\u001b[1;32m    282\u001b[0m \u001b[39m# Raise a targeted error when encountering a RESET.\u001b[39;00m\n\u001b[1;32m    283\u001b[0m \u001b[39melif\u001b[39;00m \u001b[39misinstance\u001b[39m(inst, (Reset, ResetQubit)):\n",
      "\u001b[0;31mUnsupportedQuilInstruction\u001b[0m: \nPlease remove PRAGMAs from your Quil program.\nIf you would like to add noise, do so after conversion.\n"
     ]
    }
   ],
   "source": [
    "import numpy as np\n",
    "from pyquil import Program\n",
    "from pyquil.gates import CNOT, CZ, RZ, H, X, Y, Z,RX\n",
    "from pyquil.noise import dephasing_kraus_map\n",
    "from pyquil.noise import (_get_program_gates,\n",
    "    _decoherence_noise_model,apply_noise_model)\n",
    "\n",
    "from qbraid.transpiler.cirq_pyquil.conversions import from_pyquil, to_pyquil\n",
    "p = Program()\n",
    "p += RX(-np.pi/2,0)\n",
    "noise_model = _decoherence_noise_model(_get_program_gates(p))\n",
    "p = apply_noise_model(p,noise_model)\n",
    "p_test = to_pyquil(from_pyquil(p, compat=False), compat=False)"
   ]
  },
  {
   "cell_type": "code",
   "execution_count": 1,
   "metadata": {},
   "outputs": [
    {
     "ename": "CircuitConversionError",
     "evalue": "cirq's qasm doesn't support qasm3 yet.",
     "output_type": "error",
     "traceback": [
      "\u001b[0;31m---------------------------------------------------------------------------\u001b[0m",
      "\u001b[0;31mTypeError\u001b[0m                                 Traceback (most recent call last)",
      "File \u001b[0;32m/mnt/c/Users/poig/Documents/GitHub/qBraid/qbraid/transpiler/cirq_qiskit/conversions.py:59\u001b[0m, in \u001b[0;36mfrom_qiskit\u001b[0;34m(circuit)\u001b[0m\n\u001b[1;32m     58\u001b[0m \u001b[39mtry\u001b[39;00m:\n\u001b[0;32m---> 59\u001b[0m     qasm_str \u001b[39m=\u001b[39m circuit\u001b[39m.\u001b[39;49mqasm()\n\u001b[1;32m     60\u001b[0m     cirq_circuit \u001b[39m=\u001b[39m from_qasm(qasm_str)\n",
      "File \u001b[0;32m~/anaconda3/envs/qbraid/lib/python3.9/site-packages/qiskit/circuit/quantumcircuit.py:1721\u001b[0m, in \u001b[0;36mQuantumCircuit.qasm\u001b[0;34m(self, formatted, filename, encoding)\u001b[0m\n\u001b[1;32m   1720\u001b[0m         \u001b[39mif\u001b[39;00m \u001b[39mgetattr\u001b[39m(operation, \u001b[39m\"\u001b[39m\u001b[39mdefinition\u001b[39m\u001b[39m\"\u001b[39m, \u001b[39mNone\u001b[39;00m) \u001b[39mis\u001b[39;00m \u001b[39mnot\u001b[39;00m \u001b[39mNone\u001b[39;00m:\n\u001b[0;32m-> 1721\u001b[0m             _add_sub_instruction_to_existing_composite_circuits(\n\u001b[1;32m   1722\u001b[0m                 operation, existing_gate_names, existing_composite_circuits\n\u001b[1;32m   1723\u001b[0m             )\n\u001b[1;32m   1725\u001b[0m \u001b[39m# Insert qasm representation of the original instruction\u001b[39;00m\n",
      "File \u001b[0;32m~/anaconda3/envs/qbraid/lib/python3.9/site-packages/qiskit/circuit/quantumcircuit.py:4794\u001b[0m, in \u001b[0;36m_add_sub_instruction_to_existing_composite_circuits\u001b[0;34m(instruction, existing_gate_names, existing_composite_circuits)\u001b[0m\n\u001b[1;32m   4793\u001b[0m existing_composite_circuits\u001b[39m.\u001b[39minsert(\u001b[39m0\u001b[39m, sub_operation)\n\u001b[0;32m-> 4794\u001b[0m _add_sub_instruction_to_existing_composite_circuits(\n\u001b[1;32m   4795\u001b[0m     sub_operation, existing_gate_names, existing_composite_circuits\n\u001b[1;32m   4796\u001b[0m )\n",
      "File \u001b[0;32m~/anaconda3/envs/qbraid/lib/python3.9/site-packages/qiskit/circuit/quantumcircuit.py:4783\u001b[0m, in \u001b[0;36m_add_sub_instruction_to_existing_composite_circuits\u001b[0;34m(instruction, existing_gate_names, existing_composite_circuits)\u001b[0m\n\u001b[1;32m   4780\u001b[0m \u001b[39m\"\"\"Recursively add undefined sub-instructions in the definition of the given\u001b[39;00m\n\u001b[1;32m   4781\u001b[0m \u001b[39minstruction to existing_composite_circuit list.\u001b[39;00m\n\u001b[1;32m   4782\u001b[0m \u001b[39m\"\"\"\u001b[39;00m\n\u001b[0;32m-> 4783\u001b[0m \u001b[39mfor\u001b[39;00m sub_instruction \u001b[39min\u001b[39;00m instruction\u001b[39m.\u001b[39mdefinition:\n\u001b[1;32m   4784\u001b[0m     sub_operation \u001b[39m=\u001b[39m sub_instruction\u001b[39m.\u001b[39moperation\n",
      "\u001b[0;31mTypeError\u001b[0m: 'NoneType' object is not iterable",
      "\nDuring handling of the above exception, another exception occurred:\n",
      "\u001b[0;31mCircuitConversionError\u001b[0m                    Traceback (most recent call last)",
      "Cell \u001b[0;32mIn[1], line 25\u001b[0m\n\u001b[1;32m     23\u001b[0m noisy_circ \u001b[39m=\u001b[39m noise_pass(circ)\n\u001b[1;32m     24\u001b[0m noisy_circ\u001b[39m.\u001b[39mdraw()\n\u001b[0;32m---> 25\u001b[0m from_qiskit(noisy_circ)\n",
      "File \u001b[0;32m/mnt/c/Users/poig/Documents/GitHub/qBraid/qbraid/transpiler/cirq_qiskit/conversions.py:63\u001b[0m, in \u001b[0;36mfrom_qiskit\u001b[0;34m(circuit)\u001b[0m\n\u001b[1;32m     61\u001b[0m     \u001b[39mreturn\u001b[39;00m _convert_to_line_qubits(cirq_circuit, rev_qubits\u001b[39m=\u001b[39m\u001b[39mTrue\u001b[39;00m)\n\u001b[1;32m     62\u001b[0m \u001b[39mexcept\u001b[39;00m:\n\u001b[0;32m---> 63\u001b[0m     \u001b[39mraise\u001b[39;00m CircuitConversionError(\u001b[39mf\u001b[39m\u001b[39m\"\u001b[39m\u001b[39mcirq\u001b[39m\u001b[39m'\u001b[39m\u001b[39ms qasm doesn\u001b[39m\u001b[39m'\u001b[39m\u001b[39mt support qasm3 yet.\u001b[39m\u001b[39m\"\u001b[39m)\n",
      "\u001b[0;31mCircuitConversionError\u001b[0m: cirq's qasm doesn't support qasm3 yet."
     ]
    }
   ],
   "source": [
    "from qiskit.providers.aer.noise.passes import RelaxationNoisePass\n",
    "\n",
    "from qiskit import transpile\n",
    "from qiskit. circuit import Delay, QuantumCircuit\n",
    "from qiskit.circuit.library.standard_gates import SXGate, CXGate\n",
    "from qbraid.transpiler.cirq_qiskit.conversions import from_qiskit\n",
    "\n",
    "circ = QuantumCircuit(2)\n",
    "circ.h(0)\n",
    "circ.cx(0, 1)\n",
    "circ.measure_all()\n",
    "circ = transpile(circ,\n",
    "                 basis_gates=[\"rz\", \"sx\", \"cx\"],\n",
    "                 scheduling_method=\"alap\",\n",
    "                 instruction_durations=[\n",
    "                     (\"rz\", None, 0),\n",
    "                     (\"sx\", None, 160),\n",
    "                     (\"cx\", None, 800),\n",
    "                     (\"measure\", None, 20000)\n",
    "                 ])\n",
    "t1s = t2s = [1e-4, 2e-4]\n",
    "noise_pass = RelaxationNoisePass(t1s=t1s, t2s=t2s, dt=1e-9, op_types=[CXGate])\n",
    "noisy_circ = noise_pass(circ)\n",
    "noisy_circ.draw()\n",
    "from_qiskit(noisy_circ)"
   ]
  },
  {
   "cell_type": "code",
   "execution_count": 22,
   "metadata": {},
   "outputs": [
    {
     "data": {
      "text/plain": [
       "[cirq.ops.gate_operation.GateOperation, cirq.ops.gate_operation.GateOperation]"
      ]
     },
     "execution_count": 22,
     "metadata": {},
     "output_type": "execute_result"
    }
   ],
   "source": [
    "list(map(type,list(contig_circuit.all_operations())))"
   ]
  },
  {
   "cell_type": "code",
   "execution_count": 4,
   "metadata": {},
   "outputs": [
    {
     "data": {
      "text/plain": [
       "['__abstractmethods__',\n",
       " '__add__',\n",
       " '__array_priority__',\n",
       " '__bool__',\n",
       " '__class__',\n",
       " '__copy__',\n",
       " '__delattr__',\n",
       " '__delitem__',\n",
       " '__dict__',\n",
       " '__dir__',\n",
       " '__doc__',\n",
       " '__eq__',\n",
       " '__format__',\n",
       " '__ge__',\n",
       " '__getattribute__',\n",
       " '__getitem__',\n",
       " '__gt__',\n",
       " '__hash__',\n",
       " '__iadd__',\n",
       " '__imul__',\n",
       " '__init__',\n",
       " '__init_subclass__',\n",
       " '__iter__',\n",
       " '__le__',\n",
       " '__len__',\n",
       " '__lt__',\n",
       " '__module__',\n",
       " '__mul__',\n",
       " '__ne__',\n",
       " '__new__',\n",
       " '__pow__',\n",
       " '__radd__',\n",
       " '__reduce__',\n",
       " '__reduce_ex__',\n",
       " '__repr__',\n",
       " '__rmul__',\n",
       " '__setattr__',\n",
       " '__setitem__',\n",
       " '__sizeof__',\n",
       " '__slots__',\n",
       " '__str__',\n",
       " '__subclasshook__',\n",
       " '__weakref__',\n",
       " '_abc_impl',\n",
       " '_approx_eq_',\n",
       " '_can_add_op_at',\n",
       " '_control_keys_',\n",
       " '_decompose_',\n",
       " '_first_moment_operating_on',\n",
       " '_from_json_dict_',\n",
       " '_from_moments',\n",
       " '_has_op_at',\n",
       " '_has_superoperator_',\n",
       " '_has_unitary_',\n",
       " '_insert_operations',\n",
       " '_is_parameterized_',\n",
       " '_json_dict_',\n",
       " '_load_contents_with_earliest_strategy',\n",
       " '_measurement_key_names_',\n",
       " '_measurement_key_objs_',\n",
       " '_moments',\n",
       " '_parameter_names_',\n",
       " '_pick_or_create_inserted_op_moment_index',\n",
       " '_push_frontier',\n",
       " '_qasm_',\n",
       " '_qid_shape_',\n",
       " '_repr_html_',\n",
       " '_repr_pretty_',\n",
       " '_resolve_parameters_',\n",
       " '_superoperator_',\n",
       " '_to_qasm_output',\n",
       " '_unitary_',\n",
       " '_with_key_path_',\n",
       " '_with_key_path_prefix_',\n",
       " '_with_measurement_key_mapping_',\n",
       " '_with_rescoped_keys_',\n",
       " 'all_measurement_key_names',\n",
       " 'all_measurement_key_objs',\n",
       " 'all_operations',\n",
       " 'all_qubits',\n",
       " 'append',\n",
       " 'are_all_matches_terminal',\n",
       " 'are_all_measurements_terminal',\n",
       " 'are_any_matches_terminal',\n",
       " 'are_any_measurements_terminal',\n",
       " 'batch_insert',\n",
       " 'batch_insert_into',\n",
       " 'batch_remove',\n",
       " 'batch_replace',\n",
       " 'clear_operations_touching',\n",
       " 'concat_ragged',\n",
       " 'copy',\n",
       " 'earliest_available_moment',\n",
       " 'factorize',\n",
       " 'final_state_vector',\n",
       " 'findall_operations',\n",
       " 'findall_operations_between',\n",
       " 'findall_operations_until_blocked',\n",
       " 'findall_operations_with_gate_type',\n",
       " 'freeze',\n",
       " 'from_moments',\n",
       " 'get_independent_qubit_sets',\n",
       " 'has_measurements',\n",
       " 'insert',\n",
       " 'insert_at_frontier',\n",
       " 'insert_into_range',\n",
       " 'map_operations',\n",
       " 'moments',\n",
       " 'next_moment_operating_on',\n",
       " 'next_moments_operating_on',\n",
       " 'operation_at',\n",
       " 'prev_moment_operating_on',\n",
       " 'qid_shape',\n",
       " 'reachable_frontier_from',\n",
       " 'save_qasm',\n",
       " 'to_qasm',\n",
       " 'to_text_diagram',\n",
       " 'to_text_diagram_drawer',\n",
       " 'transform_qubits',\n",
       " 'unfreeze',\n",
       " 'unitary',\n",
       " 'with_noise',\n",
       " 'zip']"
      ]
     },
     "execution_count": 4,
     "metadata": {},
     "output_type": "execute_result"
    }
   ],
   "source": [
    "dir(compat_circuit)"
   ]
  },
  {
   "cell_type": "code",
   "execution_count": 9,
   "metadata": {},
   "outputs": [
    {
     "data": {
      "text/plain": [
       "['__class__',\n",
       " '__del__',\n",
       " '__delattr__',\n",
       " '__dir__',\n",
       " '__doc__',\n",
       " '__eq__',\n",
       " '__format__',\n",
       " '__ge__',\n",
       " '__getattribute__',\n",
       " '__gt__',\n",
       " '__hash__',\n",
       " '__init__',\n",
       " '__init_subclass__',\n",
       " '__iter__',\n",
       " '__le__',\n",
       " '__lt__',\n",
       " '__name__',\n",
       " '__ne__',\n",
       " '__new__',\n",
       " '__next__',\n",
       " '__qualname__',\n",
       " '__reduce__',\n",
       " '__reduce_ex__',\n",
       " '__repr__',\n",
       " '__setattr__',\n",
       " '__sizeof__',\n",
       " '__str__',\n",
       " '__subclasshook__',\n",
       " 'close',\n",
       " 'gi_code',\n",
       " 'gi_frame',\n",
       " 'gi_running',\n",
       " 'gi_yieldfrom',\n",
       " 'send',\n",
       " 'throw']"
      ]
     },
     "execution_count": 9,
     "metadata": {},
     "output_type": "execute_result"
    }
   ],
   "source": [
    "dir(compat_circuit.all_operations())"
   ]
  },
  {
   "cell_type": "code",
   "execution_count": 2,
   "metadata": {},
   "outputs": [
    {
     "data": {
      "text/html": [
       "<h3>Supported Devices</h3><table><tr>\n",
       "    <th style='text-align:left'>Provider</th>\n",
       "    <th style='text-align:left'>Name</th>\n",
       "    <th style='text-align:left'>qBraid ID</th>\n",
       "    <th style='text-align:left'>Status</th></tr>\n",
       "    <tr>\n",
       "        <td style='text-align:left'>AWS</td>\n",
       "        <td style='text-align:left'>Braket Default Simulator</td>\n",
       "        <td style='text-align:left'><code>aws_braket_default_sim</code></td>\n",
       "        <td><span style='color:green'>●</span></td></tr>\n",
       "        <tr>\n",
       "        <td style='text-align:left'>AWS</td>\n",
       "        <td style='text-align:left'>DM1</td>\n",
       "        <td style='text-align:left'><code>aws_dm_sim</code></td>\n",
       "        <td><span style='color:green'>●</span></td></tr>\n",
       "        <tr>\n",
       "        <td style='text-align:left'>AWS</td>\n",
       "        <td style='text-align:left'>SV1</td>\n",
       "        <td style='text-align:left'><code>aws_sv_sim</code></td>\n",
       "        <td><span style='color:green'>●</span></td></tr>\n",
       "        <tr>\n",
       "        <td style='text-align:left'>AWS</td>\n",
       "        <td style='text-align:left'>TN1</td>\n",
       "        <td style='text-align:left'><code>aws_tn_sim</code></td>\n",
       "        <td><span style='color:green'>●</span></td></tr>\n",
       "        <tr>\n",
       "        <td style='text-align:left'>Google</td>\n",
       "        <td style='text-align:left'>Bristlecone</td>\n",
       "        <td style='text-align:left'><code>google_bristlecone</code></td>\n",
       "        <td><span style='color:red'>○</span></td></tr>\n",
       "        <tr>\n",
       "        <td style='text-align:left'>Google</td>\n",
       "        <td style='text-align:left'>Cirq Density Matrix Simulator</td>\n",
       "        <td style='text-align:left'><code>google_cirq_dm_sim</code></td>\n",
       "        <td><span style='color:green'>●</span></td></tr>\n",
       "        <tr>\n",
       "        <td style='text-align:left'>Google</td>\n",
       "        <td style='text-align:left'>Cirq Sparse Simulator</td>\n",
       "        <td style='text-align:left'><code>google_cirq_sparse_sim</code></td>\n",
       "        <td><span style='color:green'>●</span></td></tr>\n",
       "        <tr>\n",
       "        <td style='text-align:left'>Google</td>\n",
       "        <td style='text-align:left'>Foxtail</td>\n",
       "        <td style='text-align:left'><code>google_foxtail</code></td>\n",
       "        <td><span style='color:red'>○</span></td></tr>\n",
       "        <tr>\n",
       "        <td style='text-align:left'>Google</td>\n",
       "        <td style='text-align:left'>Sycamore</td>\n",
       "        <td style='text-align:left'><code>google_sycamore</code></td>\n",
       "        <td><span style='color:red'>○</span></td></tr>\n",
       "        <tr>\n",
       "        <td style='text-align:left'>Google</td>\n",
       "        <td style='text-align:left'>Sycamore23</td>\n",
       "        <td style='text-align:left'><code>google_sycamore23</code></td>\n",
       "        <td><span style='color:red'>○</span></td></tr>\n",
       "        <tr>\n",
       "        <td style='text-align:left'>IBM</td>\n",
       "        <td style='text-align:left'>Aer Default Simulator</td>\n",
       "        <td style='text-align:left'><code>ibm_aer_default_sim</code></td>\n",
       "        <td><span style='color:green'>●</span></td></tr>\n",
       "        <tr>\n",
       "        <td style='text-align:left'>IBM</td>\n",
       "        <td style='text-align:left'>Aer Pulse Simulator</td>\n",
       "        <td style='text-align:left'><code>ibm_aer_pulse_sim</code></td>\n",
       "        <td><span style='color:green'>●</span></td></tr>\n",
       "        <tr>\n",
       "        <td style='text-align:left'>IBM</td>\n",
       "        <td style='text-align:left'>Aer QASM Simulator</td>\n",
       "        <td style='text-align:left'><code>ibm_aer_qasm_sim</code></td>\n",
       "        <td><span style='color:green'>●</span></td></tr>\n",
       "        <tr>\n",
       "        <td style='text-align:left'>IBM</td>\n",
       "        <td style='text-align:left'>Aer State Vector Simulator</td>\n",
       "        <td style='text-align:left'><code>ibm_aer_sv_sim</code></td>\n",
       "        <td><span style='color:green'>●</span></td></tr>\n",
       "        <tr>\n",
       "        <td style='text-align:left'>IBM</td>\n",
       "        <td style='text-align:left'>Aer Unitary Simulator</td>\n",
       "        <td style='text-align:left'><code>ibm_aer_unitary_sim</code></td>\n",
       "        <td><span style='color:green'>●</span></td></tr>\n",
       "        <tr>\n",
       "        <td style='text-align:left'>IBM</td>\n",
       "        <td style='text-align:left'>BasicAer QASM Simulator</td>\n",
       "        <td style='text-align:left'><code>ibm_basicaer_qasm_sim</code></td>\n",
       "        <td><span style='color:red'>○</span></td></tr>\n",
       "        <tr>\n",
       "        <td style='text-align:left'>IBM</td>\n",
       "        <td style='text-align:left'>BasicAer State Vector Simulator</td>\n",
       "        <td style='text-align:left'><code>ibm_basicaer_sv_sim</code></td>\n",
       "        <td><span style='color:green'>●</span></td></tr>\n",
       "        <tr>\n",
       "        <td style='text-align:left'>IBM</td>\n",
       "        <td style='text-align:left'>BasicAer Unitary Simulator</td>\n",
       "        <td style='text-align:left'><code>ibm_basicaer_unitary_sim</code></td>\n",
       "        <td><span style='color:green'>●</span></td></tr>\n",
       "        <tr>\n",
       "        <td style='text-align:left'>IBM</td>\n",
       "        <td style='text-align:left'>Belem</td>\n",
       "        <td style='text-align:left'><code>ibm_q_belem</code></td>\n",
       "        <td><span style='color:green'>●</span></td></tr>\n",
       "        <tr>\n",
       "        <td style='text-align:left'>IBM</td>\n",
       "        <td style='text-align:left'>Ext. stabilizer simulator</td>\n",
       "        <td style='text-align:left'><code>ibm_q_ext_stabilizer_sim</code></td>\n",
       "        <td><span style='color:green'>●</span></td></tr>\n",
       "        <tr>\n",
       "        <td style='text-align:left'>IBM</td>\n",
       "        <td style='text-align:left'>Lima</td>\n",
       "        <td style='text-align:left'><code>ibm_q_lima</code></td>\n",
       "        <td><span style='color:green'>●</span></td></tr>\n",
       "        <tr>\n",
       "        <td style='text-align:left'>IBM</td>\n",
       "        <td style='text-align:left'>MPS simulator</td>\n",
       "        <td style='text-align:left'><code>ibm_q_mps_sim</code></td>\n",
       "        <td><span style='color:green'>●</span></td></tr>\n",
       "        <tr>\n",
       "        <td style='text-align:left'>IBM</td>\n",
       "        <td style='text-align:left'>Manila</td>\n",
       "        <td style='text-align:left'><code>ibm_q_manila</code></td>\n",
       "        <td><span style='color:green'>●</span></td></tr>\n",
       "        <tr>\n",
       "        <td style='text-align:left'>IBM</td>\n",
       "        <td style='text-align:left'>Nairobi</td>\n",
       "        <td style='text-align:left'><code>ibm_q_nairobi</code></td>\n",
       "        <td><span style='color:green'>●</span></td></tr>\n",
       "        <tr>\n",
       "        <td style='text-align:left'>IBM</td>\n",
       "        <td style='text-align:left'>Oslo</td>\n",
       "        <td style='text-align:left'><code>ibm_q_oslo</code></td>\n",
       "        <td><span style='color:green'>●</span></td></tr>\n",
       "        <tr>\n",
       "        <td style='text-align:left'>IBM</td>\n",
       "        <td style='text-align:left'>QASM simulator</td>\n",
       "        <td style='text-align:left'><code>ibm_q_qasm_sim</code></td>\n",
       "        <td><span style='color:green'>●</span></td></tr>\n",
       "        <tr>\n",
       "        <td style='text-align:left'>IBM</td>\n",
       "        <td style='text-align:left'>Quito</td>\n",
       "        <td style='text-align:left'><code>ibm_q_quito</code></td>\n",
       "        <td><span style='color:green'>●</span></td></tr>\n",
       "        <tr>\n",
       "        <td style='text-align:left'>IBM</td>\n",
       "        <td style='text-align:left'>Stabilizer simulator</td>\n",
       "        <td style='text-align:left'><code>ibm_q_stabilizer_sim</code></td>\n",
       "        <td><span style='color:green'>●</span></td></tr>\n",
       "        <tr>\n",
       "        <td style='text-align:left'>IBM</td>\n",
       "        <td style='text-align:left'>State vector simulator</td>\n",
       "        <td style='text-align:left'><code>ibm_q_sv_sim</code></td>\n",
       "        <td><span style='color:green'>●</span></td></tr>\n",
       "        <tr>\n",
       "        <td style='text-align:left'>IonQ</td>\n",
       "        <td style='text-align:left'>IonQ Device</td>\n",
       "        <td style='text-align:left'><code>aws_ionq</code></td>\n",
       "        <td><span style='color:green'>●</span></td></tr>\n",
       "        <tr>\n",
       "        <td style='text-align:left'>OQC</td>\n",
       "        <td style='text-align:left'>Lucy</td>\n",
       "        <td style='text-align:left'><code>aws_oqc_lucy</code></td>\n",
       "        <td><span style='color:red'>○</span></td></tr>\n",
       "        <tr>\n",
       "        <td style='text-align:left'>QuEra</td>\n",
       "        <td style='text-align:left'>Aquila</td>\n",
       "        <td style='text-align:left'><code>aws_quera_aquila</code></td>\n",
       "        <td><span style='color:red'>○</span></td></tr>\n",
       "        <tr>\n",
       "        <td style='text-align:left'>Rigetti</td>\n",
       "        <td style='text-align:left'>Aspen-M-2</td>\n",
       "        <td style='text-align:left'><code>aws_rigetti_aspen_m2</code></td>\n",
       "        <td><span style='color:red'>○</span></td></tr>\n",
       "        <tr>\n",
       "        <td style='text-align:left'>Rigetti</td>\n",
       "        <td style='text-align:left'>Aspen-M-3</td>\n",
       "        <td style='text-align:left'><code>aws_rigetti_aspen_m3</code></td>\n",
       "        <td><span style='color:red'>○</span></td></tr>\n",
       "        <tr>\n",
       "        <td style='text-align:left'>Xanadu</td>\n",
       "        <td style='text-align:left'>Borealis</td>\n",
       "        <td style='text-align:left'><code>aws_xanadu_borealis</code></td>\n",
       "        <td><span style='color:red'>○</span></td></tr>\n",
       "        <tr><td colspan='4'; style='text-align:right'>Device status updated 5 hours ago</td></tr></table>"
      ],
      "text/plain": [
       "<IPython.core.display.HTML object>"
      ]
     },
     "metadata": {},
     "output_type": "display_data"
    }
   ],
   "source": [
    "import qbraid\n",
    "qbraid.get_devices()"
   ]
  },
  {
   "cell_type": "code",
   "execution_count": 13,
   "metadata": {},
   "outputs": [
    {
     "name": "stdout",
     "output_type": "stream",
     "text": [
      "S3 Bucket [None]: S3 Bucket Folder [None]: S3 Bucket [None]: S3 Bucket Folder [None]: "
     ]
    },
    {
     "ename": "ClientError",
     "evalue": "An error occurred (UnrecognizedClientException) when calling the GetDevice operation: The security token included in the request is invalid.",
     "output_type": "error",
     "traceback": [
      "\u001b[0;31m---------------------------------------------------------------------------\u001b[0m",
      "\u001b[0;31mClientError\u001b[0m                               Traceback (most recent call last)",
      "Cell \u001b[0;32mIn[13], line 2\u001b[0m\n\u001b[1;32m      1\u001b[0m \u001b[39mfrom\u001b[39;00m \u001b[39mqbraid\u001b[39;00m \u001b[39mimport\u001b[39;00m device_wrapper\n\u001b[0;32m----> 2\u001b[0m qbraid_device \u001b[39m=\u001b[39m device_wrapper(\u001b[39m'\u001b[39;49m\u001b[39maws_dm_sim\u001b[39;49m\u001b[39m'\u001b[39;49m)\n\u001b[1;32m      3\u001b[0m \u001b[39mprint\u001b[39m(qbraid_device\u001b[39m.\u001b[39mis_available)\n",
      "File \u001b[0;32m/mnt/c/Users/poig/Documents/GitHub/qBraid/qbraid/wrappers.py:113\u001b[0m, in \u001b[0;36mdevice_wrapper\u001b[0;34m(qbraid_device_id)\u001b[0m\n\u001b[1;32m    111\u001b[0m ep \u001b[39m=\u001b[39m vendor \u001b[39m+\u001b[39m spec\n\u001b[1;32m    112\u001b[0m device_wrapper_class \u001b[39m=\u001b[39m devices_entrypoints[ep]\u001b[39m.\u001b[39mload()\n\u001b[0;32m--> 113\u001b[0m \u001b[39mreturn\u001b[39;00m device_wrapper_class(\u001b[39m*\u001b[39;49m\u001b[39m*\u001b[39;49mdevice_info)\n",
      "File \u001b[0;32m/mnt/c/Users/poig/Documents/GitHub/qBraid/qbraid/devices/aws/device.py:54\u001b[0m, in \u001b[0;36mBraketDeviceWrapper.__init__\u001b[0;34m(self, **kwargs)\u001b[0m\n\u001b[1;32m     51\u001b[0m \u001b[39mdef\u001b[39;00m \u001b[39m__init__\u001b[39m(\u001b[39mself\u001b[39m, \u001b[39m*\u001b[39m\u001b[39m*\u001b[39mkwargs):\n\u001b[1;32m     52\u001b[0m     \u001b[39m\"\"\"Create a BraketDeviceWrapper.\"\"\"\u001b[39;00m\n\u001b[0;32m---> 54\u001b[0m     \u001b[39msuper\u001b[39;49m()\u001b[39m.\u001b[39;49m\u001b[39m__init__\u001b[39;49m(\u001b[39m*\u001b[39;49m\u001b[39m*\u001b[39;49mkwargs)\n\u001b[1;32m     55\u001b[0m     bucket \u001b[39m=\u001b[39m get_config(\u001b[39m\"\u001b[39m\u001b[39ms3_bucket\u001b[39m\u001b[39m\"\u001b[39m, \u001b[39m\"\u001b[39m\u001b[39mAWS\u001b[39m\u001b[39m\"\u001b[39m)\n\u001b[1;32m     56\u001b[0m     folder \u001b[39m=\u001b[39m get_config(\u001b[39m\"\u001b[39m\u001b[39ms3_folder\u001b[39m\u001b[39m\"\u001b[39m, \u001b[39m\"\u001b[39m\u001b[39mAWS\u001b[39m\u001b[39m\"\u001b[39m)\n",
      "File \u001b[0;32m/mnt/c/Users/poig/Documents/GitHub/qBraid/qbraid/devices/device.py:62\u001b[0m, in \u001b[0;36mDeviceLikeWrapper.__init__\u001b[0;34m(self, **kwargs)\u001b[0m\n\u001b[1;32m     60\u001b[0m \u001b[39mif\u001b[39;00m \u001b[39mself\u001b[39m\u001b[39m.\u001b[39mrequires_cred:\n\u001b[1;32m     61\u001b[0m     verify_config(\u001b[39mself\u001b[39m\u001b[39m.\u001b[39mvendor)\n\u001b[0;32m---> 62\u001b[0m \u001b[39mself\u001b[39m\u001b[39m.\u001b[39mvendor_dlo \u001b[39m=\u001b[39m \u001b[39mself\u001b[39;49m\u001b[39m.\u001b[39;49m_get_device()\n",
      "File \u001b[0;32m/mnt/c/Users/poig/Documents/GitHub/qBraid/qbraid/devices/aws/device.py:64\u001b[0m, in \u001b[0;36mBraketDeviceWrapper._get_device\u001b[0;34m(self)\u001b[0m\n\u001b[1;32m     62\u001b[0m \u001b[39m\"\"\"Initialize an AWS device.\"\"\"\u001b[39;00m\n\u001b[1;32m     63\u001b[0m \u001b[39mtry\u001b[39;00m:\n\u001b[0;32m---> 64\u001b[0m     \u001b[39mreturn\u001b[39;00m AwsDevice(\u001b[39mself\u001b[39;49m\u001b[39m.\u001b[39;49m_obj_arg)\n\u001b[1;32m     65\u001b[0m \u001b[39mexcept\u001b[39;00m \u001b[39mValueError\u001b[39;00m \u001b[39mas\u001b[39;00m err:\n\u001b[1;32m     66\u001b[0m     \u001b[39mraise\u001b[39;00m DeviceError(\u001b[39m\"\u001b[39m\u001b[39mDevice not found\u001b[39m\u001b[39m\"\u001b[39m) \u001b[39mfrom\u001b[39;00m \u001b[39merr\u001b[39;00m\n",
      "File \u001b[0;32m~/anaconda3/envs/qbraid/lib/python3.9/site-packages/amazon_braket_sdk-1.35.4-py3.9.egg/braket/aws/aws_device.py:87\u001b[0m, in \u001b[0;36mAwsDevice.__init__\u001b[0;34m(self, arn, aws_session)\u001b[0m\n\u001b[1;32m     85\u001b[0m \u001b[39mself\u001b[39m\u001b[39m.\u001b[39m_topology_graph \u001b[39m=\u001b[39m \u001b[39mNone\u001b[39;00m\n\u001b[1;32m     86\u001b[0m \u001b[39mself\u001b[39m\u001b[39m.\u001b[39m_type \u001b[39m=\u001b[39m \u001b[39mNone\u001b[39;00m\n\u001b[0;32m---> 87\u001b[0m \u001b[39mself\u001b[39m\u001b[39m.\u001b[39m_aws_session \u001b[39m=\u001b[39m \u001b[39mself\u001b[39;49m\u001b[39m.\u001b[39;49m_get_session_and_initialize(aws_session \u001b[39mor\u001b[39;49;00m AwsSession())\n\u001b[1;32m     88\u001b[0m \u001b[39mself\u001b[39m\u001b[39m.\u001b[39m_ports \u001b[39m=\u001b[39m \u001b[39mNone\u001b[39;00m\n\u001b[1;32m     89\u001b[0m \u001b[39mself\u001b[39m\u001b[39m.\u001b[39m_frames \u001b[39m=\u001b[39m \u001b[39mNone\u001b[39;00m\n",
      "File \u001b[0;32m~/anaconda3/envs/qbraid/lib/python3.9/site-packages/amazon_braket_sdk-1.35.4-py3.9.egg/braket/aws/aws_device.py:278\u001b[0m, in \u001b[0;36mAwsDevice._get_session_and_initialize\u001b[0;34m(self, session)\u001b[0m\n\u001b[1;32m    273\u001b[0m \u001b[39mdef\u001b[39;00m \u001b[39m_get_session_and_initialize\u001b[39m(\u001b[39mself\u001b[39m, session: AwsSession) \u001b[39m-\u001b[39m\u001b[39m>\u001b[39m AwsSession:\n\u001b[1;32m    274\u001b[0m     device_region \u001b[39m=\u001b[39m AwsDevice\u001b[39m.\u001b[39mget_device_region(\u001b[39mself\u001b[39m\u001b[39m.\u001b[39m_arn)\n\u001b[1;32m    275\u001b[0m     \u001b[39mreturn\u001b[39;00m (\n\u001b[1;32m    276\u001b[0m         \u001b[39mself\u001b[39m\u001b[39m.\u001b[39m_get_regional_device_session(session)\n\u001b[1;32m    277\u001b[0m         \u001b[39mif\u001b[39;00m device_region\n\u001b[0;32m--> 278\u001b[0m         \u001b[39melse\u001b[39;00m \u001b[39mself\u001b[39;49m\u001b[39m.\u001b[39;49m_get_non_regional_device_session(session)\n\u001b[1;32m    279\u001b[0m     )\n",
      "File \u001b[0;32m~/anaconda3/envs/qbraid/lib/python3.9/site-packages/amazon_braket_sdk-1.35.4-py3.9.egg/braket/aws/aws_device.py:306\u001b[0m, in \u001b[0;36mAwsDevice._get_non_regional_device_session\u001b[0;34m(self, session)\u001b[0m\n\u001b[1;32m    304\u001b[0m             \u001b[39mraise\u001b[39;00m \u001b[39mValueError\u001b[39;00m(\u001b[39mf\u001b[39m\u001b[39m\"\u001b[39m\u001b[39mSimulator \u001b[39m\u001b[39m'\u001b[39m\u001b[39m{\u001b[39;00m\u001b[39mself\u001b[39m\u001b[39m.\u001b[39m_arn\u001b[39m}\u001b[39;00m\u001b[39m'\u001b[39m\u001b[39m not found in \u001b[39m\u001b[39m'\u001b[39m\u001b[39m{\u001b[39;00mcurrent_region\u001b[39m}\u001b[39;00m\u001b[39m'\u001b[39m\u001b[39m\"\u001b[39m)\n\u001b[1;32m    305\u001b[0m     \u001b[39melse\u001b[39;00m:\n\u001b[0;32m--> 306\u001b[0m         \u001b[39mraise\u001b[39;00m e\n\u001b[1;32m    307\u001b[0m \u001b[39m# Search remaining regions for QPU\u001b[39;00m\n\u001b[1;32m    308\u001b[0m \u001b[39mfor\u001b[39;00m region \u001b[39min\u001b[39;00m \u001b[39mfrozenset\u001b[39m(AwsDevice\u001b[39m.\u001b[39mREGIONS) \u001b[39m-\u001b[39m {current_region}:\n",
      "File \u001b[0;32m~/anaconda3/envs/qbraid/lib/python3.9/site-packages/amazon_braket_sdk-1.35.4-py3.9.egg/braket/aws/aws_device.py:299\u001b[0m, in \u001b[0;36mAwsDevice._get_non_regional_device_session\u001b[0;34m(self, session)\u001b[0m\n\u001b[1;32m    297\u001b[0m current_region \u001b[39m=\u001b[39m session\u001b[39m.\u001b[39mregion\n\u001b[1;32m    298\u001b[0m \u001b[39mtry\u001b[39;00m:\n\u001b[0;32m--> 299\u001b[0m     \u001b[39mself\u001b[39;49m\u001b[39m.\u001b[39;49m_populate_properties(session)\n\u001b[1;32m    300\u001b[0m     \u001b[39mreturn\u001b[39;00m session\n\u001b[1;32m    301\u001b[0m \u001b[39mexcept\u001b[39;00m ClientError \u001b[39mas\u001b[39;00m e:\n",
      "File \u001b[0;32m~/anaconda3/envs/qbraid/lib/python3.9/site-packages/amazon_braket_sdk-1.35.4-py3.9.egg/braket/aws/aws_device.py:319\u001b[0m, in \u001b[0;36mAwsDevice._populate_properties\u001b[0;34m(self, session)\u001b[0m\n\u001b[1;32m    318\u001b[0m \u001b[39mdef\u001b[39;00m \u001b[39m_populate_properties\u001b[39m(\u001b[39mself\u001b[39m, session: AwsSession) \u001b[39m-\u001b[39m\u001b[39m>\u001b[39m \u001b[39mNone\u001b[39;00m:\n\u001b[0;32m--> 319\u001b[0m     metadata \u001b[39m=\u001b[39m session\u001b[39m.\u001b[39;49mget_device(\u001b[39mself\u001b[39;49m\u001b[39m.\u001b[39;49m_arn)\n\u001b[1;32m    320\u001b[0m     \u001b[39mself\u001b[39m\u001b[39m.\u001b[39m_name \u001b[39m=\u001b[39m metadata\u001b[39m.\u001b[39mget(\u001b[39m\"\u001b[39m\u001b[39mdeviceName\u001b[39m\u001b[39m\"\u001b[39m)\n\u001b[1;32m    321\u001b[0m     \u001b[39mself\u001b[39m\u001b[39m.\u001b[39m_status \u001b[39m=\u001b[39m metadata\u001b[39m.\u001b[39mget(\u001b[39m\"\u001b[39m\u001b[39mdeviceStatus\u001b[39m\u001b[39m\"\u001b[39m)\n",
      "File \u001b[0;32m~/anaconda3/envs/qbraid/lib/python3.9/site-packages/amazon_braket_sdk-1.35.4-py3.9.egg/braket/aws/aws_session.py:598\u001b[0m, in \u001b[0;36mAwsSession.get_device\u001b[0;34m(self, arn)\u001b[0m\n\u001b[1;32m    588\u001b[0m \u001b[39mdef\u001b[39;00m \u001b[39mget_device\u001b[39m(\u001b[39mself\u001b[39m, arn: \u001b[39mstr\u001b[39m) \u001b[39m-\u001b[39m\u001b[39m>\u001b[39m Dict[\u001b[39mstr\u001b[39m, Any]:\n\u001b[1;32m    589\u001b[0m     \u001b[39m\"\"\"\u001b[39;00m\n\u001b[1;32m    590\u001b[0m \u001b[39m    Calls the Amazon Braket `get_device` API to retrieve device metadata.\u001b[39;00m\n\u001b[1;32m    591\u001b[0m \n\u001b[0;32m   (...)\u001b[0m\n\u001b[1;32m    596\u001b[0m \u001b[39m        Dict[str, Any]: The response from the Amazon Braket `GetDevice` operation.\u001b[39;00m\n\u001b[1;32m    597\u001b[0m \u001b[39m    \"\"\"\u001b[39;00m\n\u001b[0;32m--> 598\u001b[0m     \u001b[39mreturn\u001b[39;00m \u001b[39mself\u001b[39;49m\u001b[39m.\u001b[39;49mbraket_client\u001b[39m.\u001b[39;49mget_device(deviceArn\u001b[39m=\u001b[39;49marn)\n",
      "File \u001b[0;32m~/anaconda3/envs/qbraid/lib/python3.9/site-packages/botocore/client.py:530\u001b[0m, in \u001b[0;36mClientCreator._create_api_method.<locals>._api_call\u001b[0;34m(self, *args, **kwargs)\u001b[0m\n\u001b[1;32m    526\u001b[0m     \u001b[39mraise\u001b[39;00m \u001b[39mTypeError\u001b[39;00m(\n\u001b[1;32m    527\u001b[0m         \u001b[39mf\u001b[39m\u001b[39m\"\u001b[39m\u001b[39m{\u001b[39;00mpy_operation_name\u001b[39m}\u001b[39;00m\u001b[39m() only accepts keyword arguments.\u001b[39m\u001b[39m\"\u001b[39m\n\u001b[1;32m    528\u001b[0m     )\n\u001b[1;32m    529\u001b[0m \u001b[39m# The \"self\" in this scope is referring to the BaseClient.\u001b[39;00m\n\u001b[0;32m--> 530\u001b[0m \u001b[39mreturn\u001b[39;00m \u001b[39mself\u001b[39;49m\u001b[39m.\u001b[39;49m_make_api_call(operation_name, kwargs)\n",
      "File \u001b[0;32m~/anaconda3/envs/qbraid/lib/python3.9/site-packages/botocore/client.py:960\u001b[0m, in \u001b[0;36mBaseClient._make_api_call\u001b[0;34m(self, operation_name, api_params)\u001b[0m\n\u001b[1;32m    958\u001b[0m     error_code \u001b[39m=\u001b[39m parsed_response\u001b[39m.\u001b[39mget(\u001b[39m\"\u001b[39m\u001b[39mError\u001b[39m\u001b[39m\"\u001b[39m, {})\u001b[39m.\u001b[39mget(\u001b[39m\"\u001b[39m\u001b[39mCode\u001b[39m\u001b[39m\"\u001b[39m)\n\u001b[1;32m    959\u001b[0m     error_class \u001b[39m=\u001b[39m \u001b[39mself\u001b[39m\u001b[39m.\u001b[39mexceptions\u001b[39m.\u001b[39mfrom_code(error_code)\n\u001b[0;32m--> 960\u001b[0m     \u001b[39mraise\u001b[39;00m error_class(parsed_response, operation_name)\n\u001b[1;32m    961\u001b[0m \u001b[39melse\u001b[39;00m:\n\u001b[1;32m    962\u001b[0m     \u001b[39mreturn\u001b[39;00m parsed_response\n",
      "\u001b[0;31mClientError\u001b[0m: An error occurred (UnrecognizedClientException) when calling the GetDevice operation: The security token included in the request is invalid."
     ]
    }
   ],
   "source": [
    "from qbraid import device_wrapper\n",
    "qbraid_device = device_wrapper('aws_dm_sim')\n",
    "print(qbraid_device.is_available)"
   ]
  },
  {
   "cell_type": "code",
   "execution_count": 86,
   "metadata": {},
   "outputs": [
    {
     "data": {
      "text/plain": [
       "[braket.circuits.noises.BitFlip,\n",
       " braket.circuits.noises.PhaseFlip,\n",
       " braket.circuits.noises.PauliChannel,\n",
       " braket.circuits.noises.Depolarizing,\n",
       " braket.circuits.noises.TwoQubitDepolarizing,\n",
       " braket.circuits.noises.TwoQubitDephasing,\n",
       " braket.circuits.noises.TwoQubitPauliChannel,\n",
       " braket.circuits.noises.AmplitudeDamping,\n",
       " braket.circuits.noises.GeneralizedAmplitudeDamping,\n",
       " braket.circuits.noises.PhaseDamping,\n",
       " braket.circuits.noises.Kraus]"
      ]
     },
     "execution_count": 86,
     "metadata": {},
     "output_type": "execute_result"
    }
   ],
   "source": [
    "from braket.circuits import gates as braket_gates, noises as braket_noise_gate\n",
    "def classesinmodule(module):\n",
    "    \"\"\"looking for class\"\"\"\n",
    "    md = module.__dict__\n",
    "    return [\n",
    "        md[c] for c in md if (\n",
    "            isinstance(md[c], type) and md[c].__module__ == module.__name__\n",
    "        )\n",
    "    ]\n",
    "\n",
    "def methodinclasses(classes):\n",
    "    return [\n",
    "        method for method in dir(classes) if (\n",
    "            method.startswith('_') is False\n",
    "        )\n",
    "    ]\n",
    "\n",
    "\n",
    "classesinmodule(noises)"
   ]
  },
  {
   "cell_type": "code",
   "execution_count": null,
   "metadata": {},
   "outputs": [],
   "source": [
    "include:\n",
    "[braket.circuits.noises.BitFlip,\n",
    " braket.circuits.noises.PhaseFlip,\n",
    " braket.circuits.noises.Depolarizing,\n",
    " braket.circuits.noises.TwoQubitDepolarizing,\n",
    " braket.circuits.noises.AmplitudeDamping,\n",
    " braket.circuits.noises.GeneralizedAmplitudeDamping,\n",
    " braket.circuits.noises.PhaseDamping,\n",
    " braket.circuits.noises.Kraus]\n",
    "\n",
    "Not include, because cirq doens't have:\n",
    "[braket.circuits.noises.TwoQubitDephasing,\n",
    " braket.circuits.noises.TwoQubitPauliChannel,\n",
    " braket.circuits.noises.PauliChannel]\n"
   ]
  },
  {
   "cell_type": "code",
   "execution_count": 83,
   "metadata": {},
   "outputs": [
    {
     "data": {
      "text/plain": [
       "2"
      ]
     },
     "execution_count": 83,
     "metadata": {},
     "output_type": "execute_result"
    }
   ],
   "source": [
    "braket_gates.ISwap.fixed_qubit_count()"
   ]
  },
  {
   "cell_type": "code",
   "execution_count": 85,
   "metadata": {},
   "outputs": [
    {
     "name": "stdout",
     "output_type": "stream",
     "text": [
      "<class 'braket.circuits.gates.CNot'>\n",
      "<class 'braket.circuits.gates.Swap'>\n",
      "<class 'braket.circuits.gates.ISwap'>\n",
      "<class 'braket.circuits.gates.CV'>\n",
      "<class 'braket.circuits.gates.CY'>\n",
      "<class 'braket.circuits.gates.CZ'>\n",
      "<class 'braket.circuits.gates.ECR'>\n"
     ]
    }
   ],
   "source": [
    "import inspect\n",
    "  \n",
    "# use signature()\n",
    "for gate in classesinmodule(braket_gates):\n",
    "    if not isinstance(gate, braket_gates.PulseGate):\n",
    "        param_num = len(list(inspect.signature(gate).parameters))\n",
    "        #print(param_num)\n",
    "        if param_num == 0 and gate.fixed_qubit_count() == 2:\n",
    "            print(gate)"
   ]
  },
  {
   "cell_type": "code",
   "execution_count": 32,
   "metadata": {},
   "outputs": [
    {
     "name": "stdout",
     "output_type": "stream",
     "text": [
      "ok\n"
     ]
    }
   ],
   "source": [
    "\n",
    "\n",
    "if not test_case.instructions[0].operator.__module__ == braket_noise_gate:\n",
    "    print('ok')"
   ]
  },
  {
   "cell_type": "code",
   "execution_count": 1,
   "metadata": {},
   "outputs": [],
   "source": [
    "from qbraid import circuit_wrapper\n",
    "from braket.circuits.instruction import Instruction\n",
    "from braket.circuits import Circuit as BKCircuit\n",
    "import numpy as np\n",
    "from braket.devices import LocalSimulator\n",
    "import matplotlib.pyplot as plt\n",
    "from qbraid.transpiler.cirq_braket.convert_from_braket import from_braket\n",
    "from braket.circuits import gates as braket_gates, noises as braket_noise_gate\n",
    "from cirq import ops as cirq_ops\n",
    "from cirq import protocols\n",
    "%matplotlib inline\n",
    "\n",
    "E0 = np.sqrt(0.8) * np.eye(4)\n",
    "E1 = np.sqrt(0.2) * np.kron(np.array([[0, 1], [1, 0]]), np.array([[0, 1], [1, 0]]))\n",
    "#braket_circuit = Circuit().kraus((0,1), matrices=[K0, K1])\n",
    "braket_circuit = BKCircuit().two_qubit_depolarizing(0, 1, probability=0.1)#.h(0)\n",
    "cirq_circuit = circuit_wrapper(braket_circuit).transpile('cirq')"
   ]
  },
  {
   "cell_type": "code",
   "execution_count": 2,
   "metadata": {},
   "outputs": [
    {
     "data": {
      "text/html": [
       "<pre style=\"overflow: auto; white-space: pre;\">0: ───BF(0.189)───PF(0.294)───D(0.3)───AD(0.226)───PD(0.287)───</pre>"
      ],
      "text/plain": [
       "0: ───BF(0.189)───PF(0.294)───D(0.3)───AD(0.226)───PD(0.287)───"
      ]
     },
     "execution_count": 2,
     "metadata": {},
     "output_type": "execute_result"
    }
   ],
   "source": [
    "braket_circuit = BKCircuit()\n",
    "pgates = [\n",
    "    braket_noise_gate.BitFlip,\n",
    "    braket_noise_gate.PhaseFlip,\n",
    "    braket_noise_gate.Depolarizing,\n",
    "    braket_noise_gate.AmplitudeDamping,\n",
    "    braket_noise_gate.PhaseDamping,\n",
    "]\n",
    "probs = np.random.uniform(low=0, high=0.5, size=(len(pgates)))  # pylint: disable=no-member\n",
    "instructions = [Instruction(rot(p), target=[0]) for rot, p in zip(pgates, probs)]\n",
    "for instr in instructions:\n",
    "    braket_circuit.add_instruction(instr)\n",
    "cirq_circuit = from_braket(braket_circuit)\n",
    "cirq_circuit"
   ]
  },
  {
   "cell_type": "code",
   "execution_count": 33,
   "metadata": {},
   "outputs": [
    {
     "data": {
      "text/plain": [
       "cirq.depolarize(p=0.1,n_qubits=2)"
      ]
     },
     "execution_count": 33,
     "metadata": {},
     "output_type": "execute_result"
    }
   ],
   "source": [
    "ops.DepolarizingChannel(p=0.1,n_qubits=2)"
   ]
  },
  {
   "cell_type": "code",
   "execution_count": 34,
   "metadata": {},
   "outputs": [
    {
     "ename": "AttributeError",
     "evalue": "module 'cirq.ops' has no attribute 'TwoQubitDephasing'",
     "output_type": "error",
     "traceback": [
      "\u001b[0;31m---------------------------------------------------------------------------\u001b[0m",
      "\u001b[0;31mAttributeError\u001b[0m                            Traceback (most recent call last)",
      "Cell \u001b[0;32mIn[34], line 4\u001b[0m\n\u001b[1;32m      1\u001b[0m \u001b[39mfrom\u001b[39;00m \u001b[39mcirq\u001b[39;00m \u001b[39mimport\u001b[39;00m Circuit, LineQubit, ops, testing\n\u001b[1;32m      2\u001b[0m \u001b[39m#K0 = np.sqrt(0.8) * np.eye(4)\u001b[39;00m\n\u001b[1;32m      3\u001b[0m \u001b[39m#K1 = np.sqrt(0.2) * np.kron(np.array([[0, 1], [1, 0]]), np.array([[0, 1], [1, 0]]))\u001b[39;00m\n\u001b[0;32m----> 4\u001b[0m cirq_circuit \u001b[39m=\u001b[39m Circuit(ops\u001b[39m.\u001b[39;49mTwoQubitDephasing(\u001b[39m0.1\u001b[39m,\u001b[39m2\u001b[39m))\n",
      "\u001b[0;31mAttributeError\u001b[0m: module 'cirq.ops' has no attribute 'TwoQubitDephasing'"
     ]
    }
   ],
   "source": [
    "from cirq import Circuit, LineQubit, ops, testing\n",
    "#K0 = np.sqrt(0.8) * np.eye(4)\n",
    "#K1 = np.sqrt(0.2) * np.kron(np.array([[0, 1], [1, 0]]), np.array([[0, 1], [1, 0]]))\n",
    "cirq_circuit = Circuit(ops.TwoQubitDephasing(0.1,2))\n"
   ]
  },
  {
   "cell_type": "code",
   "execution_count": 29,
   "metadata": {},
   "outputs": [
    {
     "ename": "AttributeError",
     "evalue": "'list' object has no attribute 'shape'",
     "output_type": "error",
     "traceback": [
      "\u001b[0;31m---------------------------------------------------------------------------\u001b[0m",
      "\u001b[0;31mAttributeError\u001b[0m                            Traceback (most recent call last)",
      "Cell \u001b[0;32mIn[29], line 6\u001b[0m\n\u001b[1;32m      4\u001b[0m instructions \u001b[39m=\u001b[39m Instruction(noise_gate(probs), target\u001b[39m=\u001b[39m[\u001b[39m0\u001b[39m,\u001b[39m1\u001b[39m])\n\u001b[1;32m      5\u001b[0m braket_circuit\u001b[39m.\u001b[39madd_instruction(instructions)\n\u001b[0;32m----> 6\u001b[0m cirq_circuit \u001b[39m=\u001b[39m from_braket(braket_circuit)\n\u001b[1;32m      7\u001b[0m \u001b[39mprint\u001b[39m(cirq_circuit)\n",
      "File \u001b[0;32m/mnt/c/Users/poig/Documents/GitHub/qBraid/qbraid/transpiler/cirq_braket/convert_from_braket.py:76\u001b[0m, in \u001b[0;36mfrom_braket\u001b[0;34m(circuit)\u001b[0m\n\u001b[1;32m     74\u001b[0m cirq_qubits \u001b[39m=\u001b[39m [LineQubit(x) \u001b[39mfor\u001b[39;00m x \u001b[39min\u001b[39;00m \u001b[39mrange\u001b[39m(\u001b[39mlen\u001b[39m(BK_qubits))]\n\u001b[1;32m     75\u001b[0m qubit_mapping \u001b[39m=\u001b[39m {x: cirq_qubits[x] \u001b[39mfor\u001b[39;00m x \u001b[39min\u001b[39;00m \u001b[39mrange\u001b[39m(\u001b[39mlen\u001b[39m(cirq_qubits))}\n\u001b[0;32m---> 76\u001b[0m \u001b[39mreturn\u001b[39;00m Circuit(\n\u001b[1;32m     77\u001b[0m     _from_braket_instruction(instr, qubit_mapping) \u001b[39mfor\u001b[39;49;00m instr \u001b[39min\u001b[39;49;00m compat_circuit\u001b[39m.\u001b[39;49minstructions\n\u001b[1;32m     78\u001b[0m )\n",
      "File \u001b[0;32m~/anaconda3/envs/qbraid/lib/python3.9/site-packages/cirq/circuits/circuit.py:1744\u001b[0m, in \u001b[0;36mCircuit.__init__\u001b[0;34m(self, strategy, *contents)\u001b[0m\n\u001b[1;32m   1730\u001b[0m \u001b[39m\"\"\"Initializes a circuit.\u001b[39;00m\n\u001b[1;32m   1731\u001b[0m \n\u001b[1;32m   1732\u001b[0m \u001b[39mArgs:\u001b[39;00m\n\u001b[0;32m   (...)\u001b[0m\n\u001b[1;32m   1741\u001b[0m \u001b[39m        circuit.\u001b[39;00m\n\u001b[1;32m   1742\u001b[0m \u001b[39m\"\"\"\u001b[39;00m\n\u001b[1;32m   1743\u001b[0m \u001b[39mself\u001b[39m\u001b[39m.\u001b[39m_moments: List[\u001b[39m'\u001b[39m\u001b[39mcirq.Moment\u001b[39m\u001b[39m'\u001b[39m] \u001b[39m=\u001b[39m []\n\u001b[0;32m-> 1744\u001b[0m flattened_contents \u001b[39m=\u001b[39m \u001b[39mtuple\u001b[39;49m(ops\u001b[39m.\u001b[39;49mflatten_to_ops_or_moments(contents))\n\u001b[1;32m   1745\u001b[0m \u001b[39mif\u001b[39;00m \u001b[39mall\u001b[39m(\u001b[39misinstance\u001b[39m(c, Moment) \u001b[39mfor\u001b[39;00m c \u001b[39min\u001b[39;00m flattened_contents):\n\u001b[1;32m   1746\u001b[0m     \u001b[39mself\u001b[39m\u001b[39m.\u001b[39m_moments[:] \u001b[39m=\u001b[39m cast(Iterable[Moment], flattened_contents)\n",
      "File \u001b[0;32m~/anaconda3/envs/qbraid/lib/python3.9/site-packages/cirq/ops/op_tree.py:134\u001b[0m, in \u001b[0;36mflatten_to_ops_or_moments\u001b[0;34m(root)\u001b[0m\n\u001b[1;32m    132\u001b[0m \u001b[39melif\u001b[39;00m \u001b[39misinstance\u001b[39m(root, Iterable) \u001b[39mand\u001b[39;00m \u001b[39mnot\u001b[39;00m \u001b[39misinstance\u001b[39m(root, \u001b[39mstr\u001b[39m):\n\u001b[1;32m    133\u001b[0m     \u001b[39mfor\u001b[39;00m subtree \u001b[39min\u001b[39;00m root:\n\u001b[0;32m--> 134\u001b[0m         \u001b[39myield from\u001b[39;00m flatten_to_ops_or_moments(subtree)\n\u001b[1;32m    135\u001b[0m \u001b[39melse\u001b[39;00m:\n\u001b[1;32m    136\u001b[0m     _bad_op_tree(root)\n",
      "File \u001b[0;32m~/anaconda3/envs/qbraid/lib/python3.9/site-packages/cirq/ops/op_tree.py:133\u001b[0m, in \u001b[0;36mflatten_to_ops_or_moments\u001b[0;34m(root)\u001b[0m\n\u001b[1;32m    131\u001b[0m     \u001b[39myield\u001b[39;00m root\n\u001b[1;32m    132\u001b[0m \u001b[39melif\u001b[39;00m \u001b[39misinstance\u001b[39m(root, Iterable) \u001b[39mand\u001b[39;00m \u001b[39mnot\u001b[39;00m \u001b[39misinstance\u001b[39m(root, \u001b[39mstr\u001b[39m):\n\u001b[0;32m--> 133\u001b[0m     \u001b[39mfor\u001b[39;00m subtree \u001b[39min\u001b[39;00m root:\n\u001b[1;32m    134\u001b[0m         \u001b[39myield from\u001b[39;00m flatten_to_ops_or_moments(subtree)\n\u001b[1;32m    135\u001b[0m \u001b[39melse\u001b[39;00m:\n",
      "File \u001b[0;32m/mnt/c/Users/poig/Documents/GitHub/qBraid/qbraid/transpiler/cirq_braket/convert_from_braket.py:77\u001b[0m, in \u001b[0;36m<genexpr>\u001b[0;34m(.0)\u001b[0m\n\u001b[1;32m     74\u001b[0m cirq_qubits \u001b[39m=\u001b[39m [LineQubit(x) \u001b[39mfor\u001b[39;00m x \u001b[39min\u001b[39;00m \u001b[39mrange\u001b[39m(\u001b[39mlen\u001b[39m(BK_qubits))]\n\u001b[1;32m     75\u001b[0m qubit_mapping \u001b[39m=\u001b[39m {x: cirq_qubits[x] \u001b[39mfor\u001b[39;00m x \u001b[39min\u001b[39;00m \u001b[39mrange\u001b[39m(\u001b[39mlen\u001b[39m(cirq_qubits))}\n\u001b[1;32m     76\u001b[0m \u001b[39mreturn\u001b[39;00m Circuit(\n\u001b[0;32m---> 77\u001b[0m     _from_braket_instruction(instr, qubit_mapping) \u001b[39mfor\u001b[39;00m instr \u001b[39min\u001b[39;00m compat_circuit\u001b[39m.\u001b[39minstructions\n\u001b[1;32m     78\u001b[0m )\n",
      "File \u001b[0;32m/mnt/c/Users/poig/Documents/GitHub/qBraid/qbraid/transpiler/cirq_braket/convert_from_braket.py:108\u001b[0m, in \u001b[0;36m_from_braket_instruction\u001b[0;34m(instr, qubit_mapping)\u001b[0m\n\u001b[1;32m    105\u001b[0m     \u001b[39mreturn\u001b[39;00m _from_one_qubit_braket_instruction(instr, qubits)\n\u001b[1;32m    107\u001b[0m \u001b[39mif\u001b[39;00m nqubits \u001b[39m==\u001b[39m \u001b[39m2\u001b[39m:\n\u001b[0;32m--> 108\u001b[0m     \u001b[39mreturn\u001b[39;00m _from_two_qubit_braket_instruction(instr, qubits)\n\u001b[1;32m    110\u001b[0m \u001b[39mif\u001b[39;00m nqubits \u001b[39m==\u001b[39m \u001b[39m3\u001b[39m:\n\u001b[1;32m    111\u001b[0m     \u001b[39mif\u001b[39;00m \u001b[39misinstance\u001b[39m(instr\u001b[39m.\u001b[39moperator, braket_gates\u001b[39m.\u001b[39mCCNot):\n",
      "File \u001b[0;32m/mnt/c/Users/poig/Documents/GitHub/qBraid/qbraid/transpiler/cirq_braket/convert_from_braket.py:274\u001b[0m, in \u001b[0;36m_from_two_qubit_braket_instruction\u001b[0;34m(instr, qubits)\u001b[0m\n\u001b[1;32m    271\u001b[0m     \u001b[39mreturn\u001b[39;00m [cirq_ops\u001b[39m.\u001b[39mDepolarizingChannel(gate\u001b[39m.\u001b[39mprobability, n_qubits\u001b[39m=\u001b[39m\u001b[39m2\u001b[39m)\u001b[39m.\u001b[39mon(\u001b[39m*\u001b[39mqubits)]\n\u001b[1;32m    273\u001b[0m \u001b[39mtry\u001b[39;00m:\n\u001b[0;32m--> 274\u001b[0m     matrix \u001b[39m=\u001b[39m _gate_to_matrix_braket(gate)\n\u001b[1;32m    275\u001b[0m     unitary_gate \u001b[39m=\u001b[39m matrix_gate(matrix)\n\u001b[1;32m    276\u001b[0m     \u001b[39mreturn\u001b[39;00m [unitary_gate\u001b[39m.\u001b[39mon(\u001b[39m*\u001b[39mqubits)]\n",
      "File \u001b[0;32m/mnt/c/Users/poig/Documents/GitHub/qBraid/qbraid/transpiler/cirq_braket/convert_from_braket.py:37\u001b[0m, in \u001b[0;36m_gate_to_matrix_braket\u001b[0;34m(gate)\u001b[0m\n\u001b[1;32m     35\u001b[0m \u001b[39mdef\u001b[39;00m \u001b[39m_gate_to_matrix_braket\u001b[39m(gate: braket_gates\u001b[39m.\u001b[39mUnitary) \u001b[39m-\u001b[39m\u001b[39m>\u001b[39m np\u001b[39m.\u001b[39mndarray:\n\u001b[1;32m     36\u001b[0m     matrix \u001b[39m=\u001b[39m gate\u001b[39m.\u001b[39mto_matrix()\n\u001b[0;32m---> 37\u001b[0m     unitary_gate \u001b[39m=\u001b[39m braket_gates\u001b[39m.\u001b[39;49mUnitary(matrix)\n\u001b[1;32m     38\u001b[0m     nqubits \u001b[39m=\u001b[39m \u001b[39mint\u001b[39m(np\u001b[39m.\u001b[39mlog2(\u001b[39mlen\u001b[39m(matrix)))\n\u001b[1;32m     39\u001b[0m     qubits \u001b[39m=\u001b[39m \u001b[39mlist\u001b[39m(\u001b[39mrange\u001b[39m(nqubits)) \u001b[39mif\u001b[39;00m nqubits \u001b[39m>\u001b[39m \u001b[39m1\u001b[39m \u001b[39melse\u001b[39;00m \u001b[39m0\u001b[39m\n",
      "File \u001b[0;32m~/anaconda3/envs/qbraid/lib/python3.9/site-packages/amazon_braket_sdk-1.35.4-py3.9.egg/braket/circuits/gates.py:2128\u001b[0m, in \u001b[0;36m__init__\u001b[0;34m(self, matrix, display_name)\u001b[0m\n",
      "File \u001b[0;32m~/anaconda3/envs/qbraid/lib/python3.9/site-packages/amazon_braket_sdk-1.35.4-py3.9.egg/braket/circuits/quantum_operator_helpers.py:32\u001b[0m, in \u001b[0;36mverify_quantum_operator_matrix_dimensions\u001b[0;34m(matrix)\u001b[0m\n",
      "File \u001b[0;32m~/anaconda3/envs/qbraid/lib/python3.9/site-packages/amazon_braket_sdk-1.35.4-py3.9.egg/braket/circuits/quantum_operator_helpers.py:71\u001b[0m, in \u001b[0;36mis_square_matrix\u001b[0;34m(matrix)\u001b[0m\n",
      "\u001b[0;31mAttributeError\u001b[0m: 'list' object has no attribute 'shape'"
     ]
    }
   ],
   "source": [
    "noise_gate = braket_noise_gate.TwoQubitDephasing\n",
    "braket_circuit = BKCircuit()\n",
    "probs = np.random.uniform(low=0, high=0.5)  # pylint: disable=no-member\n",
    "instructions = Instruction(noise_gate(probs), target=[0,1])\n",
    "braket_circuit.add_instruction(instructions)\n",
    "cirq_circuit = from_braket(braket_circuit)\n",
    "print(cirq_circuit)"
   ]
  },
  {
   "cell_type": "code",
   "execution_count": 41,
   "metadata": {},
   "outputs": [
    {
     "name": "stdout",
     "output_type": "stream",
     "text": [
      "0: ───BF(0.0734)───\n"
     ]
    },
    {
     "data": {
      "text/plain": [
       "['__abstractmethods__',\n",
       " '__add__',\n",
       " '__array_priority__',\n",
       " '__bool__',\n",
       " '__class__',\n",
       " '__copy__',\n",
       " '__delattr__',\n",
       " '__delitem__',\n",
       " '__dict__',\n",
       " '__dir__',\n",
       " '__doc__',\n",
       " '__eq__',\n",
       " '__format__',\n",
       " '__ge__',\n",
       " '__getattribute__',\n",
       " '__getitem__',\n",
       " '__gt__',\n",
       " '__hash__',\n",
       " '__iadd__',\n",
       " '__imul__',\n",
       " '__init__',\n",
       " '__init_subclass__',\n",
       " '__iter__',\n",
       " '__le__',\n",
       " '__len__',\n",
       " '__lt__',\n",
       " '__module__',\n",
       " '__mul__',\n",
       " '__ne__',\n",
       " '__new__',\n",
       " '__pow__',\n",
       " '__radd__',\n",
       " '__reduce__',\n",
       " '__reduce_ex__',\n",
       " '__repr__',\n",
       " '__rmul__',\n",
       " '__setattr__',\n",
       " '__setitem__',\n",
       " '__sizeof__',\n",
       " '__slots__',\n",
       " '__str__',\n",
       " '__subclasshook__',\n",
       " '__weakref__',\n",
       " '_abc_impl',\n",
       " '_approx_eq_',\n",
       " '_can_add_op_at',\n",
       " '_control_keys_',\n",
       " '_decompose_',\n",
       " '_first_moment_operating_on',\n",
       " '_from_json_dict_',\n",
       " '_from_moments',\n",
       " '_has_op_at',\n",
       " '_has_superoperator_',\n",
       " '_has_unitary_',\n",
       " '_insert_operations',\n",
       " '_is_parameterized_',\n",
       " '_json_dict_',\n",
       " '_load_contents_with_earliest_strategy',\n",
       " '_measurement_key_names_',\n",
       " '_measurement_key_objs_',\n",
       " '_moments',\n",
       " '_parameter_names_',\n",
       " '_pick_or_create_inserted_op_moment_index',\n",
       " '_push_frontier',\n",
       " '_qasm_',\n",
       " '_qid_shape_',\n",
       " '_repr_html_',\n",
       " '_repr_pretty_',\n",
       " '_resolve_parameters_',\n",
       " '_superoperator_',\n",
       " '_to_qasm_output',\n",
       " '_unitary_',\n",
       " '_with_key_path_',\n",
       " '_with_key_path_prefix_',\n",
       " '_with_measurement_key_mapping_',\n",
       " '_with_rescoped_keys_',\n",
       " 'all_measurement_key_names',\n",
       " 'all_measurement_key_objs',\n",
       " 'all_operations',\n",
       " 'all_qubits',\n",
       " 'append',\n",
       " 'are_all_matches_terminal',\n",
       " 'are_all_measurements_terminal',\n",
       " 'are_any_matches_terminal',\n",
       " 'are_any_measurements_terminal',\n",
       " 'batch_insert',\n",
       " 'batch_insert_into',\n",
       " 'batch_remove',\n",
       " 'batch_replace',\n",
       " 'clear_operations_touching',\n",
       " 'concat_ragged',\n",
       " 'copy',\n",
       " 'earliest_available_moment',\n",
       " 'factorize',\n",
       " 'final_state_vector',\n",
       " 'findall_operations',\n",
       " 'findall_operations_between',\n",
       " 'findall_operations_until_blocked',\n",
       " 'findall_operations_with_gate_type',\n",
       " 'freeze',\n",
       " 'from_moments',\n",
       " 'get_independent_qubit_sets',\n",
       " 'has_measurements',\n",
       " 'insert',\n",
       " 'insert_at_frontier',\n",
       " 'insert_into_range',\n",
       " 'map_operations',\n",
       " 'moments',\n",
       " 'next_moment_operating_on',\n",
       " 'next_moments_operating_on',\n",
       " 'operation_at',\n",
       " 'prev_moment_operating_on',\n",
       " 'qid_shape',\n",
       " 'reachable_frontier_from',\n",
       " 'save_qasm',\n",
       " 'to_qasm',\n",
       " 'to_text_diagram',\n",
       " 'to_text_diagram_drawer',\n",
       " 'transform_qubits',\n",
       " 'unfreeze',\n",
       " 'unitary',\n",
       " 'with_noise',\n",
       " 'zip']"
      ]
     },
     "execution_count": 41,
     "metadata": {},
     "output_type": "execute_result"
    }
   ],
   "source": [
    "dir(test_single_probability_noise_gate(braket_noise_gate.BitFlip))"
   ]
  },
  {
   "cell_type": "code",
   "execution_count": 45,
   "metadata": {},
   "outputs": [
    {
     "name": "stdout",
     "output_type": "stream",
     "text": [
      "0: ───BF(0.468)───\n"
     ]
    },
    {
     "ename": "ValueError",
     "evalue": "Cannot output operation as QASM: cirq.bit_flip(p=0.4675588616784733).on(cirq.LineQubit(0))",
     "output_type": "error",
     "traceback": [
      "\u001b[0;31m---------------------------------------------------------------------------\u001b[0m",
      "\u001b[0;31mValueError\u001b[0m                                Traceback (most recent call last)",
      "Cell \u001b[0;32mIn[45], line 1\u001b[0m\n\u001b[0;32m----> 1\u001b[0m test_single_probability_noise_gate(braket_noise_gate\u001b[39m.\u001b[39;49mBitFlip)\u001b[39m.\u001b[39;49mto_qasm()\n",
      "File \u001b[0;32m~/anaconda3/envs/qbraid/lib/python3.9/site-packages/cirq/circuits/circuit.py:1346\u001b[0m, in \u001b[0;36mAbstractCircuit.to_qasm\u001b[0;34m(self, header, precision, qubit_order)\u001b[0m\n\u001b[1;32m   1330\u001b[0m \u001b[39mdef\u001b[39;00m \u001b[39mto_qasm\u001b[39m(\n\u001b[1;32m   1331\u001b[0m     \u001b[39mself\u001b[39m,\n\u001b[1;32m   1332\u001b[0m     header: Optional[\u001b[39mstr\u001b[39m] \u001b[39m=\u001b[39m \u001b[39mNone\u001b[39;00m,\n\u001b[1;32m   1333\u001b[0m     precision: \u001b[39mint\u001b[39m \u001b[39m=\u001b[39m \u001b[39m10\u001b[39m,\n\u001b[1;32m   1334\u001b[0m     qubit_order: \u001b[39m'\u001b[39m\u001b[39mcirq.QubitOrderOrList\u001b[39m\u001b[39m'\u001b[39m \u001b[39m=\u001b[39m ops\u001b[39m.\u001b[39mQubitOrder\u001b[39m.\u001b[39mDEFAULT,\n\u001b[1;32m   1335\u001b[0m ) \u001b[39m-\u001b[39m\u001b[39m>\u001b[39m \u001b[39mstr\u001b[39m:\n\u001b[1;32m   1336\u001b[0m     \u001b[39m\"\"\"Returns QASM equivalent to the circuit.\u001b[39;00m\n\u001b[1;32m   1337\u001b[0m \n\u001b[1;32m   1338\u001b[0m \u001b[39m    Args:\u001b[39;00m\n\u001b[0;32m   (...)\u001b[0m\n\u001b[1;32m   1343\u001b[0m \u001b[39m            register.\u001b[39;00m\n\u001b[1;32m   1344\u001b[0m \u001b[39m    \"\"\"\u001b[39;00m\n\u001b[0;32m-> 1346\u001b[0m     \u001b[39mreturn\u001b[39;00m \u001b[39mstr\u001b[39;49m(\u001b[39mself\u001b[39;49m\u001b[39m.\u001b[39;49m_to_qasm_output(header, precision, qubit_order))\n",
      "File \u001b[0;32m~/anaconda3/envs/qbraid/lib/python3.9/site-packages/cirq/circuits/qasm_output.py:245\u001b[0m, in \u001b[0;36mQasmOutput.__str__\u001b[0;34m(self)\u001b[0m\n\u001b[1;32m    243\u001b[0m \u001b[39m\"\"\"Return QASM output as a string.\"\"\"\u001b[39;00m\n\u001b[1;32m    244\u001b[0m output \u001b[39m=\u001b[39m []\n\u001b[0;32m--> 245\u001b[0m \u001b[39mself\u001b[39;49m\u001b[39m.\u001b[39;49m_write_qasm(\u001b[39mlambda\u001b[39;49;00m s: output\u001b[39m.\u001b[39;49mappend(s))\n\u001b[1;32m    246\u001b[0m \u001b[39mreturn\u001b[39;00m \u001b[39m'\u001b[39m\u001b[39m'\u001b[39m\u001b[39m.\u001b[39mjoin(output)\n",
      "File \u001b[0;32m~/anaconda3/envs/qbraid/lib/python3.9/site-packages/cirq/circuits/qasm_output.py:299\u001b[0m, in \u001b[0;36mQasmOutput._write_qasm\u001b[0;34m(self, output_func)\u001b[0m\n\u001b[1;32m    296\u001b[0m output_line_gap(\u001b[39m2\u001b[39m)\n\u001b[1;32m    298\u001b[0m \u001b[39m# Operations\u001b[39;00m\n\u001b[0;32m--> 299\u001b[0m \u001b[39mself\u001b[39;49m\u001b[39m.\u001b[39;49m_write_operations(\u001b[39mself\u001b[39;49m\u001b[39m.\u001b[39;49moperations, output, output_line_gap)\n",
      "File \u001b[0;32m~/anaconda3/envs/qbraid/lib/python3.9/site-packages/cirq/circuits/qasm_output.py:326\u001b[0m, in \u001b[0;36mQasmOutput._write_operations\u001b[0;34m(self, op_tree, output, output_line_gap)\u001b[0m\n\u001b[1;32m    323\u001b[0m     \u001b[39mreturn\u001b[39;00m \u001b[39mValueError\u001b[39;00m(\u001b[39mf\u001b[39m\u001b[39m'\u001b[39m\u001b[39mCannot output operation as QASM: \u001b[39m\u001b[39m{\u001b[39;00mbad_op\u001b[39m!r}\u001b[39;00m\u001b[39m'\u001b[39m)\n\u001b[1;32m    325\u001b[0m \u001b[39mfor\u001b[39;00m main_op \u001b[39min\u001b[39;00m ops\u001b[39m.\u001b[39mflatten_op_tree(op_tree):\n\u001b[0;32m--> 326\u001b[0m     decomposed \u001b[39m=\u001b[39m protocols\u001b[39m.\u001b[39;49mdecompose(\n\u001b[1;32m    327\u001b[0m         main_op, keep\u001b[39m=\u001b[39;49mkeep, fallback_decomposer\u001b[39m=\u001b[39;49mfallback, on_stuck_raise\u001b[39m=\u001b[39;49mon_stuck\n\u001b[1;32m    328\u001b[0m     )\n\u001b[1;32m    330\u001b[0m     qasms \u001b[39m=\u001b[39m [protocols\u001b[39m.\u001b[39mqasm(op, args\u001b[39m=\u001b[39m\u001b[39mself\u001b[39m\u001b[39m.\u001b[39margs) \u001b[39mfor\u001b[39;00m op \u001b[39min\u001b[39;00m decomposed]\n\u001b[1;32m    332\u001b[0m     should_annotate \u001b[39m=\u001b[39m decomposed \u001b[39m!=\u001b[39m [main_op] \u001b[39mor\u001b[39;00m qasms[\u001b[39m0\u001b[39m]\u001b[39m.\u001b[39mcount(\u001b[39m'\u001b[39m\u001b[39m\\n\u001b[39;00m\u001b[39m'\u001b[39m) \u001b[39m>\u001b[39m \u001b[39m1\u001b[39m\n",
      "File \u001b[0;32m~/anaconda3/envs/qbraid/lib/python3.9/site-packages/cirq/protocols/decompose_protocol.py:247\u001b[0m, in \u001b[0;36mdecompose\u001b[0;34m(val, intercepting_decomposer, fallback_decomposer, keep, on_stuck_raise, preserve_structure)\u001b[0m\n\u001b[1;32m    245\u001b[0m             error \u001b[39m=\u001b[39m on_stuck_raise(item)\n\u001b[1;32m    246\u001b[0m             \u001b[39mif\u001b[39;00m error \u001b[39mis\u001b[39;00m \u001b[39mnot\u001b[39;00m \u001b[39mNone\u001b[39;00m:\n\u001b[0;32m--> 247\u001b[0m                 \u001b[39mraise\u001b[39;00m error\n\u001b[1;32m    249\u001b[0m     output\u001b[39m.\u001b[39mappend(item)\n\u001b[1;32m    251\u001b[0m \u001b[39mreturn\u001b[39;00m output\n",
      "\u001b[0;31mValueError\u001b[0m: Cannot output operation as QASM: cirq.bit_flip(p=0.4675588616784733).on(cirq.LineQubit(0))"
     ]
    }
   ],
   "source": [
    "test_single_probability_noise_gate(braket_noise_gate.BitFlip)"
   ]
  },
  {
   "cell_type": "code",
   "execution_count": 43,
   "metadata": {},
   "outputs": [
    {
     "name": "stdout",
     "output_type": "stream",
     "text": [
      "0: ───BF(0.117)───\n"
     ]
    },
    {
     "ename": "TypeError",
     "evalue": "Operation without a known matrix or decomposition: cirq.bit_flip(p=0.11742558887885862).on(cirq.LineQubit(0))",
     "output_type": "error",
     "traceback": [
      "\u001b[0;31m---------------------------------------------------------------------------\u001b[0m",
      "\u001b[0;31mTypeError\u001b[0m                                 Traceback (most recent call last)",
      "Cell \u001b[0;32mIn[43], line 3\u001b[0m\n\u001b[1;32m      1\u001b[0m \u001b[39mfrom\u001b[39;00m \u001b[39mqbraid\u001b[39;00m\u001b[39m.\u001b[39;00m\u001b[39minterface\u001b[39;00m\u001b[39m.\u001b[39;00m\u001b[39mqbraid_braket\u001b[39;00m\u001b[39m.\u001b[39;00m\u001b[39mtools\u001b[39;00m \u001b[39mimport\u001b[39;00m _unitary_from_braket\n\u001b[1;32m      2\u001b[0m \u001b[39mfrom\u001b[39;00m \u001b[39mqbraid\u001b[39;00m\u001b[39m.\u001b[39;00m\u001b[39minterface\u001b[39;00m\u001b[39m.\u001b[39;00m\u001b[39mqbraid_cirq\u001b[39;00m\u001b[39m.\u001b[39;00m\u001b[39mtools\u001b[39;00m \u001b[39mimport\u001b[39;00m _unitary_from_cirq\n\u001b[0;32m----> 3\u001b[0m _unitary_from_cirq(test_single_probability_noise_gate(braket_noise_gate\u001b[39m.\u001b[39;49mBitFlip))\n",
      "File \u001b[0;32m/mnt/c/Users/poig/Documents/GitHub/qBraid/qbraid/interface/qbraid_cirq/tools.py:29\u001b[0m, in \u001b[0;36m_unitary_from_cirq\u001b[0;34m(circuit)\u001b[0m\n\u001b[1;32m     27\u001b[0m \u001b[39mdef\u001b[39;00m \u001b[39m_unitary_from_cirq\u001b[39m(circuit: Circuit) \u001b[39m-\u001b[39m\u001b[39m>\u001b[39m np\u001b[39m.\u001b[39mndarray:\n\u001b[1;32m     28\u001b[0m     \u001b[39m\"\"\"Return the unitary of a Cirq circuit.\"\"\"\u001b[39;00m\n\u001b[0;32m---> 29\u001b[0m     \u001b[39mreturn\u001b[39;00m circuit\u001b[39m.\u001b[39;49munitary()\n",
      "File \u001b[0;32m~/anaconda3/envs/qbraid/lib/python3.9/site-packages/cirq/circuits/circuit.py:1075\u001b[0m, in \u001b[0;36mAbstractCircuit.unitary\u001b[0;34m(self, qubit_order, qubits_that_should_be_present, ignore_terminal_measurements, dtype)\u001b[0m\n\u001b[1;32m   1071\u001b[0m side_len \u001b[39m=\u001b[39m np\u001b[39m.\u001b[39mprod(qid_shape, dtype\u001b[39m=\u001b[39mnp\u001b[39m.\u001b[39mint64)\n\u001b[1;32m   1073\u001b[0m state \u001b[39m=\u001b[39m qis\u001b[39m.\u001b[39meye_tensor(qid_shape, dtype\u001b[39m=\u001b[39mdtype)\n\u001b[0;32m-> 1075\u001b[0m result \u001b[39m=\u001b[39m _apply_unitary_circuit(\u001b[39mself\u001b[39;49m, state, qs, dtype)\n\u001b[1;32m   1076\u001b[0m \u001b[39mreturn\u001b[39;00m result\u001b[39m.\u001b[39mreshape((side_len, side_len))\n",
      "File \u001b[0;32m~/anaconda3/envs/qbraid/lib/python3.9/site-packages/cirq/circuits/circuit.py:2689\u001b[0m, in \u001b[0;36m_apply_unitary_circuit\u001b[0;34m(circuit, state, qubits, dtype)\u001b[0m\n\u001b[1;32m   2686\u001b[0m \u001b[39mdef\u001b[39;00m \u001b[39mon_stuck\u001b[39m(bad_op):\n\u001b[1;32m   2687\u001b[0m     \u001b[39mreturn\u001b[39;00m \u001b[39mTypeError\u001b[39;00m(\u001b[39mf\u001b[39m\u001b[39m'\u001b[39m\u001b[39mOperation without a known matrix or decomposition: \u001b[39m\u001b[39m{\u001b[39;00mbad_op\u001b[39m!r}\u001b[39;00m\u001b[39m'\u001b[39m)\n\u001b[0;32m-> 2689\u001b[0m unitary_ops \u001b[39m=\u001b[39m protocols\u001b[39m.\u001b[39;49mdecompose(\n\u001b[1;32m   2690\u001b[0m     circuit\u001b[39m.\u001b[39;49mall_operations(),\n\u001b[1;32m   2691\u001b[0m     keep\u001b[39m=\u001b[39;49mprotocols\u001b[39m.\u001b[39;49mhas_unitary,\n\u001b[1;32m   2692\u001b[0m     intercepting_decomposer\u001b[39m=\u001b[39;49m_decompose_measurement_inversions,\n\u001b[1;32m   2693\u001b[0m     on_stuck_raise\u001b[39m=\u001b[39;49mon_stuck,\n\u001b[1;32m   2694\u001b[0m )\n\u001b[1;32m   2696\u001b[0m result \u001b[39m=\u001b[39m protocols\u001b[39m.\u001b[39mapply_unitaries(\n\u001b[1;32m   2697\u001b[0m     unitary_ops, qubits, protocols\u001b[39m.\u001b[39mApplyUnitaryArgs(state, buffer, \u001b[39mrange\u001b[39m(\u001b[39mlen\u001b[39m(qubits)))\n\u001b[1;32m   2698\u001b[0m )\n\u001b[1;32m   2699\u001b[0m \u001b[39massert\u001b[39;00m result \u001b[39mis\u001b[39;00m \u001b[39mnot\u001b[39;00m \u001b[39mNone\u001b[39;00m, \u001b[39m\"\u001b[39m\u001b[39mapply_unitaries() should raise TypeError instead\u001b[39m\u001b[39m\"\u001b[39m\n",
      "File \u001b[0;32m~/anaconda3/envs/qbraid/lib/python3.9/site-packages/cirq/protocols/decompose_protocol.py:247\u001b[0m, in \u001b[0;36mdecompose\u001b[0;34m(val, intercepting_decomposer, fallback_decomposer, keep, on_stuck_raise, preserve_structure)\u001b[0m\n\u001b[1;32m    245\u001b[0m             error \u001b[39m=\u001b[39m on_stuck_raise(item)\n\u001b[1;32m    246\u001b[0m             \u001b[39mif\u001b[39;00m error \u001b[39mis\u001b[39;00m \u001b[39mnot\u001b[39;00m \u001b[39mNone\u001b[39;00m:\n\u001b[0;32m--> 247\u001b[0m                 \u001b[39mraise\u001b[39;00m error\n\u001b[1;32m    249\u001b[0m     output\u001b[39m.\u001b[39mappend(item)\n\u001b[1;32m    251\u001b[0m \u001b[39mreturn\u001b[39;00m output\n",
      "\u001b[0;31mTypeError\u001b[0m: Operation without a known matrix or decomposition: cirq.bit_flip(p=0.11742558887885862).on(cirq.LineQubit(0))"
     ]
    }
   ],
   "source": [
    "from qbraid.interface.qbraid_braket.tools import _unitary_from_braket\n",
    "from qbraid.interface.qbraid_cirq.tools import _unitary_from_cirq\n",
    "_unitary_from_cirq(test_single_probability_noise_gate(braket_noise_gate.BitFlip))"
   ]
  },
  {
   "cell_type": "code",
   "execution_count": 39,
   "metadata": {},
   "outputs": [
    {
     "name": "stdout",
     "output_type": "stream",
     "text": [
      "0: ───BF(0.375)───\n"
     ]
    },
    {
     "data": {
      "text/html": [
       "<pre style=\"overflow: auto; white-space: pre;\">0: ───BF(0.375)───</pre>"
      ],
      "text/plain": [
       "0: ───BF(0.375)───"
      ]
     },
     "execution_count": 39,
     "metadata": {},
     "output_type": "execute_result"
    }
   ],
   "source": [
    "from qbraid.interface import circuits_allclose, to_unitary\n",
    "import pytest\n",
    "@pytest.mark.parametrize(\n",
    "    \"noise_gate\",\n",
    "    [\n",
    "        braket_noise_gate.BitFlip,\n",
    "        braket_noise_gate.PhaseFlip,\n",
    "        braket_noise_gate.Depolarizing,\n",
    "        braket_noise_gate.AmplitudeDamping,\n",
    "        braket_noise_gate.PhaseDamping,\n",
    "    ],\n",
    ")\n",
    "def test_single_probability_noise_gate(noise_gate):\n",
    "    \"\"\"Testing converting circuits containing one-probability noise gates\"\"\"\n",
    "    braket_circuit = BKCircuit()\n",
    "    probs = np.random.uniform(low=0, high=0.5)  # pylint: disable=no-member\n",
    "    instructions = Instruction(noise_gate(probs), target=[0])\n",
    "    braket_circuit.add_instruction(instructions)\n",
    "    cirq_circuit = from_braket(braket_circuit)\n",
    "    print(cirq_circuit)\n",
    "    return cirq_circuit\n",
    "    assert circuits_allclose(braket_circuit, cirq_circuit, strict_gphase=True)\n",
    "test_single_probability_noise_gate(braket_noise_gate.BitFlip)"
   ]
  },
  {
   "cell_type": "code",
   "execution_count": 23,
   "metadata": {},
   "outputs": [
    {
     "name": "stdout",
     "output_type": "stream",
     "text": [
      "============================= test session starts ==============================\n",
      "platform linux -- Python 3.9.10, pytest-6.2.5, py-1.11.0, pluggy-1.0.0\n",
      "benchmark: 4.0.0 (defaults: timer=time.perf_counter disable_gc=False min_rounds=5 min_time=0.000005 max_time=1.0 calibration_precision=10 warmup=False warmup_iterations=100000)\n",
      "rootdir: /mnt/c/Users/poig/Documents/GitHub/qBraid, configfile: pyproject.toml\n",
      "plugins: anyio-3.6.2, jupyter-pytest-2-1.0.1, benchmark-4.0.0, nbmake-0.5\n",
      "collected 5 items\n",
      "\n",
      ". .....                                                                  [100%]\n",
      "\n",
      "============================== 5 passed in 0.03s ===============================\n"
     ]
    },
    {
     "data": {
      "text/plain": [
       "<ExitCode.OK: 0>"
      ]
     },
     "execution_count": 23,
     "metadata": {},
     "output_type": "execute_result"
    }
   ],
   "source": [
    "pytest.main(args=[''])\n"
   ]
  },
  {
   "cell_type": "code",
   "execution_count": 28,
   "metadata": {},
   "outputs": [
    {
     "name": "stdout",
     "output_type": "stream",
     "text": [
      "bit_flip(p=0.005948287739776237)(q(0)) <class 'cirq.ops.gate_operation.GateOperation'> <class 'cirq.ops.common_channels.BitFlipChannel'> 1\n",
      "0.005948287739776237\n",
      "\n",
      "phase_flip(p=0.1457306956079713)(q(0)) <class 'cirq.ops.gate_operation.GateOperation'> <class 'cirq.ops.common_channels.PhaseFlipChannel'> 1\n",
      "0.1457306956079713\n",
      "\n",
      "depolarize(p=0.47030897981129044)(q(0)) <class 'cirq.ops.gate_operation.GateOperation'> <class 'cirq.ops.common_channels.DepolarizingChannel'> 1\n",
      "0.47030897981129044\n",
      "\n",
      "amplitude_damp(gamma=0.015994833967872157)(q(0)) <class 'cirq.ops.gate_operation.GateOperation'> <class 'cirq.ops.common_channels.AmplitudeDampingChannel'> 1\n",
      "gamma 0.015994833967872157\n",
      "\n",
      "phase_damp(gamma=0.13180488279256664)(q(0)) <class 'cirq.ops.gate_operation.GateOperation'> <class 'cirq.ops.common_channels.PhaseDampingChannel'> 1\n",
      "gamma 0.13180488279256664\n",
      "\n"
     ]
    }
   ],
   "source": [
    "from qbraid.interface import convert_to_contiguous\n",
    "for opr in convert_to_contiguous(cirq_circuit).all_operations():\n",
    "    print(opr, type(opr),type(opr.gate), protocols.num_qubits(opr))#, range(len(convert_to_contiguous(cirq_circuit).all_qubits())))\n",
    "    try:\n",
    "        print('gamma',opr.gate._gamma)\n",
    "    except:\n",
    "        print(opr.gate._p)\n",
    "    print()\n",
    "    "
   ]
  },
  {
   "cell_type": "code",
   "execution_count": 30,
   "metadata": {},
   "outputs": [
    {
     "data": {
      "text/plain": [
       "[cirq.LineQubit(0)]"
      ]
     },
     "execution_count": 30,
     "metadata": {},
     "output_type": "execute_result"
    }
   ],
   "source": [
    "from cirq import Circuit, LineQubit\n",
    "LineQubit.range(1)"
   ]
  },
  {
   "cell_type": "code",
   "execution_count": 33,
   "metadata": {},
   "outputs": [
    {
     "data": {
      "text/plain": [
       "array([0.31235129])"
      ]
     },
     "execution_count": 33,
     "metadata": {},
     "output_type": "execute_result"
    }
   ],
   "source": [
    "np.random.uniform(low=0, high=0.5, size=(1,))"
   ]
  },
  {
   "cell_type": "code",
   "execution_count": 100,
   "metadata": {},
   "outputs": [
    {
     "ename": "CircuitConversionError",
     "evalue": "Qbraid doesn't support PulseGate('qubit_count': 1)",
     "output_type": "error",
     "traceback": [
      "\u001b[0;31m---------------------------------------------------------------------------\u001b[0m",
      "\u001b[0;31mCircuitConversionError\u001b[0m                    Traceback (most recent call last)",
      "Cell \u001b[0;32mIn[100], line 6\u001b[0m\n\u001b[1;32m      1\u001b[0m instr \u001b[39m=\u001b[39m test_case\u001b[39m.\u001b[39minstructions[\u001b[39m0\u001b[39m]\n\u001b[1;32m      2\u001b[0m \u001b[39mif\u001b[39;00m \u001b[39mnot\u001b[39;00m instr\u001b[39m.\u001b[39moperator\u001b[39m.\u001b[39m\u001b[39m__module__\u001b[39m \u001b[39min\u001b[39;00m (\n\u001b[1;32m      3\u001b[0m         braket_gates\u001b[39m.\u001b[39m\u001b[39m__name__\u001b[39m,\n\u001b[1;32m      4\u001b[0m         braket_noise_gate\u001b[39m.\u001b[39m\u001b[39m__name__\u001b[39m,\n\u001b[1;32m      5\u001b[0m     ) \u001b[39mor\u001b[39;00m \u001b[39misinstance\u001b[39m(instr\u001b[39m.\u001b[39moperator, braket_gates\u001b[39m.\u001b[39mPulseGate):\n\u001b[0;32m----> 6\u001b[0m         \u001b[39mraise\u001b[39;00m CircuitConversionError(\u001b[39mf\u001b[39m\u001b[39m\"\u001b[39m\u001b[39mQbraid doesn\u001b[39m\u001b[39m'\u001b[39m\u001b[39mt support \u001b[39m\u001b[39m{\u001b[39;00minstr\u001b[39m.\u001b[39moperator\u001b[39m}\u001b[39;00m\u001b[39m\"\u001b[39m)\n",
      "\u001b[0;31mCircuitConversionError\u001b[0m: Qbraid doesn't support PulseGate('qubit_count': 1)"
     ]
    }
   ],
   "source": [
    "instr = test_case.instructions[0]\n",
    "if not instr.operator.__module__ in (\n",
    "        braket_gates.__name__,\n",
    "        braket_noise_gate.__name__,\n",
    "    ) or isinstance(instr.operator, braket_gates.PulseGate):\n",
    "        raise CircuitConversionError(f\"Qbraid doesn't support {instr.operator}\")"
   ]
  },
  {
   "cell_type": "code",
   "execution_count": 99,
   "metadata": {},
   "outputs": [
    {
     "name": "stdout",
     "output_type": "stream",
     "text": [
      "T  : |0 |\n",
      "         \n",
      "q0 : -PG-\n",
      "\n",
      "T  : |0 |\n"
     ]
    },
    {
     "ename": "CircuitConversionError",
     "evalue": "Quantum program could not be converted to a Cirq circuit. This may be because the program contains custom gates or Pragmas (pyQuil). \n\nProvided program has type <class 'braket.circuits.circuit.Circuit'> and is:\n\nT  : |0 |\n         \nq0 : -PG-\n\nT  : |0 |\n\nQuantum program types supported by the qbraid.transpiler are \n['braket.circuits.circuit.Circuit', 'cirq.circuits.circuit.Circuit', 'qiskit.circuit.quantumcircuit.QuantumCircuit', 'pyquil.quil.Program'].",
     "output_type": "error",
     "traceback": [
      "\u001b[0;31m---------------------------------------------------------------------------\u001b[0m",
      "\u001b[0;31mCircuitConversionError\u001b[0m                    Traceback (most recent call last)",
      "File \u001b[0;32m/mnt/c/Users/poig/Documents/GitHub/qBraid/qbraid/transpiler/conversions.py:64\u001b[0m, in \u001b[0;36mconvert_to_cirq\u001b[0;34m(program)\u001b[0m\n\u001b[1;32m     63\u001b[0m \u001b[39mif\u001b[39;00m \u001b[39m\"\u001b[39m\u001b[39mbraket\u001b[39m\u001b[39m\"\u001b[39m \u001b[39min\u001b[39;00m package:\n\u001b[0;32m---> 64\u001b[0m     \u001b[39mreturn\u001b[39;00m from_braket(program), \u001b[39m\"\u001b[39m\u001b[39mbraket\u001b[39m\u001b[39m\"\u001b[39m\n\u001b[1;32m     66\u001b[0m \u001b[39mif\u001b[39;00m \u001b[39misinstance\u001b[39m(program, Circuit):\n",
      "File \u001b[0;32m/mnt/c/Users/poig/Documents/GitHub/qBraid/qbraid/transpiler/cirq_braket/convert_from_braket.py:75\u001b[0m, in \u001b[0;36mfrom_braket\u001b[0;34m(circuit)\u001b[0m\n\u001b[1;32m     74\u001b[0m qubit_mapping \u001b[39m=\u001b[39m {x: cirq_qubits[x] \u001b[39mfor\u001b[39;00m x \u001b[39min\u001b[39;00m \u001b[39mrange\u001b[39m(\u001b[39mlen\u001b[39m(cirq_qubits))}\n\u001b[0;32m---> 75\u001b[0m \u001b[39mreturn\u001b[39;00m Circuit(\n\u001b[1;32m     76\u001b[0m     _from_braket_instruction(instr, qubit_mapping) \u001b[39mfor\u001b[39;49;00m instr \u001b[39min\u001b[39;49;00m compat_circuit\u001b[39m.\u001b[39;49minstructions\n\u001b[1;32m     77\u001b[0m )\n",
      "File \u001b[0;32m~/anaconda3/envs/qbraid/lib/python3.9/site-packages/cirq/circuits/circuit.py:1744\u001b[0m, in \u001b[0;36mCircuit.__init__\u001b[0;34m(self, strategy, *contents)\u001b[0m\n\u001b[1;32m   1743\u001b[0m \u001b[39mself\u001b[39m\u001b[39m.\u001b[39m_moments: List[\u001b[39m'\u001b[39m\u001b[39mcirq.Moment\u001b[39m\u001b[39m'\u001b[39m] \u001b[39m=\u001b[39m []\n\u001b[0;32m-> 1744\u001b[0m flattened_contents \u001b[39m=\u001b[39m \u001b[39mtuple\u001b[39;49m(ops\u001b[39m.\u001b[39;49mflatten_to_ops_or_moments(contents))\n\u001b[1;32m   1745\u001b[0m \u001b[39mif\u001b[39;00m \u001b[39mall\u001b[39m(\u001b[39misinstance\u001b[39m(c, Moment) \u001b[39mfor\u001b[39;00m c \u001b[39min\u001b[39;00m flattened_contents):\n",
      "File \u001b[0;32m~/anaconda3/envs/qbraid/lib/python3.9/site-packages/cirq/ops/op_tree.py:134\u001b[0m, in \u001b[0;36mflatten_to_ops_or_moments\u001b[0;34m(root)\u001b[0m\n\u001b[1;32m    133\u001b[0m     \u001b[39mfor\u001b[39;00m subtree \u001b[39min\u001b[39;00m root:\n\u001b[0;32m--> 134\u001b[0m         \u001b[39myield from\u001b[39;00m flatten_to_ops_or_moments(subtree)\n\u001b[1;32m    135\u001b[0m \u001b[39melse\u001b[39;00m:\n",
      "File \u001b[0;32m~/anaconda3/envs/qbraid/lib/python3.9/site-packages/cirq/ops/op_tree.py:133\u001b[0m, in \u001b[0;36mflatten_to_ops_or_moments\u001b[0;34m(root)\u001b[0m\n\u001b[1;32m    132\u001b[0m \u001b[39melif\u001b[39;00m \u001b[39misinstance\u001b[39m(root, Iterable) \u001b[39mand\u001b[39;00m \u001b[39mnot\u001b[39;00m \u001b[39misinstance\u001b[39m(root, \u001b[39mstr\u001b[39m):\n\u001b[0;32m--> 133\u001b[0m     \u001b[39mfor\u001b[39;00m subtree \u001b[39min\u001b[39;00m root:\n\u001b[1;32m    134\u001b[0m         \u001b[39myield from\u001b[39;00m flatten_to_ops_or_moments(subtree)\n",
      "File \u001b[0;32m/mnt/c/Users/poig/Documents/GitHub/qBraid/qbraid/transpiler/cirq_braket/convert_from_braket.py:76\u001b[0m, in \u001b[0;36m<genexpr>\u001b[0;34m(.0)\u001b[0m\n\u001b[1;32m     74\u001b[0m qubit_mapping \u001b[39m=\u001b[39m {x: cirq_qubits[x] \u001b[39mfor\u001b[39;00m x \u001b[39min\u001b[39;00m \u001b[39mrange\u001b[39m(\u001b[39mlen\u001b[39m(cirq_qubits))}\n\u001b[1;32m     75\u001b[0m \u001b[39mreturn\u001b[39;00m Circuit(\n\u001b[0;32m---> 76\u001b[0m     _from_braket_instruction(instr, qubit_mapping) \u001b[39mfor\u001b[39;00m instr \u001b[39min\u001b[39;00m compat_circuit\u001b[39m.\u001b[39minstructions\n\u001b[1;32m     77\u001b[0m )\n",
      "File \u001b[0;32m/mnt/c/Users/poig/Documents/GitHub/qBraid/qbraid/transpiler/cirq_braket/convert_from_braket.py:98\u001b[0m, in \u001b[0;36m_from_braket_instruction\u001b[0;34m(instr, qubit_mapping)\u001b[0m\n\u001b[1;32m     97\u001b[0m \u001b[39mif\u001b[39;00m \u001b[39mnot\u001b[39;00m instr\u001b[39m.\u001b[39moperator\u001b[39m.\u001b[39m\u001b[39m__module__\u001b[39m \u001b[39min\u001b[39;00m (braket_gates\u001b[39m.\u001b[39m\u001b[39m__name__\u001b[39m, braket_noise_gate\u001b[39m.\u001b[39m\u001b[39m__name__\u001b[39m) \u001b[39mor\u001b[39;00m \u001b[39misinstance\u001b[39m(instr\u001b[39m.\u001b[39moperator, braket_gates\u001b[39m.\u001b[39mPulseGate):\n\u001b[0;32m---> 98\u001b[0m     \u001b[39mraise\u001b[39;00m CircuitConversionError(\u001b[39mf\u001b[39m\u001b[39m\"\u001b[39m\u001b[39mQbraid doesn\u001b[39m\u001b[39m'\u001b[39m\u001b[39mt support \u001b[39m\u001b[39m{\u001b[39;00minstr\u001b[39m.\u001b[39moperator\u001b[39m}\u001b[39;00m\u001b[39m\"\u001b[39m)\n\u001b[1;32m    100\u001b[0m \u001b[39mif\u001b[39;00m nqubits \u001b[39m==\u001b[39m \u001b[39m1\u001b[39m:\n",
      "\u001b[0;31mCircuitConversionError\u001b[0m: Qbraid doesn't support PulseGate('qubit_count': 1)",
      "\nThe above exception was the direct cause of the following exception:\n",
      "\u001b[0;31mCircuitConversionError\u001b[0m                    Traceback (most recent call last)",
      "File \u001b[0;32m/mnt/c/Users/poig/Documents/GitHub/qBraid/qbraid/transpiler/wrappers/abc_qprogram.py:112\u001b[0m, in \u001b[0;36mQuantumProgramWrapper.transpile\u001b[0;34m(self, conversion_type)\u001b[0m\n\u001b[1;32m    111\u001b[0m \u001b[39mtry\u001b[39;00m:\n\u001b[0;32m--> 112\u001b[0m     cirq_circuit, _ \u001b[39m=\u001b[39m convert_to_cirq(\u001b[39mself\u001b[39;49m\u001b[39m.\u001b[39;49mprogram)\n\u001b[1;32m    113\u001b[0m \u001b[39mexcept\u001b[39;00m \u001b[39mException\u001b[39;00m \u001b[39mas\u001b[39;00m err:\n",
      "File \u001b[0;32m/mnt/c/Users/poig/Documents/GitHub/qBraid/qbraid/transpiler/conversions.py:70\u001b[0m, in \u001b[0;36mconvert_to_cirq\u001b[0;34m(program)\u001b[0m\n\u001b[1;32m     69\u001b[0m \u001b[39mexcept\u001b[39;00m \u001b[39mException\u001b[39;00m \u001b[39mas\u001b[39;00m err:\n\u001b[0;32m---> 70\u001b[0m     \u001b[39mraise\u001b[39;00m CircuitConversionError(\n\u001b[1;32m     71\u001b[0m         \u001b[39m\"\u001b[39m\u001b[39mQuantum program could not be converted to a Cirq circuit.\u001b[39m\u001b[39m\"\u001b[39m\n\u001b[1;32m     72\u001b[0m     ) \u001b[39mfrom\u001b[39;00m \u001b[39merr\u001b[39;00m\n\u001b[1;32m     74\u001b[0m \u001b[39mraise\u001b[39;00m ProgramTypeError(program)\n",
      "\u001b[0;31mCircuitConversionError\u001b[0m: Quantum program could not be converted to a Cirq circuit.",
      "\nThe above exception was the direct cause of the following exception:\n",
      "\u001b[0;31mCircuitConversionError\u001b[0m                    Traceback (most recent call last)",
      "Cell \u001b[0;32mIn[99], line 9\u001b[0m\n\u001b[1;32m      7\u001b[0m test_case \u001b[39m=\u001b[39m Circuit()\u001b[39m.\u001b[39madd_instruction(Instruction(braket_gates\u001b[39m.\u001b[39mPulseGate(pulse_seq,\u001b[39m1\u001b[39m),[\u001b[39m0\u001b[39m]))\n\u001b[1;32m      8\u001b[0m \u001b[39mprint\u001b[39m(test_case)\n\u001b[0;32m----> 9\u001b[0m circuit_wrapper(test_case)\u001b[39m.\u001b[39;49mtranspile(\u001b[39m'\u001b[39;49m\u001b[39mcirq\u001b[39;49m\u001b[39m'\u001b[39;49m)\n",
      "File \u001b[0;32m/mnt/c/Users/poig/Documents/GitHub/qBraid/qbraid/transpiler/wrappers/abc_qprogram.py:114\u001b[0m, in \u001b[0;36mQuantumProgramWrapper.transpile\u001b[0;34m(self, conversion_type)\u001b[0m\n\u001b[1;32m    112\u001b[0m     cirq_circuit, _ \u001b[39m=\u001b[39m convert_to_cirq(\u001b[39mself\u001b[39m\u001b[39m.\u001b[39mprogram)\n\u001b[1;32m    113\u001b[0m \u001b[39mexcept\u001b[39;00m \u001b[39mException\u001b[39;00m \u001b[39mas\u001b[39;00m err:\n\u001b[0;32m--> 114\u001b[0m     \u001b[39mraise\u001b[39;00m CircuitConversionError(\n\u001b[1;32m    115\u001b[0m         \u001b[39m\"\u001b[39m\u001b[39mQuantum program could not be converted to a Cirq circuit. \u001b[39m\u001b[39m\"\u001b[39m\n\u001b[1;32m    116\u001b[0m         \u001b[39m\"\u001b[39m\u001b[39mThis may be because the program contains custom gates or \u001b[39m\u001b[39m\"\u001b[39m\n\u001b[1;32m    117\u001b[0m         \u001b[39mf\u001b[39m\u001b[39m\"\u001b[39m\u001b[39mPragmas (pyQuil). \u001b[39m\u001b[39m\\n\u001b[39;00m\u001b[39m\\n\u001b[39;00m\u001b[39mProvided program has type \u001b[39m\u001b[39m{\u001b[39;00m\u001b[39mtype\u001b[39m(\u001b[39mself\u001b[39m\u001b[39m.\u001b[39mprogram)\u001b[39m}\u001b[39;00m\u001b[39m \u001b[39m\u001b[39m\"\u001b[39m\n\u001b[1;32m    118\u001b[0m         \u001b[39mf\u001b[39m\u001b[39m\"\u001b[39m\u001b[39mand is:\u001b[39m\u001b[39m\\n\u001b[39;00m\u001b[39m\\n\u001b[39;00m\u001b[39m{\u001b[39;00m\u001b[39mself\u001b[39m\u001b[39m.\u001b[39mprogram\u001b[39m}\u001b[39;00m\u001b[39m\\n\u001b[39;00m\u001b[39m\\n\u001b[39;00m\u001b[39mQuantum program types supported by the \u001b[39m\u001b[39m\"\u001b[39m\n\u001b[1;32m    119\u001b[0m         \u001b[39mf\u001b[39m\u001b[39m\"\u001b[39m\u001b[39mqbraid.transpiler are \u001b[39m\u001b[39m\\n\u001b[39;00m\u001b[39m{\u001b[39;00mQPROGRAM_TYPES\u001b[39m}\u001b[39;00m\u001b[39m.\u001b[39m\u001b[39m\"\u001b[39m\n\u001b[1;32m    120\u001b[0m     ) \u001b[39mfrom\u001b[39;00m \u001b[39merr\u001b[39;00m\n\u001b[1;32m    121\u001b[0m \u001b[39mtry\u001b[39;00m:\n\u001b[1;32m    122\u001b[0m     converted_program \u001b[39m=\u001b[39m convert_from_cirq(cirq_circuit, conversion_type)\n",
      "\u001b[0;31mCircuitConversionError\u001b[0m: Quantum program could not be converted to a Cirq circuit. This may be because the program contains custom gates or Pragmas (pyQuil). \n\nProvided program has type <class 'braket.circuits.circuit.Circuit'> and is:\n\nT  : |0 |\n         \nq0 : -PG-\n\nT  : |0 |\n\nQuantum program types supported by the qbraid.transpiler are \n['braket.circuits.circuit.Circuit', 'cirq.circuits.circuit.Circuit', 'qiskit.circuit.quantumcircuit.QuantumCircuit', 'pyquil.quil.Program']."
     ]
    }
   ],
   "source": [
    "from braket.pulse.pulse_sequence import PulseSequence\n",
    "from braket.pulse import Frame, Port\n",
    "import pytest\n",
    "pre_fram =Frame(frame_id=\"predefined_frame_1\", frequency=2e9, port=Port(port_id=\"device_port_x0\", dt=1e-9, properties={}), phase=0, is_predefined=True)\n",
    "pulse_seq = PulseSequence().set_frequency(pre_fram, 6e6)\n",
    "\n",
    "test_case = Circuit().add_instruction(Instruction(braket_gates.PulseGate(pulse_seq,1),[0]))\n",
    "print(test_case)\n",
    "circuit_wrapper(test_case).transpile('cirq')"
   ]
  },
  {
   "cell_type": "code",
   "execution_count": 95,
   "metadata": {},
   "outputs": [
    {
     "name": "stdout",
     "output_type": "stream",
     "text": [
      "Quantum program could not be converted to a Cirq circuit. This may be because the program contains custom gates or Pragmas (pyQuil). \n",
      "\n",
      "Provided program has type <class 'braket.circuits.circuit.Circuit'> and is:\n",
      "\n",
      "T  : |0 |\n",
      "         \n",
      "q0 : -PG-\n",
      "\n",
      "T  : |0 |\n",
      "\n",
      "Quantum program types supported by the qbraid.transpiler are \n",
      "['braket.circuits.circuit.Circuit', 'cirq.circuits.circuit.Circuit', 'qiskit.circuit.quantumcircuit.QuantumCircuit', 'pyquil.quil.Program'].\n"
     ]
    }
   ],
   "source": [
    "from qbraid.transpiler.exceptions import CircuitConversionError\n",
    "def test_recursion_depth():\n",
    "    with pytest.raises(CircuitConversionError) as excinfo:\n",
    "\n",
    "        pre_fram =Frame(frame_id=\"predefined_frame_1\", frequency=2e9, port=Port(port_id=\"device_port_x0\", dt=1e-9, properties={}), phase=0, is_predefined=True)\n",
    "        pulse_seq = PulseSequence().set_frequency(pre_fram, 6e6)\n",
    "\n",
    "        test_case = Circuit().add_instruction(Instruction(braket_gates.PulseGate(pulse_seq,1),[0]))\n",
    "        cirq_circuit = circuit_wrapper(test_case).transpile('cirq')\n",
    "        print(cirq_circuit)\n",
    "    print(excinfo.value)\n",
    "    #assert \"\"\n",
    "test_recursion_depth()"
   ]
  },
  {
   "cell_type": "code",
   "execution_count": 15,
   "metadata": {},
   "outputs": [
    {
     "name": "stdout",
     "output_type": "stream",
     "text": [
      "T  : |    0    |\n",
      "                \n",
      "q0 : -DEPO(0.1)-\n",
      "      |         \n",
      "q1 : -DEPO(0.1)-\n",
      "\n",
      "T  : |    0    | 0: ───#2───────\n",
      "      │\n",
      "1: ───D(0.1)───\n"
     ]
    }
   ],
   "source": [
    "print(braket_circuit,cirq_circuit)"
   ]
  },
  {
   "cell_type": "code",
   "execution_count": 1,
   "metadata": {},
   "outputs": [
    {
     "name": "stderr",
     "output_type": "stream",
     "text": [
      "/tmp/ipykernel_12000/2503996033.py:24: DeprecationWarning: The breast_cancer function is deprecated as of version 0.4.0 and will be removed no sooner than 3 months after the release.\n",
      "  train_features, train_labels, test_features, test_labels = breast_cancer(20, 10, adhoc_dimension, one_hot=False)\n"
     ]
    },
    {
     "name": "stdout",
     "output_type": "stream",
     "text": [
      "CPUTime elapsed:0.9457433223724365\n",
      "GPUTime elapsed:0.8338901996612549\n"
     ]
    }
   ],
   "source": [
    "import matplotlib.pyplot as plt\n",
    "import numpy as np\n",
    "\n",
    "from qiskit import BasicAer, Aer\n",
    "from qiskit_aer.backends import AerSimulator\n",
    "from qiskit.circuit.library import ZZFeatureMap\n",
    "from qiskit_machine_learning.algorithms import QSVC\n",
    "from qiskit.utils import QuantumInstance, algorithm_globals\n",
    "from qiskit_machine_learning.datasets import ad_hoc_data,breast_cancer\n",
    "from qiskit_machine_learning.kernels import QuantumKernel\n",
    "import time\n",
    "\n",
    "seed = 12345\n",
    "algorithm_globals.random_seed = seed\n",
    "adhoc_dimension = 13\n",
    "#train_features, train_labels, test_features, test_labels, adhoc_total = ad_hoc_data(\n",
    "#    training_size=200,\n",
    "#    test_size=5,\n",
    "#    n=adhoc_dimension,\n",
    "#    plot_data=False,\n",
    "#    one_hot=False,\n",
    "#    include_sample_total=True,\n",
    "#)\n",
    "train_features, train_labels, test_features, test_labels = breast_cancer(20, 10, adhoc_dimension, one_hot=False)\n",
    "\n",
    "for device in ['CPU', 'GPU']:\n",
    "    start = time.time()\n",
    "    feature_map = ZZFeatureMap(feature_dimension=adhoc_dimension, reps=2, entanglement=\"linear\")\n",
    "\n",
    "    simulator = AerSimulator(method='statevector', device=device)\n",
    "\n",
    "    zz_kernel = QuantumKernel(feature_map=feature_map, quantum_instance=simulator)\n",
    "    qsvc = QSVC(quantum_kernel=zz_kernel)\n",
    "    qsvc.fit(train_features, train_labels)\n",
    "    qsvc_score = qsvc.score(test_features, test_labels)\n",
    "\n",
    "    #print(f\"QSVC classification test score: {qsvc_score}\")\n",
    "    print(f\"{device}Time elapsed:{time.time() - start}\")"
   ]
  },
  {
   "cell_type": "code",
   "execution_count": 6,
   "metadata": {},
   "outputs": [
    {
     "name": "stdout",
     "output_type": "stream",
     "text": [
      "Time taken: 34.88186812400818 sec\n"
     ]
    },
    {
     "data": {
      "text/plain": [
       "{'00000000000000000000000000000000000000000000000000000000000000000000000000000000000000000000000000000000000000000000000000000000000000000000000000000000000000000000000000000000000000000000000000000000000000000000000000000000000000000000000000000000000000000000000000000000000000000000000000000000000000000000000000000000000000000000000000000000000000000000000000000000000000000000000000000000000000000000000000000000000000000000000000000000000000000000000000000000000000000000000000000000000000000000000000000000': 9984,\n",
       " '11111111111111111111111111111111111111111111111111111111111111111111111111111111111111111111111111111111111111111111111111111111111111111111111111111111111111111111111111111111111111111111111111111111111111111111111111111111111111111111111111111111111111111111111111111111111111111111111111111111111111111111111111111111111111111111111111111111111111111111111111111111111111111111111111111111111111111111111111111111111111111111111111111111111111111111111111111111111111111111111111111111111111111111111111111111': 10016}"
      ]
     },
     "execution_count": 6,
     "metadata": {},
     "output_type": "execute_result"
    }
   ],
   "source": [
    "import numpy as np\n",
    "\n",
    "# Import Qiskit\n",
    "from qiskit import QuantumCircuit, transpile\n",
    "from qiskit_aer import AerSimulator\n",
    "\n",
    "\n",
    "# Select the AerSimulator from the Aer provider\n",
    "simulator = AerSimulator(method='matrix_product_state',shots=20000)\n",
    "\n",
    "num_qubits = 512\n",
    "circ = QuantumCircuit(num_qubits, num_qubits)\n",
    "\n",
    "# Create EPR state\n",
    "circ.h(0)\n",
    "for i in range (0, num_qubits-1):\n",
    "    circ.cx(i, i+1)\n",
    "\n",
    "# Measure\n",
    "circ.measure(range(num_qubits), range(num_qubits))\n",
    "\n",
    "tcirc = transpile(circ, simulator)\n",
    "result = simulator.run(tcirc).result()\n",
    "print(\"Time taken: {} sec\".format(result.time_taken))\n",
    "result.get_counts()"
   ]
  },
  {
   "cell_type": "code",
   "execution_count": 5,
   "metadata": {},
   "outputs": [
    {
     "name": "stdout",
     "output_type": "stream",
     "text": [
      "Time taken: 3.097229480743408 sec\n"
     ]
    },
    {
     "data": {
      "text/plain": [
       "{'000000000000000000000000000000000000000000000000000000000000000000000000000000000000000000000000000000000000000000000000000000000000000000000000000000000000000000000000000000000000000000000000000000000000000000000000000000000000000000000000000000000000000000000000000000000000000000000000000000000000000000000000000000000000000000000000000000000000000000000000000000000000000000000000000000000000000000000000000000000000000000000000000000000000000000000000000000000000000000000000000000000000000000000000000000000000000000000000000000000000000000000000000000000000000000000000000000000000000000000000000000000000000000000000000000000000000000000000000000000000000000000000000000000000000000000000000000000000000000000000000000000000000000000000000000000000000000000000000000000000000000000000000000000000000000000000000000000000000000000000000000000000000000000000000000000000000000000000000000000000': 500,\n",
       " '111111111111111111111111111111111111111111111111111111111111111111111111111111111111111111111111111111111111111111111111111111111111111111111111111111111111111111111111111111111111111111111111111111111111111111111111111111111111111111111111111111111111111111111111111111111111111111111111111111111111111111111111111111111111111111111111111111111111111111111111111111111111111111111111111111111111111111111111111111111111111111111111111111111111111111111111111111111111111111111111111111111111111111111111111111111111111111111111111111111111111111111111111111111111111111111111111111111111111111111111111111111111111111111111111111111111111111111111111111111111111111111111111111111111111111111111111111111111111111111111111111111111111111111111111111111111111111111111111111111111111111111111111111111111111111111111111111111111111111111111111111111111111111111111111111111111111111111111111111111111': 524}"
      ]
     },
     "execution_count": 5,
     "metadata": {},
     "output_type": "execute_result"
    }
   ],
   "source": [
    "num_qubits = 900\n",
    "circ = QuantumCircuit(num_qubits, num_qubits)\n",
    "\n",
    "# Create EPR state\n",
    "circ.h(0)\n",
    "for i in range (0, num_qubits-1):\n",
    "    circ.cx(i, i+1)\n",
    "\n",
    "# Measure\n",
    "circ.measure(range(num_qubits), range(num_qubits))\n",
    "\n",
    "tcirc = transpile(circ, simulator)\n",
    "result = simulator.run(tcirc).result()\n",
    "print(\"Time taken: {} sec\".format(result.time_taken))\n",
    "result.get_counts()"
   ]
  },
  {
   "cell_type": "code",
   "execution_count": 1,
   "metadata": {},
   "outputs": [
    {
     "name": "stderr",
     "output_type": "stream",
     "text": [
      "Simulation failed and returned the following error message:\n",
      "ERROR: Failed to load qobj: Simulation device \"GPU\" does not support cuStateVec on this system\n"
     ]
    },
    {
     "ename": "IndexError",
     "evalue": "list index out of range",
     "output_type": "error",
     "traceback": [
      "\u001b[0;31m---------------------------------------------------------------------------\u001b[0m",
      "\u001b[0;31mIndexError\u001b[0m                                Traceback (most recent call last)",
      "Cell \u001b[0;32mIn[1], line 31\u001b[0m\n\u001b[1;32m     28\u001b[0m time_thrust\u001b[39m.\u001b[39mappend(\u001b[39mfloat\u001b[39m(result\u001b[39m.\u001b[39mto_dict()[\u001b[39m'\u001b[39m\u001b[39mresults\u001b[39m\u001b[39m'\u001b[39m][\u001b[39m0\u001b[39m][\u001b[39m'\u001b[39m\u001b[39mtime_taken\u001b[39m\u001b[39m'\u001b[39m]))\n\u001b[1;32m     30\u001b[0m result_cuStateVec \u001b[39m=\u001b[39m sim\u001b[39m.\u001b[39mrun(circuit,sim,shots\u001b[39m=\u001b[39mshots,seed_simulator\u001b[39m=\u001b[39m\u001b[39m12345\u001b[39m,fusion_threshold\u001b[39m=\u001b[39m\u001b[39m13\u001b[39m,cuStateVec_enable\u001b[39m=\u001b[39m\u001b[39mTrue\u001b[39;00m)\u001b[39m.\u001b[39mresult()\n\u001b[0;32m---> 31\u001b[0m time_cuStateVec\u001b[39m.\u001b[39mappend(\u001b[39mfloat\u001b[39m(result_cuStateVec\u001b[39m.\u001b[39;49mto_dict()[\u001b[39m'\u001b[39;49m\u001b[39mresults\u001b[39;49m\u001b[39m'\u001b[39;49m][\u001b[39m0\u001b[39;49m][\u001b[39m'\u001b[39m\u001b[39mtime_taken\u001b[39m\u001b[39m'\u001b[39m]))\n\u001b[1;32m     33\u001b[0m result_CPU \u001b[39m=\u001b[39m CPU_sim\u001b[39m.\u001b[39mrun(circuit,CPU_sim,shots\u001b[39m=\u001b[39mshots,seed_simulator\u001b[39m=\u001b[39m\u001b[39m12345\u001b[39m,fusion_threshold\u001b[39m=\u001b[39m\u001b[39m13\u001b[39m)\u001b[39m.\u001b[39mresult()\n\u001b[1;32m     34\u001b[0m time_CPU\u001b[39m.\u001b[39mappend(\u001b[39mfloat\u001b[39m(result_CPU\u001b[39m.\u001b[39mto_dict()[\u001b[39m'\u001b[39m\u001b[39mresults\u001b[39m\u001b[39m'\u001b[39m][\u001b[39m0\u001b[39m][\u001b[39m'\u001b[39m\u001b[39mtime_taken\u001b[39m\u001b[39m'\u001b[39m]))\n",
      "\u001b[0;31mIndexError\u001b[0m: list index out of range"
     ]
    }
   ],
   "source": [
    "from qiskit import *\n",
    "from qiskit.circuit.library import *\n",
    "from qiskit.providers.aer import *\n",
    "import matplotlib.pyplot as plt\n",
    "import numpy as np\n",
    "\n",
    "sim = AerSimulator(method='statevector', device='GPU')\n",
    "CPU_sim = AerSimulator(method='statevector', device='CPU')\n",
    "\n",
    "shots = 100\n",
    "depth=3\n",
    "\n",
    "time_thrust= []\n",
    "time_cuStateVec= []\n",
    "time_CPU = []\n",
    "qubits_list = []\n",
    "\n",
    "for qubits in range (13, 26):\n",
    "    qubits_list.append(qubits)\n",
    "    #circuit = QuantumVolume(qubits, depth, seed=0)\n",
    "    circuit = QuantumCircuit(qubits)\n",
    "    for i in range(qubits):\n",
    "        circuit.h(i)\n",
    "        circuit.rx(np.pi,i)\n",
    "    circuit.measure_all()\n",
    "    circuit = transpile(circuit, sim)\n",
    "    result = sim.run(circuit,sim,shots=shots,seed_simulator=12345,fusion_threshold=13,cuStateVec_enable=False).result()\n",
    "    time_thrust.append(float(result.to_dict()['results'][0]['time_taken']))\n",
    "\n",
    "    result_cuStateVec = sim.run(circuit,sim,shots=shots,seed_simulator=12345,fusion_threshold=13,cuStateVec_enable=True).result()\n",
    "    time_cuStateVec.append(float(result_cuStateVec.to_dict()['results'][0]['time_taken']))\n",
    "\n",
    "    result_CPU = CPU_sim.run(circuit,CPU_sim,shots=shots,seed_simulator=12345,fusion_threshold=13).result()\n",
    "    time_CPU.append(float(result_CPU.to_dict()['results'][0]['time_taken']))\n",
    "\n",
    "plt.yscale(\"log\")\n",
    "plt.plot(qubits_list, time_thrust, marker=\"o\", label='ThrustGPU')\n",
    "plt.plot(qubits_list, time_thrust, marker=\"#\", label='cuStateVec')\n",
    "plt.plot(qubits_list, time_CPU, 'g', marker=\"x\", label='time_CPU')\n",
    "plt.legend()\n",
    "plt.xlabel(\"# of qubits\")\n",
    "plt.ylabel(\"Simulation time (s)\")"
   ]
  }
 ],
 "metadata": {
  "kernelspec": {
   "display_name": "qbraid",
   "language": "python",
   "name": "python3"
  },
  "language_info": {
   "codemirror_mode": {
    "name": "ipython",
    "version": 3
   },
   "file_extension": ".py",
   "mimetype": "text/x-python",
   "name": "python",
   "nbconvert_exporter": "python",
   "pygments_lexer": "ipython3",
   "version": "3.9.10"
  },
  "orig_nbformat": 4,
  "vscode": {
   "interpreter": {
    "hash": "2aa5d95cb9c503f241c8092b61000e9924816b7b738b5ec608a6d269b6f0db2d"
   }
  }
 },
 "nbformat": 4,
 "nbformat_minor": 2
}
