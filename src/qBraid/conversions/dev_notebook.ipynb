{
 "cells": [
  {
   "cell_type": "code",
   "execution_count": null,
   "metadata": {},
   "outputs": [],
   "source": [
    "from pyquil import quil\n",
    "from pyquil import Program\n",
    "from pyquil.gates import *\n",
    "from pyquil import gates\n",
    "\n",
    "p = Program()\n",
    "p.inst(H(0)) # A single instruction\n",
    "p += CNOT(0, 1)\n",
    "p += CNOT(1, 2)\n",
    "p += CNOT(3, 4)\n",
    "p.inst(H(0), H(1)) # Multiple instructions\n",
    "p.inst([H(0), H(1)]) # A list of instructions\n",
    "p.inst(H(i) for i in range(4)) # A generator of instructions\n",
    "p.inst((\"H\", 1)) # A tuple representing an instruction\n",
    "p.inst(\"H 0\") # A string representing an instruction\n",
    "q = Program()\n",
    "p.inst(q) # Another program\n",
    "print(p.get_qubits())"
   ]
  },
  {
   "cell_type": "code",
   "execution_count": null,
   "metadata": {},
   "outputs": [],
   "source": [
    "print(p.instructions)\n",
    "\n",
    "print(*p.instructions)\n",
    "print(p._defined_gates)"
   ]
  },
  {
   "cell_type": "code",
   "execution_count": null,
   "metadata": {},
   "outputs": [],
   "source": [
    "g=p.instructions[14]\n",
    "print(p.get_qubits())\n",
    "# print(p.)\n",
    "print(type(g))\n",
    "# print(isinstance(g,type(g)))\n",
    "# print(isinstance(g,gates))"
   ]
  },
  {
   "cell_type": "code",
   "execution_count": null,
   "metadata": {},
   "outputs": [],
   "source": [
    "print(g.name)\n",
    "print(type(g.qubits))\n",
    "print(int(g.qubits[1].__str__()))"
   ]
  },
  {
   "cell_type": "code",
   "execution_count": null,
   "metadata": {},
   "outputs": [],
   "source": [
    "ro = p.declare('ro', 'BIT', 3)\n",
    "p += X(0)\n",
    "p += MEASURE(0, ro[0])\n",
    "p += MEASURE(1, ro[1])\n",
    "p += MEASURE(2, ro[2])\n",
    "ro1 = p.declare('ro1', 'BIT', 1)\n",
    "p += MEASURE(3, ro[0])\n"
   ]
  },
  {
   "cell_type": "code",
   "execution_count": null,
   "metadata": {},
   "outputs": [],
   "source": [
    "print(type(p.instructions[17]))\n",
    "M=p.instructions[17]\n",
    "print(M.classical_reg)\n",
    "# print(p)\n"
   ]
  },
  {
   "cell_type": "code",
   "execution_count": null,
   "metadata": {},
   "outputs": [],
   "source": [
    "import matplotlib.pyplot as plt\n",
    "%matplotlib inline\n",
    "import numpy as np\n",
    "from math import pi\n",
    "\n",
    "from qiskit import QuantumCircuit, ClassicalRegister, QuantumRegister, execute\n",
    "from qiskit.tools.visualization import circuit_drawer\n",
    "from qiskit.quantum_info import state_fidelity\n",
    "from qiskit import BasicAer\n"
   ]
  },
  {
   "cell_type": "code",
   "execution_count": null,
   "metadata": {},
   "outputs": [],
   "source": [
    "qc =  QuantumCircuit(2,2)\n",
    "# print(qc.has_r)\n",
    "# qc.u3(pi/2,pi/2,pi/2,q)\n",
    "qc.h([0,1])\n",
    "qc.x(1)\n",
    "qc.measure([0],[0])\n",
    "qc.h(0)\n",
    "qc.draw()\n",
    "print(type((qc._data)))\n",
    "print(qc._data)\n",
    "print(qc.cregs)"
   ]
  },
  {
   "cell_type": "code",
   "execution_count": null,
   "metadata": {},
   "outputs": [],
   "source": [
    "# print(\"\\n\".join(dir(QuantumCircuit)))\n",
    "print(type(qc._data[3][1]))"
   ]
  },
  {
   "cell_type": "code",
   "execution_count": null,
   "metadata": {},
   "outputs": [],
   "source": [
    "print(qc._data[2][2])"
   ]
  },
  {
   "cell_type": "code",
   "execution_count": null,
   "metadata": {},
   "outputs": [],
   "source": [
    "from qiskit.circuit.library.standard_gates import *\n",
    "from qiskit.circuit.measure import Measure"
   ]
  },
  {
   "cell_type": "code",
   "execution_count": null,
   "metadata": {},
   "outputs": [],
   "source": [
    "print(isinstance(qc._data[3][0],Measure))"
   ]
  },
  {
   "cell_type": "code",
   "execution_count": null,
   "metadata": {},
   "outputs": [],
   "source": [
    "# qc.has_register()\n",
    "qr = QuantumRegister(2)\n",
    "cr = ClassicalRegister(4)\n",
    "qr1 = QuantumRegister(2)\n",
    "cr1 = ClassicalRegister(4,'cr1')\n",
    "\n",
    "qc1 = QuantumCircuit(qr1,qr,cr,cr1)\n",
    "qc1.h([qr[0],qr[1]])\n",
    "qc1.x(qr1[1])\n",
    "qc1.measure([0],[1])\n",
    "# qc.h(0)\n",
    "qc1.draw()\n",
    "print(type((qc._data)))\n",
    "# print(qc._data)\n",
    "print(qc1.cregs)\n",
    "print(qc1.qregs)\n",
    "q_regs = qc1.qregs\n",
    "print(len(qc1.qubits))\n",
    "# for qr in q_regs:\n",
    "#     print('num of qubits:', qr.)"
   ]
  },
  {
   "cell_type": "code",
   "execution_count": null,
   "metadata": {},
   "outputs": [],
   "source": []
  }
 ],
 "metadata": {
  "kernelspec": {
   "display_name": "Python 3",
   "language": "python",
   "name": "python3"
  },
  "language_info": {
   "codemirror_mode": {
    "name": "ipython",
    "version": 3
   },
   "file_extension": ".py",
   "mimetype": "text/x-python",
   "name": "python",
   "nbconvert_exporter": "python",
   "pygments_lexer": "ipython3",
   "version": "3.8.2"
  }
 },
 "nbformat": 4,
 "nbformat_minor": 4
}
