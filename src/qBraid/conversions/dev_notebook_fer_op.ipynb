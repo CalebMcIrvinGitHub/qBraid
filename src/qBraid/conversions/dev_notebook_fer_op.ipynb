{
 "cells": [
  {
   "cell_type": "code",
   "execution_count": 4,
   "metadata": {},
   "outputs": [],
   "source": [
    "from openfermion.hamiltonians import MolecularData\n",
    "from openfermion.transforms import get_fermion_operator, get_sparse_operator, jordan_wigner, get_interaction_operator\n",
    "from openfermion.utils import get_ground_state\n",
    "import numpy\n",
    "    \n",
    "import numpy\n",
    "import scipy\n",
    "import scipy.linalg"
   ]
  },
  {
   "cell_type": "code",
   "execution_count": null,
   "metadata": {},
   "outputs": [],
   "source": [
    "# Load saved file for LiH.\n",
    "diatomic_bond_length = 1.45\n",
    "geometry = [('Li', (0., 0., 0.)), ('H', (0., 0., diatomic_bond_length))]\n",
    "basis = 'sto-3g'\n",
    "multiplicity = 1\n",
    "\n",
    "# Set Hamiltonian parameters.\n",
    "active_space_start = 1\n",
    "active_space_stop = 3\n",
    "\n",
    "# Generate and populate instance of MolecularData.\n",
    "molecule = MolecularData(geometry, basis, multiplicity, description=\"1.45\")\n",
    "molecule.load()\n",
    "\n",
    "# Get the Hamiltonian in an active space.\n",
    "molecular_hamiltonian = molecule.get_molecular_hamiltonian(\n",
    "    occupied_indices=range(active_space_start),\n",
    "    active_indices=range(active_space_start, active_space_stop))\n",
    "\n",
    "# Map operator to fermions and qubits.\n",
    "fermion_hamiltonian = get_fermion_operator(molecular_hamiltonian)\n",
    "qubit_hamiltonian = jordan_wigner(fermion_hamiltonian)\n",
    "qubit_hamiltonian.compress()\n",
    "print('The Jordan-Wigner Hamiltonian in canonical basis follows:\\n{}'.format(qubit_hamiltonian))\n",
    "\n",
    "# Get sparse operator and ground state energy.\n",
    "sparse_hamiltonian = get_sparse_operator(qubit_hamiltonian)\n",
    "energy, state = get_ground_state(sparse_hamiltonian)\n",
    "print('Ground state energy before rotation is {} Hartree.\\n'.format(energy))\n",
    "\n",
    "# Randomly rotate.\n",
    "n_orbitals = molecular_hamiltonian.n_qubits // 2\n",
    "n_variables = int(n_orbitals * (n_orbitals - 1) / 2)\n",
    "numpy.random.seed(1)\n",
    "random_angles = numpy.pi * (1. - 2. * numpy.random.rand(n_variables))\n",
    "kappa = numpy.zeros((n_orbitals, n_orbitals))\n",
    "index = 0\n",
    "for p in range(n_orbitals):\n",
    "    for q in range(p + 1, n_orbitals):\n",
    "        kappa[p, q] = random_angles[index]\n",
    "        kappa[q, p] = -numpy.conjugate(random_angles[index])\n",
    "        index += 1\n",
    "\n",
    "    # Build the unitary rotation matrix.\n",
    "    difference_matrix = kappa + kappa.transpose()\n",
    "    rotation_matrix = scipy.linalg.expm(kappa)\n",
    "\n",
    "    # Apply the unitary.\n",
    "    molecular_hamiltonian.rotate_basis(rotation_matrix)\n",
    "\n",
    "# Get qubit Hamiltonian in rotated basis.\n",
    "qubit_hamiltonian = jordan_wigner(molecular_hamiltonian)\n",
    "qubit_hamiltonian.compress()\n",
    "print('The Jordan-Wigner Hamiltonian in rotated basis follows:\\n{}'.format(qubit_hamiltonian))\n",
    "\n",
    "# Get sparse Hamiltonian and energy in rotated basis.\n",
    "sparse_hamiltonian = get_sparse_operator(qubit_hamiltonian)\n",
    "energy, state = get_ground_state(sparse_hamiltonian)\n",
    "print('Ground state energy after rotation is {} Hartree.'.format(energy))\n"
   ]
  }
 ],
 "metadata": {
  "kernelspec": {
   "display_name": "Python 3",
   "language": "python",
   "name": "python3"
  },
  "language_info": {
   "codemirror_mode": {
    "name": "ipython",
    "version": 3
   },
   "file_extension": ".py",
   "mimetype": "text/x-python",
   "name": "python",
   "nbconvert_exporter": "python",
   "pygments_lexer": "ipython3",
   "version": "3.8.2-final"
  },
  "toc": {
   "base_numbering": 1,
   "nav_menu": {},
   "number_sections": true,
   "sideBar": true,
   "skip_h1_title": false,
   "title_cell": "Table of Contents",
   "title_sidebar": "Contents",
   "toc_cell": false,
   "toc_position": {
    "height": "calc(100% - 180px)",
    "left": "10px",
    "top": "150px",
    "width": "384px"
   },
   "toc_section_display": true,
   "toc_window_display": true
  }
 },
 "nbformat": 4,
 "nbformat_minor": 4
}